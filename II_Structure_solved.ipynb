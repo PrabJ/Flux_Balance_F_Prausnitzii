{
 "cells": [
  {
   "cell_type": "code",
   "execution_count": 3,
   "metadata": {},
   "outputs": [],
   "source": [
    "# %load II-Structure_solved.py\n",
    "\"\"\"                    TD PART II :\n",
    "#################################################################\n",
    "    STUDY OF THE STRUCTURE OF A GENOME SCALE METABOLIC MODEL\n",
    "From the given function and the information you got about the cobra language,\n",
    "try to answer the following question.\n",
    "files: practical_metaboli_model.pdf\n",
    "model : study_model.xml\n",
    "model2 : ####you can chose####\n",
    "For a better understanding, you can also open the file functions.py to see how some function are built.\n",
    "During this tutorial you will use object oriented language.\n",
    "\"\"\""
   ]
  },
  {
   "cell_type": "code",
   "execution_count": 1,
   "metadata": {},
   "outputs": [],
   "source": [
    "#0 installation : from cmd window 'pip install cobra'\n",
    "\n",
    "#1- Import needed module\n",
    "import io\n",
    "import cobra\n",
    "import functions\n",
    "from functions import *"
   ]
  },
  {
   "cell_type": "code",
   "execution_count": 4,
   "metadata": {},
   "outputs": [],
   "source": [
    "#2- Load the study model\n",
    "model = io.read_sbml_model('Data/study_model.xml')"
   ]
  },
  {
   "cell_type": "code",
   "execution_count": 5,
   "metadata": {},
   "outputs": [
    {
     "name": "stdout",
     "output_type": "stream",
     "text": [
      "Number of metabolites :  7\n"
     ]
    }
   ],
   "source": [
    "#3-\tHow many metabolites ?\n",
    "print('Number of metabolites : ',len(model.metabolites))"
   ]
  },
  {
   "cell_type": "code",
   "execution_count": 8,
   "metadata": {},
   "outputs": [
    {
     "name": "stdout",
     "output_type": "stream",
     "text": [
      "Number of reactions :  10\n"
     ]
    }
   ],
   "source": [
    "#4-\tHow many reactions ?\n",
    "print('Number of reactions : ',len(model.reactions))"
   ]
  },
  {
   "cell_type": "code",
   "execution_count": 9,
   "metadata": {},
   "outputs": [
    {
     "name": "stdout",
     "output_type": "stream",
     "text": [
      "Number of genes :  7\n"
     ]
    }
   ],
   "source": [
    "#5-\tHow many genes \n",
    "print('Number of genes : ',len(model.genes))\n",
    "      "
   ]
  },
  {
   "cell_type": "code",
   "execution_count": 10,
   "metadata": {},
   "outputs": [
    {
     "name": "stdout",
     "output_type": "stream",
     "text": [
      "Model compartments :  {'c': 'cytosol', 'e': 'extracellular'}\n"
     ]
    }
   ],
   "source": [
    "#6-\tWhich compartments ?\n",
    "print('Model compartments : ',model.compartments)\n",
    "      "
   ]
  },
  {
   "cell_type": "code",
   "execution_count": 11,
   "metadata": {},
   "outputs": [
    {
     "name": "stdout",
     "output_type": "stream",
     "text": [
      "\n",
      "Stoichiometric matrix : \n",
      "       Tpr_s1  Tpr_s2  Tpr_p1  Ex_s1_e  Ex_s2_e  Ex_p1_e  Rxn_1  Rxn_2  Rxn_3  biomass\n",
      "s1_c     1.0     0.0     0.0      0.0      0.0      0.0   -1.0   -1.0    0.0     -1.0\n",
      "s1_e    -1.0     0.0     0.0     -1.0      0.0      0.0    0.0    0.0    0.0      0.0\n",
      "s2_c     0.0     1.0     0.0      0.0      0.0      0.0    0.0   -1.0   -1.0      0.0\n",
      "s2_e     0.0    -1.0     0.0      0.0     -1.0      0.0    0.0    0.0    0.0      0.0\n",
      "p1_c     0.0     0.0     1.0      0.0      0.0      0.0    1.0    2.0    1.0     -0.5\n",
      "p1_e     0.0     0.0    -1.0      0.0      0.0     -1.0    0.0    0.0    0.0      0.0\n",
      "m1_c     0.0     0.0     0.0      0.0      0.0      0.0   -1.0    0.0    1.0      0.0\n",
      "Help on function stoicMatrix in module functions:\n",
      "\n",
      "stoicMatrix(model)\n",
      "\n"
     ]
    }
   ],
   "source": [
    "#7-\tPrint the stoichiometric matrix\n",
    "matrix = stoicMatrix(model) #what is this function\n",
    "print('\\nStoichiometric matrix : \\n',matrix)\n",
    "help(stoicMatrix)"
   ]
  },
  {
   "cell_type": "code",
   "execution_count": 3,
   "metadata": {},
   "outputs": [],
   "source": [
    "#8-\tFrom the stoechiometric matrix , draw the model.\n",
    "#cf pptx"
   ]
  },
  {
   "cell_type": "code",
   "execution_count": 12,
   "metadata": {},
   "outputs": [
    {
     "name": "stdout",
     "output_type": "stream",
     "text": [
      "Demands :  []\n",
      "Exchanges [<Reaction Ex_s1_e at 0x7fe54eeff4d0>, <Reaction Ex_s2_e at 0x7fe53354ff50>, <Reaction Ex_p1_e at 0x7fe54eeff250>]\n",
      "Sinks []\n",
      "\n",
      "Reaction types : \n",
      " ['trans', 'trans', 'trans', 'exch', 'exch', 'exch', 'metabolic', 'metabolic', 'metabolic', 'biomass']\n"
     ]
    }
   ],
   "source": [
    "      \n",
    "#9-\tIdentify the external reaction, the transport reaction,  manually and via a command line.\n",
    "\"\"\"\n",
    "RXNS\tTYPE\tCmd line \n",
    "Trp_s1\ttransport\t\n",
    "Trp_s2\tTransport\t\n",
    "Trp_p1\tTransport\t\n",
    "Ex_s2_e\tExchange\t\n",
    "Ex_s1_e\tExchange\t\n",
    "Ex_p1_e\tExchange\t\n",
    "Rxn_1\tMetabolic\t\n",
    "Rxn_2\tMetabolic\t\n",
    "Rxn_3\tMetabolic\t\n",
    "biomass\tbiomass\t\"\"\"\n",
    "print('Demands : ',model.demands)\n",
    "print('Exchanges',model.exchanges)\n",
    "print('Sinks',model.sinks)\n",
    "print('\\nReaction types : \\n',reactionsType(model))"
   ]
  },
  {
   "cell_type": "code",
   "execution_count": 13,
   "metadata": {},
   "outputs": [
    {
     "name": "stdout",
     "output_type": "stream",
     "text": [
      "\n",
      "Id : Rxn_1\n",
      "name :Reaction_metabolique_1\n",
      "Reactionformula : m1_c + s1_c --> p1_c\n",
      "Genes :G00004G00005\n",
      "Reversibility : False\n",
      "0.0 < Reaction flux value <  1000.0\n"
     ]
    }
   ],
   "source": [
    "#10-\tSelect a reaction. Print its information. It is a reversible reaction ? Print the bound of the reaction. \n",
    "rxn = model.reactions.Rxn_1\n",
    "print('\\nId : %s\\nname :%s\\nReactionformula : %s\\nGenes :%s' %(rxn.id,rxn.name,rxn.reaction,''.join((i.id for i in rxn.genes))))\n",
    "print('Reversibility : %s' %(rxn.reversibility))\n",
    "print(rxn.lower_bound, \"< Reaction flux value < \",rxn.upper_bound)"
   ]
  },
  {
   "cell_type": "code",
   "execution_count": 15,
   "metadata": {},
   "outputs": [
    {
     "name": "stdout",
     "output_type": "stream",
     "text": [
      "\n",
      "Metabolite : s1_c\n",
      "Name :  substrat1\n",
      "Formula : C1\n",
      "Charge : 0\n",
      "Compartment : cytosol\n",
      "Involved in reactions : \n",
      "Tpr_s1\n",
      "Rxn_1\n",
      "Rxn_2\n",
      "biomass\n"
     ]
    }
   ],
   "source": [
    "#11-\tPrint a metabolite formula, name Print reactions which involve à specific metabolite (and if possible the reaction associated).\n",
    "met = model.metabolites.s1_c \n",
    "print('\\nMetabolite : %s\\nName :  %s\\nFormula : %s\\nCharge : %i\\nCompartment : %s' % (met.id,met.name,met.formula,met.charge,model.compartments[met.compartment]))\n",
    "print('Involved in reactions : \\n%s' %('\\n'.join(getRxnsFromMet(model,met))))"
   ]
  },
  {
   "cell_type": "code",
   "execution_count": 16,
   "metadata": {},
   "outputs": [
    {
     "name": "stdout",
     "output_type": "stream",
     "text": [
      "\n",
      "Objective function :  Maximize\n",
      "1.0*biomass - 1.0*biomass_reverse_01e59\n",
      "\n",
      "Objective coefficient:\n",
      "Tpr_s1 ->  0\n",
      "Tpr_s2 ->  0\n",
      "Tpr_p1 ->  0\n",
      "Ex_s1_e ->  0\n",
      "Ex_s2_e ->  0\n",
      "Ex_p1_e ->  0\n",
      "Rxn_1 ->  0\n",
      "Rxn_2 ->  0\n",
      "Rxn_3 ->  0\n",
      "biomass ->  1\n"
     ]
    }
   ],
   "source": [
    "#12-\tWhat is the objective function ? Can you show the objective coefficient for each reactions?\n",
    "print('\\nObjective function : ', model.objective)\n",
    "print('\\nObjective coefficient:')\n",
    "for rxn in model.reactions:\n",
    "    print('%s ->  %i' %(rxn.id,rxn.objective_coefficient))"
   ]
  },
  {
   "cell_type": "code",
   "execution_count": 17,
   "metadata": {},
   "outputs": [],
   "source": [
    "#####B  Answer the same question with a model of your taste on Bigg Models\n",
    "import io\n",
    "import cobra\n",
    "from functions import *\n",
    "BiGG_model = io.read_sbml_model('iAM_Pf480.xml')"
   ]
  },
  {
   "cell_type": "code",
   "execution_count": 18,
   "metadata": {},
   "outputs": [
    {
     "name": "stdout",
     "output_type": "stream",
     "text": [
      "Number of metabolites 909\n"
     ]
    }
   ],
   "source": [
    "#13- Donload a model from bigg models database\n",
    "print(\"Number of metabolites\" , len(BiGG_model.metabolites))"
   ]
  },
  {
   "cell_type": "code",
   "execution_count": 3,
   "metadata": {},
   "outputs": [],
   "source": [
    "#14- Import the model:"
   ]
  },
  {
   "cell_type": "code",
   "execution_count": 3,
   "metadata": {},
   "outputs": [],
   "source": [
    "#15- How many reactions?"
   ]
  },
  {
   "cell_type": "code",
   "execution_count": 3,
   "metadata": {},
   "outputs": [],
   "source": [
    "#16- how many metabolites?"
   ]
  },
  {
   "cell_type": "code",
   "execution_count": 3,
   "metadata": {},
   "outputs": [],
   "source": [
    "#17- Wich compartments?"
   ]
  },
  {
   "cell_type": "code",
   "execution_count": 3,
   "metadata": {},
   "outputs": [],
   "source": [
    "#18- Stoichiometric Matrix (show limited at 500/500"
   ]
  },
  {
   "cell_type": "code",
   "execution_count": 3,
   "metadata": {},
   "outputs": [],
   "source": [
    "#19- How many exchange reactions ?"
   ]
  },
  {
   "cell_type": "code",
   "execution_count": 3,
   "metadata": {},
   "outputs": [],
   "source": [
    "#20- How many sink reactions?"
   ]
  },
  {
   "cell_type": "code",
   "execution_count": 3,
   "metadata": {},
   "outputs": [],
   "source": [
    "#21- How many demand reactions?"
   ]
  },
  {
   "cell_type": "code",
   "execution_count": 3,
   "metadata": {},
   "outputs": [],
   "source": [
    "#22- What is the objective function ? Maximise or minimize ?"
   ]
  }
 ],
 "metadata": {
  "kernelspec": {
   "display_name": "Python 3",
   "language": "python",
   "name": "python3"
  },
  "language_info": {
   "codemirror_mode": {
    "name": "ipython",
    "version": 3
   },
   "file_extension": ".py",
   "mimetype": "text/x-python",
   "name": "python",
   "nbconvert_exporter": "python",
   "pygments_lexer": "ipython3",
   "version": "3.7.6"
  }
 },
 "nbformat": 4,
 "nbformat_minor": 4
}
