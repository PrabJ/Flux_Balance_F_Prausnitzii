{
 "metadata": {
  "language_info": {
   "codemirror_mode": {
    "name": "ipython",
    "version": 3
   },
   "file_extension": ".py",
   "mimetype": "text/x-python",
   "name": "python",
   "nbconvert_exporter": "python",
   "pygments_lexer": "ipython3",
   "version": "3.8.2-final"
  },
  "orig_nbformat": 2,
  "kernelspec": {
   "name": "python3",
   "display_name": "Python 3"
  }
 },
 "nbformat": 4,
 "nbformat_minor": 2,
 "cells": [
  {
   "cell_type": "code",
   "execution_count": 1,
   "metadata": {},
   "outputs": [],
   "source": [
    "#import packages\n",
    "from libchebipy import ChebiEntity\n",
    "import libchebipy\n",
    "import pubchempy as pcp\n",
    "import io\n",
    "import requests\n",
    "import json\n",
    "import cobra\n",
    "import functions\n",
    "from functions import *"
   ]
  },
  {
   "cell_type": "code",
   "execution_count": 2,
   "metadata": {},
   "outputs": [
    {
     "output_type": "stream",
     "name": "stdout",
     "text": [
      "Metabolites :  833\nReactions :  1030\nGenes :  602\nCompartments :  {'c': '', 'e': ''}\nObjective function : \n Maximize\n1.0*Biomass_FP - 1.0*Biomass_FP_reverse_ee33b \n\n"
     ]
    }
   ],
   "source": [
    "model=cobra.io.load_matlab_model('Data/iFpraus_v_1_0.mat')\n",
    "info(model)"
   ]
  },
  {
   "source": [
    "---\n",
    "## mMCB\n",
    "\n",
    "(There are also supplements mentioned in the paper but this is the base medium)\n",
    "* [Bacteriological Peptome (6.5) (Oxoid)](http://www.oxoid.com/UK/blue/prod_detail/prod_detail.asp?pr=LP0037&c=UK&lang=EN): \n",
    "    * Vague, decided to go with polypeptides: <b>polypep</b>\n",
    "    * Nitrogen: <b>n2</b>\n",
    "* [Soy Peptome (5.0) (Oxoid)](http://www.oxoid.com/UK/blue/prod_detail/prod_detail.asp?pr=LP0044&cat=&c=UK&lang=EN) --> another vague one:\n",
    "    * Stachyose: <b>stys</b>\n",
    "    * Raffinose: <b>raffin</b>\n",
    "    * Sucrose: <b>sucr</b>\n",
    "    * Nitrogen: <b>n2</b>\n",
    "* [Yeast Extract (3.0) (VWR International, Darmstadt, Germany)](https://us.vwr.com/store/product/7437401/vwr-life-science-yeast-extract-bacteriological-grade):\n",
    "    * Vitamin B (same logic as RCM):\n",
    "        * 1. Thiamin -> <b>thm</b>\n",
    "        * 2. Riboflavin -> <b>ribflv</b>\n",
    "        * 3. Niacin -> <b>trp__L</b> (made of tryptophan)\n",
    "        * 5. Pantothenic Acid -> <b>pnto__R</b>\n",
    "        * 6. Pyridoxine -> <b>pydxn</b>\n",
    "        * 7. Biotin -> <b>btn</b>\n",
    "        * 9. Folic Acid -> ... can't find anything\n",
    "        * 12. Cobalamin -> <b>b12</b> (or cbl1)\n",
    "* [Tryptone (2.5) (Oxoid)](http://www.oxoid.com/UK/blue/prod_detail/prod_detail.asp?pr=LP0042&c=UK&lang=EN): \n",
    "    * Tryptophan: <b>trp__L</b>\n",
    "* NaCL (1.5) (VWR International, Darmstadt, Germany):\n",
    "    * NaCl: <b>na1, cl</b>\n",
    "* K<sub>2</sub>HPO<sub>4</sub> (1.0) (Merck International, Darmstadt, Germany):\n",
    "    * Potassium: <b>k</b>\n",
    "    * Phosphate: <b>p1</b>\n",
    "    * Hydrogen: <b>h2</b>\n",
    "* KH<sub>2</sub>PO<sub>4</sub> (1.0) (Merck International, Darmstadt, Germany):\n",
    "    * Potassium: <b>k</b>\n",
    "    * Phosphate: <b>p1</b>\n",
    "    * Hydrogen: <b>h2</b>\n",
    "* Na<sub>2</sub>SO<sub>4</sub> (2.0) (VWR):\n",
    "    * Sodium: <b>na1</b>\n",
    "    * Sulfate: <b>so4</b>\n",
    "* MgSO<sub>4</sub>*7H<sub>2</sub>O (1.0) (Merck):\n",
    "    * Magnesium: <b>mg2</b>\n",
    "    * Sulfate: <b>so4</b>\n",
    "* CaCl<sub>2</sub>*2H<sub>2</sub>O (0.1) (Merck):\n",
    "    * Calcium Chloride: <b>ca2, cl</b>\n",
    "* NH<sub>4</sub>Cl (1.0) (Merck):\n",
    "    * Ammonium Chloride: <b>nh4, cl</b>\n",
    "* Cysteine-HCL (0.4) (Merck):\n",
    "    * Cysteine: <b>cys__L</b>\n",
    "    * HCL: <b>h2, cl</b>\n",
    "* NaHCO<sub>3</sub> (0.2) (VWR):\n",
    "    * Sodium: <b>na1</b>\n",
    "    * Bicarbonate: <b>hco3<b>\n",
    "* MnSO<sub>4</sub>*H<sub>2</sub>O (0.05) (VWR):\n",
    "    * Manganese: <b>mn2</b>\n",
    "    * Sulfate: <b>so4</b>\n",
    "* FeSO<sub>4</sub>*7H<sub>2</sub>O (0.005) (Merck):\n",
    "    * Iron: <b>fe</b>\n",
    "    * Sulfate: <b>so4</b>\n",
    "* ZnSO<sub>4</sub>*7H<sub>2</sub>O (0.005) (VWR):\n",
    "    * Zinc: <b>zn2</b>\n",
    "    * Sulfate: <b>so4</b>\n",
    "* Hemin (0.005) (Sigma-Aldrich, Steinheim, Germany):\n",
    "    * ... contains iron\n",
    "* Menadione (0.005) (S-A):\n",
    "    * <b>mndn</b>\n",
    "* Resazurin (0.001) (S-A):\n",
    "    * Fluoro identifier\n",
    "\n"
   ],
   "cell_type": "markdown",
   "metadata": {}
  },
  {
   "source": [
    "| Component                            | Concentration (g/L) |\n",
    "|--------------------------------------|---------------------|\n",
    "| Bacteriological Peptome              | 6.5                 |\n",
    "| Soy Peptome                          | 5.0                 |\n",
    "| Yeast Extract                        | 3.0                 |\n",
    "| Tryptone                             | 2.5                 |\n",
    "| NaCL                                 | 1.5                 |\n",
    "| K<sub>2</sub>PO<sub>4</sub>          | 1.0                 |\n",
    "| KH<sub>2</sub>PO<sub>4</sub>         | 1.0                 |\n",
    "| Na<sub>2</sub>SO<sub>4</sub>         | 2.0                 |\n",
    "| Mg<sub>2</sub>SO<sub>4</sub>         | 1.0                 |\n",
    "| CaCl<sub>2</sub>*2H<sub>2</sub>O     | 0.1                 |\n",
    "| NH<sub>4</sub>Cl                     | 1.0                 |\n",
    "| Cysteine-HCL                         | 0.4                 |\n",
    "| NaHCO<sub>3</sub>                    | 0.2                 |\n",
    "| MnSO<sub>4</sub>*H<sub>2</sub>O      | 0.05                |\n",
    "| FeSOMnSO<sub>4</sub>*7H<sub>2</sub>O | 0.005               |\n",
    "| ZnSO<sub>4</sub>*7H<sub>2</sub>O     | 0.005               |\n",
    "| Hemin                                | 0.005               |\n",
    "| Menadione                            | 0.005               |\n",
    "| Resazurin                            | 0.001               |"
   ],
   "cell_type": "markdown",
   "metadata": {}
  },
  {
   "cell_type": "code",
   "execution_count": 66,
   "metadata": {},
   "outputs": [
    {
     "output_type": "execute_result",
     "data": {
      "text/plain": [
       "          metab        growth\n",
       "42    cps_fp(e)  1.077058e+01\n",
       "64    glyc3p(e)  5.518982e+00\n",
       "119       pi(e)  5.518982e+00\n",
       "110      nac(e)  7.879200e-13\n",
       "141    trp_L(e)  6.209833e-15\n",
       "87         k(e)  3.821436e-15\n",
       "41   cobalt2(e)  3.598136e-15\n",
       "43       cu2(e)  3.598136e-15\n",
       "50       fol(e)  1.340104e-15\n",
       "131    ser_L(e) -2.866077e-15\n",
       "39        cl(e) -2.943929e-15\n",
       "29       btn(e) -7.165192e-15\n",
       "32       ca2(e) -1.528574e-14\n",
       "121   pnto_R(e) -8.216087e-14\n",
       "132      so4(e) -8.598231e-14\n",
       "126     pydx(e) -1.571566e-13\n",
       "106      mg2(e) -1.714438e-13"
      ],
      "text/html": "<div>\n<style scoped>\n    .dataframe tbody tr th:only-of-type {\n        vertical-align: middle;\n    }\n\n    .dataframe tbody tr th {\n        vertical-align: top;\n    }\n\n    .dataframe thead th {\n        text-align: right;\n    }\n</style>\n<table border=\"1\" class=\"dataframe\">\n  <thead>\n    <tr style=\"text-align: right;\">\n      <th></th>\n      <th>metab</th>\n      <th>growth</th>\n    </tr>\n  </thead>\n  <tbody>\n    <tr>\n      <th>42</th>\n      <td>cps_fp(e)</td>\n      <td>1.077058e+01</td>\n    </tr>\n    <tr>\n      <th>64</th>\n      <td>glyc3p(e)</td>\n      <td>5.518982e+00</td>\n    </tr>\n    <tr>\n      <th>119</th>\n      <td>pi(e)</td>\n      <td>5.518982e+00</td>\n    </tr>\n    <tr>\n      <th>110</th>\n      <td>nac(e)</td>\n      <td>7.879200e-13</td>\n    </tr>\n    <tr>\n      <th>141</th>\n      <td>trp_L(e)</td>\n      <td>6.209833e-15</td>\n    </tr>\n    <tr>\n      <th>87</th>\n      <td>k(e)</td>\n      <td>3.821436e-15</td>\n    </tr>\n    <tr>\n      <th>41</th>\n      <td>cobalt2(e)</td>\n      <td>3.598136e-15</td>\n    </tr>\n    <tr>\n      <th>43</th>\n      <td>cu2(e)</td>\n      <td>3.598136e-15</td>\n    </tr>\n    <tr>\n      <th>50</th>\n      <td>fol(e)</td>\n      <td>1.340104e-15</td>\n    </tr>\n    <tr>\n      <th>131</th>\n      <td>ser_L(e)</td>\n      <td>-2.866077e-15</td>\n    </tr>\n    <tr>\n      <th>39</th>\n      <td>cl(e)</td>\n      <td>-2.943929e-15</td>\n    </tr>\n    <tr>\n      <th>29</th>\n      <td>btn(e)</td>\n      <td>-7.165192e-15</td>\n    </tr>\n    <tr>\n      <th>32</th>\n      <td>ca2(e)</td>\n      <td>-1.528574e-14</td>\n    </tr>\n    <tr>\n      <th>121</th>\n      <td>pnto_R(e)</td>\n      <td>-8.216087e-14</td>\n    </tr>\n    <tr>\n      <th>132</th>\n      <td>so4(e)</td>\n      <td>-8.598231e-14</td>\n    </tr>\n    <tr>\n      <th>126</th>\n      <td>pydx(e)</td>\n      <td>-1.571566e-13</td>\n    </tr>\n    <tr>\n      <th>106</th>\n      <td>mg2(e)</td>\n      <td>-1.714438e-13</td>\n    </tr>\n  </tbody>\n</table>\n</div>"
     },
     "metadata": {},
     "execution_count": 66
    }
   ],
   "source": [
    "# Get medium from model reactions\n",
    "root_model = model.copy()\n",
    "current_medium = [metab.lstrip('EX_') for metab in list(root_model.medium.keys())]\n",
    "\n",
    "# CHeck which metabolites control growth by removing one at a time and seeing the results\n",
    "def growth_stoppers(model, metabolites):\n",
    "    results = {}\n",
    "    for metabolite in metabolites:\n",
    "        metabolites.remove(metabolite.lstrip('EX_'))\n",
    "        test_model = medium(model, metabolites)\n",
    "        results[metabolite.lstrip('EX_')] = test_model.slim_optimize()\n",
    "        metabolites = [metab.lstrip(\"EX_\") for metab in metabolites]\n",
    "        metabolites.append(metabolite.lstrip('EX_'))\n",
    "\n",
    "    import pandas as pd\n",
    "    results_df = pd.DataFrame(results.items(), columns=[\"metab\",\"growth\"]).sort_values('growth', ascending=False)\n",
    "\n",
    "    return results_df\n",
    "\n",
    "growth_check_df = growth_stoppers(root_model, current_medium)\n",
    "\n",
    "# Don't take these out of the medium if you can help it:\n",
    "mandatory = growth_check_df[growth_check_df['growth'] <= 11.03796]\n",
    "mandatory"
   ]
  },
  {
   "cell_type": "code",
   "execution_count": 67,
   "metadata": {},
   "outputs": [],
   "source": [
    "### Remove metabolites from the medium that can't be justified\n",
    "current_medium.remove('EX_4abz(e)')\n",
    "current_medium.remove('EX_5oxpro(e)')\n",
    "current_medium.remove('EX_ac(e)')\n",
    "current_medium.remove('EX_acasp(e)')\n",
    "current_medium.remove('EX_acgal(e)')\n",
    "current_medium.remove('EX_acgalglcur(e)')\n",
    "current_medium.remove('EX_acgam(e)')\n",
    "current_medium.remove('EX_acglu(e)')\n",
    "current_medium.remove('EX_acnam(e)')\n",
    "current_medium.remove('EX_adocbl(e)')\n",
    "# current_medium.remove('EX_ala_D(e)')\n",
    "# current_medium.remove('EX_alaala(e)')\n",
    "# current_medium.remove('EX_alaasp(e)')\n",
    "# current_medium.remove('EX_alagln(e)')\n",
    "# current_medium.remove('EX_alaglu(e)')\n",
    "# current_medium.remove('EX_alagly(e)')\n",
    "# current_medium.remove('EX_alahis(e)')\n",
    "# current_medium.remove('EX_alaleu(e)')\n",
    "# current_medium.remove('EX_alathr(e)')\n",
    "current_medium.remove('EX_aso3(e)')\n",
    "current_medium.remove('EX_aso4(e)')\n",
    "current_medium.remove('EX_but(e)')\n",
    "current_medium.remove('EX_butso3(e)')\n",
    "current_medium.remove('EX_cd2(e)')\n",
    "# current_medium.remove('EX_cellb(e)')\n",
    "# current_medium.remove('EX_cgly(e)')\n",
    "current_medium.remove('EX_cit(e)')\n",
    "# current_medium.remove('EX_cobalt2(e)') ###\n",
    "# current_medium.remove('EX_cps_fp(e)') ###\n",
    "current_medium.remove('EX_dhor_S(e)')\n",
    "current_medium.remove('EX_ethso3(e)')\n",
    "current_medium.remove('EX_fe3dcit(e)')\n",
    "current_medium.remove('EX_for(e)')\n",
    "current_medium.remove('EX_fru(e)')\n",
    "current_medium.remove('EX_fum(e)')\n",
    "# current_medium.remove('EX_gal(e)')\n",
    "# current_medium.remove('EX_galur(e)')\n",
    "# current_medium.remove('EX_glcur(e)')\n",
    "# current_medium.remove('EX_glyasn(e)')\n",
    "# current_medium.remove('EX_glyasp(e)')\n",
    "# current_medium.remove('EX_glyc3p(e)') ###\n",
    "# current_medium.remove('EX_glyc_R(e)')\n",
    "# current_medium.remove('EX_glygln(e)')\n",
    "# current_medium.remove('EX_glyglu(e)')\n",
    "# current_medium.remove('EX_glygly(e)')\n",
    "# current_medium.remove('EX_glyleu(e)')\n",
    "# current_medium.remove('EX_glymet(e)')\n",
    "# current_medium.remove('EX_glyphe(e)')\n",
    "# current_medium.remove('EX_glypro(e)')\n",
    "# current_medium.remove('EX_glytyr(e)')\n",
    "current_medium.remove('EX_gthox(e)')\n",
    "current_medium.remove('EX_gthrd(e)')\n",
    "# current_medium.remove('EX_h2s(e)')\n",
    "current_medium.remove('EX_hg2(e)')\n",
    "current_medium.remove('EX_his_L(e)')\n",
    "current_medium.remove('EX_hxan(e)')\n",
    "# current_medium.remove('EX_ile_L(e)')\n",
    "current_medium.remove('EX_ins(e)')\n",
    "current_medium.remove('EX_inulin(e)')\n",
    "current_medium.remove('EX_isetac(e)')\n",
    "current_medium.remove('EX_kesto(e)')\n",
    "current_medium.remove('EX_kestopt(e)')\n",
    "current_medium.remove('EX_kestottr(e)')\n",
    "# current_medium.remove('EX_lac_D(e)')\n",
    "# current_medium.remove('EX_lcts(e)')\n",
    "# current_medium.remove('EX_leu_L(e)')\n",
    "# current_medium.remove('EX_leugly(e)')\n",
    "# current_medium.remove('EX_leuleu(e)')\n",
    "# current_medium.remove('EX_lys_L(e)')\n",
    "current_medium.remove('EX_mal_L(e)')\n",
    "# current_medium.remove('EX_malt(e)')\n",
    "# current_medium.remove('EX_meoh(e)')\n",
    "# current_medium.remove('EX_met_D(e)')\n",
    "# current_medium.remove('EX_met_L(e)')\n",
    "# current_medium.remove('EX_metala(e)')\n",
    "# current_medium.remove('EX_metsox_R_L(e)')\n",
    "# current_medium.remove('EX_metsox_S_L(e)')\n",
    "current_medium.remove('EX_mobd(e)')\n",
    "current_medium.remove('EX_mso3(e)')\n",
    "# current_medium.remove('EX_nac(e)') ###\n",
    "current_medium.remove('EX_ncam(e)')\n",
    "current_medium.remove('EX_o2(e)')\n",
    "# current_medium.remove('EX_orn(e)')\n",
    "# current_medium.remove('EX_orot(e)')\n",
    "# current_medium.remove('EX_pb(e)')\n",
    "# current_medium.remove('EX_pect(e)') ###\n",
    "# current_medium.remove('EX_phe_L(e)')\n",
    "current_medium.remove('EX_plac(e)')\n",
    "# current_medium.remove('EX_pro_L(e)')\n",
    "# current_medium.remove('EX_progly(e)')\n",
    "current_medium.remove('EX_ptrc(e)')\n",
    "# current_medium.remove('EX_pydam(e)')\n",
    "# current_medium.remove('EX_pydx(e)') ###\n",
    "current_medium.remove('EX_seln(e)')\n",
    "# current_medium.remove('EX_so4(e)') ###\n",
    "current_medium.remove('EX_spmd(e)')\n",
    "# current_medium.remove('EX_strch1(e)')\n",
    "current_medium.remove('EX_succ(e)')\n",
    "current_medium.remove('EX_sulfac(e)')\n",
    "# current_medium.remove('EX_taur(e)')\n",
    "current_medium.remove('EX_thymd(e)')\n",
    "# current_medium.remove('EX_tyr_L(e)')\n",
    "current_medium.remove('EX_urate(e)')\n",
    "current_medium.remove('EX_urea(e)')\n",
    "# current_medium.remove('EX_val_L(e)')\n",
    "current_medium.remove('EX_xan(e)')\n",
    "current_medium.remove('EX_xyl_D(e)')"
   ]
  },
  {
   "cell_type": "code",
   "execution_count": 73,
   "metadata": {},
   "outputs": [],
   "source": [
    "# Get molar weights from Chebi\n",
    "x=[root_model.reactions.get_by_id(compound_id).name for compound_id in current_medium]\n",
    "x=[compound.rstrip(\"exchange\") for compound in x]\n",
    "\";\".join(x)\n",
    "\n",
    "url = \"http://api.xialab.ca/mapcompounds\"\n",
    "\n",
    "payload = \"{\\n\\t\\\"queryList\\\": \\\"%s;\\\",\\n\\t\\\"inputType\\\": \\\"name\\\"\\n}\" %\";\".join(x)\n",
    "headers = {\n",
    "    'Content-Type': \"application/json\",\n",
    "    'cache-control': \"no-cache\",\n",
    "    }\n",
    "\n",
    "response = requests.request(\"POST\", url, data=payload, headers=headers)\n",
    "\n",
    "dict=json.loads(response.text)\n",
    "mapped_compounds=pd.DataFrame(dict)\n",
    "\n",
    "mol_weight=[]\n",
    "for i in mapped_compounds[\"chebi_id\"]:\n",
    "    try:\n",
    "        x= ChebiEntity(str(i))\n",
    "        mol_weight.append(x.get_mass())\n",
    "    except:\n",
    "        mol_weight.append(\"NA\")\n",
    "        continue\n",
    "\n",
    "mapped_compounds[\"mol_weight\"]=mol_weight\n",
    "mapped_compounds[\"BiGG_ID\"]=[root_model.reactions.get_by_id(compound_id).id.lstrip(\"EX_\") for compound_id in current_medium]\n",
    "weights=mapped_compounds[[\"query\", \"BiGG_ID\", \"hit\", \"mol_weight\"]]\n",
    "# weight: g/mol\n",
    "# flux: mmol/g/hr"
   ]
  },
  {
   "cell_type": "code",
   "execution_count": 75,
   "metadata": {},
   "outputs": [
    {
     "output_type": "execute_result",
     "data": {
      "text/plain": [
       "                                                query    BiGG_ID hit mol_weight\n",
       "26  Capsular polysaccharide (F. prausnitzii, putat...  cps_fp(e)             NA\n",
       "30                                                Fe3     fe3(e)             NA\n",
       "46                  exchange reaction for glycylglyci  glygly(e)             NA\n",
       "49             exchange reaction for glycylphenylalai  glyphe(e)             NA\n",
       "61                  exchange reaction for leucylglyci  leugly(e)             NA\n",
       "79                      exchange reaction for pectins    pect(e)             NA\n",
       "92  starch, structure 1 (1,6-{7[1,4-Glc], 4[1,4-Gl...  strch1(e)             NA"
      ],
      "text/html": "<div>\n<style scoped>\n    .dataframe tbody tr th:only-of-type {\n        vertical-align: middle;\n    }\n\n    .dataframe tbody tr th {\n        vertical-align: top;\n    }\n\n    .dataframe thead th {\n        text-align: right;\n    }\n</style>\n<table border=\"1\" class=\"dataframe\">\n  <thead>\n    <tr style=\"text-align: right;\">\n      <th></th>\n      <th>query</th>\n      <th>BiGG_ID</th>\n      <th>hit</th>\n      <th>mol_weight</th>\n    </tr>\n  </thead>\n  <tbody>\n    <tr>\n      <th>26</th>\n      <td>Capsular polysaccharide (F. prausnitzii, putat...</td>\n      <td>cps_fp(e)</td>\n      <td></td>\n      <td>NA</td>\n    </tr>\n    <tr>\n      <th>30</th>\n      <td>Fe3</td>\n      <td>fe3(e)</td>\n      <td></td>\n      <td>NA</td>\n    </tr>\n    <tr>\n      <th>46</th>\n      <td>exchange reaction for glycylglyci</td>\n      <td>glygly(e)</td>\n      <td></td>\n      <td>NA</td>\n    </tr>\n    <tr>\n      <th>49</th>\n      <td>exchange reaction for glycylphenylalai</td>\n      <td>glyphe(e)</td>\n      <td></td>\n      <td>NA</td>\n    </tr>\n    <tr>\n      <th>61</th>\n      <td>exchange reaction for leucylglyci</td>\n      <td>leugly(e)</td>\n      <td></td>\n      <td>NA</td>\n    </tr>\n    <tr>\n      <th>79</th>\n      <td>exchange reaction for pectins</td>\n      <td>pect(e)</td>\n      <td></td>\n      <td>NA</td>\n    </tr>\n    <tr>\n      <th>92</th>\n      <td>starch, structure 1 (1,6-{7[1,4-Glc], 4[1,4-Gl...</td>\n      <td>strch1(e)</td>\n      <td></td>\n      <td>NA</td>\n    </tr>\n  </tbody>\n</table>\n</div>"
     },
     "metadata": {},
     "execution_count": 75
    }
   ],
   "source": [
    "# Fill in any additional missing weights using Chebi synonyms & CIDs\n",
    "import ssl\n",
    "ssl._create_default_https_context = ssl._create_unverified_context\n",
    "for metab in weights.loc[weights['mol_weight'] == 'NA', 'query']:\n",
    "    try:\n",
    "        cid = pcp.get_synonyms(metab, 'name')[0]['CID']\n",
    "        weights.loc[weights['query'] == metab, 'mol_weight'] = pcp.Compound.from_cid(cid).molecular_weight\n",
    "    except:\n",
    "        pass\n",
    "\n",
    "# Still remaining\n",
    "weights[weights['mol_weight'] == 'NA']"
   ]
  },
  {
   "cell_type": "code",
   "execution_count": 77,
   "metadata": {},
   "outputs": [
    {
     "output_type": "execute_result",
     "data": {
      "text/plain": [
       "Empty DataFrame\n",
       "Columns: [query, BiGG_ID, hit, mol_weight]\n",
       "Index: []"
      ],
      "text/html": "<div>\n<style scoped>\n    .dataframe tbody tr th:only-of-type {\n        vertical-align: middle;\n    }\n\n    .dataframe tbody tr th {\n        vertical-align: top;\n    }\n\n    .dataframe thead th {\n        text-align: right;\n    }\n</style>\n<table border=\"1\" class=\"dataframe\">\n  <thead>\n    <tr style=\"text-align: right;\">\n      <th></th>\n      <th>query</th>\n      <th>BiGG_ID</th>\n      <th>hit</th>\n      <th>mol_weight</th>\n    </tr>\n  </thead>\n  <tbody>\n  </tbody>\n</table>\n</div>"
     },
     "metadata": {},
     "execution_count": 77
    }
   ],
   "source": [
    "### MANUALLY fill these in\n",
    "weights.loc[weights['BiGG_ID'] == 'fe3(e)', 'mol_weight'] = 55.85\n",
    "weights.loc[weights['BiGG_ID'] == 'glygly(e)', 'mol_weight'] = 75.07*2\n",
    "weights.loc[weights['BiGG_ID'] == 'glyphe(e)', 'mol_weight'] = 75.07+165.19\n",
    "weights.loc[weights['BiGG_ID'] == 'leugly(e)', 'mol_weight'] = 75.07+131.17\n",
    "weights.loc[weights['BiGG_ID'] == 'pect(e)', 'mol_weight'] = 194.14\n",
    "weights.loc[weights['BiGG_ID'] == 'strch1(e)', 'mol_weight'] = 359.33\n",
    "weights.loc[weights['BiGG_ID'] == 'cps_fp(e)', 'mol_weight'] = 1000\n",
    "# Cobalt was Co2 somehow???\n",
    "weights.loc[weights['BiGG_ID'] == 'cobalt2(e)', 'mol_weight'] = 129.839\n",
    "\n",
    "# Still remaining\n",
    "weights[weights['mol_weight'] == 'NA']"
   ]
  },
  {
   "cell_type": "code",
   "execution_count": 78,
   "metadata": {},
   "outputs": [],
   "source": [
    "# http://www.oxoid.com/UK/blue/prod_detail/prod_detail.asp?pr=LP0037&c=UK&lang=EN&minfo=Y\n",
    "traces_list = [{'BiGG_ID':'ca2(e)', \"conc_ppm_Bact_Peptone_L37\": 635, \"conc_ppm_Proteose_Peptone_L85\": 200, \"conc_ppm_soya_peptone_L44\": 225, \"conc_ppm_yeast_extract\": 155},\n",
    "{'BiGG_ID':'mg2(e)', \"conc_ppm_Bact_Peptone_L37\": 265, \"conc_ppm_Proteose_Peptone_L85\": 340, \"conc_ppm_soya_peptone_L44\": 1530, \"conc_ppm_yeast_extract\": 205},\n",
    "{'BiGG_ID':'fe(e)', \"conc_ppm_Bact_Peptone_L37\": 22, \"conc_ppm_Proteose_Peptone_L85\": 42, \"conc_ppm_soya_peptone_L44\": 90, \"conc_ppm_yeast_extract\": 52},\n",
    "{'BiGG_ID':'cu2(e)', \"conc_ppm_Bact_Peptone_L37\": 1, \"conc_ppm_Proteose_Peptone_L85\": 10, \"conc_ppm_soya_peptone_L44\": 2, \"conc_ppm_yeast_extract\": 2},\n",
    "{'BiGG_ID':'pb(e)', \"conc_ppm_Bact_Peptone_L37\": 0.4, \"conc_ppm_Proteose_Peptone_L85\": 0.1, \"conc_ppm_soya_peptone_L44\": 0.3, \"conc_ppm_yeast_extract\": 0.7},\n",
    "{'BiGG_ID':'mn2(e)', \"conc_ppm_Bact_Peptone_L37\": 3.4, \"conc_ppm_Proteose_Peptone_L85\": 0.5, \"conc_ppm_soya_peptone_L44\": 1.0, \"conc_ppm_yeast_extract\": 1.3},\n",
    "{'BiGG_ID':'zn2(e)', \"conc_ppm_Bact_Peptone_L37\": 9.2, \"conc_ppm_Proteose_Peptone_L85\": 16, \"conc_ppm_soya_peptone_L44\": 12, \"conc_ppm_yeast_extract\": 94},\n",
    "{'BiGG_ID':'cobalt2(e)', \"conc_ppm_Bact_Peptone_L37\": 0.1, \"conc_ppm_Proteose_Peptone_L85\": 0.2, \"conc_ppm_soya_peptone_L44\": 0.2, \"conc_ppm_yeast_extract\": 3.1},\n",
    "{'BiGG_ID':'cl(e)', \"conc_ppm_Bact_Peptone_L37\": 10000, \"conc_ppm_Proteose_Peptone_L85\": 80000, \"conc_ppm_soya_peptone_L44\": 4000, \"conc_ppm_yeast_extract\": 3000},\n",
    "{'BiGG_ID':'k(e)', \"conc_ppm_Bact_Peptone_L37\": 36000, \"conc_ppm_Proteose_Peptone_L85\": 14000, \"conc_ppm_soya_peptone_L44\": 33000, \"conc_ppm_yeast_extract\": 73000},\n",
    "{'BiGG_ID':'na1(e)', \"conc_ppm_Bact_Peptone_L37\": 10000, \"conc_ppm_Proteose_Peptone_L85\": 80000, \"conc_ppm_soya_peptone_L44\": 4000, \"conc_ppm_yeast_extract\": 3000}]\n",
    "\n",
    "\n",
    "aa_list = [{'BiGG_ID':'ala', \"conc_ppm_Bact_Peptone_L37\": 39200 , \"conc_ppm_Proteose_Peptone_L85\": 38100, \"conc_ppm_soya_peptone_L44\": 28700, \"conc_ppm_yeast_extract\": 9100},\n",
    "{'BiGG_ID':'arg', \"conc_ppm_Bact_Peptone_L37\": 49900, \"conc_ppm_Proteose_Peptone_L85\": 58000, \"conc_ppm_soya_peptone_L44\": 46400, \"conc_ppm_yeast_extract\": 33100},\n",
    "{'BiGG_ID':'asp', \"conc_ppm_Bact_Peptone_L37\": 60600, \"conc_ppm_Proteose_Peptone_L85\": 58500, \"conc_ppm_soya_peptone_L44\": 70600, \"conc_ppm_yeast_extract\": 70700}, \n",
    "{'BiGG_ID':'cys', \"conc_ppm_Bact_Peptone_L37\": 16600, \"conc_ppm_Proteose_Peptone_L85\": 1500, \"conc_ppm_soya_peptone_L44\": 5300, \"conc_ppm_yeast_extract\": 7600},\n",
    "{'BiGG_ID':'glu', \"conc_ppm_Bact_Peptone_L37\": 99300, \"conc_ppm_Proteose_Peptone_L85\": 137800, \"conc_ppm_soya_peptone_L44\": 147100, \"conc_ppm_yeast_extract\": 134900},\n",
    "{'BiGG_ID':'gly', \"conc_ppm_Bact_Peptone_L37\": 77100 , \"conc_ppm_Proteose_Peptone_L85\": 44500, \"conc_ppm_soya_peptone_L44\": 28300, \"conc_ppm_yeast_extract\": 59500},\n",
    "{'BiGG_ID':'ile', \"conc_ppm_Bact_Peptone_L37\": 38100, \"conc_ppm_Proteose_Peptone_L85\": 45800, \"conc_ppm_soya_peptone_L44\": 25100, \"conc_ppm_yeast_extract\": 48100},\n",
    "{'BiGG_ID':'leu', \"conc_ppm_Bact_Peptone_L37\": 37900, \"conc_ppm_Proteose_Peptone_L85\": 60100, \"conc_ppm_soya_peptone_L44\": 43100, \"conc_ppm_yeast_extract\": 60400},\n",
    "{'BiGG_ID':'lys', \"conc_ppm_Bact_Peptone_L37\": 43800, \"conc_ppm_Proteose_Peptone_L85\": 46100, \"conc_ppm_soya_peptone_L44\": 37700, \"conc_ppm_yeast_extract\": 54000},\n",
    "{'BiGG_ID':'met', \"conc_ppm_Bact_Peptone_L37\": 15800, \"conc_ppm_Proteose_Peptone_L85\": 10800, \"conc_ppm_soya_peptone_L44\": 6200, \"conc_ppm_yeast_extract\": 8000},\n",
    "{'BiGG_ID':'phe', \"conc_ppm_Bact_Peptone_L37\": 26000, \"conc_ppm_Proteose_Peptone_L85\": 46600, \"conc_ppm_soya_peptone_L44\": 3800, \"conc_ppm_yeast_extract\": 37800},\n",
    "{'BiGG_ID':'pro', \"conc_ppm_Bact_Peptone_L37\": 58300, \"conc_ppm_Proteose_Peptone_L85\": 59900, \"conc_ppm_soya_peptone_L44\": 34000, \"conc_ppm_yeast_extract\": 8800},\n",
    "{'BiGG_ID':'ser', \"conc_ppm_Bact_Peptone_L37\": 28100, \"conc_ppm_Proteose_Peptone_L85\": 21800, \"conc_ppm_soya_peptone_L44\": 6700, \"conc_ppm_yeast_extract\": 34200},\n",
    "{'BiGG_ID':'thr', \"conc_ppm_Bact_Peptone_L37\": 12500, \"conc_ppm_Proteose_Peptone_L85\": 27500, \"conc_ppm_soya_peptone_L44\": 16800, \"conc_ppm_yeast_extract\": 27300},\n",
    "{'BiGG_ID':'trp', \"conc_ppm_Bact_Peptone_L37\": 6600, \"conc_ppm_Proteose_Peptone_L85\": 7500, \"conc_ppm_soya_peptone_L44\": 6400, \"conc_ppm_yeast_extract\": 8500},\n",
    "{'BiGG_ID':'tyr', \"conc_ppm_Bact_Peptone_L37\": 3900, \"conc_ppm_Proteose_Peptone_L85\": 17700, \"conc_ppm_soya_peptone_L44\": 20900, \"conc_ppm_yeast_extract\": 49500},\n",
    "{'BiGG_ID':'val', \"conc_ppm_Bact_Peptone_L37\": 33300, \"conc_ppm_Proteose_Peptone_L85\": 41100, \"conc_ppm_soya_peptone_L44\": 36500, \"conc_ppm_yeast_extract\": 10000}]\n",
    "\n",
    "medium_trace = pd.DataFrame(traces_list)\n",
    "medium_aa = pd.DataFrame(aa_list)"
   ]
  },
  {
   "cell_type": "code",
   "execution_count": 170,
   "metadata": {},
   "outputs": [
    {
     "output_type": "execute_result",
     "data": {
      "text/plain": [
       "  BiGG_ID  conc_ppm_Bact_Peptone_L37  conc_ppm_Proteose_Peptone_L85  conc_ppm_soya_peptone_L44  conc_ppm_yeast_extract\n",
       "0     ala                      39200                          38100                      28700                    9100\n",
       "1     arg                      49900                          58000                      46400                   33100\n",
       "2     asp                      60600                          58500                      70600                   70700\n",
       "3     cys                      16600                           1500                       5300                    7600\n",
       "4     glu                      99300                         137800                     147100                  134900"
      ],
      "text/html": "<div>\n<style scoped>\n    .dataframe tbody tr th:only-of-type {\n        vertical-align: middle;\n    }\n\n    .dataframe tbody tr th {\n        vertical-align: top;\n    }\n\n    .dataframe thead th {\n        text-align: right;\n    }\n</style>\n<table border=\"1\" class=\"dataframe\">\n  <thead>\n    <tr style=\"text-align: right;\">\n      <th></th>\n      <th>BiGG_ID</th>\n      <th>conc_ppm_Bact_Peptone_L37</th>\n      <th>conc_ppm_Proteose_Peptone_L85</th>\n      <th>conc_ppm_soya_peptone_L44</th>\n      <th>conc_ppm_yeast_extract</th>\n    </tr>\n  </thead>\n  <tbody>\n    <tr>\n      <th>0</th>\n      <td>ala</td>\n      <td>39200</td>\n      <td>38100</td>\n      <td>28700</td>\n      <td>9100</td>\n    </tr>\n    <tr>\n      <th>1</th>\n      <td>arg</td>\n      <td>49900</td>\n      <td>58000</td>\n      <td>46400</td>\n      <td>33100</td>\n    </tr>\n    <tr>\n      <th>2</th>\n      <td>asp</td>\n      <td>60600</td>\n      <td>58500</td>\n      <td>70600</td>\n      <td>70700</td>\n    </tr>\n    <tr>\n      <th>3</th>\n      <td>cys</td>\n      <td>16600</td>\n      <td>1500</td>\n      <td>5300</td>\n      <td>7600</td>\n    </tr>\n    <tr>\n      <th>4</th>\n      <td>glu</td>\n      <td>99300</td>\n      <td>137800</td>\n      <td>147100</td>\n      <td>134900</td>\n    </tr>\n  </tbody>\n</table>\n</div>"
     },
     "metadata": {},
     "execution_count": 170
    }
   ],
   "source": [
    "medium_aa.head()"
   ]
  },
  {
   "cell_type": "code",
   "execution_count": 164,
   "metadata": {},
   "outputs": [
    {
     "output_type": "execute_result",
     "data": {
      "text/plain": [
       "        query     BiGG_ID           hit mol_weight  conc_ppm_Bact_Peptone_L37  conc_ppm_Proteose_Peptone_L85  conc_ppm_soya_peptone_L44  conc_ppm_yeast_extract\n",
       "0  L-cysteate    Lcyst(e)  Cysteic acid    169.156                        NaN                            NaN                        NaN                     NaN\n",
       "1   L-Cystine  Lcystin(e)     L-Cystine    240.303                        NaN                            NaN                        NaN                     NaN\n",
       "2     Adenine      ade(e)       Adenine    135.127                        NaN                            NaN                        NaN                     NaN\n",
       "3   D-Alanine    ala_D(e)     D-Alanine    89.0932                        NaN                            NaN                        NaN                     NaN\n",
       "4   L-Alanine    ala_L(e)     L-Alanine    89.0932                        NaN                            NaN                        NaN                     NaN"
      ],
      "text/html": "<div>\n<style scoped>\n    .dataframe tbody tr th:only-of-type {\n        vertical-align: middle;\n    }\n\n    .dataframe tbody tr th {\n        vertical-align: top;\n    }\n\n    .dataframe thead th {\n        text-align: right;\n    }\n</style>\n<table border=\"1\" class=\"dataframe\">\n  <thead>\n    <tr style=\"text-align: right;\">\n      <th></th>\n      <th>query</th>\n      <th>BiGG_ID</th>\n      <th>hit</th>\n      <th>mol_weight</th>\n      <th>conc_ppm_Bact_Peptone_L37</th>\n      <th>conc_ppm_Proteose_Peptone_L85</th>\n      <th>conc_ppm_soya_peptone_L44</th>\n      <th>conc_ppm_yeast_extract</th>\n    </tr>\n  </thead>\n  <tbody>\n    <tr>\n      <th>0</th>\n      <td>L-cysteate</td>\n      <td>Lcyst(e)</td>\n      <td>Cysteic acid</td>\n      <td>169.156</td>\n      <td>NaN</td>\n      <td>NaN</td>\n      <td>NaN</td>\n      <td>NaN</td>\n    </tr>\n    <tr>\n      <th>1</th>\n      <td>L-Cystine</td>\n      <td>Lcystin(e)</td>\n      <td>L-Cystine</td>\n      <td>240.303</td>\n      <td>NaN</td>\n      <td>NaN</td>\n      <td>NaN</td>\n      <td>NaN</td>\n    </tr>\n    <tr>\n      <th>2</th>\n      <td>Adenine</td>\n      <td>ade(e)</td>\n      <td>Adenine</td>\n      <td>135.127</td>\n      <td>NaN</td>\n      <td>NaN</td>\n      <td>NaN</td>\n      <td>NaN</td>\n    </tr>\n    <tr>\n      <th>3</th>\n      <td>D-Alanine</td>\n      <td>ala_D(e)</td>\n      <td>D-Alanine</td>\n      <td>89.0932</td>\n      <td>NaN</td>\n      <td>NaN</td>\n      <td>NaN</td>\n      <td>NaN</td>\n    </tr>\n    <tr>\n      <th>4</th>\n      <td>L-Alanine</td>\n      <td>ala_L(e)</td>\n      <td>L-Alanine</td>\n      <td>89.0932</td>\n      <td>NaN</td>\n      <td>NaN</td>\n      <td>NaN</td>\n      <td>NaN</td>\n    </tr>\n  </tbody>\n</table>\n</div>"
     },
     "metadata": {},
     "execution_count": 164
    }
   ],
   "source": [
    "\n",
    "weights_and_traces = weights.merge(medium_trace, how=\"left\", on=\"BiGG_ID\")\n",
    "weights_and_traces.head()"
   ]
  },
  {
   "cell_type": "code",
   "execution_count": 188,
   "metadata": {
    "tags": []
   },
   "outputs": [
    {
     "output_type": "execute_result",
     "data": {
      "text/plain": [
       "        query     BiGG_ID           hit  mol_weight  conc_ppm_Bact_Peptone_L37  conc_ppm_Proteose_Peptone_L85  conc_ppm_soya_peptone_L44  conc_ppm_yeast_extract\n",
       "0  L-cysteate    Lcyst(e)  Cysteic acid   169.15600                1509.090909                     136.363636                 481.818182              690.909091\n",
       "1   L-Cystine  Lcystin(e)     L-Cystine   240.30256                1509.090909                     136.363636                 481.818182              690.909091\n",
       "2     Adenine      ade(e)       Adenine   135.12690                   0.000000                       0.000000                   0.000000                0.000000\n",
       "3   D-Alanine    ala_D(e)     D-Alanine    89.09322                3563.636364                    3463.636364                2609.090909              827.272727\n",
       "4   L-Alanine    ala_L(e)     L-Alanine    89.09322                3563.636364                    3463.636364                2609.090909              827.272727"
      ],
      "text/html": "<div>\n<style scoped>\n    .dataframe tbody tr th:only-of-type {\n        vertical-align: middle;\n    }\n\n    .dataframe tbody tr th {\n        vertical-align: top;\n    }\n\n    .dataframe thead th {\n        text-align: right;\n    }\n</style>\n<table border=\"1\" class=\"dataframe\">\n  <thead>\n    <tr style=\"text-align: right;\">\n      <th></th>\n      <th>query</th>\n      <th>BiGG_ID</th>\n      <th>hit</th>\n      <th>mol_weight</th>\n      <th>conc_ppm_Bact_Peptone_L37</th>\n      <th>conc_ppm_Proteose_Peptone_L85</th>\n      <th>conc_ppm_soya_peptone_L44</th>\n      <th>conc_ppm_yeast_extract</th>\n    </tr>\n  </thead>\n  <tbody>\n    <tr>\n      <th>0</th>\n      <td>L-cysteate</td>\n      <td>Lcyst(e)</td>\n      <td>Cysteic acid</td>\n      <td>169.15600</td>\n      <td>1509.090909</td>\n      <td>136.363636</td>\n      <td>481.818182</td>\n      <td>690.909091</td>\n    </tr>\n    <tr>\n      <th>1</th>\n      <td>L-Cystine</td>\n      <td>Lcystin(e)</td>\n      <td>L-Cystine</td>\n      <td>240.30256</td>\n      <td>1509.090909</td>\n      <td>136.363636</td>\n      <td>481.818182</td>\n      <td>690.909091</td>\n    </tr>\n    <tr>\n      <th>2</th>\n      <td>Adenine</td>\n      <td>ade(e)</td>\n      <td>Adenine</td>\n      <td>135.12690</td>\n      <td>0.000000</td>\n      <td>0.000000</td>\n      <td>0.000000</td>\n      <td>0.000000</td>\n    </tr>\n    <tr>\n      <th>3</th>\n      <td>D-Alanine</td>\n      <td>ala_D(e)</td>\n      <td>D-Alanine</td>\n      <td>89.09322</td>\n      <td>3563.636364</td>\n      <td>3463.636364</td>\n      <td>2609.090909</td>\n      <td>827.272727</td>\n    </tr>\n    <tr>\n      <th>4</th>\n      <td>L-Alanine</td>\n      <td>ala_L(e)</td>\n      <td>L-Alanine</td>\n      <td>89.09322</td>\n      <td>3563.636364</td>\n      <td>3463.636364</td>\n      <td>2609.090909</td>\n      <td>827.272727</td>\n    </tr>\n  </tbody>\n</table>\n</div>"
     },
     "metadata": {},
     "execution_count": 188
    }
   ],
   "source": [
    "\n",
    "def split_concentration_proportions(df_to_update, df_aa_medium):\n",
    "    # Usage: splits concentrations in each medium for each amino acid and assigns an equal proportion to related amino acids\n",
    "    # ie. cys__L = 16600; cyscys = NA --> cys__L = 8300, cyscys = 8300\n",
    "    df_to_update = df_to_update.fillna(0)\n",
    "\n",
    "    for aa in df_aa_medium[\"BiGG_ID\"].values:\n",
    "        aa_list = df_to_update.loc[df_to_update[\"BiGG_ID\"].str.contains(aa), \"BiGG_ID\"]\n",
    "        aa_count = len(aa_df)\n",
    "\n",
    "        for media in df_aa_medium.columns[1:]:\n",
    "            proportion = (df_aa_medium.loc[df_aa_medium[\"BiGG_ID\"] == aa, media]/aa_count).values[0]\n",
    "            for related_aa in aa_list:\n",
    "                df_to_update.loc[df_to_update[\"BiGG_ID\"]==related_aa, media] += proportion\n",
    "    return df_to_update\n",
    "\n",
    "weights_full = split_concentration_proportions(weights_and_traces, medium_aa)\n",
    "weights_full.head()"
   ]
  },
  {
   "cell_type": "code",
   "execution_count": 187,
   "metadata": {},
   "outputs": [
    {
     "output_type": "execute_result",
     "data": {
      "text/plain": [
       "44"
      ]
     },
     "metadata": {},
     "execution_count": 187
    }
   ],
   "source": [
    "# Still lots of 0's...\n",
    "len(weights_full[weights_full[\"conc_ppm_Bact_Peptone_L37\"] == 0])\n",
    "# Try the avg concentrations of the rest?"
   ]
  },
  {
   "cell_type": "code",
   "execution_count": 207,
   "metadata": {
    "tags": []
   },
   "outputs": [],
   "source": [
    "for media in weights_full.columns[4:]:\n",
    "    fill_value = weights_full[media].mean()\n",
    "    weights_full[media] = weights_full[media].replace(0, fill_value)\n"
   ]
  },
  {
   "cell_type": "code",
   "execution_count": 210,
   "metadata": {},
   "outputs": [
    {
     "output_type": "execute_result",
     "data": {
      "text/plain": [
       "        query     BiGG_ID           hit  mol_weight  conc_ppm_Bact_Peptone_L37  conc_ppm_Proteose_Peptone_L85  conc_ppm_soya_peptone_L44  conc_ppm_yeast_extract        g/L    mmol/L\n",
       "0  L-cysteate    Lcyst(e)  Cysteic acid   169.15600                1509.090909                     136.363636                 481.818182              690.909091   2.818182  0.016660\n",
       "1   L-Cystine  Lcystin(e)     L-Cystine   240.30256                1509.090909                     136.363636                 481.818182              690.909091   2.818182  0.011728\n",
       "2     Adenine      ade(e)       Adenine   135.12690                3310.105909                    4216.321182                2302.393182             3107.021636  12.935842  0.095731\n",
       "3   D-Alanine    ala_D(e)     D-Alanine    89.09322                3563.636364                    3463.636364                2609.090909              827.272727  10.463636  0.117446\n",
       "4   L-Alanine    ala_L(e)     L-Alanine    89.09322                3563.636364                    3463.636364                2609.090909              827.272727  10.463636  0.117446"
      ],
      "text/html": "<div>\n<style scoped>\n    .dataframe tbody tr th:only-of-type {\n        vertical-align: middle;\n    }\n\n    .dataframe tbody tr th {\n        vertical-align: top;\n    }\n\n    .dataframe thead th {\n        text-align: right;\n    }\n</style>\n<table border=\"1\" class=\"dataframe\">\n  <thead>\n    <tr style=\"text-align: right;\">\n      <th></th>\n      <th>query</th>\n      <th>BiGG_ID</th>\n      <th>hit</th>\n      <th>mol_weight</th>\n      <th>conc_ppm_Bact_Peptone_L37</th>\n      <th>conc_ppm_Proteose_Peptone_L85</th>\n      <th>conc_ppm_soya_peptone_L44</th>\n      <th>conc_ppm_yeast_extract</th>\n      <th>g/L</th>\n      <th>mmol/L</th>\n    </tr>\n  </thead>\n  <tbody>\n    <tr>\n      <th>0</th>\n      <td>L-cysteate</td>\n      <td>Lcyst(e)</td>\n      <td>Cysteic acid</td>\n      <td>169.15600</td>\n      <td>1509.090909</td>\n      <td>136.363636</td>\n      <td>481.818182</td>\n      <td>690.909091</td>\n      <td>2.818182</td>\n      <td>0.016660</td>\n    </tr>\n    <tr>\n      <th>1</th>\n      <td>L-Cystine</td>\n      <td>Lcystin(e)</td>\n      <td>L-Cystine</td>\n      <td>240.30256</td>\n      <td>1509.090909</td>\n      <td>136.363636</td>\n      <td>481.818182</td>\n      <td>690.909091</td>\n      <td>2.818182</td>\n      <td>0.011728</td>\n    </tr>\n    <tr>\n      <th>2</th>\n      <td>Adenine</td>\n      <td>ade(e)</td>\n      <td>Adenine</td>\n      <td>135.12690</td>\n      <td>3310.105909</td>\n      <td>4216.321182</td>\n      <td>2302.393182</td>\n      <td>3107.021636</td>\n      <td>12.935842</td>\n      <td>0.095731</td>\n    </tr>\n    <tr>\n      <th>3</th>\n      <td>D-Alanine</td>\n      <td>ala_D(e)</td>\n      <td>D-Alanine</td>\n      <td>89.09322</td>\n      <td>3563.636364</td>\n      <td>3463.636364</td>\n      <td>2609.090909</td>\n      <td>827.272727</td>\n      <td>10.463636</td>\n      <td>0.117446</td>\n    </tr>\n    <tr>\n      <th>4</th>\n      <td>L-Alanine</td>\n      <td>ala_L(e)</td>\n      <td>L-Alanine</td>\n      <td>89.09322</td>\n      <td>3563.636364</td>\n      <td>3463.636364</td>\n      <td>2609.090909</td>\n      <td>827.272727</td>\n      <td>10.463636</td>\n      <td>0.117446</td>\n    </tr>\n  </tbody>\n</table>\n</div>"
     },
     "metadata": {},
     "execution_count": 210
    }
   ],
   "source": [
    "weights_full['g/L'] = weights_full.iloc[:,4:8].sum(axis=1)/1000\n",
    "weights_full['mmol/L'] = weights_full['g/L']/weights_full['mol_weight']\n",
    "weights_full.head()"
   ]
  },
  {
   "cell_type": "code",
   "execution_count": 216,
   "metadata": {},
   "outputs": [
    {
     "output_type": "execute_result",
     "data": {
      "text/plain": [
       "<Solution 0.493 at 0x7fe4c46a8d00>"
      ],
      "text/html": "<strong><em>Optimal</em> solution with objective value 0.493</strong><br><div>\n<style scoped>\n    .dataframe tbody tr th:only-of-type {\n        vertical-align: middle;\n    }\n\n    .dataframe tbody tr th {\n        vertical-align: top;\n    }\n\n    .dataframe thead th {\n        text-align: right;\n    }\n</style>\n<table border=\"1\" class=\"dataframe\">\n  <thead>\n    <tr style=\"text-align: right;\">\n      <th></th>\n      <th>fluxes</th>\n      <th>reduced_costs</th>\n    </tr>\n  </thead>\n  <tbody>\n    <tr>\n      <th>26DAPLLATi</th>\n      <td>0.210078</td>\n      <td>0.000000e+00</td>\n    </tr>\n    <tr>\n      <th>3HAD100</th>\n      <td>0.510203</td>\n      <td>-7.888609e-31</td>\n    </tr>\n    <tr>\n      <th>3HAD120</th>\n      <td>0.304120</td>\n      <td>-7.888609e-31</td>\n    </tr>\n    <tr>\n      <th>3HAD121</th>\n      <td>0.206083</td>\n      <td>-7.888609e-31</td>\n    </tr>\n    <tr>\n      <th>3HAD140</th>\n      <td>0.290115</td>\n      <td>0.000000e+00</td>\n    </tr>\n    <tr>\n      <th>...</th>\n      <td>...</td>\n      <td>...</td>\n    </tr>\n    <tr>\n      <th>XYLt2</th>\n      <td>0.000000</td>\n      <td>1.239019e-15</td>\n    </tr>\n    <tr>\n      <th>YUMPS</th>\n      <td>0.000000</td>\n      <td>0.000000e+00</td>\n    </tr>\n    <tr>\n      <th>r0502</th>\n      <td>0.000000</td>\n      <td>0.000000e+00</td>\n    </tr>\n    <tr>\n      <th>r0839</th>\n      <td>0.000000</td>\n      <td>2.418830e-14</td>\n    </tr>\n    <tr>\n      <th>sink_hpyr</th>\n      <td>0.000000</td>\n      <td>0.000000e+00</td>\n    </tr>\n  </tbody>\n</table>\n<p>1030 rows × 2 columns</p>\n</div>"
     },
     "metadata": {},
     "execution_count": 216
    }
   ],
   "source": [
    "for id in [\"EX_\"+metab for metab in list(weights_full['BiGG_ID'])]:\n",
    "    root_model.reactions.get_by_id(id).upper_bound = 1000\n",
    "    root_model.reactions.get_by_id(id).lower_bound = weights_full.loc[weights_full[\"BiGG_ID\"] == id.lstrip(\"EX_\"), \"mmol/L\"].values*-100\n",
    "root_model.objective = {root_model.reactions.get_by_id('Biomass_FP'): 1}\n",
    "root_model.optimize()"
   ]
  }
 ]
}