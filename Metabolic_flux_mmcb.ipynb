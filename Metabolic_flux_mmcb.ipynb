{
 "metadata": {
  "language_info": {
   "codemirror_mode": {
    "name": "ipython",
    "version": 3
   },
   "file_extension": ".py",
   "mimetype": "text/x-python",
   "name": "python",
   "nbconvert_exporter": "python",
   "pygments_lexer": "ipython3",
   "version": "3.8.2-final"
  },
  "orig_nbformat": 2,
  "kernelspec": {
   "name": "python3",
   "display_name": "Python 3"
  }
 },
 "nbformat": 4,
 "nbformat_minor": 2,
 "cells": [
  {
   "cell_type": "code",
   "execution_count": 2,
   "metadata": {},
   "outputs": [],
   "source": [
    "#import packages\n",
    "from libchebipy import ChebiEntity\n",
    "import libchebipy\n",
    "import pubchempy as pcp\n",
    "import io\n",
    "import requests\n",
    "import json\n",
    "import cobra\n",
    "import functions\n",
    "from functions import *"
   ]
  },
  {
   "cell_type": "code",
   "execution_count": 3,
   "metadata": {},
   "outputs": [
    {
     "output_type": "stream",
     "name": "stdout",
     "text": [
      "Metabolites :  833\nReactions :  1030\nGenes :  602\nCompartments :  {'c': '', 'e': ''}\nObjective function : \n Maximize\n1.0*Biomass_FP - 1.0*Biomass_FP_reverse_ee33b \n\n"
     ]
    }
   ],
   "source": [
    "model=cobra.io.load_matlab_model('Data/iFpraus_v_1_0.mat')\n",
    "info(model)"
   ]
  },
  {
   "source": [
    "---\n",
    "## mMCB\n",
    "\n",
    "(There are also supplements mentioned in the paper but this is the base medium)\n",
    "* [Bacteriological Peptome (6.5) (Oxoid)](http://www.oxoid.com/UK/blue/prod_detail/prod_detail.asp?pr=LP0037&c=UK&lang=EN): \n",
    "    * Vague, decided to go with polypeptides: <b>polypep</b>\n",
    "    * Nitrogen: <b>n2</b>\n",
    "* [Soy Peptome (5.0) (Oxoid)](http://www.oxoid.com/UK/blue/prod_detail/prod_detail.asp?pr=LP0044&cat=&c=UK&lang=EN) --> another vague one:\n",
    "    * Stachyose: <b>stys</b>\n",
    "    * Raffinose: <b>raffin</b>\n",
    "    * Sucrose: <b>sucr</b>\n",
    "    * Nitrogen: <b>n2</b>\n",
    "* [Yeast Extract (3.0) (VWR International, Darmstadt, Germany)](https://us.vwr.com/store/product/7437401/vwr-life-science-yeast-extract-bacteriological-grade):\n",
    "    * Vitamin B (same logic as RCM):\n",
    "        * 1. Thiamin -> <b>thm</b>\n",
    "        * 2. Riboflavin -> <b>ribflv</b>\n",
    "        * 3. Niacin -> <b>trp__L</b> (made of tryptophan)\n",
    "        * 5. Pantothenic Acid -> <b>pnto__R</b>\n",
    "        * 6. Pyridoxine -> <b>pydxn</b>\n",
    "        * 7. Biotin -> <b>btn</b>\n",
    "        * 9. Folic Acid -> ... can't find anything\n",
    "        * 12. Cobalamin -> <b>b12</b> (or cbl1)\n",
    "* [Tryptone (2.5) (Oxoid)](http://www.oxoid.com/UK/blue/prod_detail/prod_detail.asp?pr=LP0042&c=UK&lang=EN): \n",
    "    * Tryptophan: <b>trp__L</b>\n",
    "* NaCL (1.5) (VWR International, Darmstadt, Germany):\n",
    "    * NaCl: <b>na1, cl</b>\n",
    "* K<sub>2</sub>HPO<sub>4</sub> (1.0) (Merck International, Darmstadt, Germany):\n",
    "    * Potassium: <b>k</b>\n",
    "    * Phosphate: <b>p1</b>\n",
    "    * Hydrogen: <b>h2</b>\n",
    "* KH<sub>2</sub>PO<sub>4</sub> (1.0) (Merck International, Darmstadt, Germany):\n",
    "    * Potassium: <b>k</b>\n",
    "    * Phosphate: <b>p1</b>\n",
    "    * Hydrogen: <b>h2</b>\n",
    "* Na<sub>2</sub>SO<sub>4</sub> (2.0) (VWR):\n",
    "    * Sodium: <b>na1</b>\n",
    "    * Sulfate: <b>so4</b>\n",
    "* MgSO<sub>4</sub>*7H<sub>2</sub>O (1.0) (Merck):\n",
    "    * Magnesium: <b>mg2</b>\n",
    "    * Sulfate: <b>so4</b>\n",
    "* CaCl<sub>2</sub>*2H<sub>2</sub>O (0.1) (Merck):\n",
    "    * Calcium Chloride: <b>ca2, cl</b>\n",
    "* NH<sub>4</sub>Cl (1.0) (Merck):\n",
    "    * Ammonium Chloride: <b>nh4, cl</b>\n",
    "* Cysteine-HCL (0.4) (Merck):\n",
    "    * Cysteine: <b>cys__L</b>\n",
    "    * HCL: <b>h2, cl</b>\n",
    "* NaHCO<sub>3</sub> (0.2) (VWR):\n",
    "    * Sodium: <b>na1</b>\n",
    "    * Bicarbonate: <b>hco3<b>\n",
    "* MnSO<sub>4</sub>*H<sub>2</sub>O (0.05) (VWR):\n",
    "    * Manganese: <b>mn2</b>\n",
    "    * Sulfate: <b>so4</b>\n",
    "* FeSO<sub>4</sub>*7H<sub>2</sub>O (0.005) (Merck):\n",
    "    * Iron: <b>fe</b>\n",
    "    * Sulfate: <b>so4</b>\n",
    "* ZnSO<sub>4</sub>*7H<sub>2</sub>O (0.005) (VWR):\n",
    "    * Zinc: <b>zn2</b>\n",
    "    * Sulfate: <b>so4</b>\n",
    "* Hemin (0.005) (Sigma-Aldrich, Steinheim, Germany):\n",
    "    * ... contains iron\n",
    "* Menadione (0.005) (S-A):\n",
    "    * <b>mndn</b>\n",
    "* Resazurin (0.001) (S-A):\n",
    "    * Fluoro identifier\n",
    "\n"
   ],
   "cell_type": "markdown",
   "metadata": {}
  },
  {
   "source": [
    "| Component                            | Concentration (g/L) |\n",
    "|--------------------------------------|---------------------|\n",
    "| Bacteriological Peptome              | 6.5                 |\n",
    "| Soy Peptome                          | 5.0                 |\n",
    "| Yeast Extract                        | 3.0                 |\n",
    "| Tryptone                             | 2.5                 |\n",
    "| NaCL                                 | 1.5                 |\n",
    "| K<sub>2</sub>PO<sub>4</sub>          | 1.0                 |\n",
    "| KH<sub>2</sub>PO<sub>4</sub>         | 1.0                 |\n",
    "| Na<sub>2</sub>SO<sub>4</sub>         | 2.0                 |\n",
    "| Mg<sub>2</sub>SO<sub>4</sub>         | 1.0                 |\n",
    "| CaCl<sub>2</sub>*2H<sub>2</sub>O     | 0.1                 |\n",
    "| NH<sub>4</sub>Cl                     | 1.0                 |\n",
    "| Cysteine-HCL                         | 0.4                 |\n",
    "| NaHCO<sub>3</sub>                    | 0.2                 |\n",
    "| MnSO<sub>4</sub>*H<sub>2</sub>O      | 0.05                |\n",
    "| FeSOMnSO<sub>4</sub>*7H<sub>2</sub>O | 0.005               |\n",
    "| ZnSO<sub>4</sub>*7H<sub>2</sub>O     | 0.005               |\n",
    "| Hemin                                | 0.005               |\n",
    "| Menadione                            | 0.005               |\n",
    "| Resazurin                            | 0.001               |"
   ],
   "cell_type": "markdown",
   "metadata": {}
  },
  {
   "cell_type": "code",
   "execution_count": 4,
   "metadata": {},
   "outputs": [
    {
     "output_type": "execute_result",
     "data": {
      "text/plain": [
       "          metab        growth\n",
       "42    cps_fp(e)  1.077058e+01\n",
       "64    glyc3p(e)  5.518982e+00\n",
       "119       pi(e)  5.518982e+00\n",
       "110      nac(e)  7.879200e-13\n",
       "141    trp_L(e)  6.209833e-15\n",
       "87         k(e)  3.821436e-15\n",
       "41   cobalt2(e)  3.598136e-15\n",
       "43       cu2(e)  3.598136e-15\n",
       "50       fol(e)  1.340104e-15\n",
       "131    ser_L(e) -2.866077e-15\n",
       "39        cl(e) -2.943929e-15\n",
       "29       btn(e) -7.165192e-15\n",
       "32       ca2(e) -1.528574e-14\n",
       "121   pnto_R(e) -8.216087e-14\n",
       "132      so4(e) -8.598231e-14\n",
       "126     pydx(e) -1.571566e-13\n",
       "106      mg2(e) -1.714438e-13"
      ],
      "text/html": "<div>\n<style scoped>\n    .dataframe tbody tr th:only-of-type {\n        vertical-align: middle;\n    }\n\n    .dataframe tbody tr th {\n        vertical-align: top;\n    }\n\n    .dataframe thead th {\n        text-align: right;\n    }\n</style>\n<table border=\"1\" class=\"dataframe\">\n  <thead>\n    <tr style=\"text-align: right;\">\n      <th></th>\n      <th>metab</th>\n      <th>growth</th>\n    </tr>\n  </thead>\n  <tbody>\n    <tr>\n      <th>42</th>\n      <td>cps_fp(e)</td>\n      <td>1.077058e+01</td>\n    </tr>\n    <tr>\n      <th>64</th>\n      <td>glyc3p(e)</td>\n      <td>5.518982e+00</td>\n    </tr>\n    <tr>\n      <th>119</th>\n      <td>pi(e)</td>\n      <td>5.518982e+00</td>\n    </tr>\n    <tr>\n      <th>110</th>\n      <td>nac(e)</td>\n      <td>7.879200e-13</td>\n    </tr>\n    <tr>\n      <th>141</th>\n      <td>trp_L(e)</td>\n      <td>6.209833e-15</td>\n    </tr>\n    <tr>\n      <th>87</th>\n      <td>k(e)</td>\n      <td>3.821436e-15</td>\n    </tr>\n    <tr>\n      <th>41</th>\n      <td>cobalt2(e)</td>\n      <td>3.598136e-15</td>\n    </tr>\n    <tr>\n      <th>43</th>\n      <td>cu2(e)</td>\n      <td>3.598136e-15</td>\n    </tr>\n    <tr>\n      <th>50</th>\n      <td>fol(e)</td>\n      <td>1.340104e-15</td>\n    </tr>\n    <tr>\n      <th>131</th>\n      <td>ser_L(e)</td>\n      <td>-2.866077e-15</td>\n    </tr>\n    <tr>\n      <th>39</th>\n      <td>cl(e)</td>\n      <td>-2.943929e-15</td>\n    </tr>\n    <tr>\n      <th>29</th>\n      <td>btn(e)</td>\n      <td>-7.165192e-15</td>\n    </tr>\n    <tr>\n      <th>32</th>\n      <td>ca2(e)</td>\n      <td>-1.528574e-14</td>\n    </tr>\n    <tr>\n      <th>121</th>\n      <td>pnto_R(e)</td>\n      <td>-8.216087e-14</td>\n    </tr>\n    <tr>\n      <th>132</th>\n      <td>so4(e)</td>\n      <td>-8.598231e-14</td>\n    </tr>\n    <tr>\n      <th>126</th>\n      <td>pydx(e)</td>\n      <td>-1.571566e-13</td>\n    </tr>\n    <tr>\n      <th>106</th>\n      <td>mg2(e)</td>\n      <td>-1.714438e-13</td>\n    </tr>\n  </tbody>\n</table>\n</div>"
     },
     "metadata": {},
     "execution_count": 4
    }
   ],
   "source": [
    "# Get medium from model reactions\n",
    "root_model = model.copy()\n",
    "current_medium = [metab.lstrip('EX_') for metab in list(root_model.medium.keys())]\n",
    "\n",
    "# CHeck which metabolites control growth by removing one at a time and seeing the results\n",
    "def growth_stoppers(model, metabolites):\n",
    "    results = {}\n",
    "    for metabolite in metabolites:\n",
    "        metabolites.remove(metabolite.lstrip('EX_'))\n",
    "        test_model = medium(model, metabolites)\n",
    "        results[metabolite.lstrip('EX_')] = test_model.slim_optimize()\n",
    "        metabolites = [metab.lstrip(\"EX_\") for metab in metabolites]\n",
    "        metabolites.append(metabolite.lstrip('EX_'))\n",
    "\n",
    "    import pandas as pd\n",
    "    results_df = pd.DataFrame(results.items(), columns=[\"metab\",\"growth\"]).sort_values('growth', ascending=False)\n",
    "\n",
    "    return results_df\n",
    "\n",
    "growth_check_df = growth_stoppers(root_model, current_medium)\n",
    "\n",
    "# Don't take these out of the medium if you can help it:\n",
    "mandatory = growth_check_df[growth_check_df['growth'] <= 11.03796]\n",
    "mandatory"
   ]
  },
  {
   "cell_type": "code",
   "execution_count": 30,
   "metadata": {},
   "outputs": [
    {
     "output_type": "execute_result",
     "data": {
      "text/plain": [
       "<Reaction EX_ala_D(e) at 0x7f865fd61280>"
      ],
      "text/html": "\n        <table>\n            <tr>\n                <td><strong>Reaction identifier</strong></td><td>EX_ala_D(e)</td>\n            </tr><tr>\n                <td><strong>Name</strong></td><td>D-Alanine exchange</td>\n            </tr><tr>\n                <td><strong>Memory address</strong></td>\n                <td>0x07f865fd61280</td>\n            </tr><tr>\n                <td><strong>Stoichiometry</strong></td>\n                <td>\n                    <p style='text-align:right'>ala-D[e] <=> </p>\n                    <p style='text-align:right'>D-Alanine <=> </p>\n                </td>\n            </tr><tr>\n                <td><strong>GPR</strong></td><td></td>\n            </tr><tr>\n                <td><strong>Lower bound</strong></td><td>[-0.11744593]</td>\n            </tr><tr>\n                <td><strong>Upper bound</strong></td><td>1000</td>\n            </tr>\n        </table>\n        "
     },
     "metadata": {},
     "execution_count": 30
    }
   ],
   "source": [
    "root_model.reactions.get_by_id('EX_ala_D(e)')"
   ]
  },
  {
   "cell_type": "code",
   "execution_count": 5,
   "metadata": {},
   "outputs": [],
   "source": [
    "### Remove metabolites from the medium that can't be justified\n",
    "current_medium.remove('EX_4abz(e)')\n",
    "current_medium.remove('EX_5oxpro(e)')\n",
    "current_medium.remove('EX_ac(e)')\n",
    "current_medium.remove('EX_acasp(e)')\n",
    "current_medium.remove('EX_acgal(e)')\n",
    "current_medium.remove('EX_acgalglcur(e)')\n",
    "current_medium.remove('EX_acgam(e)')\n",
    "current_medium.remove('EX_acglu(e)')\n",
    "current_medium.remove('EX_acnam(e)')\n",
    "current_medium.remove('EX_adocbl(e)')\n",
    "# current_medium.remove('EX_ala_D(e)')\n",
    "# current_medium.remove('EX_alaala(e)')\n",
    "# current_medium.remove('EX_alaasp(e)')\n",
    "# current_medium.remove('EX_alagln(e)')\n",
    "# current_medium.remove('EX_alaglu(e)')\n",
    "# current_medium.remove('EX_alagly(e)')\n",
    "# current_medium.remove('EX_alahis(e)')\n",
    "# current_medium.remove('EX_alaleu(e)')\n",
    "# current_medium.remove('EX_alathr(e)')\n",
    "current_medium.remove('EX_aso3(e)')\n",
    "current_medium.remove('EX_aso4(e)')\n",
    "current_medium.remove('EX_but(e)')\n",
    "current_medium.remove('EX_butso3(e)')\n",
    "current_medium.remove('EX_cd2(e)')\n",
    "# current_medium.remove('EX_cellb(e)')\n",
    "# current_medium.remove('EX_cgly(e)')\n",
    "current_medium.remove('EX_cit(e)')\n",
    "# current_medium.remove('EX_cobalt2(e)') ###\n",
    "# current_medium.remove('EX_cps_fp(e)') ###\n",
    "current_medium.remove('EX_dhor_S(e)')\n",
    "current_medium.remove('EX_ethso3(e)')\n",
    "current_medium.remove('EX_fe3dcit(e)')\n",
    "current_medium.remove('EX_for(e)')\n",
    "current_medium.remove('EX_fru(e)')\n",
    "current_medium.remove('EX_fum(e)')\n",
    "# current_medium.remove('EX_gal(e)')\n",
    "# current_medium.remove('EX_galur(e)')\n",
    "# current_medium.remove('EX_glcur(e)')\n",
    "# current_medium.remove('EX_glyasn(e)')\n",
    "# current_medium.remove('EX_glyasp(e)')\n",
    "# current_medium.remove('EX_glyc3p(e)') ###\n",
    "# current_medium.remove('EX_glyc_R(e)')\n",
    "# current_medium.remove('EX_glygln(e)')\n",
    "# current_medium.remove('EX_glyglu(e)')\n",
    "# current_medium.remove('EX_glygly(e)')\n",
    "# current_medium.remove('EX_glyleu(e)')\n",
    "# current_medium.remove('EX_glymet(e)')\n",
    "# current_medium.remove('EX_glyphe(e)')\n",
    "# current_medium.remove('EX_glypro(e)')\n",
    "# current_medium.remove('EX_glytyr(e)')\n",
    "current_medium.remove('EX_gthox(e)')\n",
    "current_medium.remove('EX_gthrd(e)')\n",
    "# current_medium.remove('EX_h2s(e)')\n",
    "current_medium.remove('EX_hg2(e)')\n",
    "current_medium.remove('EX_his_L(e)')\n",
    "current_medium.remove('EX_hxan(e)')\n",
    "# current_medium.remove('EX_ile_L(e)')\n",
    "current_medium.remove('EX_ins(e)')\n",
    "current_medium.remove('EX_inulin(e)')\n",
    "current_medium.remove('EX_isetac(e)')\n",
    "current_medium.remove('EX_kesto(e)')\n",
    "current_medium.remove('EX_kestopt(e)')\n",
    "current_medium.remove('EX_kestottr(e)')\n",
    "# current_medium.remove('EX_lac_D(e)')\n",
    "# current_medium.remove('EX_lcts(e)')\n",
    "# current_medium.remove('EX_leu_L(e)')\n",
    "# current_medium.remove('EX_leugly(e)')\n",
    "# current_medium.remove('EX_leuleu(e)')\n",
    "# current_medium.remove('EX_lys_L(e)')\n",
    "current_medium.remove('EX_mal_L(e)')\n",
    "# current_medium.remove('EX_malt(e)')\n",
    "# current_medium.remove('EX_meoh(e)')\n",
    "# current_medium.remove('EX_met_D(e)')\n",
    "# current_medium.remove('EX_met_L(e)')\n",
    "# current_medium.remove('EX_metala(e)')\n",
    "# current_medium.remove('EX_metsox_R_L(e)')\n",
    "# current_medium.remove('EX_metsox_S_L(e)')\n",
    "current_medium.remove('EX_mobd(e)')\n",
    "current_medium.remove('EX_mso3(e)')\n",
    "# current_medium.remove('EX_nac(e)') ###\n",
    "current_medium.remove('EX_ncam(e)')\n",
    "current_medium.remove('EX_o2(e)')\n",
    "# current_medium.remove('EX_orn(e)')\n",
    "# current_medium.remove('EX_orot(e)')\n",
    "# current_medium.remove('EX_pb(e)')\n",
    "# current_medium.remove('EX_pect(e)') ###\n",
    "# current_medium.remove('EX_phe_L(e)')\n",
    "current_medium.remove('EX_plac(e)')\n",
    "# current_medium.remove('EX_pro_L(e)')\n",
    "# current_medium.remove('EX_progly(e)')\n",
    "current_medium.remove('EX_ptrc(e)')\n",
    "# current_medium.remove('EX_pydam(e)')\n",
    "# current_medium.remove('EX_pydx(e)') ###\n",
    "current_medium.remove('EX_seln(e)')\n",
    "# current_medium.remove('EX_so4(e)') ###\n",
    "current_medium.remove('EX_spmd(e)')\n",
    "# current_medium.remove('EX_strch1(e)')\n",
    "current_medium.remove('EX_succ(e)')\n",
    "current_medium.remove('EX_sulfac(e)')\n",
    "# current_medium.remove('EX_taur(e)')\n",
    "current_medium.remove('EX_thymd(e)')\n",
    "# current_medium.remove('EX_tyr_L(e)')\n",
    "current_medium.remove('EX_urate(e)')\n",
    "current_medium.remove('EX_urea(e)')\n",
    "# current_medium.remove('EX_val_L(e)')\n",
    "current_medium.remove('EX_xan(e)')\n",
    "current_medium.remove('EX_xyl_D(e)')"
   ]
  },
  {
   "cell_type": "code",
   "execution_count": 6,
   "metadata": {},
   "outputs": [],
   "source": [
    "# Get molar weights from Chebi\n",
    "x=[root_model.reactions.get_by_id(compound_id).name for compound_id in current_medium]\n",
    "x=[compound.rstrip(\"exchange\") for compound in x]\n",
    "\";\".join(x)\n",
    "\n",
    "url = \"http://api.xialab.ca/mapcompounds\"\n",
    "\n",
    "payload = \"{\\n\\t\\\"queryList\\\": \\\"%s;\\\",\\n\\t\\\"inputType\\\": \\\"name\\\"\\n}\" %\";\".join(x)\n",
    "headers = {\n",
    "    'Content-Type': \"application/json\",\n",
    "    'cache-control': \"no-cache\",\n",
    "    }\n",
    "\n",
    "response = requests.request(\"POST\", url, data=payload, headers=headers)\n",
    "\n",
    "dict=json.loads(response.text)\n",
    "mapped_compounds=pd.DataFrame(dict)\n",
    "\n",
    "mol_weight=[]\n",
    "for i in mapped_compounds[\"chebi_id\"]:\n",
    "    try:\n",
    "        x= ChebiEntity(str(i))\n",
    "        mol_weight.append(x.get_mass())\n",
    "    except:\n",
    "        mol_weight.append(\"NA\")\n",
    "        continue\n",
    "\n",
    "mapped_compounds[\"mol_weight\"]=mol_weight\n",
    "mapped_compounds[\"BiGG_ID\"]=[root_model.reactions.get_by_id(compound_id).id.lstrip(\"EX_\") for compound_id in current_medium]\n",
    "weights=mapped_compounds[[\"query\", \"BiGG_ID\", \"hit\", \"mol_weight\"]]\n",
    "# weight: g/mol\n",
    "# flux: mmol/g/hr"
   ]
  },
  {
   "cell_type": "code",
   "execution_count": 7,
   "metadata": {},
   "outputs": [
    {
     "output_type": "execute_result",
     "data": {
      "text/plain": [
       "                                                query    BiGG_ID hit mol_weight\n",
       "26  Capsular polysaccharide (F. prausnitzii, putat...  cps_fp(e)             NA\n",
       "30                                                Fe3     fe3(e)             NA\n",
       "46                  exchange reaction for glycylglyci  glygly(e)             NA\n",
       "49             exchange reaction for glycylphenylalai  glyphe(e)             NA\n",
       "61                  exchange reaction for leucylglyci  leugly(e)             NA\n",
       "79                      exchange reaction for pectins    pect(e)             NA\n",
       "92  starch, structure 1 (1,6-{7[1,4-Glc], 4[1,4-Gl...  strch1(e)             NA"
      ],
      "text/html": "<div>\n<style scoped>\n    .dataframe tbody tr th:only-of-type {\n        vertical-align: middle;\n    }\n\n    .dataframe tbody tr th {\n        vertical-align: top;\n    }\n\n    .dataframe thead th {\n        text-align: right;\n    }\n</style>\n<table border=\"1\" class=\"dataframe\">\n  <thead>\n    <tr style=\"text-align: right;\">\n      <th></th>\n      <th>query</th>\n      <th>BiGG_ID</th>\n      <th>hit</th>\n      <th>mol_weight</th>\n    </tr>\n  </thead>\n  <tbody>\n    <tr>\n      <th>26</th>\n      <td>Capsular polysaccharide (F. prausnitzii, putat...</td>\n      <td>cps_fp(e)</td>\n      <td></td>\n      <td>NA</td>\n    </tr>\n    <tr>\n      <th>30</th>\n      <td>Fe3</td>\n      <td>fe3(e)</td>\n      <td></td>\n      <td>NA</td>\n    </tr>\n    <tr>\n      <th>46</th>\n      <td>exchange reaction for glycylglyci</td>\n      <td>glygly(e)</td>\n      <td></td>\n      <td>NA</td>\n    </tr>\n    <tr>\n      <th>49</th>\n      <td>exchange reaction for glycylphenylalai</td>\n      <td>glyphe(e)</td>\n      <td></td>\n      <td>NA</td>\n    </tr>\n    <tr>\n      <th>61</th>\n      <td>exchange reaction for leucylglyci</td>\n      <td>leugly(e)</td>\n      <td></td>\n      <td>NA</td>\n    </tr>\n    <tr>\n      <th>79</th>\n      <td>exchange reaction for pectins</td>\n      <td>pect(e)</td>\n      <td></td>\n      <td>NA</td>\n    </tr>\n    <tr>\n      <th>92</th>\n      <td>starch, structure 1 (1,6-{7[1,4-Glc], 4[1,4-Gl...</td>\n      <td>strch1(e)</td>\n      <td></td>\n      <td>NA</td>\n    </tr>\n  </tbody>\n</table>\n</div>"
     },
     "metadata": {},
     "execution_count": 7
    }
   ],
   "source": [
    "# Fill in any additional missing weights using Chebi synonyms & CIDs\n",
    "import ssl\n",
    "ssl._create_default_https_context = ssl._create_unverified_context\n",
    "for metab in weights.loc[weights['mol_weight'] == 'NA', 'query']:\n",
    "    try:\n",
    "        cid = pcp.get_synonyms(metab, 'name')[0]['CID']\n",
    "        weights.loc[weights['query'] == metab, 'mol_weight'] = pcp.Compound.from_cid(cid).molecular_weight\n",
    "    except:\n",
    "        pass\n",
    "\n",
    "# Still remaining\n",
    "weights[weights['mol_weight'] == 'NA']"
   ]
  },
  {
   "cell_type": "code",
   "execution_count": 8,
   "metadata": {},
   "outputs": [
    {
     "output_type": "execute_result",
     "data": {
      "text/plain": [
       "Empty DataFrame\n",
       "Columns: [query, BiGG_ID, hit, mol_weight]\n",
       "Index: []"
      ],
      "text/html": "<div>\n<style scoped>\n    .dataframe tbody tr th:only-of-type {\n        vertical-align: middle;\n    }\n\n    .dataframe tbody tr th {\n        vertical-align: top;\n    }\n\n    .dataframe thead th {\n        text-align: right;\n    }\n</style>\n<table border=\"1\" class=\"dataframe\">\n  <thead>\n    <tr style=\"text-align: right;\">\n      <th></th>\n      <th>query</th>\n      <th>BiGG_ID</th>\n      <th>hit</th>\n      <th>mol_weight</th>\n    </tr>\n  </thead>\n  <tbody>\n  </tbody>\n</table>\n</div>"
     },
     "metadata": {},
     "execution_count": 8
    }
   ],
   "source": [
    "### MANUALLY fill these in\n",
    "weights.loc[weights['BiGG_ID'] == 'fe3(e)', 'mol_weight'] = 55.85\n",
    "weights.loc[weights['BiGG_ID'] == 'glygly(e)', 'mol_weight'] = 75.07*2\n",
    "weights.loc[weights['BiGG_ID'] == 'glyphe(e)', 'mol_weight'] = 75.07+165.19\n",
    "weights.loc[weights['BiGG_ID'] == 'leugly(e)', 'mol_weight'] = 75.07+131.17\n",
    "weights.loc[weights['BiGG_ID'] == 'pect(e)', 'mol_weight'] = 194.14\n",
    "weights.loc[weights['BiGG_ID'] == 'strch1(e)', 'mol_weight'] = 359.33\n",
    "weights.loc[weights['BiGG_ID'] == 'cps_fp(e)', 'mol_weight'] = 1000\n",
    "# Cobalt was Co2 somehow???\n",
    "weights.loc[weights['BiGG_ID'] == 'cobalt2(e)', 'mol_weight'] = 129.839\n",
    "\n",
    "# Still remaining\n",
    "weights[weights['mol_weight'] == 'NA']"
   ]
  },
  {
   "cell_type": "code",
   "execution_count": 9,
   "metadata": {},
   "outputs": [],
   "source": [
    "# http://www.oxoid.com/UK/blue/prod_detail/prod_detail.asp?pr=LP0037&c=UK&lang=EN&minfo=Y\n",
    "traces_list = [{'BiGG_ID':'ca2(e)', \"conc_ppm_Bact_Peptone_L37\": 635, \"conc_ppm_Proteose_Peptone_L85\": 200, \"conc_ppm_soya_peptone_L44\": 225, \"conc_ppm_yeast_extract\": 155},\n",
    "{'BiGG_ID':'mg2(e)', \"conc_ppm_Bact_Peptone_L37\": 265, \"conc_ppm_Proteose_Peptone_L85\": 340, \"conc_ppm_soya_peptone_L44\": 1530, \"conc_ppm_yeast_extract\": 205},\n",
    "{'BiGG_ID':'fe(e)', \"conc_ppm_Bact_Peptone_L37\": 22, \"conc_ppm_Proteose_Peptone_L85\": 42, \"conc_ppm_soya_peptone_L44\": 90, \"conc_ppm_yeast_extract\": 52},\n",
    "{'BiGG_ID':'cu2(e)', \"conc_ppm_Bact_Peptone_L37\": 1, \"conc_ppm_Proteose_Peptone_L85\": 10, \"conc_ppm_soya_peptone_L44\": 2, \"conc_ppm_yeast_extract\": 2},\n",
    "{'BiGG_ID':'pb(e)', \"conc_ppm_Bact_Peptone_L37\": 0.4, \"conc_ppm_Proteose_Peptone_L85\": 0.1, \"conc_ppm_soya_peptone_L44\": 0.3, \"conc_ppm_yeast_extract\": 0.7},\n",
    "{'BiGG_ID':'mn2(e)', \"conc_ppm_Bact_Peptone_L37\": 3.4, \"conc_ppm_Proteose_Peptone_L85\": 0.5, \"conc_ppm_soya_peptone_L44\": 1.0, \"conc_ppm_yeast_extract\": 1.3},\n",
    "{'BiGG_ID':'zn2(e)', \"conc_ppm_Bact_Peptone_L37\": 9.2, \"conc_ppm_Proteose_Peptone_L85\": 16, \"conc_ppm_soya_peptone_L44\": 12, \"conc_ppm_yeast_extract\": 94},\n",
    "{'BiGG_ID':'cobalt2(e)', \"conc_ppm_Bact_Peptone_L37\": 0.1, \"conc_ppm_Proteose_Peptone_L85\": 0.2, \"conc_ppm_soya_peptone_L44\": 0.2, \"conc_ppm_yeast_extract\": 3.1},\n",
    "{'BiGG_ID':'cl(e)', \"conc_ppm_Bact_Peptone_L37\": 10000, \"conc_ppm_Proteose_Peptone_L85\": 80000, \"conc_ppm_soya_peptone_L44\": 4000, \"conc_ppm_yeast_extract\": 3000},\n",
    "{'BiGG_ID':'k(e)', \"conc_ppm_Bact_Peptone_L37\": 36000, \"conc_ppm_Proteose_Peptone_L85\": 14000, \"conc_ppm_soya_peptone_L44\": 33000, \"conc_ppm_yeast_extract\": 73000},\n",
    "{'BiGG_ID':'na1(e)', \"conc_ppm_Bact_Peptone_L37\": 10000, \"conc_ppm_Proteose_Peptone_L85\": 80000, \"conc_ppm_soya_peptone_L44\": 4000, \"conc_ppm_yeast_extract\": 3000}]\n",
    "\n",
    "\n",
    "aa_list = [{'BiGG_ID':'ala', \"conc_ppm_Bact_Peptone_L37\": 39200 , \"conc_ppm_Proteose_Peptone_L85\": 38100, \"conc_ppm_soya_peptone_L44\": 28700, \"conc_ppm_yeast_extract\": 9100},\n",
    "{'BiGG_ID':'arg', \"conc_ppm_Bact_Peptone_L37\": 49900, \"conc_ppm_Proteose_Peptone_L85\": 58000, \"conc_ppm_soya_peptone_L44\": 46400, \"conc_ppm_yeast_extract\": 33100},\n",
    "{'BiGG_ID':'asp', \"conc_ppm_Bact_Peptone_L37\": 60600, \"conc_ppm_Proteose_Peptone_L85\": 58500, \"conc_ppm_soya_peptone_L44\": 70600, \"conc_ppm_yeast_extract\": 70700}, \n",
    "{'BiGG_ID':'cys', \"conc_ppm_Bact_Peptone_L37\": 16600, \"conc_ppm_Proteose_Peptone_L85\": 1500, \"conc_ppm_soya_peptone_L44\": 5300, \"conc_ppm_yeast_extract\": 7600},\n",
    "{'BiGG_ID':'glu', \"conc_ppm_Bact_Peptone_L37\": 99300, \"conc_ppm_Proteose_Peptone_L85\": 137800, \"conc_ppm_soya_peptone_L44\": 147100, \"conc_ppm_yeast_extract\": 134900},\n",
    "{'BiGG_ID':'gly', \"conc_ppm_Bact_Peptone_L37\": 77100 , \"conc_ppm_Proteose_Peptone_L85\": 44500, \"conc_ppm_soya_peptone_L44\": 28300, \"conc_ppm_yeast_extract\": 59500},\n",
    "{'BiGG_ID':'ile', \"conc_ppm_Bact_Peptone_L37\": 38100, \"conc_ppm_Proteose_Peptone_L85\": 45800, \"conc_ppm_soya_peptone_L44\": 25100, \"conc_ppm_yeast_extract\": 48100},\n",
    "{'BiGG_ID':'leu', \"conc_ppm_Bact_Peptone_L37\": 37900, \"conc_ppm_Proteose_Peptone_L85\": 60100, \"conc_ppm_soya_peptone_L44\": 43100, \"conc_ppm_yeast_extract\": 60400},\n",
    "{'BiGG_ID':'lys', \"conc_ppm_Bact_Peptone_L37\": 43800, \"conc_ppm_Proteose_Peptone_L85\": 46100, \"conc_ppm_soya_peptone_L44\": 37700, \"conc_ppm_yeast_extract\": 54000},\n",
    "{'BiGG_ID':'met', \"conc_ppm_Bact_Peptone_L37\": 15800, \"conc_ppm_Proteose_Peptone_L85\": 10800, \"conc_ppm_soya_peptone_L44\": 6200, \"conc_ppm_yeast_extract\": 8000},\n",
    "{'BiGG_ID':'phe', \"conc_ppm_Bact_Peptone_L37\": 26000, \"conc_ppm_Proteose_Peptone_L85\": 46600, \"conc_ppm_soya_peptone_L44\": 3800, \"conc_ppm_yeast_extract\": 37800},\n",
    "{'BiGG_ID':'pro', \"conc_ppm_Bact_Peptone_L37\": 58300, \"conc_ppm_Proteose_Peptone_L85\": 59900, \"conc_ppm_soya_peptone_L44\": 34000, \"conc_ppm_yeast_extract\": 8800},\n",
    "{'BiGG_ID':'ser', \"conc_ppm_Bact_Peptone_L37\": 28100, \"conc_ppm_Proteose_Peptone_L85\": 21800, \"conc_ppm_soya_peptone_L44\": 6700, \"conc_ppm_yeast_extract\": 34200},\n",
    "{'BiGG_ID':'thr', \"conc_ppm_Bact_Peptone_L37\": 12500, \"conc_ppm_Proteose_Peptone_L85\": 27500, \"conc_ppm_soya_peptone_L44\": 16800, \"conc_ppm_yeast_extract\": 27300},\n",
    "{'BiGG_ID':'trp', \"conc_ppm_Bact_Peptone_L37\": 6600, \"conc_ppm_Proteose_Peptone_L85\": 7500, \"conc_ppm_soya_peptone_L44\": 6400, \"conc_ppm_yeast_extract\": 8500},\n",
    "{'BiGG_ID':'tyr', \"conc_ppm_Bact_Peptone_L37\": 3900, \"conc_ppm_Proteose_Peptone_L85\": 17700, \"conc_ppm_soya_peptone_L44\": 20900, \"conc_ppm_yeast_extract\": 49500},\n",
    "{'BiGG_ID':'val', \"conc_ppm_Bact_Peptone_L37\": 33300, \"conc_ppm_Proteose_Peptone_L85\": 41100, \"conc_ppm_soya_peptone_L44\": 36500, \"conc_ppm_yeast_extract\": 10000}]\n",
    "\n",
    "medium_trace = pd.DataFrame(traces_list)\n",
    "medium_aa = pd.DataFrame(aa_list)"
   ]
  },
  {
   "cell_type": "code",
   "execution_count": 10,
   "metadata": {},
   "outputs": [
    {
     "output_type": "execute_result",
     "data": {
      "text/plain": [
       "  BiGG_ID  conc_ppm_Bact_Peptone_L37  conc_ppm_Proteose_Peptone_L85  conc_ppm_soya_peptone_L44  conc_ppm_yeast_extract\n",
       "0     ala                      39200                          38100                      28700                    9100\n",
       "1     arg                      49900                          58000                      46400                   33100\n",
       "2     asp                      60600                          58500                      70600                   70700\n",
       "3     cys                      16600                           1500                       5300                    7600\n",
       "4     glu                      99300                         137800                     147100                  134900"
      ],
      "text/html": "<div>\n<style scoped>\n    .dataframe tbody tr th:only-of-type {\n        vertical-align: middle;\n    }\n\n    .dataframe tbody tr th {\n        vertical-align: top;\n    }\n\n    .dataframe thead th {\n        text-align: right;\n    }\n</style>\n<table border=\"1\" class=\"dataframe\">\n  <thead>\n    <tr style=\"text-align: right;\">\n      <th></th>\n      <th>BiGG_ID</th>\n      <th>conc_ppm_Bact_Peptone_L37</th>\n      <th>conc_ppm_Proteose_Peptone_L85</th>\n      <th>conc_ppm_soya_peptone_L44</th>\n      <th>conc_ppm_yeast_extract</th>\n    </tr>\n  </thead>\n  <tbody>\n    <tr>\n      <th>0</th>\n      <td>ala</td>\n      <td>39200</td>\n      <td>38100</td>\n      <td>28700</td>\n      <td>9100</td>\n    </tr>\n    <tr>\n      <th>1</th>\n      <td>arg</td>\n      <td>49900</td>\n      <td>58000</td>\n      <td>46400</td>\n      <td>33100</td>\n    </tr>\n    <tr>\n      <th>2</th>\n      <td>asp</td>\n      <td>60600</td>\n      <td>58500</td>\n      <td>70600</td>\n      <td>70700</td>\n    </tr>\n    <tr>\n      <th>3</th>\n      <td>cys</td>\n      <td>16600</td>\n      <td>1500</td>\n      <td>5300</td>\n      <td>7600</td>\n    </tr>\n    <tr>\n      <th>4</th>\n      <td>glu</td>\n      <td>99300</td>\n      <td>137800</td>\n      <td>147100</td>\n      <td>134900</td>\n    </tr>\n  </tbody>\n</table>\n</div>"
     },
     "metadata": {},
     "execution_count": 10
    }
   ],
   "source": [
    "medium_aa.head()"
   ]
  },
  {
   "cell_type": "code",
   "execution_count": 11,
   "metadata": {},
   "outputs": [
    {
     "output_type": "execute_result",
     "data": {
      "text/plain": [
       "        query     BiGG_ID           hit mol_weight  conc_ppm_Bact_Peptone_L37  conc_ppm_Proteose_Peptone_L85  conc_ppm_soya_peptone_L44  conc_ppm_yeast_extract\n",
       "0  L-cysteate    Lcyst(e)  Cysteic acid    169.156                        NaN                            NaN                        NaN                     NaN\n",
       "1   L-Cystine  Lcystin(e)     L-Cystine    240.303                        NaN                            NaN                        NaN                     NaN\n",
       "2     Adenine      ade(e)       Adenine    135.127                        NaN                            NaN                        NaN                     NaN\n",
       "3   D-Alanine    ala_D(e)     D-Alanine    89.0932                        NaN                            NaN                        NaN                     NaN\n",
       "4   L-Alanine    ala_L(e)     L-Alanine    89.0932                        NaN                            NaN                        NaN                     NaN"
      ],
      "text/html": "<div>\n<style scoped>\n    .dataframe tbody tr th:only-of-type {\n        vertical-align: middle;\n    }\n\n    .dataframe tbody tr th {\n        vertical-align: top;\n    }\n\n    .dataframe thead th {\n        text-align: right;\n    }\n</style>\n<table border=\"1\" class=\"dataframe\">\n  <thead>\n    <tr style=\"text-align: right;\">\n      <th></th>\n      <th>query</th>\n      <th>BiGG_ID</th>\n      <th>hit</th>\n      <th>mol_weight</th>\n      <th>conc_ppm_Bact_Peptone_L37</th>\n      <th>conc_ppm_Proteose_Peptone_L85</th>\n      <th>conc_ppm_soya_peptone_L44</th>\n      <th>conc_ppm_yeast_extract</th>\n    </tr>\n  </thead>\n  <tbody>\n    <tr>\n      <th>0</th>\n      <td>L-cysteate</td>\n      <td>Lcyst(e)</td>\n      <td>Cysteic acid</td>\n      <td>169.156</td>\n      <td>NaN</td>\n      <td>NaN</td>\n      <td>NaN</td>\n      <td>NaN</td>\n    </tr>\n    <tr>\n      <th>1</th>\n      <td>L-Cystine</td>\n      <td>Lcystin(e)</td>\n      <td>L-Cystine</td>\n      <td>240.303</td>\n      <td>NaN</td>\n      <td>NaN</td>\n      <td>NaN</td>\n      <td>NaN</td>\n    </tr>\n    <tr>\n      <th>2</th>\n      <td>Adenine</td>\n      <td>ade(e)</td>\n      <td>Adenine</td>\n      <td>135.127</td>\n      <td>NaN</td>\n      <td>NaN</td>\n      <td>NaN</td>\n      <td>NaN</td>\n    </tr>\n    <tr>\n      <th>3</th>\n      <td>D-Alanine</td>\n      <td>ala_D(e)</td>\n      <td>D-Alanine</td>\n      <td>89.0932</td>\n      <td>NaN</td>\n      <td>NaN</td>\n      <td>NaN</td>\n      <td>NaN</td>\n    </tr>\n    <tr>\n      <th>4</th>\n      <td>L-Alanine</td>\n      <td>ala_L(e)</td>\n      <td>L-Alanine</td>\n      <td>89.0932</td>\n      <td>NaN</td>\n      <td>NaN</td>\n      <td>NaN</td>\n      <td>NaN</td>\n    </tr>\n  </tbody>\n</table>\n</div>"
     },
     "metadata": {},
     "execution_count": 11
    }
   ],
   "source": [
    "\n",
    "weights_and_traces = weights.merge(medium_trace, how=\"left\", on=\"BiGG_ID\")\n",
    "weights_and_traces.head()"
   ]
  },
  {
   "cell_type": "code",
   "execution_count": 31,
   "metadata": {
    "tags": []
   },
   "outputs": [
    {
     "output_type": "execute_result",
     "data": {
      "text/plain": [
       "        query     BiGG_ID           hit  mol_weight  conc_ppm_Bact_Peptone_L37  conc_ppm_Proteose_Peptone_L85  conc_ppm_soya_peptone_L44  conc_ppm_yeast_extract\n",
       "0  L-cysteate    Lcyst(e)  Cysteic acid   169.15600                5533.333333                     500.000000                1766.666667             2533.333333\n",
       "1   L-Cystine  Lcystin(e)     L-Cystine   240.30256                5533.333333                     500.000000                1766.666667             2533.333333\n",
       "2     Adenine      ade(e)       Adenine   135.12690                   0.000000                       0.000000                   0.000000                0.000000\n",
       "3   D-Alanine    ala_D(e)     D-Alanine    89.09322                3563.636364                    3463.636364                2609.090909              827.272727\n",
       "4   L-Alanine    ala_L(e)     L-Alanine    89.09322                3563.636364                    3463.636364                2609.090909              827.272727"
      ],
      "text/html": "<div>\n<style scoped>\n    .dataframe tbody tr th:only-of-type {\n        vertical-align: middle;\n    }\n\n    .dataframe tbody tr th {\n        vertical-align: top;\n    }\n\n    .dataframe thead th {\n        text-align: right;\n    }\n</style>\n<table border=\"1\" class=\"dataframe\">\n  <thead>\n    <tr style=\"text-align: right;\">\n      <th></th>\n      <th>query</th>\n      <th>BiGG_ID</th>\n      <th>hit</th>\n      <th>mol_weight</th>\n      <th>conc_ppm_Bact_Peptone_L37</th>\n      <th>conc_ppm_Proteose_Peptone_L85</th>\n      <th>conc_ppm_soya_peptone_L44</th>\n      <th>conc_ppm_yeast_extract</th>\n    </tr>\n  </thead>\n  <tbody>\n    <tr>\n      <th>0</th>\n      <td>L-cysteate</td>\n      <td>Lcyst(e)</td>\n      <td>Cysteic acid</td>\n      <td>169.15600</td>\n      <td>5533.333333</td>\n      <td>500.000000</td>\n      <td>1766.666667</td>\n      <td>2533.333333</td>\n    </tr>\n    <tr>\n      <th>1</th>\n      <td>L-Cystine</td>\n      <td>Lcystin(e)</td>\n      <td>L-Cystine</td>\n      <td>240.30256</td>\n      <td>5533.333333</td>\n      <td>500.000000</td>\n      <td>1766.666667</td>\n      <td>2533.333333</td>\n    </tr>\n    <tr>\n      <th>2</th>\n      <td>Adenine</td>\n      <td>ade(e)</td>\n      <td>Adenine</td>\n      <td>135.12690</td>\n      <td>0.000000</td>\n      <td>0.000000</td>\n      <td>0.000000</td>\n      <td>0.000000</td>\n    </tr>\n    <tr>\n      <th>3</th>\n      <td>D-Alanine</td>\n      <td>ala_D(e)</td>\n      <td>D-Alanine</td>\n      <td>89.09322</td>\n      <td>3563.636364</td>\n      <td>3463.636364</td>\n      <td>2609.090909</td>\n      <td>827.272727</td>\n    </tr>\n    <tr>\n      <th>4</th>\n      <td>L-Alanine</td>\n      <td>ala_L(e)</td>\n      <td>L-Alanine</td>\n      <td>89.09322</td>\n      <td>3563.636364</td>\n      <td>3463.636364</td>\n      <td>2609.090909</td>\n      <td>827.272727</td>\n    </tr>\n  </tbody>\n</table>\n</div>"
     },
     "metadata": {},
     "execution_count": 31
    }
   ],
   "source": [
    "\n",
    "def split_concentration_proportions(df_to_update, df_aa_medium):\n",
    "    # Usage: splits concentrations in each medium for each amino acid and assigns an equal proportion to related amino acids\n",
    "    # ie. cys__L = 16600; cyscys = NA --> cys__L = 8300, cyscys = 8300\n",
    "    df_to_update = df_to_update.fillna(0)\n",
    "\n",
    "    for aa in df_aa_medium[\"BiGG_ID\"].values:\n",
    "        aa_list = df_to_update.loc[df_to_update[\"BiGG_ID\"].str.contains(aa), \"BiGG_ID\"]\n",
    "        aa_count = len(aa_list)\n",
    "\n",
    "        for media in df_aa_medium.columns[1:]:\n",
    "            proportion = (df_aa_medium.loc[df_aa_medium[\"BiGG_ID\"] == aa, media]/aa_count).values[0]\n",
    "            for related_aa in aa_list:\n",
    "                df_to_update.loc[df_to_update[\"BiGG_ID\"]==related_aa, media] += proportion\n",
    "    return df_to_update\n",
    "\n",
    "weights_full = split_concentration_proportions(weights_and_traces, medium_aa)\n",
    "weights_full.head()"
   ]
  },
  {
   "cell_type": "code",
   "execution_count": 18,
   "metadata": {},
   "outputs": [
    {
     "output_type": "execute_result",
     "data": {
      "text/plain": [
       "44"
      ]
     },
     "metadata": {},
     "execution_count": 18
    }
   ],
   "source": [
    "# Assign proportions based on mmcb medium concentrations:\n",
    "# | Component                            | Concentration (g/L) | BiGG Metabolites                                |\n",
    "# |--------------------------------------|---------------------|-------------------------------------------------|\n",
    "# | Bacteriological Peptome              | 6.5                 | polypep, n2                                     |\n",
    "# | Soy Peptome                          | 5.0                 | stys, raffin, sucr, n2                          |\n",
    "# | Yeast Extract                        | 3.0                 | thm, ribflv, trp\\__L, pnto\\__R, pydxn, btn, b12 |\n",
    "# | Tryptone                             | 2.5                 | trp\\__L                                         |\n",
    "# | NaCL                                 | 1.5                 | na1, cl                                         |\n",
    "# | K<sub>2</sub>PO<sub>4</sub>          | 1.0                 | k, p1, h2                                       |\n",
    "# | KH<sub>2</sub>PO<sub>4</sub>         | 1.0                 | k, p1, h2                                       |\n",
    "# | Na<sub>2</sub>SO<sub>4</sub>         | 2.0                 | na1, so4                                        |\n",
    "# | Mg<sub>2</sub>SO<sub>4</sub>         | 1.0                 | mg2, so4                                        |\n",
    "# | CaCl<sub>2</sub>*2H<sub>2</sub>O     | 0.1                 | ca2, cl                                         |\n",
    "# | NH<sub>4</sub>Cl                     | 1.0                 | nh4, cl                                         |\n",
    "# | Cysteine-HCL                         | 0.4                 | cys__L, h2, cl                                  |\n",
    "# | NaHCO<sub>3</sub>                    | 0.2                 | na1, hco3                                       |\n",
    "# | MnSO<sub>4</sub>*H<sub>2</sub>O      | 0.05                | mn2, so4                                        |\n",
    "# | FeSOMnSO<sub>4</sub>*7H<sub>2</sub>O | 0.005               | fe, so4                                         |\n",
    "# | ZnSO<sub>4</sub>*7H<sub>2</sub>O     | 0.005               | zn2, so4                                        |\n",
    "# | Hemin                                | 0.005               |                                                 |\n",
    "# | Menadione                            | 0.005               | mndn                                            |\n",
    "# | Resazurin                            | 0.001               |                                                 |\n",
    "\n",
    "# weights_full\n",
    "peptone_columns = {\"conc_ppm_Bact_Peptone_L37\": 6.233, \"conc_ppm_Proteose_Peptone_L85\": 0, \"conc_ppm_soya_peptone_L44\": 5.233, \"conc_ppm_yeast_extract\": 3.233}\n",
    "trp_update = {'trp': 2.5}\n",
    "supplements = {'na1(e)': 1.26, 'cl(e)': 0.566, 'pi(e)': 0.66, 'k(e)': 0.66, 'h(e)': 0.66, 'so4(e)': 0.66, 'mg2(e)': 0.66, 'ca2(e)': 0.033, 'nh4(e)': 1.0, 'fe2(e)': 0.000625, 'fe3(e)': 0.000625}\n",
    "\n",
    "# Scale by peptone columns\n",
    "# Update trp metabolites\n",
    "# Add supplements"
   ]
  },
  {
   "cell_type": "code",
   "execution_count": 19,
   "metadata": {
    "tags": []
   },
   "outputs": [],
   "source": [
    "# Still lots of 0's...\n",
    "len(weights_full[weights_full[\"conc_ppm_Bact_Peptone_L37\"] == 0])\n",
    "# Try the avg concentrations of the rest?\n",
    "for media in weights_full.columns[4:]:\n",
    "    fill_value = weights_full[media].mean()\n",
    "    weights_full[media] = weights_full[media].replace(0, fill_value)\n"
   ]
  },
  {
   "cell_type": "code",
   "execution_count": 20,
   "metadata": {},
   "outputs": [
    {
     "output_type": "execute_result",
     "data": {
      "text/plain": [
       "        query     BiGG_ID           hit  mol_weight  conc_ppm_Bact_Peptone_L37  conc_ppm_Proteose_Peptone_L85  conc_ppm_soya_peptone_L44  conc_ppm_yeast_extract        g/L    mmol/L\n",
       "0  L-cysteate    Lcyst(e)  Cysteic acid   169.15600                5533.333333                     500.000000                1766.666667             2533.333333  10.333333  0.061088\n",
       "1   L-Cystine  Lcystin(e)     L-Cystine   240.30256                5533.333333                     500.000000                1766.666667             2533.333333  10.333333  0.043001\n",
       "2     Adenine      ade(e)       Adenine   135.12690                7039.015000                    8978.503000                6063.575000             7408.658000  29.489751  0.218237\n",
       "3   D-Alanine    ala_D(e)     D-Alanine    89.09322                3563.636364                    3463.636364                2609.090909              827.272727  10.463636  0.117446\n",
       "4   L-Alanine    ala_L(e)     L-Alanine    89.09322                3563.636364                    3463.636364                2609.090909              827.272727  10.463636  0.117446"
      ],
      "text/html": "<div>\n<style scoped>\n    .dataframe tbody tr th:only-of-type {\n        vertical-align: middle;\n    }\n\n    .dataframe tbody tr th {\n        vertical-align: top;\n    }\n\n    .dataframe thead th {\n        text-align: right;\n    }\n</style>\n<table border=\"1\" class=\"dataframe\">\n  <thead>\n    <tr style=\"text-align: right;\">\n      <th></th>\n      <th>query</th>\n      <th>BiGG_ID</th>\n      <th>hit</th>\n      <th>mol_weight</th>\n      <th>conc_ppm_Bact_Peptone_L37</th>\n      <th>conc_ppm_Proteose_Peptone_L85</th>\n      <th>conc_ppm_soya_peptone_L44</th>\n      <th>conc_ppm_yeast_extract</th>\n      <th>g/L</th>\n      <th>mmol/L</th>\n    </tr>\n  </thead>\n  <tbody>\n    <tr>\n      <th>0</th>\n      <td>L-cysteate</td>\n      <td>Lcyst(e)</td>\n      <td>Cysteic acid</td>\n      <td>169.15600</td>\n      <td>5533.333333</td>\n      <td>500.000000</td>\n      <td>1766.666667</td>\n      <td>2533.333333</td>\n      <td>10.333333</td>\n      <td>0.061088</td>\n    </tr>\n    <tr>\n      <th>1</th>\n      <td>L-Cystine</td>\n      <td>Lcystin(e)</td>\n      <td>L-Cystine</td>\n      <td>240.30256</td>\n      <td>5533.333333</td>\n      <td>500.000000</td>\n      <td>1766.666667</td>\n      <td>2533.333333</td>\n      <td>10.333333</td>\n      <td>0.043001</td>\n    </tr>\n    <tr>\n      <th>2</th>\n      <td>Adenine</td>\n      <td>ade(e)</td>\n      <td>Adenine</td>\n      <td>135.12690</td>\n      <td>7039.015000</td>\n      <td>8978.503000</td>\n      <td>6063.575000</td>\n      <td>7408.658000</td>\n      <td>29.489751</td>\n      <td>0.218237</td>\n    </tr>\n    <tr>\n      <th>3</th>\n      <td>D-Alanine</td>\n      <td>ala_D(e)</td>\n      <td>D-Alanine</td>\n      <td>89.09322</td>\n      <td>3563.636364</td>\n      <td>3463.636364</td>\n      <td>2609.090909</td>\n      <td>827.272727</td>\n      <td>10.463636</td>\n      <td>0.117446</td>\n    </tr>\n    <tr>\n      <th>4</th>\n      <td>L-Alanine</td>\n      <td>ala_L(e)</td>\n      <td>L-Alanine</td>\n      <td>89.09322</td>\n      <td>3563.636364</td>\n      <td>3463.636364</td>\n      <td>2609.090909</td>\n      <td>827.272727</td>\n      <td>10.463636</td>\n      <td>0.117446</td>\n    </tr>\n  </tbody>\n</table>\n</div>"
     },
     "metadata": {},
     "execution_count": 20
    }
   ],
   "source": [
    "weights_full['g/L'] = weights_full.iloc[:,4:8].sum(axis=1)/1000\n",
    "weights_full['mmol/L'] = weights_full['g/L']/weights_full['mol_weight']\n",
    "weights_full.head()"
   ]
  },
  {
   "cell_type": "code",
   "execution_count": 24,
   "metadata": {},
   "outputs": [
    {
     "output_type": "execute_result",
     "data": {
      "text/plain": [
       "000000                   58000.000000               46400.000000            33100.000000  187.400000  1.075769\n",
       "15                                       L-Asparagine       asn_L(e)          L-Asparagine   132.11800                7039.015000                    8978.503000                6063.575000             7408.658000   29.489751  0.223208\n",
       "16                                        L-Aspartate       asp_L(e)       L-Aspartic acid   133.10270               20200.000000                   19500.000000               23533.333333            23566.666667   86.800000  0.652128\n",
       "17                                             Biotin         btn(e)                Biotin   244.31172                7039.015000                    8978.503000                6063.575000             7408.658000   29.489751  0.120705\n",
       "18                                            Calcium         ca2(e)               Calcium    40.07800                 635.000000                     200.000000                 225.000000              155.000000    1.215000  0.030316\n",
       "19                                       Cob(I)alamin        cbl1(e)          Cob(I)alamin  1330.35570                7039.015000                    8978.503000                6063.575000             7408.658000   29.489751  0.022167\n",
       "20                                      Cob(II)alamin        cbl2(e)         Cob(II)alamin  1329.34780                7039.015000                    8978.503000                6063.575000             7408.658000   29.489751  0.022184\n",
       "21                                         Cellobiose       cellb(e)            Cellobiose   342.29648                7039.015000                    8978.503000                6063.575000             7408.658000   29.489751  0.086153\n",
       "22                                            Cys-Gly        cgly(e)      Cysteinylglycine   178.21058                4535.294118                    2617.647059                1664.705882             3500.000000   12.317647  0.069118\n",
       "23                                           Chloride          cl(e)          Chloride ion    35.45270               10000.000000                   80000.000000                4000.000000             3000.000000   97.000000  2.736040\n",
       "24                                                CO2         co2(e)        Carbon dioxide    44.01000                7039.015000                    8978.503000                6063.575000             7408.658000   29.489751  0.670069\n",
       "25                                                Co2     cobalt2(e)        Carbon dioxide   129.83900                   0.100000                       0.200000                   0.200000                3.100000    0.003600  0.000028\n",
       "26  Capsular polysaccharide (F. prausnitzii, putat...      cps_fp(e)                        1000.00000                7039.015000                    8978.503000                6063.575000             7408.658000   29.489751  0.029490\n",
       "27                                                Cu2         cu2(e)                         127.09000                   1.000000                      10.000000                   2.000000                2.000000    0.015000  0.000118\n",
       "28                                         L-Cysteine       cys_L(e)            L-Cysteine   121.15800                5533.333333                     500.000000                1766.666667             2533.333333   10.333333  0.085288\n",
       "29                                                Fe2         fe2(e)                          55.84000                7039.015000                    8978.503000                6063.575000             7408.658000   29.489751  0.528112\n",
       "30                                                Fe3         fe3(e)                          55.85000                7039.015000                    8978.503000                6063.575000             7408.658000   29.489751  0.528017\n",
       "31                                             Folate         fol(e)            Folic acid   441.39750                7039.015000                    8978.503000                6063.575000             7408.658000   29.489751  0.066810\n",
       "32                                        D-Galactose         gal(e)           D-Galactose   180.15590                7039.015000                    8978.503000                6063.575000             7408.658000   29.489751  0.163690\n",
       "33                                    D-Galacturonate       galur(e)       D-Galacturonate   194.14000                7039.015000                    8978.503000                6063.575000             7408.658000   29.489751  0.151899\n",
       "34                                      D-Glucosamine         gam(e)           Glucosamine   179.17116                7039.015000                    8978.503000                6063.575000             7408.658000   29.489751  0.164590\n",
       "35                                          D-Glucose         glc(e)             D-Glucose   180.15588                7039.015000                    8978.503000                6063.575000             7408.658000   29.489751  0.163690\n",
       "36                                      D-Glucuronate       glcur(e)     D-Glucuronic acid   194.13940                7039.015000                    8978.503000                6063.575000             7408.658000   29.489751  0.151900\n",
       "37                                        L-Glutamine       gln_L(e)           L-Glutamine   146.14458                7039.015000                    8978.503000                6063.575000             7408.658000   29.489751  0.201785\n",
       "38                                        L-Glutamate       glu_L(e)       L-Glutamic acid   147.12930               33100.000000                   45933.333333               49033.333333            44966.666667  173.033333  1.176063\n",
       "39                                            Glycine         gly(e)               Glycine    75.06664                4535.294118                    2617.647059                1664.705882             3500.000000   12.317647  0.164089\n",
       "40                                Glycyl-L-asparagine      glyasn(e)                         189.17000                4535.294118                    2617.647059                1664.705882             3500.000000   12.317647  0.065114\n",
       "41                                 Glycyl-L-aspartate      glyasp(e)                         189.15000               24735.294118                   22117.647059               25198.039216            27066.666667   99.117647  0.524016\n",
       "42                               Glycerol 3-phosphate      glyc3p(e)  Glycerol 3-phosphate   172.07372                4535.294118                    2617.647059                1664.705882             3500.000000   12.317647  0.071584\n",
       "43                                      (R)-Glycerate      glyc_R(e)         Glyceric acid   106.07734                4535.294118                    2617.647059                1664.705882             3500.000000   12.317647  0.116119\n",
       "44                                 Glycyl-L-glutamine      glygln(e)                         203.20000                4535.294118                    2617.647059                1664.705882             3500.000000   12.317647  0.060618\n",
       "45                                 Glycyl-L-glutamate      glyglu(e)                         203.17000               37635.294118                   48550.980392               50698.039216            48466.666667  185.350980  0.912295\n",
       "46                  exchange reaction for glycylglyci      glygly(e)                         150.14000                4535.294118                    2617.647059                1664.705882             3500.000000   12.317647  0.082041\n",
       "47                                      Glycylleucine      glyleu(e)         Glycylleucine   188.22420               12115.294118                   14637.647059               10284.705882            15580.000000   52.617647  0.279548\n",
       "48                                Glycyl-L-methionine      glymet(e)                         206.27000                7168.627451                    4417.647059                2698.039216             4833.333333   19.117647  0.092683\n",
       "49             exchange reaction for glycylphenylalai      glyphe(e)                         240.26000               17535.294118                   25917.647059                3564.705882            22400.000000   69.417647  0.288927\n",
       "50                                      Glycylproline      glypro(e)         Glycylproline   172.18000               23968.627451                   22584.313725               12998.039216             6433.333333   65.984314  0.383229\n",
       "51                                  Glycyl-L-tyrosine      glytyr(e)       Glycyl-Tyrosine   238.23990                6485.294118                   11467.647059               12114.705882            28250.000000   58.317647  0.244785\n",
       "52                                            Guanine         gua(e)               Guanine   151.13000                7039.015000                    8978.503000                6063.575000             7408.658000   29.489751  0.195128\n",
       "53                                                  H           h(e)           L-Histidine   155.15468                7039.015000                    8978.503000                6063.575000             7408.658000   29.489751  0.190067\n",
       "54                                                H2O         h2o(e)                 Water    18.01530                7039.015000                    8978.503000                6063.575000             7408.658000   29.489751  1.636928\n",
       "55                                   Hydrogen sulfide         h2s(e)      Hydrogen sulfide    34.08188                7039.015000                    8978.503000                6063.575000             7408.658000   29.489751  0.865262\n",
       "56                                       L-Isoleucine       ile_L(e)          L-Isoleucine   131.17500               38100.000000                   45800.000000               25100.000000            48100.000000  157.100000  1.197637\n",
       "57                                                  K           k(e)              L-Lysine   146.18764               36000.000000                   14000.000000               33000.000000            73000.000000  156.000000  1.067122\n",
       "58                                          D-lactate       lac_D(e)         L-Lactic acid    90.07794                7039.015000                    8978.503000                6063.575000             7408.658000   29.489751  0.327380\n",
       "59                                            Lactose        lcts(e)               Lactose   342.30000                7039.015000                    8978.503000                6063.575000             7408.658000   29.489751  0.086152\n",
       "60                                          L-Leucine       leu_L(e)             L-Leucine   131.17296                7580.000000                   12020.000000                8620.000000            12080.000000   40.300000  0.307228\n",
       "61                  exchange reaction for leucylglyci      leugly(e)                         206.24000               12115.294118                   14637.647059               10284.705882            15580.000000   52.617647  0.255128\n",
       "62                                      Leucylleucine      leuleu(e)        Leucyl-Leucine   244.33100                7580.000000                   12020.000000                8620.000000            12080.000000   40.300000  0.164940\n",
       "63                                           L-Lysine       lys_L(e)              L-Lysine   146.18764               43800.000000                   46100.000000               37700.000000            54000.000000  181.600000  1.242239\n",
       "64                                            Maltose        malt(e)               Maltose   342.30000                7039.015000                    8978.503000                6063.575000             7408.658000   29.489751  0.086152\n",
       "65                                          D-Mannose         man(e)             D-Mannose   180.15590                7039.015000                    8978.503000                6063.575000             7408.658000   29.489751  0.163690\n",
       "66                                           methanol        meoh(e)              Methanol    32.04186                7039.015000                    8978.503000                6063.575000             7408.658000   29.489751  0.920351\n",
       "67                                       D-Methionine       met_D(e)          D-Methionine   149.21238                2633.333333                    1800.000000                1033.333333             1333.333333    6.800000  0.045573\n",
       "68                                       L-Methionine       met_L(e)          L-Methionine   149.21238                2633.333333                    1800.000000                1033.333333             1333.333333    6.800000  0.045573\n",
       "69                              L-methionyl-L-alanine      metala(e)     Methionyl-Alanine   220.29000                6196.969697                    5263.636364                3642.424242             2160.606061   17.263636  0.078368\n",
       "70                           L-methionine-R-sulfoxide  metsox_R_L(e)                         165.21000                2633.333333                    1800.000000                1033.333333             1333.333333    6.800000  0.041160\n",
       "71                               L-Methionine S-oxide  metsox_S_L(e)  L-Methionine S-oxide   165.21178                2633.333333                    1800.000000                1033.333333             1333.333333    6.800000  0.041159\n",
       "72                                                 Mg         mg2(e)                          24.30500                 265.000000                     340.000000                1530.000000              205.000000    2.340000  0.096276\n",
       "73                                             Sodium         na1(e)                Sodium    22.98977               10000.000000                   80000.000000                4000.000000             3000.000000   97.000000  4.219268\n",
       "74                                         Nicotinate         nac(e)        Nicotinic acid   123.10944                7039.015000                    8978.503000                6063.575000             7408.658000   29.489751  0.239541\n",
       "75                                            Ammonia         nh4(e)               Ammonia    17.03056                7039.015000                    8978.503000                6063.575000             7408.658000   29.489751  1.731578\n",
       "76                                          Ornithine         orn(e)             Ornithine   132.16106                7039.015000                    8978.503000                6063.575000             7408.658000   29.489751  0.223135\n",
       "77                                            Orotate        orot(e)           Orotic acid   156.09630                7039.015000                    8978.503000                6063.575000             7408.658000   29.489751  0.188920\n",
       "78                                               Lead          pb(e)                  Lead   207.20000                   0.400000                       0.100000                   0.300000                0.700000    0.001500  0.000007\n",
       "79                      exchange reaction for pectins        pect(e)                         194.14000                7039.015000                    8978.503000                6063.575000             7408.658000   29.489751  0.151899\n",
       "80                                    L-Phenylalanine       phe_L(e)       L-Phenylalanine   165.18918               13000.000000                   23300.000000                1900.000000            18900.000000   57.100000  0.345664\n",
       "81                                          Phosphate          pi(e)             Phosphate    97.99520                7039.015000                    8978.503000                6063.575000             7408.658000   29.489751  0.300931\n",
       "82                                   (R)-Pantothenate      pnto_R(e)      Pantothenic acid   219.23502                7039.015000                    8978.503000                6063.575000             7408.658000   29.489751  0.134512\n",
       "83                                          L-Proline       pro_L(e)             L-Proline   115.13050               19433.333333                   19966.666667               11333.333333             2933.333333   53.666667  0.466138\n",
       "84                                  L-Prolinylglycine      progly(e)                         174.20000               23968.627451                   22584.313725               12998.039216             6433.333333   65.984314  0.378785\n",
       "85                                       Pyridoxamine       pydam(e)          Pyridoxamine   168.19316                7039.015000                    8978.503000                6063.575000             7408.658000   29.489751  0.175333\n",
       "86                                          Pyridoxal        pydx(e)             Pyridoxal   167.16200                7039.015000                    8978.503000                6063.575000             7408.658000   29.489751  0.176414\n",
       "87                                         Pyridoxine       pydxn(e)            Pyridoxine   169.17788                7039.015000                    8978.503000                6063.575000             7408.658000   29.489751  0.174312\n",
       "88                                 Reduced riboflavin     rbflvrd(e)    Riboflavin reduced   378.40000                7039.015000                    8978.503000                6063.575000             7408.658000   29.489751  0.077933\n",
       "89                                         Riboflavin      ribflv(e)            Riboflavin   376.36390                7039.015000                    8978.503000                6063.575000             7408.658000   29.489751  0.078354\n",
       "90                                           L-Serine       ser_L(e)              L-Serine   105.09262               28100.000000                   21800.000000                6700.000000            34200.000000   90.800000  0.864000\n",
       "91                                            Sulfate         so4(e)               Sulfate    98.07948                7039.015000                    8978.503000                6063.575000             7408.658000   29.489751  0.300672\n",
       "92  starch, structure 1 (1,6-{7[1,4-Glc], 4[1,4-Gl...      strch1(e)                         359.33000                7039.015000                    8978.503000                6063.575000             7408.658000   29.489751  0.082069\n",
       "93                                            Taurine        taur(e)               Taurine   125.14800                7039.015000                    8978.503000                6063.575000             7408.658000   29.489751  0.235639\n",
       "94                                            Thiamin         thm(e)              Thiamine   265.35574                7039.015000                    8978.503000                6063.575000             7408.658000   29.489751  0.111133\n",
       "95                                        L-Threonine       thr_L(e)           L-Threonine   119.11920                6250.000000                   13750.000000                8400.000000            13650.000000   42.050000  0.353008\n",
       "96                                       L-Tryptophan       trp_L(e)          L-Tryptophan   204.22526                6600.000000                    7500.000000                6400.000000             8500.000000   29.000000  0.142000\n",
       "97                                         L-Tyrosine       tyr_L(e)            L-Tyrosine   181.18858                1950.000000                    8850.000000               10450.000000            24750.000000   46.000000  0.253879\n",
       "98                                             Uracil         ura(e)                Uracil   112.08684                7039.015000                    8978.503000                6063.575000             7408.658000   29.489751  0.263097\n",
       "99                                           L-Valine       val_L(e)              L-Valine   117.14638               33300.000000                   41100.000000               36500.000000            10000.000000  120.900000  1.032042"
      ],
      "text/html": "<div>\n<style scoped>\n    .dataframe tbody tr th:only-of-type {\n        vertical-align: middle;\n    }\n\n    .dataframe tbody tr th {\n        vertical-align: top;\n    }\n\n    .dataframe thead th {\n        text-align: right;\n    }\n</style>\n<table border=\"1\" class=\"dataframe\">\n  <thead>\n    <tr style=\"text-align: right;\">\n      <th></th>\n      <th>query</th>\n      <th>BiGG_ID</th>\n      <th>hit</th>\n      <th>mol_weight</th>\n      <th>conc_ppm_Bact_Peptone_L37</th>\n      <th>conc_ppm_Proteose_Peptone_L85</th>\n      <th>conc_ppm_soya_peptone_L44</th>\n      <th>conc_ppm_yeast_extract</th>\n      <th>g/L</th>\n      <th>mmol/L</th>\n    </tr>\n  </thead>\n  <tbody>\n    <tr>\n      <th>0</th>\n      <td>L-cysteate</td>\n      <td>Lcyst(e)</td>\n      <td>Cysteic acid</td>\n      <td>169.15600</td>\n      <td>5533.333333</td>\n      <td>500.000000</td>\n      <td>1766.666667</td>\n      <td>2533.333333</td>\n      <td>10.333333</td>\n      <td>0.061088</td>\n    </tr>\n    <tr>\n      <th>1</th>\n      <td>L-Cystine</td>\n      <td>Lcystin(e)</td>\n      <td>L-Cystine</td>\n      <td>240.30256</td>\n      <td>5533.333333</td>\n      <td>500.000000</td>\n      <td>1766.666667</td>\n      <td>2533.333333</td>\n      <td>10.333333</td>\n      <td>0.043001</td>\n    </tr>\n    <tr>\n      <th>2</th>\n      <td>Adenine</td>\n      <td>ade(e)</td>\n      <td>Adenine</td>\n      <td>135.12690</td>\n      <td>7039.015000</td>\n      <td>8978.503000</td>\n      <td>6063.575000</td>\n      <td>7408.658000</td>\n      <td>29.489751</td>\n      <td>0.218237</td>\n    </tr>\n    <tr>\n      <th>3</th>\n      <td>D-Alanine</td>\n      <td>ala_D(e)</td>\n      <td>D-Alanine</td>\n      <td>89.09322</td>\n      <td>3563.636364</td>\n      <td>3463.636364</td>\n      <td>2609.090909</td>\n      <td>827.272727</td>\n      <td>10.463636</td>\n      <td>0.117446</td>\n    </tr>\n    <tr>\n      <th>4</th>\n      <td>L-Alanine</td>\n      <td>ala_L(e)</td>\n      <td>L-Alanine</td>\n      <td>89.09322</td>\n      <td>3563.636364</td>\n      <td>3463.636364</td>\n      <td>2609.090909</td>\n      <td>827.272727</td>\n      <td>10.463636</td>\n      <td>0.117446</td>\n    </tr>\n    <tr>\n      <th>5</th>\n      <td>D-Alanyl-D-alanine</td>\n      <td>alaala(e)</td>\n      <td>D-Alanyl-D-alanine</td>\n      <td>160.17116</td>\n      <td>3563.636364</td>\n      <td>3463.636364</td>\n      <td>2609.090909</td>\n      <td>827.272727</td>\n      <td>10.463636</td>\n      <td>0.065328</td>\n    </tr>\n    <tr>\n      <th>6</th>\n      <td>L-alanyl-L-aspartate</td>\n      <td>alaasp(e)</td>\n      <td>Alanyl-Aspartic acid</td>\n      <td>203.17000</td>\n      <td>23763.636364</td>\n      <td>22963.636364</td>\n      <td>26142.424242</td>\n      <td>24393.939394</td>\n      <td>97.263636</td>\n      <td>0.478730</td>\n    </tr>\n    <tr>\n      <th>7</th>\n      <td>L-alanyl-L-glutamine</td>\n      <td>alagln(e)</td>\n      <td>Alanyl-Glutamine</td>\n      <td>217.22000</td>\n      <td>3563.636364</td>\n      <td>3463.636364</td>\n      <td>2609.090909</td>\n      <td>827.272727</td>\n      <td>10.463636</td>\n      <td>0.048171</td>\n    </tr>\n    <tr>\n      <th>8</th>\n      <td>L-alanyl-L-glutamate</td>\n      <td>alaglu(e)</td>\n      <td>Alanyl-Glutamic acid</td>\n      <td>218.21000</td>\n      <td>36663.636364</td>\n      <td>49396.969697</td>\n      <td>51642.424242</td>\n      <td>45793.939394</td>\n      <td>183.496970</td>\n      <td>0.840919</td>\n    </tr>\n    <tr>\n      <th>9</th>\n      <td>L-alanylglycine</td>\n      <td>alagly(e)</td>\n      <td>Alanylglycine</td>\n      <td>146.14000</td>\n      <td>8098.930481</td>\n      <td>6081.283422</td>\n      <td>4273.796791</td>\n      <td>4327.272727</td>\n      <td>22.781283</td>\n      <td>0.155887</td>\n    </tr>\n    <tr>\n      <th>10</th>\n      <td>L-alanyl-L-histidine</td>\n      <td>alahis(e)</td>\n      <td>Alanyl-Histidine</td>\n      <td>226.23000</td>\n      <td>3563.636364</td>\n      <td>3463.636364</td>\n      <td>2609.090909</td>\n      <td>827.272727</td>\n      <td>10.463636</td>\n      <td>0.046252</td>\n    </tr>\n    <tr>\n      <th>11</th>\n      <td>L-alanyl-L-leucine</td>\n      <td>alaleu(e)</td>\n      <td>Alanyl-Leucine</td>\n      <td>202.25000</td>\n      <td>11143.636364</td>\n      <td>15483.636364</td>\n      <td>11229.090909</td>\n      <td>12907.272727</td>\n      <td>50.763636</td>\n      <td>0.250994</td>\n    </tr>\n    <tr>\n      <th>12</th>\n      <td>L-alanyl-L-threonine</td>\n      <td>alathr(e)</td>\n      <td>Alanyl-Threonine</td>\n      <td>190.20000</td>\n      <td>9813.636364</td>\n      <td>17213.636364</td>\n      <td>11009.090909</td>\n      <td>14477.272727</td>\n      <td>52.513636</td>\n      <td>0.276097</td>\n    </tr>\n    <tr>\n      <th>13</th>\n      <td>L-Arabinose</td>\n      <td>arab_L(e)</td>\n      <td>L-Arabinose</td>\n      <td>150.12990</td>\n      <td>7039.015000</td>\n      <td>8978.503000</td>\n      <td>6063.575000</td>\n      <td>7408.658000</td>\n      <td>29.489751</td>\n      <td>0.196428</td>\n    </tr>\n    <tr>\n      <th>14</th>\n      <td>L-Arginine</td>\n      <td>arg_L(e)</td>\n      <td>L-Arginine</td>\n      <td>174.20100</td>\n      <td>49900.000000</td>\n      <td>58000.000000</td>\n      <td>46400.000000</td>\n      <td>33100.000000</td>\n      <td>187.400000</td>\n      <td>1.075769</td>\n    </tr>\n    <tr>\n      <th>15</th>\n      <td>L-Asparagine</td>\n      <td>asn_L(e)</td>\n      <td>L-Asparagine</td>\n      <td>132.11800</td>\n      <td>7039.015000</td>\n      <td>8978.503000</td>\n      <td>6063.575000</td>\n      <td>7408.658000</td>\n      <td>29.489751</td>\n      <td>0.223208</td>\n    </tr>\n    <tr>\n      <th>16</th>\n      <td>L-Aspartate</td>\n      <td>asp_L(e)</td>\n      <td>L-Aspartic acid</td>\n      <td>133.10270</td>\n      <td>20200.000000</td>\n      <td>19500.000000</td>\n      <td>23533.333333</td>\n      <td>23566.666667</td>\n      <td>86.800000</td>\n      <td>0.652128</td>\n    </tr>\n    <tr>\n      <th>17</th>\n      <td>Biotin</td>\n      <td>btn(e)</td>\n      <td>Biotin</td>\n      <td>244.31172</td>\n      <td>7039.015000</td>\n      <td>8978.503000</td>\n      <td>6063.575000</td>\n      <td>7408.658000</td>\n      <td>29.489751</td>\n      <td>0.120705</td>\n    </tr>\n    <tr>\n      <th>18</th>\n      <td>Calcium</td>\n      <td>ca2(e)</td>\n      <td>Calcium</td>\n      <td>40.07800</td>\n      <td>635.000000</td>\n      <td>200.000000</td>\n      <td>225.000000</td>\n      <td>155.000000</td>\n      <td>1.215000</td>\n      <td>0.030316</td>\n    </tr>\n    <tr>\n      <th>19</th>\n      <td>Cob(I)alamin</td>\n      <td>cbl1(e)</td>\n      <td>Cob(I)alamin</td>\n      <td>1330.35570</td>\n      <td>7039.015000</td>\n      <td>8978.503000</td>\n      <td>6063.575000</td>\n      <td>7408.658000</td>\n      <td>29.489751</td>\n      <td>0.022167</td>\n    </tr>\n    <tr>\n      <th>20</th>\n      <td>Cob(II)alamin</td>\n      <td>cbl2(e)</td>\n      <td>Cob(II)alamin</td>\n      <td>1329.34780</td>\n      <td>7039.015000</td>\n      <td>8978.503000</td>\n      <td>6063.575000</td>\n      <td>7408.658000</td>\n      <td>29.489751</td>\n      <td>0.022184</td>\n    </tr>\n    <tr>\n      <th>21</th>\n      <td>Cellobiose</td>\n      <td>cellb(e)</td>\n      <td>Cellobiose</td>\n      <td>342.29648</td>\n      <td>7039.015000</td>\n      <td>8978.503000</td>\n      <td>6063.575000</td>\n      <td>7408.658000</td>\n      <td>29.489751</td>\n      <td>0.086153</td>\n    </tr>\n    <tr>\n      <th>22</th>\n      <td>Cys-Gly</td>\n      <td>cgly(e)</td>\n      <td>Cysteinylglycine</td>\n      <td>178.21058</td>\n      <td>4535.294118</td>\n      <td>2617.647059</td>\n      <td>1664.705882</td>\n      <td>3500.000000</td>\n      <td>12.317647</td>\n      <td>0.069118</td>\n    </tr>\n    <tr>\n      <th>23</th>\n      <td>Chloride</td>\n      <td>cl(e)</td>\n      <td>Chloride ion</td>\n      <td>35.45270</td>\n      <td>10000.000000</td>\n      <td>80000.000000</td>\n      <td>4000.000000</td>\n      <td>3000.000000</td>\n      <td>97.000000</td>\n      <td>2.736040</td>\n    </tr>\n    <tr>\n      <th>24</th>\n      <td>CO2</td>\n      <td>co2(e)</td>\n      <td>Carbon dioxide</td>\n      <td>44.01000</td>\n      <td>7039.015000</td>\n      <td>8978.503000</td>\n      <td>6063.575000</td>\n      <td>7408.658000</td>\n      <td>29.489751</td>\n      <td>0.670069</td>\n    </tr>\n    <tr>\n      <th>25</th>\n      <td>Co2</td>\n      <td>cobalt2(e)</td>\n      <td>Carbon dioxide</td>\n      <td>129.83900</td>\n      <td>0.100000</td>\n      <td>0.200000</td>\n      <td>0.200000</td>\n      <td>3.100000</td>\n      <td>0.003600</td>\n      <td>0.000028</td>\n    </tr>\n    <tr>\n      <th>26</th>\n      <td>Capsular polysaccharide (F. prausnitzii, putat...</td>\n      <td>cps_fp(e)</td>\n      <td></td>\n      <td>1000.00000</td>\n      <td>7039.015000</td>\n      <td>8978.503000</td>\n      <td>6063.575000</td>\n      <td>7408.658000</td>\n      <td>29.489751</td>\n      <td>0.029490</td>\n    </tr>\n    <tr>\n      <th>27</th>\n      <td>Cu2</td>\n      <td>cu2(e)</td>\n      <td></td>\n      <td>127.09000</td>\n      <td>1.000000</td>\n      <td>10.000000</td>\n      <td>2.000000</td>\n      <td>2.000000</td>\n      <td>0.015000</td>\n      <td>0.000118</td>\n    </tr>\n    <tr>\n      <th>28</th>\n      <td>L-Cysteine</td>\n      <td>cys_L(e)</td>\n      <td>L-Cysteine</td>\n      <td>121.15800</td>\n      <td>5533.333333</td>\n      <td>500.000000</td>\n      <td>1766.666667</td>\n      <td>2533.333333</td>\n      <td>10.333333</td>\n      <td>0.085288</td>\n    </tr>\n    <tr>\n      <th>29</th>\n      <td>Fe2</td>\n      <td>fe2(e)</td>\n      <td></td>\n      <td>55.84000</td>\n      <td>7039.015000</td>\n      <td>8978.503000</td>\n      <td>6063.575000</td>\n      <td>7408.658000</td>\n      <td>29.489751</td>\n      <td>0.528112</td>\n    </tr>\n    <tr>\n      <th>30</th>\n      <td>Fe3</td>\n      <td>fe3(e)</td>\n      <td></td>\n      <td>55.85000</td>\n      <td>7039.015000</td>\n      <td>8978.503000</td>\n      <td>6063.575000</td>\n      <td>7408.658000</td>\n      <td>29.489751</td>\n      <td>0.528017</td>\n    </tr>\n    <tr>\n      <th>31</th>\n      <td>Folate</td>\n      <td>fol(e)</td>\n      <td>Folic acid</td>\n      <td>441.39750</td>\n      <td>7039.015000</td>\n      <td>8978.503000</td>\n      <td>6063.575000</td>\n      <td>7408.658000</td>\n      <td>29.489751</td>\n      <td>0.066810</td>\n    </tr>\n    <tr>\n      <th>32</th>\n      <td>D-Galactose</td>\n      <td>gal(e)</td>\n      <td>D-Galactose</td>\n      <td>180.15590</td>\n      <td>7039.015000</td>\n      <td>8978.503000</td>\n      <td>6063.575000</td>\n      <td>7408.658000</td>\n      <td>29.489751</td>\n      <td>0.163690</td>\n    </tr>\n    <tr>\n      <th>33</th>\n      <td>D-Galacturonate</td>\n      <td>galur(e)</td>\n      <td>D-Galacturonate</td>\n      <td>194.14000</td>\n      <td>7039.015000</td>\n      <td>8978.503000</td>\n      <td>6063.575000</td>\n      <td>7408.658000</td>\n      <td>29.489751</td>\n      <td>0.151899</td>\n    </tr>\n    <tr>\n      <th>34</th>\n      <td>D-Glucosamine</td>\n      <td>gam(e)</td>\n      <td>Glucosamine</td>\n      <td>179.17116</td>\n      <td>7039.015000</td>\n      <td>8978.503000</td>\n      <td>6063.575000</td>\n      <td>7408.658000</td>\n      <td>29.489751</td>\n      <td>0.164590</td>\n    </tr>\n    <tr>\n      <th>35</th>\n      <td>D-Glucose</td>\n      <td>glc(e)</td>\n      <td>D-Glucose</td>\n      <td>180.15588</td>\n      <td>7039.015000</td>\n      <td>8978.503000</td>\n      <td>6063.575000</td>\n      <td>7408.658000</td>\n      <td>29.489751</td>\n      <td>0.163690</td>\n    </tr>\n    <tr>\n      <th>36</th>\n      <td>D-Glucuronate</td>\n      <td>glcur(e)</td>\n      <td>D-Glucuronic acid</td>\n      <td>194.13940</td>\n      <td>7039.015000</td>\n      <td>8978.503000</td>\n      <td>6063.575000</td>\n      <td>7408.658000</td>\n      <td>29.489751</td>\n      <td>0.151900</td>\n    </tr>\n    <tr>\n      <th>37</th>\n      <td>L-Glutamine</td>\n      <td>gln_L(e)</td>\n      <td>L-Glutamine</td>\n      <td>146.14458</td>\n      <td>7039.015000</td>\n      <td>8978.503000</td>\n      <td>6063.575000</td>\n      <td>7408.658000</td>\n      <td>29.489751</td>\n      <td>0.201785</td>\n    </tr>\n    <tr>\n      <th>38</th>\n      <td>L-Glutamate</td>\n      <td>glu_L(e)</td>\n      <td>L-Glutamic acid</td>\n      <td>147.12930</td>\n      <td>33100.000000</td>\n      <td>45933.333333</td>\n      <td>49033.333333</td>\n      <td>44966.666667</td>\n      <td>173.033333</td>\n      <td>1.176063</td>\n    </tr>\n    <tr>\n      <th>39</th>\n      <td>Glycine</td>\n      <td>gly(e)</td>\n      <td>Glycine</td>\n      <td>75.06664</td>\n      <td>4535.294118</td>\n      <td>2617.647059</td>\n      <td>1664.705882</td>\n      <td>3500.000000</td>\n      <td>12.317647</td>\n      <td>0.164089</td>\n    </tr>\n    <tr>\n      <th>40</th>\n      <td>Glycyl-L-asparagine</td>\n      <td>glyasn(e)</td>\n      <td></td>\n      <td>189.17000</td>\n      <td>4535.294118</td>\n      <td>2617.647059</td>\n      <td>1664.705882</td>\n      <td>3500.000000</td>\n      <td>12.317647</td>\n      <td>0.065114</td>\n    </tr>\n    <tr>\n      <th>41</th>\n      <td>Glycyl-L-aspartate</td>\n      <td>glyasp(e)</td>\n      <td></td>\n      <td>189.15000</td>\n      <td>24735.294118</td>\n      <td>22117.647059</td>\n      <td>25198.039216</td>\n      <td>27066.666667</td>\n      <td>99.117647</td>\n      <td>0.524016</td>\n    </tr>\n    <tr>\n      <th>42</th>\n      <td>Glycerol 3-phosphate</td>\n      <td>glyc3p(e)</td>\n      <td>Glycerol 3-phosphate</td>\n      <td>172.07372</td>\n      <td>4535.294118</td>\n      <td>2617.647059</td>\n      <td>1664.705882</td>\n      <td>3500.000000</td>\n      <td>12.317647</td>\n      <td>0.071584</td>\n    </tr>\n    <tr>\n      <th>43</th>\n      <td>(R)-Glycerate</td>\n      <td>glyc_R(e)</td>\n      <td>Glyceric acid</td>\n      <td>106.07734</td>\n      <td>4535.294118</td>\n      <td>2617.647059</td>\n      <td>1664.705882</td>\n      <td>3500.000000</td>\n      <td>12.317647</td>\n      <td>0.116119</td>\n    </tr>\n    <tr>\n      <th>44</th>\n      <td>Glycyl-L-glutamine</td>\n      <td>glygln(e)</td>\n      <td></td>\n      <td>203.20000</td>\n      <td>4535.294118</td>\n      <td>2617.647059</td>\n      <td>1664.705882</td>\n      <td>3500.000000</td>\n      <td>12.317647</td>\n      <td>0.060618</td>\n    </tr>\n    <tr>\n      <th>45</th>\n      <td>Glycyl-L-glutamate</td>\n      <td>glyglu(e)</td>\n      <td></td>\n      <td>203.17000</td>\n      <td>37635.294118</td>\n      <td>48550.980392</td>\n      <td>50698.039216</td>\n      <td>48466.666667</td>\n      <td>185.350980</td>\n      <td>0.912295</td>\n    </tr>\n    <tr>\n      <th>46</th>\n      <td>exchange reaction for glycylglyci</td>\n      <td>glygly(e)</td>\n      <td></td>\n      <td>150.14000</td>\n      <td>4535.294118</td>\n      <td>2617.647059</td>\n      <td>1664.705882</td>\n      <td>3500.000000</td>\n      <td>12.317647</td>\n      <td>0.082041</td>\n    </tr>\n    <tr>\n      <th>47</th>\n      <td>Glycylleucine</td>\n      <td>glyleu(e)</td>\n      <td>Glycylleucine</td>\n      <td>188.22420</td>\n      <td>12115.294118</td>\n      <td>14637.647059</td>\n      <td>10284.705882</td>\n      <td>15580.000000</td>\n      <td>52.617647</td>\n      <td>0.279548</td>\n    </tr>\n    <tr>\n      <th>48</th>\n      <td>Glycyl-L-methionine</td>\n      <td>glymet(e)</td>\n      <td></td>\n      <td>206.27000</td>\n      <td>7168.627451</td>\n      <td>4417.647059</td>\n      <td>2698.039216</td>\n      <td>4833.333333</td>\n      <td>19.117647</td>\n      <td>0.092683</td>\n    </tr>\n    <tr>\n      <th>49</th>\n      <td>exchange reaction for glycylphenylalai</td>\n      <td>glyphe(e)</td>\n      <td></td>\n      <td>240.26000</td>\n      <td>17535.294118</td>\n      <td>25917.647059</td>\n      <td>3564.705882</td>\n      <td>22400.000000</td>\n      <td>69.417647</td>\n      <td>0.288927</td>\n    </tr>\n    <tr>\n      <th>50</th>\n      <td>Glycylproline</td>\n      <td>glypro(e)</td>\n      <td>Glycylproline</td>\n      <td>172.18000</td>\n      <td>23968.627451</td>\n      <td>22584.313725</td>\n      <td>12998.039216</td>\n      <td>6433.333333</td>\n      <td>65.984314</td>\n      <td>0.383229</td>\n    </tr>\n    <tr>\n      <th>51</th>\n      <td>Glycyl-L-tyrosine</td>\n      <td>glytyr(e)</td>\n      <td>Glycyl-Tyrosine</td>\n      <td>238.23990</td>\n      <td>6485.294118</td>\n      <td>11467.647059</td>\n      <td>12114.705882</td>\n      <td>28250.000000</td>\n      <td>58.317647</td>\n      <td>0.244785</td>\n    </tr>\n    <tr>\n      <th>52</th>\n      <td>Guanine</td>\n      <td>gua(e)</td>\n      <td>Guanine</td>\n      <td>151.13000</td>\n      <td>7039.015000</td>\n      <td>8978.503000</td>\n      <td>6063.575000</td>\n      <td>7408.658000</td>\n      <td>29.489751</td>\n      <td>0.195128</td>\n    </tr>\n    <tr>\n      <th>53</th>\n      <td>H</td>\n      <td>h(e)</td>\n      <td>L-Histidine</td>\n      <td>155.15468</td>\n      <td>7039.015000</td>\n      <td>8978.503000</td>\n      <td>6063.575000</td>\n      <td>7408.658000</td>\n      <td>29.489751</td>\n      <td>0.190067</td>\n    </tr>\n    <tr>\n      <th>54</th>\n      <td>H2O</td>\n      <td>h2o(e)</td>\n      <td>Water</td>\n      <td>18.01530</td>\n      <td>7039.015000</td>\n      <td>8978.503000</td>\n      <td>6063.575000</td>\n      <td>7408.658000</td>\n      <td>29.489751</td>\n      <td>1.636928</td>\n    </tr>\n    <tr>\n      <th>55</th>\n      <td>Hydrogen sulfide</td>\n      <td>h2s(e)</td>\n      <td>Hydrogen sulfide</td>\n      <td>34.08188</td>\n      <td>7039.015000</td>\n      <td>8978.503000</td>\n      <td>6063.575000</td>\n      <td>7408.658000</td>\n      <td>29.489751</td>\n      <td>0.865262</td>\n    </tr>\n    <tr>\n      <th>56</th>\n      <td>L-Isoleucine</td>\n      <td>ile_L(e)</td>\n      <td>L-Isoleucine</td>\n      <td>131.17500</td>\n      <td>38100.000000</td>\n      <td>45800.000000</td>\n      <td>25100.000000</td>\n      <td>48100.000000</td>\n      <td>157.100000</td>\n      <td>1.197637</td>\n    </tr>\n    <tr>\n      <th>57</th>\n      <td>K</td>\n      <td>k(e)</td>\n      <td>L-Lysine</td>\n      <td>146.18764</td>\n      <td>36000.000000</td>\n      <td>14000.000000</td>\n      <td>33000.000000</td>\n      <td>73000.000000</td>\n      <td>156.000000</td>\n      <td>1.067122</td>\n    </tr>\n    <tr>\n      <th>58</th>\n      <td>D-lactate</td>\n      <td>lac_D(e)</td>\n      <td>L-Lactic acid</td>\n      <td>90.07794</td>\n      <td>7039.015000</td>\n      <td>8978.503000</td>\n      <td>6063.575000</td>\n      <td>7408.658000</td>\n      <td>29.489751</td>\n      <td>0.327380</td>\n    </tr>\n    <tr>\n      <th>59</th>\n      <td>Lactose</td>\n      <td>lcts(e)</td>\n      <td>Lactose</td>\n      <td>342.30000</td>\n      <td>7039.015000</td>\n      <td>8978.503000</td>\n      <td>6063.575000</td>\n      <td>7408.658000</td>\n      <td>29.489751</td>\n      <td>0.086152</td>\n    </tr>\n    <tr>\n      <th>60</th>\n      <td>L-Leucine</td>\n      <td>leu_L(e)</td>\n      <td>L-Leucine</td>\n      <td>131.17296</td>\n      <td>7580.000000</td>\n      <td>12020.000000</td>\n      <td>8620.000000</td>\n      <td>12080.000000</td>\n      <td>40.300000</td>\n      <td>0.307228</td>\n    </tr>\n    <tr>\n      <th>61</th>\n      <td>exchange reaction for leucylglyci</td>\n      <td>leugly(e)</td>\n      <td></td>\n      <td>206.24000</td>\n      <td>12115.294118</td>\n      <td>14637.647059</td>\n      <td>10284.705882</td>\n      <td>15580.000000</td>\n      <td>52.617647</td>\n      <td>0.255128</td>\n    </tr>\n    <tr>\n      <th>62</th>\n      <td>Leucylleucine</td>\n      <td>leuleu(e)</td>\n      <td>Leucyl-Leucine</td>\n      <td>244.33100</td>\n      <td>7580.000000</td>\n      <td>12020.000000</td>\n      <td>8620.000000</td>\n      <td>12080.000000</td>\n      <td>40.300000</td>\n      <td>0.164940</td>\n    </tr>\n    <tr>\n      <th>63</th>\n      <td>L-Lysine</td>\n      <td>lys_L(e)</td>\n      <td>L-Lysine</td>\n      <td>146.18764</td>\n      <td>43800.000000</td>\n      <td>46100.000000</td>\n      <td>37700.000000</td>\n      <td>54000.000000</td>\n      <td>181.600000</td>\n      <td>1.242239</td>\n    </tr>\n    <tr>\n      <th>64</th>\n      <td>Maltose</td>\n      <td>malt(e)</td>\n      <td>Maltose</td>\n      <td>342.30000</td>\n      <td>7039.015000</td>\n      <td>8978.503000</td>\n      <td>6063.575000</td>\n      <td>7408.658000</td>\n      <td>29.489751</td>\n      <td>0.086152</td>\n    </tr>\n    <tr>\n      <th>65</th>\n      <td>D-Mannose</td>\n      <td>man(e)</td>\n      <td>D-Mannose</td>\n      <td>180.15590</td>\n      <td>7039.015000</td>\n      <td>8978.503000</td>\n      <td>6063.575000</td>\n      <td>7408.658000</td>\n      <td>29.489751</td>\n      <td>0.163690</td>\n    </tr>\n    <tr>\n      <th>66</th>\n      <td>methanol</td>\n      <td>meoh(e)</td>\n      <td>Methanol</td>\n      <td>32.04186</td>\n      <td>7039.015000</td>\n      <td>8978.503000</td>\n      <td>6063.575000</td>\n      <td>7408.658000</td>\n      <td>29.489751</td>\n      <td>0.920351</td>\n    </tr>\n    <tr>\n      <th>67</th>\n      <td>D-Methionine</td>\n      <td>met_D(e)</td>\n      <td>D-Methionine</td>\n      <td>149.21238</td>\n      <td>2633.333333</td>\n      <td>1800.000000</td>\n      <td>1033.333333</td>\n      <td>1333.333333</td>\n      <td>6.800000</td>\n      <td>0.045573</td>\n    </tr>\n    <tr>\n      <th>68</th>\n      <td>L-Methionine</td>\n      <td>met_L(e)</td>\n      <td>L-Methionine</td>\n      <td>149.21238</td>\n      <td>2633.333333</td>\n      <td>1800.000000</td>\n      <td>1033.333333</td>\n      <td>1333.333333</td>\n      <td>6.800000</td>\n      <td>0.045573</td>\n    </tr>\n    <tr>\n      <th>69</th>\n      <td>L-methionyl-L-alanine</td>\n      <td>metala(e)</td>\n      <td>Methionyl-Alanine</td>\n      <td>220.29000</td>\n      <td>6196.969697</td>\n      <td>5263.636364</td>\n      <td>3642.424242</td>\n      <td>2160.606061</td>\n      <td>17.263636</td>\n      <td>0.078368</td>\n    </tr>\n    <tr>\n      <th>70</th>\n      <td>L-methionine-R-sulfoxide</td>\n      <td>metsox_R_L(e)</td>\n      <td></td>\n      <td>165.21000</td>\n      <td>2633.333333</td>\n      <td>1800.000000</td>\n      <td>1033.333333</td>\n      <td>1333.333333</td>\n      <td>6.800000</td>\n      <td>0.041160</td>\n    </tr>\n    <tr>\n      <th>71</th>\n      <td>L-Methionine S-oxide</td>\n      <td>metsox_S_L(e)</td>\n      <td>L-Methionine S-oxide</td>\n      <td>165.21178</td>\n      <td>2633.333333</td>\n      <td>1800.000000</td>\n      <td>1033.333333</td>\n      <td>1333.333333</td>\n      <td>6.800000</td>\n      <td>0.041159</td>\n    </tr>\n    <tr>\n      <th>72</th>\n      <td>Mg</td>\n      <td>mg2(e)</td>\n      <td></td>\n      <td>24.30500</td>\n      <td>265.000000</td>\n      <td>340.000000</td>\n      <td>1530.000000</td>\n      <td>205.000000</td>\n      <td>2.340000</td>\n      <td>0.096276</td>\n    </tr>\n    <tr>\n      <th>73</th>\n      <td>Sodium</td>\n      <td>na1(e)</td>\n      <td>Sodium</td>\n      <td>22.98977</td>\n      <td>10000.000000</td>\n      <td>80000.000000</td>\n      <td>4000.000000</td>\n      <td>3000.000000</td>\n      <td>97.000000</td>\n      <td>4.219268</td>\n    </tr>\n    <tr>\n      <th>74</th>\n      <td>Nicotinate</td>\n      <td>nac(e)</td>\n      <td>Nicotinic acid</td>\n      <td>123.10944</td>\n      <td>7039.015000</td>\n      <td>8978.503000</td>\n      <td>6063.575000</td>\n      <td>7408.658000</td>\n      <td>29.489751</td>\n      <td>0.239541</td>\n    </tr>\n    <tr>\n      <th>75</th>\n      <td>Ammonia</td>\n      <td>nh4(e)</td>\n      <td>Ammonia</td>\n      <td>17.03056</td>\n      <td>7039.015000</td>\n      <td>8978.503000</td>\n      <td>6063.575000</td>\n      <td>7408.658000</td>\n      <td>29.489751</td>\n      <td>1.731578</td>\n    </tr>\n    <tr>\n      <th>76</th>\n      <td>Ornithine</td>\n      <td>orn(e)</td>\n      <td>Ornithine</td>\n      <td>132.16106</td>\n      <td>7039.015000</td>\n      <td>8978.503000</td>\n      <td>6063.575000</td>\n      <td>7408.658000</td>\n      <td>29.489751</td>\n      <td>0.223135</td>\n    </tr>\n    <tr>\n      <th>77</th>\n      <td>Orotate</td>\n      <td>orot(e)</td>\n      <td>Orotic acid</td>\n      <td>156.09630</td>\n      <td>7039.015000</td>\n      <td>8978.503000</td>\n      <td>6063.575000</td>\n      <td>7408.658000</td>\n      <td>29.489751</td>\n      <td>0.188920</td>\n    </tr>\n    <tr>\n      <th>78</th>\n      <td>Lead</td>\n      <td>pb(e)</td>\n      <td>Lead</td>\n      <td>207.20000</td>\n      <td>0.400000</td>\n      <td>0.100000</td>\n      <td>0.300000</td>\n      <td>0.700000</td>\n      <td>0.001500</td>\n      <td>0.000007</td>\n    </tr>\n    <tr>\n      <th>79</th>\n      <td>exchange reaction for pectins</td>\n      <td>pect(e)</td>\n      <td></td>\n      <td>194.14000</td>\n      <td>7039.015000</td>\n      <td>8978.503000</td>\n      <td>6063.575000</td>\n      <td>7408.658000</td>\n      <td>29.489751</td>\n      <td>0.151899</td>\n    </tr>\n    <tr>\n      <th>80</th>\n      <td>L-Phenylalanine</td>\n      <td>phe_L(e)</td>\n      <td>L-Phenylalanine</td>\n      <td>165.18918</td>\n      <td>13000.000000</td>\n      <td>23300.000000</td>\n      <td>1900.000000</td>\n      <td>18900.000000</td>\n      <td>57.100000</td>\n      <td>0.345664</td>\n    </tr>\n    <tr>\n      <th>81</th>\n      <td>Phosphate</td>\n      <td>pi(e)</td>\n      <td>Phosphate</td>\n      <td>97.99520</td>\n      <td>7039.015000</td>\n      <td>8978.503000</td>\n      <td>6063.575000</td>\n      <td>7408.658000</td>\n      <td>29.489751</td>\n      <td>0.300931</td>\n    </tr>\n    <tr>\n      <th>82</th>\n      <td>(R)-Pantothenate</td>\n      <td>pnto_R(e)</td>\n      <td>Pantothenic acid</td>\n      <td>219.23502</td>\n      <td>7039.015000</td>\n      <td>8978.503000</td>\n      <td>6063.575000</td>\n      <td>7408.658000</td>\n      <td>29.489751</td>\n      <td>0.134512</td>\n    </tr>\n    <tr>\n      <th>83</th>\n      <td>L-Proline</td>\n      <td>pro_L(e)</td>\n      <td>L-Proline</td>\n      <td>115.13050</td>\n      <td>19433.333333</td>\n      <td>19966.666667</td>\n      <td>11333.333333</td>\n      <td>2933.333333</td>\n      <td>53.666667</td>\n      <td>0.466138</td>\n    </tr>\n    <tr>\n      <th>84</th>\n      <td>L-Prolinylglycine</td>\n      <td>progly(e)</td>\n      <td></td>\n      <td>174.20000</td>\n      <td>23968.627451</td>\n      <td>22584.313725</td>\n      <td>12998.039216</td>\n      <td>6433.333333</td>\n      <td>65.984314</td>\n      <td>0.378785</td>\n    </tr>\n    <tr>\n      <th>85</th>\n      <td>Pyridoxamine</td>\n      <td>pydam(e)</td>\n      <td>Pyridoxamine</td>\n      <td>168.19316</td>\n      <td>7039.015000</td>\n      <td>8978.503000</td>\n      <td>6063.575000</td>\n      <td>7408.658000</td>\n      <td>29.489751</td>\n      <td>0.175333</td>\n    </tr>\n    <tr>\n      <th>86</th>\n      <td>Pyridoxal</td>\n      <td>pydx(e)</td>\n      <td>Pyridoxal</td>\n      <td>167.16200</td>\n      <td>7039.015000</td>\n      <td>8978.503000</td>\n      <td>6063.575000</td>\n      <td>7408.658000</td>\n      <td>29.489751</td>\n      <td>0.176414</td>\n    </tr>\n    <tr>\n      <th>87</th>\n      <td>Pyridoxine</td>\n      <td>pydxn(e)</td>\n      <td>Pyridoxine</td>\n      <td>169.17788</td>\n      <td>7039.015000</td>\n      <td>8978.503000</td>\n      <td>6063.575000</td>\n      <td>7408.658000</td>\n      <td>29.489751</td>\n      <td>0.174312</td>\n    </tr>\n    <tr>\n      <th>88</th>\n      <td>Reduced riboflavin</td>\n      <td>rbflvrd(e)</td>\n      <td>Riboflavin reduced</td>\n      <td>378.40000</td>\n      <td>7039.015000</td>\n      <td>8978.503000</td>\n      <td>6063.575000</td>\n      <td>7408.658000</td>\n      <td>29.489751</td>\n      <td>0.077933</td>\n    </tr>\n    <tr>\n      <th>89</th>\n      <td>Riboflavin</td>\n      <td>ribflv(e)</td>\n      <td>Riboflavin</td>\n      <td>376.36390</td>\n      <td>7039.015000</td>\n      <td>8978.503000</td>\n      <td>6063.575000</td>\n      <td>7408.658000</td>\n      <td>29.489751</td>\n      <td>0.078354</td>\n    </tr>\n    <tr>\n      <th>90</th>\n      <td>L-Serine</td>\n      <td>ser_L(e)</td>\n      <td>L-Serine</td>\n      <td>105.09262</td>\n      <td>28100.000000</td>\n      <td>21800.000000</td>\n      <td>6700.000000</td>\n      <td>34200.000000</td>\n      <td>90.800000</td>\n      <td>0.864000</td>\n    </tr>\n    <tr>\n      <th>91</th>\n      <td>Sulfate</td>\n      <td>so4(e)</td>\n      <td>Sulfate</td>\n      <td>98.07948</td>\n      <td>7039.015000</td>\n      <td>8978.503000</td>\n      <td>6063.575000</td>\n      <td>7408.658000</td>\n      <td>29.489751</td>\n      <td>0.300672</td>\n    </tr>\n    <tr>\n      <th>92</th>\n      <td>starch, structure 1 (1,6-{7[1,4-Glc], 4[1,4-Gl...</td>\n      <td>strch1(e)</td>\n      <td></td>\n      <td>359.33000</td>\n      <td>7039.015000</td>\n      <td>8978.503000</td>\n      <td>6063.575000</td>\n      <td>7408.658000</td>\n      <td>29.489751</td>\n      <td>0.082069</td>\n    </tr>\n    <tr>\n      <th>93</th>\n      <td>Taurine</td>\n      <td>taur(e)</td>\n      <td>Taurine</td>\n      <td>125.14800</td>\n      <td>7039.015000</td>\n      <td>8978.503000</td>\n      <td>6063.575000</td>\n      <td>7408.658000</td>\n      <td>29.489751</td>\n      <td>0.235639</td>\n    </tr>\n    <tr>\n      <th>94</th>\n      <td>Thiamin</td>\n      <td>thm(e)</td>\n      <td>Thiamine</td>\n      <td>265.35574</td>\n      <td>7039.015000</td>\n      <td>8978.503000</td>\n      <td>6063.575000</td>\n      <td>7408.658000</td>\n      <td>29.489751</td>\n      <td>0.111133</td>\n    </tr>\n    <tr>\n      <th>95</th>\n      <td>L-Threonine</td>\n      <td>thr_L(e)</td>\n      <td>L-Threonine</td>\n      <td>119.11920</td>\n      <td>6250.000000</td>\n      <td>13750.000000</td>\n      <td>8400.000000</td>\n      <td>13650.000000</td>\n      <td>42.050000</td>\n      <td>0.353008</td>\n    </tr>\n    <tr>\n      <th>96</th>\n      <td>L-Tryptophan</td>\n      <td>trp_L(e)</td>\n      <td>L-Tryptophan</td>\n      <td>204.22526</td>\n      <td>6600.000000</td>\n      <td>7500.000000</td>\n      <td>6400.000000</td>\n      <td>8500.000000</td>\n      <td>29.000000</td>\n      <td>0.142000</td>\n    </tr>\n    <tr>\n      <th>97</th>\n      <td>L-Tyrosine</td>\n      <td>tyr_L(e)</td>\n      <td>L-Tyrosine</td>\n      <td>181.18858</td>\n      <td>1950.000000</td>\n      <td>8850.000000</td>\n      <td>10450.000000</td>\n      <td>24750.000000</td>\n      <td>46.000000</td>\n      <td>0.253879</td>\n    </tr>\n    <tr>\n      <th>98</th>\n      <td>Uracil</td>\n      <td>ura(e)</td>\n      <td>Uracil</td>\n      <td>112.08684</td>\n      <td>7039.015000</td>\n      <td>8978.503000</td>\n      <td>6063.575000</td>\n      <td>7408.658000</td>\n      <td>29.489751</td>\n      <td>0.263097</td>\n    </tr>\n    <tr>\n      <th>99</th>\n      <td>L-Valine</td>\n      <td>val_L(e)</td>\n      <td>L-Valine</td>\n      <td>117.14638</td>\n      <td>33300.000000</td>\n      <td>41100.000000</td>\n      <td>36500.000000</td>\n      <td>10000.000000</td>\n      <td>120.900000</td>\n      <td>1.032042</td>\n    </tr>\n  </tbody>\n</table>\n</div>"
     },
     "metadata": {},
     "execution_count": 24
    }
   ],
   "source": []
  },
  {
   "cell_type": "code",
   "execution_count": 25,
   "metadata": {},
   "outputs": [
    {
     "output_type": "execute_result",
     "data": {
      "text/plain": [
       "<Solution 0.005 at 0x7f86500eb760>"
      ],
      "text/html": "<strong><em>Optimal</em> solution with objective value 0.005</strong><br><div>\n<style scoped>\n    .dataframe tbody tr th:only-of-type {\n        vertical-align: middle;\n    }\n\n    .dataframe tbody tr th {\n        vertical-align: top;\n    }\n\n    .dataframe thead th {\n        text-align: right;\n    }\n</style>\n<table border=\"1\" class=\"dataframe\">\n  <thead>\n    <tr style=\"text-align: right;\">\n      <th></th>\n      <th>fluxes</th>\n      <th>reduced_costs</th>\n    </tr>\n  </thead>\n  <tbody>\n    <tr>\n      <th>26DAPLLATi</th>\n      <td>0.002101</td>\n      <td>-3.155444e-30</td>\n    </tr>\n    <tr>\n      <th>3HAD100</th>\n      <td>0.005102</td>\n      <td>0.000000e+00</td>\n    </tr>\n    <tr>\n      <th>3HAD120</th>\n      <td>0.003041</td>\n      <td>0.000000e+00</td>\n    </tr>\n    <tr>\n      <th>3HAD121</th>\n      <td>0.002061</td>\n      <td>0.000000e+00</td>\n    </tr>\n    <tr>\n      <th>3HAD140</th>\n      <td>0.002901</td>\n      <td>1.577722e-30</td>\n    </tr>\n    <tr>\n      <th>...</th>\n      <td>...</td>\n      <td>...</td>\n    </tr>\n    <tr>\n      <th>XYLt2</th>\n      <td>0.000000</td>\n      <td>-5.430102e-16</td>\n    </tr>\n    <tr>\n      <th>YUMPS</th>\n      <td>0.000000</td>\n      <td>0.000000e+00</td>\n    </tr>\n    <tr>\n      <th>r0502</th>\n      <td>-0.001147</td>\n      <td>-6.110657e-16</td>\n    </tr>\n    <tr>\n      <th>r0839</th>\n      <td>0.000000</td>\n      <td>-3.417149e-15</td>\n    </tr>\n    <tr>\n      <th>sink_hpyr</th>\n      <td>0.000000</td>\n      <td>0.000000e+00</td>\n    </tr>\n  </tbody>\n</table>\n<p>1030 rows × 2 columns</p>\n</div>"
     },
     "metadata": {},
     "execution_count": 25
    }
   ],
   "source": [
    "for id in [\"EX_\"+metab for metab in list(weights_full['BiGG_ID'])]:\n",
    "    root_model.reactions.get_by_id(id).upper_bound = 1000\n",
    "    root_model.reactions.get_by_id(id).lower_bound = weights_full.loc[weights_full[\"BiGG_ID\"] == id.lstrip(\"EX_\"), \"mmol/L\"].values*-1\n",
    "root_model.objective = {root_model.reactions.get_by_id('Biomass_FP'): 1}\n",
    "root_model.optimize()"
   ]
  },
  {
   "cell_type": "code",
   "execution_count": null,
   "metadata": {},
   "outputs": [],
   "source": []
  }
 ]
}