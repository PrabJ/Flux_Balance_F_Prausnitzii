{
 "cells": [
  {
   "cell_type": "markdown",
   "metadata": {},
   "source": [
    "# Integrated Bioinformatics Project : Flux_Balance_F_Prausnitzii \n",
    "#### Students: Michael Shawn Neilsson, Biancamaria FLorenzi, Prabhat Juyal, Tim Blokker\n",
    "#### Supervisors: Clémence Joseph, Karoline Faust"
   ]
  },
  {
   "cell_type": "code",
   "execution_count": 1,
   "metadata": {},
   "outputs": [],
   "source": [
    "#import packages\n",
    "from libchebipy import ChebiEntity\n",
    "import json\n",
    "import requests\n",
    "import molmass\n",
    "import io\n",
    "import cobra\n",
    "import functions\n",
    "import re\n",
    "from functions import *\n",
    "import cobrababel\n",
    "import pandas as pd"
   ]
  },
  {
   "cell_type": "code",
   "execution_count": 2,
   "metadata": {},
   "outputs": [
    {
     "output_type": "stream",
     "name": "stdout",
     "text": [
      "Metabolites :  833\nReactions :  1030\nGenes :  602\nCompartments :  {'c': '', 'e': ''}\nObjective function : \n Maximize\n1.0*Biomass_FP - 1.0*Biomass_FP_reverse_ee33b \n\n"
     ]
    }
   ],
   "source": [
    "#model = cobra.io.read_sbml_model('Data/f_prausnitzii.xml')\n",
    "#info(model)\n",
    "model=cobra.io.load_matlab_model('Data/iFpraus_v_1_0.mat')\n",
    "info(model)\n"
   ]
  },
  {
   "cell_type": "code",
   "execution_count": 3,
   "metadata": {},
   "outputs": [],
   "source": [
    "x=[model.reactions.get_by_id(compound_id).name for compound_id in model.medium]\n",
    "x=[compound[:(len(compound)-3)] for compound in x]\n",
    "x=[compoundname.replace(\"EX_\", \"\") for compoundname in x]\n",
    "x=[compoundname.replace(\"excha\", \"\").strip() for compoundname in x]\n",
    "#\";\".join(x)"
   ]
  },
  {
   "cell_type": "code",
   "execution_count": 4,
   "metadata": {},
   "outputs": [],
   "source": [
    "mapped_compounds=Mol_Weight(x)\n",
    "mapped_compounds[\"BiGG_ID\"]=[model.reactions.get_by_id(compound_id).id[3:] for compound_id in model.medium]\n",
    "weights=mapped_compounds[[\"query\", \"BiGG_ID\", \"hit\", \"mol_weight\"]]"
   ]
  },
  {
   "cell_type": "code",
   "execution_count": 5,
   "metadata": {},
   "outputs": [],
   "source": [
    "#outputmodel= cobra.io.save_json_model(model, \"Data/iFpraus.json\")"
   ]
  },
  {
   "cell_type": "code",
   "execution_count": 6,
   "metadata": {},
   "outputs": [
    {
     "output_type": "stream",
     "name": "stdout",
     "text": [
      "\n",
      "Model Medium\n",
      "Objective\n",
      "=========\n",
      "1.0 Biomass_FP = 69.87885590787737\n",
      "\n",
      "Uptake\n",
      "------\n",
      "    Metabolite          Reaction   Flux  C-Number  C-Flux\n",
      "    Lcystin[e]     EX_Lcystin(e)  3.502         6   0.05%\n",
      "        ade[e]         EX_ade(e)  864.9         5  10.85%\n",
      "     adocbl[e]      EX_adocbl(e) 0.3929        72   0.07%\n",
      "     alaala[e]      EX_alaala(e)  6.462         6   0.10%\n",
      "     alagln[e]      EX_alagln(e)  30.81         8   0.62%\n",
      "      arg-L[e]       EX_arg_L(e)   1000         6  15.05%\n",
      "      asn-L[e]       EX_asn_L(e)   16.4         4   0.16%\n",
      "        btn[e]         EX_btn(e) 0.3929        10   0.01%\n",
      "        ca2[e]         EX_ca2(e) 0.3929         0   0.00%\n",
      "         cl[e]          EX_cl(e) 0.3929         0   0.00%\n",
      "    cobalt2[e]     EX_cobalt2(e) 0.3929         0   0.00%\n",
      "     cps_fp[e]      EX_cps_fp(e) 0.3929        63   0.06%\n",
      "        cu2[e]         EX_cu2(e) 0.3929         0   0.00%\n",
      "        fe3[e]         EX_fe3(e) 0.7858         0   0.00%\n",
      "        fol[e]         EX_fol(e)  1.179        19   0.06%\n",
      "        fum[e]         EX_fum(e)   1000         4  10.03%\n",
      "      glu-L[e]       EX_glu_L(e)   1000         5  12.54%\n",
      "        gua[e]         EX_gua(e)  16.25         5   0.20%\n",
      "          h[e]           EX_h(e)    901         0   0.00%\n",
      "      his-L[e]       EX_his_L(e)  6.472         6   0.10%\n",
      "        ins[e]         EX_ins(e)  751.8        10  18.86%\n",
      "          k[e]           EX_k(e) 0.3929         0   0.00%\n",
      "     leuleu[e]      EX_leuleu(e)  15.33        12   0.46%\n",
      "      lys-L[e]       EX_lys_L(e)  23.31         6   0.35%\n",
      "      mal-L[e]       EX_mal_L(e)   1000         4  10.03%\n",
      "     metala[e]      EX_metala(e)  10.59         8   0.21%\n",
      " metsox-S-L[e]  EX_metsox_S_L(e) 0.2368         5   0.00%\n",
      "        mg2[e]         EX_mg2(e) 0.3929         0   0.00%\n",
      "        na1[e]         EX_na1(e)   1000         0   0.00%\n",
      "        nac[e]         EX_nac(e) 0.7858         6   0.01%\n",
      "         o2[e]          EX_o2(e)  618.9         0   0.00%\n",
      "      phe-L[e]       EX_phe_L(e)  12.65         9   0.29%\n",
      "         pi[e]          EX_pi(e)  126.6         0   0.00%\n",
      "     pnto-R[e]      EX_pnto_R(e) 0.7858         9   0.02%\n",
      "      pro-L[e]       EX_pro_L(e)  15.05         5   0.19%\n",
      "       pydx[e]        EX_pydx(e) 0.3929         8   0.01%\n",
      "     ribflv[e]      EX_ribflv(e)  148.3        17   6.32%\n",
      "      ser-L[e]       EX_ser_L(e)  223.1         3   1.68%\n",
      "        so4[e]         EX_so4(e) 0.3929         0   0.00%\n",
      "        thm[e]         EX_thm(e) 0.3929        12   0.01%\n",
      "      thr-L[e]       EX_thr_L(e)  606.4         4   6.08%\n",
      "      thymd[e]       EX_thymd(e)  1.642        10   0.04%\n",
      "      trp-L[e]       EX_trp_L(e)  3.854        11   0.11%\n",
      "      tyr-L[e]       EX_tyr_L(e)  9.381         9   0.21%\n",
      "        ura[e]         EX_ura(e)  20.52         4   0.21%\n",
      "      urate[e]       EX_urate(e)  398.4         5   5.00%\n",
      "       hpyr[c]         sink_hpyr   0.05         3   0.00%\n",
      "\n",
      "Secretion\n",
      "---------\n",
      " Metabolite       Reaction   Flux  C-Number  C-Flux\n",
      "     na1[c]         DM_NA1  -1000         0   0.00%\n",
      "      ac[e]       EX_ac(e)  -1000         2   5.64%\n",
      "   asp-L[e]    EX_asp_L(e) -977.1         4  11.02%\n",
      "     cit[e]      EX_cit(e) -988.6         6  16.73%\n",
      "     co2[e]      EX_co2(e)  -1000         1   2.82%\n",
      "  dhor-S[e]   EX_dhor_S(e) -785.4         5  11.07%\n",
      "     for[e]      EX_for(e)   -158         1   0.45%\n",
      "     gly[e]      EX_gly(e) -527.8         2   2.98%\n",
      "  glyc-R[e]   EX_glyc_R(e)  -0.05         3   0.00%\n",
      "    hxan[e]     EX_hxan(e)  -1000         5  14.10%\n",
      "     nh4[e]      EX_nh4(e)  -1000         0   0.00%\n",
      "    orot[e]     EX_orot(e) -194.5         5   2.74%\n",
      "    ptrc[e]     EX_ptrc(e) -979.9         4  11.05%\n",
      " rbflvrd[e]  EX_rbflvrd(e) -147.5        17   7.07%\n",
      "    succ[e]     EX_succ(e) -20.14         4   0.23%\n",
      "     xan[e]      EX_xan(e)  -1000         5  14.10%\n",
      "\n"
     ]
    }
   ],
   "source": [
    "#unaltered model\n",
    "model1=model.copy()\n",
    "print(\"\\nModel Medium\")\n",
    "model1.objective = {model1.reactions.get_by_id('Biomass_FP'): 1}\n",
    "print(model1.summary())"
   ]
  },
  {
   "source": [
    "### Gifu Anaerobic Medium (mGAM) from:\n",
    "https://hyserve.com/files/05433_GAM-Broth_Modified_final.pdf\n",
    "\n",
    "\n",
    "- Peptone, Soya Peptone, Proteose Peptone: source of amino acids -> most likely all of them \n",
    "- Yeast extract, liver extract, meat extract, digested serum -> \n",
    "    - amino acids, \n",
    "    - '4abz(e)' \n",
    "    - '5oxpro(e)'\n",
    "    - thm(e)' thiamin vitamin b1\n",
    "    - biotin -> btn |from yeast extract? \n",
    "    - 'rbflvrd(e)', 'ribflv(e)' vitamin b2\n",
    "    - 'pydam(e)' pydx pydxn vitamin b6 from yeast extract\n",
    "    - 'pnto_R(e)' pantothenic acid from yeast extract?\n",
    "    - 'ptrc(e)' probably from meat extract(e)\n",
    "    - 'spmd(e)' from meat extract and linked to ptrc\n",
    "    - cbl1   Cyanocobalamin is a cobalt-containing coordination compound and a natural water-soluble vitamin of the B-complex family \n",
    "    - adocbl\n",
    "    - folate fol is of B vitamin family \n",
    "    - tautin from meat extract\n",
    "    - nac is nicotinate and also vitamin b and so is nacm nicotinamide\n",
    "    - hxan, gua , ins are all some kind of nucleic acid that is probably present in yeast extract\n",
    "    - trace elements: Ca2? Cu2? cobalt2?  mg2? pi(e)? so4?\n",
    "- Dextrose -> same as glucose (https://www.ebi.ac.uk/chebi/searchId.do?chebiId=CHEBI:17634) and so -> glc_D\n",
    "- Soluble starch -> starch1 (potatoe starch)\n",
    "- L-Tryptophane -> trp__L\n",
    "- L-Cystein Hydrochloride -> cys_L and cl and h (hydrochloride<-> HCL becomes cl and h)\n",
    "- Sodium Thioglycolate -> thiog and na1 but it is just a marker for tolerance of oxygen apparently so ignore\n",
    "- L-Arginine -> arg_L\n",
    "- Vitamine K1 -> phllqne https://pubchem.ncbi.nlm.nih.gov/compound/Vitamin-K1#section=Depositor-Supplied-Synonyms \n",
    "- Hemin -> Iron and Chlorine  fe3 and cl  and perhaps ppp9 https://pubchem.ncbi.nlm.nih.gov/#query=3-%5B18-(2-carboxyethyl)-8%2C13-bis(ethenyl)-3%2C7%2C12%2C17-tetramethylporphyrin-21%2C23-diid-2-yl%5Dpropanoic%20acid%3Biron(3%2B)%3Bchloride \n",
    "- Potassium Dihydrogen Phosphate -> pi, k, h\n",
    "- Sodium Chloride -> na1 cl\n",
    "\n",
    "Digested serum : https://www.nebiolabs.com.au/-/media/catalog/datacards-or-manuals/p8108datasheet-lot0021306.pdf\t\n",
    "\n",
    "Generally useful page ; https://pubchem.ncbi.nlm.nih.gov/#query=Hemin\n",
    "\n",
    "check also: https://opencobra.github.io/cobratoolbox/latest/tutorials/tutorialMetabotoolsI.html "
   ],
   "cell_type": "markdown",
   "metadata": {}
  },
  {
   "cell_type": "code",
   "execution_count": 7,
   "metadata": {},
   "outputs": [
    {
     "output_type": "execute_result",
     "data": {
      "text/plain": [
       "array(['ala_L(e)', 'arg_L(e)', 'asn_L(e)', 'asp_L(e)', 'asx_L(e)',\n",
       "       'cys_L(e)', 'gln_L(e)', 'glu_L(e)', 'glx_L(e)', 'gly(e)',\n",
       "       'his_L(e)', 'ile_L(e)', 'leu_L(e)', 'lys_L(e)', 'met_L(e)',\n",
       "       'phe_L(e)', 'pro_L(e)', 'ser_L(e)', 'thr_L(e)', 'trp_L(e)',\n",
       "       'tyr_L(e)', 'val_L(e)'], dtype='<U8')"
      ]
     },
     "metadata": {},
     "execution_count": 7
    }
   ],
   "source": [
    "import numpy as np\n",
    "aa_pre=(\"ala,arg,asn,asp,asx,cys,glu,gln,glx,gly,his,ile,leu,lys,met,phe,pro,ser,thr,trp,tyr,val\").split(\",\")\n",
    "aa=[]\n",
    "for aminoacid in aa_pre:\n",
    "    if aminoacid != \"gly\": \n",
    "        aa.append(aminoacid +\"_L(e)\")\n",
    "    else:\n",
    "        aa.append(aminoacid+'(e)')\n",
    "aa=sorted(aa)\n",
    "aa=np.array(aa)\n",
    "aa"
   ]
  },
  {
   "cell_type": "code",
   "execution_count": 8,
   "metadata": {},
   "outputs": [
    {
     "output_type": "stream",
     "name": "stdout",
     "text": [
      "['3mop(e)', '4abz(e)', '5oxpro(e)', 'Lcyst(e)', 'Lcystin(e)', 'ac(e)', 'acasp(e)', 'acgal(e)', 'acgalglcur(e)', 'acgam(e)', 'acglu(e)', 'acnam(e)', 'ade(e)', 'adocbl(e)', 'ala_D(e)', 'ala_L(e)', 'alaala(e)', 'alaasp(e)', 'alagln(e)', 'alaglu(e)', 'alagly(e)', 'alahis(e)', 'alaleu(e)', 'alathr(e)', 'arab_L(e)', 'arg_L(e)', 'asn_L(e)', 'aso3(e)', 'aso4(e)', 'asp_L(e)', 'btn(e)', 'but(e)', 'butso3(e)', 'ca2(e)', 'cbl1(e)', 'cbl2(e)', 'cd2(e)', 'cellb(e)', 'cgly(e)', 'cit(e)', 'cl(e)', 'co2(e)', 'cobalt2(e)', 'cps_fp(e)', 'cu2(e)', 'cys_L(e)', 'dhor_S(e)', 'ethso3(e)', 'fe2(e)', 'fe3(e)', 'fe3dcit(e)', 'fol(e)', 'for(e)', 'fru(e)', 'fum(e)', 'gal(e)', 'galur(e)', 'gam(e)', 'glc(e)', 'glcur(e)', 'gln_L(e)', 'glu_L(e)', 'gly(e)', 'glyasn(e)', 'glyasp(e)', 'glyc3p(e)', 'glyc_R(e)', 'glygln(e)', 'glyglu(e)', 'glygly(e)', 'glyleu(e)', 'glymet(e)', 'glyphe(e)', 'glypro(e)', 'glytyr(e)', 'gthox(e)', 'gthrd(e)', 'gua(e)', 'h(e)', 'h2o(e)', 'h2s(e)', 'hg2(e)', 'his_L(e)', 'hxan(e)', 'ile_L(e)', 'ins(e)', 'inulin(e)', 'isetac(e)', 'k(e)', 'kesto(e)', 'kestopt(e)', 'kestottr(e)', 'lac_D(e)', 'lcts(e)', 'leu_L(e)', 'leugly(e)', 'leuleu(e)', 'lys_L(e)', 'mal_L(e)', 'malt(e)', 'man(e)', 'meoh(e)', 'met_D(e)', 'met_L(e)', 'metala(e)', 'metsox_R_L(e)', 'metsox_S_L(e)', 'mg2(e)', 'mobd(e)', 'mso3(e)', 'na1(e)', 'nac(e)', 'ncam(e)', 'nh4(e)', 'o2(e)', 'orn(e)', 'orot(e)', 'pb(e)', 'pect(e)', 'phe_L(e)', 'pi(e)', 'plac(e)', 'pnto_R(e)', 'pro_L(e)', 'progly(e)', 'ptrc(e)', 'pydam(e)', 'pydx(e)', 'pydxn(e)', 'rbflvrd(e)', 'ribflv(e)', 'seln(e)', 'ser_L(e)', 'so4(e)', 'spmd(e)', 'strch1(e)', 'succ(e)', 'sulfac(e)', 'taur(e)', 'thm(e)', 'thr_L(e)', 'thymd(e)', 'trp_L(e)', 'tyr_L(e)', 'ura(e)', 'urate(e)', 'urea(e)', 'val_L(e)', 'xan(e)', 'xyl_D(e)']\n"
     ]
    }
   ],
   "source": [
    "MediumMgam_complete=[x[3:len(x)] for x in model.medium]\n",
    "print(MediumMgam_complete)"
   ]
  },
  {
   "cell_type": "code",
   "execution_count": 12,
   "metadata": {},
   "outputs": [],
   "source": [
    "MediumMgam=['4abz(e)','5oxpro(e)','Lcyst(e)', 'Lcystin(e)', 'ade(e)', 'adocbl(e)','ala_D(e)', 'ala_L(e)', 'arg_L(e)', 'asp_L(e)', 'btn(e)', 'ca2(e)', 'cbl1(e)', 'cbl2(e)', 'cl(e)', 'cobalt2(e)', 'cu2(e)', 'cys_L(e)', 'fe2(e)', 'fe3(e)', 'fol(e)', 'glc(e)', 'gln_L(e)', 'glu_L(e)', 'gly(e)',  'gthox(e)', 'gthrd(e)', 'gua(e)', 'h(e)', 'h2o(e)', 'his_L(e)', 'hxan(e)', 'ile_L(e)', 'ins(e)',  'k(e)',  'leu_L(e)', 'lys_L(e)', 'met_D(e)', 'met_L(e)', 'mg2(e)', 'na1(e)', 'nac(e)', 'ncam(e)', 'pb(e)' , 'phe_L(e)', 'pi(e)', 'pnto_R(e)', 'pro_L(e)', 'ptrc(e)', 'pydam(e)', 'pydx(e)', 'pydxn(e)', 'rbflvrd(e)', 'ribflv(e)', 'ser_L(e)', 'so4(e)', 'spmd(e)', 'strch1(e)',  'taur(e)', 'thm(e)', 'thr_L(e)', 'thymd(e)', 'trp_L(e)', 'tyr_L(e)', 'ura(e)', 'val_L(e)', 'xan(e)', 'xyl_D(e)']"
   ]
  },
  {
   "cell_type": "code",
   "execution_count": 13,
   "metadata": {},
   "outputs": [],
   "source": [
    "#ppm =mg/L =0.001 g/L\n",
    "#http://www.oxoid.com/UK/blue/prod_detail/prod_detail.asp?pr=LP0037&c=UK&lang=EN&minfo=Y\n",
    "Traces_BiGG_ID=[\"ca2(e)\" , \"cl(e)\", \"cu2(e)\", \"fe2(e)\", \"fe3(e)\", \"k(e)\",  \"mg2(e)\", \"na1(e)\",\"pb(e)\"]\n",
    "conc_ppm_Bact_Peptone_L37=            [635, 1*10*1000, 1, 22/2, 22/2, 3.6*10*1000, 265, 1*10*1000, 0.4]\n",
    "conc_ppm_Proteose_Peptone_L85=        [200, 8*10*1000, 10, 42/2, 42/2, 1.4*10*1000, 340, 8*10*1000, 0.1]\n",
    "conc_ppm_soya_peptone_L44=            [225,0.4*10*1000, 2,90/2,90/2, 3.3*10*1000, 1530, 0.4*10*1000, 0.3]\n",
    "conc_ppm_yeast_extract=               [155,0.3*10*1000, 2,52/2,52/2, 7.3*10*1000, 205, 0.3*10*1000, 0.7]\n",
    "conc_ppm_Lab_Lemco_L29=               [140,1.1*10*1000, 2,20/2,20/2, 1.9*10*1000, 140, 1.1*10*1000, 0.3] #meat extract\n",
    "conc_ppm_Liver_Digest_Neutralized_L27=[98,2.2*10*1000, 12,245/2,245/2, 1.6*10*1000, 210, 2.2*10*1000, 0.2] #liver extract\n",
    "\n",
    "Traces=pd.DataFrame({\"BiGG_ID\": Traces_BiGG_ID, \n",
    "                    \"conc_ppm_Bact_Peptone_L37\":conc_ppm_Bact_Peptone_L37, \n",
    "                    \"conc_ppm_Proteose_Peptone_L85\":conc_ppm_Proteose_Peptone_L85,\n",
    "                    \"conc_ppm_soya_peptone_L44\":conc_ppm_soya_peptone_L44, \n",
    "                    \"conc_ppm_yeast_extract\":conc_ppm_yeast_extract, \n",
    "                    'conc_ppm_Lab_Lemco_L29':conc_ppm_Lab_Lemco_L29,\n",
    "                    'conc_ppm_Liver_Digest_Neutralized_L27' :conc_ppm_Liver_Digest_Neutralized_L27 })"
   ]
  },
  {
   "cell_type": "code",
   "execution_count": 14,
   "metadata": {},
   "outputs": [],
   "source": [
    "#AA from peptones and yeast extract\n",
    "#http://www.oxoid.com/UK/blue/prod_detail/prod_detail.asp?pr=LP0037&c=UK&lang=EN&minfo=Y\n",
    "\n",
    "index_notinPeptones= np.where(np.isin(aa, ['asn_L(e)', 'asx_L(e)','gln_L(e)','glx_L(e)', 'his_L(e)']))\n",
    "index_notinPeptones=sorted(index_notinPeptones[0], reverse=True)\n",
    "aa_BiGG_ID=np.delete(aa, index_notinPeptones)\n",
    "\n",
    "aa_conc_ppm_Bact_Peptone_L37=np.array([3.92,4.99, 6.06, 1.66, 9.93, 7.71, 3.81, 3.79, 4.38, 1.58, 2.60, 5.83, 2.81, 1.25, 0.66, 0.39, 3.33])*10*1000\n",
    "aa_conc_ppm_Proteose_Peptone_L85=np.array([3.81, 5.80, 5.85, 0.15, 13.78, 4.45, 4.58, 6.01, 4.61, 1.08, 4.66, 5.99, 2.18, 2.75, 0.75, 1.77, 4.11])*10*1000\n",
    "aa_conc_ppm_soya_peptone_L44=np.array([2.57, 4.64, 7.06, 0.53, 14.71, 2.83, 2.51, 4.31, 3.77, 0.62, 0.38, 3.40, 0.67, 1.68, 0.64, 2.09, 3.65])*10*1000\n",
    "aa_conc_Yeast_Extract_L21=np.array([0.91, 3.31, 7.07, 0.76, 13.49, 5.95, 4.81, 6.04, 5.40, 0.80, 3.78, 0.88, 3.42, 2.73, 0.85, 4.95, 1.00])*10*1000\n",
    "aa_conc_ppm_Lab_Lemco_L29=np.array([5.85, 7.10, 5.10, 0.68, 10.71, 10.85, 3.17, 3.15, 4.78, 2.61, 2.34, 7.79, 1.87, 2.54, 0.34, 0.66, 3.06 ])*10*1000\n",
    "aa_conc_ppm_Liver_Digest_Neutralized_L27=np.array([3.40, 2.89, 5.85, 0.34, 10.38, 3.83, 2.11, 5.96, 6.02, 0.95, 2.45, 2.38, 0.83, 1.42, 1.02, 2.54, 3.05 ])*10*1000\n",
    "\n",
    "AA=pd.DataFrame({\"BiGG_ID\": aa_BiGG_ID, \n",
    "                    \"conc_ppm_Bact_Peptone_L37\":aa_conc_ppm_Bact_Peptone_L37,\n",
    "                    \"conc_ppm_Proteose_Peptone_L85\":aa_conc_ppm_Proteose_Peptone_L85,\n",
    "                    \"conc_ppm_soya_peptone_L44\":aa_conc_ppm_soya_peptone_L44,\n",
    "                    \"conc_ppm_yeast_extract\":aa_conc_Yeast_Extract_L21,  \n",
    "                    'conc_ppm_Lab_Lemco_L29':aa_conc_ppm_Lab_Lemco_L29,\n",
    "                    'conc_ppm_Liver_Digest_Neutralized_L27' : aa_conc_ppm_Liver_Digest_Neutralized_L27 })\n"
   ]
  },
  {
   "cell_type": "code",
   "execution_count": 15,
   "metadata": {},
   "outputs": [],
   "source": [
    "Weights_Mgam=weights[weights[\"BiGG_ID\"].isin(MediumMgam)]\n",
    "Traces_AA_ppm=AA.append(Traces)\n",
    "Traces_AA_ppm=pd.merge(Traces_AA_ppm, Weights_Mgam, on='BiGG_ID')"
   ]
  },
  {
   "cell_type": "code",
   "execution_count": 16,
   "metadata": {},
   "outputs": [
    {
     "output_type": "execute_result",
     "data": {
      "text/plain": [
       "['BiGG_ID',\n",
       " 'conc_ppm_Bact_Peptone_L37',\n",
       " 'conc_ppm_Proteose_Peptone_L85',\n",
       " 'conc_ppm_soya_peptone_L44',\n",
       " 'conc_ppm_yeast_extract',\n",
       " 'conc_ppm_Lab_Lemco_L29',\n",
       " 'conc_ppm_Liver_Digest_Neutralized_L27',\n",
       " 'query',\n",
       " 'hit']"
      ]
     },
     "metadata": {},
     "execution_count": 16
    }
   ],
   "source": [
    "col_list= list(Traces_AA_ppm)\n",
    "col_list.remove('mol_weight')"
   ]
  },
  {
   "source": [
    "if \"sum_ppm\" not in Traces_AA_ppm.columns:\n",
    "    Traces_AA_ppm[\"sum_ppm\"]=Traces_AA_ppm[col_list].sum(numeric_only=True, axis=1)\n",
    "Traces_AA_ppm[\"sum_mg_L\"]=Traces_AA_ppm[\"sum_ppm\"]\n",
    "Traces_AA_ppm[\"sum_mg_L\"]=np.array(Traces_AA_ppm[\"sum_ppm\"])\n",
    "Traces_AA_ppm[\"g_L\"]=np.array(Traces_AA_ppm[\"sum_ppm\"])/1000\n",
    "Traces_AA_ppm"
   ],
   "cell_type": "code",
   "metadata": {},
   "execution_count": 18,
   "outputs": [
    {
     "output_type": "execute_result",
     "data": {
      "text/plain": [
       "     BiGG_ID  conc_ppm_Bact_Peptone_L37  conc_ppm_Proteose_Peptone_L85  conc_ppm_soya_peptone_L44  conc_ppm_yeast_extract  conc_ppm_Lab_Lemco_L29  conc_ppm_Liver_Digest_Neutralized_L27            query              hit  mol_weight   sum_ppm  sum_mg_L       g_L\n",
       "0   ala_L(e)                    39200.0                        38100.0                    25700.0                  9100.0                 58500.0                                34000.0        L-Alanine        L-Alanine    89.09322  204600.0  204600.0  204.6000\n",
       "1   arg_L(e)                    49900.0                        58000.0                    46400.0                 33100.0                 71000.0                                28900.0       L-Arginine       L-Arginine   174.20100  287300.0  287300.0  287.3000\n",
       "2   asp_L(e)                    60600.0                        58500.0                    70600.0                 70700.0                 51000.0                                58500.0      L-Aspartate  L-Aspartic acid   133.10270  369900.0  369900.0  369.9000\n",
       "3   cys_L(e)                    16600.0                         1500.0                     5300.0                  7600.0                  6800.0                                 3400.0       L-Cysteine       L-Cysteine   121.15800   41200.0   41200.0   41.2000\n",
       "4   glu_L(e)                    99300.0                       137800.0                   147100.0                134900.0                107100.0                               103800.0      L-Glutamate  L-Glutamic acid   147.12930  730000.0  730000.0  730.0000\n",
       "5     gly(e)                    77100.0                        44500.0                    28300.0                 59500.0                108500.0                                38300.0          Glycine          Glycine    75.06664  356200.0  356200.0  356.2000\n",
       "6   ile_L(e)                    38100.0                        45800.0                    25100.0                 48100.0                 31700.0                                21100.0     L-Isoleucine     L-Isoleucine   131.17500  209900.0  209900.0  209.9000\n",
       "7   leu_L(e)                    37900.0                        60100.0                    43100.0                 60400.0                 31500.0                                59600.0        L-Leucine        L-Leucine   131.17296  292600.0  292600.0  292.6000\n",
       "8   lys_L(e)                    43800.0                        46100.0                    37700.0                 54000.0                 47800.0                                60200.0         L-Lysine         L-Lysine   146.18764  289600.0  289600.0  289.6000\n",
       "9   met_L(e)                    15800.0                        10800.0                     6200.0                  8000.0                 26100.0                                 9500.0     L-Methionine     L-Methionine   149.21238   76400.0   76400.0   76.4000\n",
       "10  phe_L(e)                    26000.0                        46600.0                     3800.0                 37800.0                 23400.0                                24500.0  L-Phenylalanine  L-Phenylalanine   165.18918  162100.0  162100.0  162.1000\n",
       "11  pro_L(e)                    58300.0                        59900.0                    34000.0                  8800.0                 77900.0                                23800.0        L-Proline        L-Proline   115.13050  262700.0  262700.0  262.7000\n",
       "12  ser_L(e)                    28100.0                        21800.0                     6700.0                 34200.0                 18700.0                                 8300.0         L-Serine         L-Serine   105.09262  117800.0  117800.0  117.8000\n",
       "13  thr_L(e)                    12500.0                        27500.0                    16800.0                 27300.0                 25400.0                                14200.0      L-Threonine      L-Threonine   119.11920  123700.0  123700.0  123.7000\n",
       "14  trp_L(e)                     6600.0                         7500.0                     6400.0                  8500.0                  3400.0                                10200.0     L-Tryptophan     L-Tryptophan   204.22526   42600.0   42600.0   42.6000\n",
       "15  tyr_L(e)                     3900.0                        17700.0                    20900.0                 49500.0                  6600.0                                25400.0       L-Tyrosine       L-Tyrosine   181.18858  124000.0  124000.0  124.0000\n",
       "16  val_L(e)                    33300.0                        41100.0                    36500.0                 10000.0                 30600.0                                30500.0         L-Valine         L-Valine   117.14638  182000.0  182000.0  182.0000\n",
       "17    ca2(e)                      635.0                          200.0                      225.0                   155.0                   140.0                                   98.0          Calcium          Calcium    40.07800    1453.0    1453.0    1.4530\n",
       "18     cl(e)                    10000.0                        80000.0                     4000.0                  3000.0                 11000.0                                22000.0         Chloride     Chloride ion    35.45270  130000.0  130000.0  130.0000\n",
       "19    cu2(e)                        1.0                           10.0                        2.0                     2.0                     2.0                                   12.0              Cu2                          NaN      29.0      29.0    0.0290\n",
       "20    fe2(e)                       11.0                           21.0                       45.0                    26.0                    10.0                                  122.5              Fe2                          NaN     235.5     235.5    0.2355\n",
       "21    fe3(e)                       11.0                           21.0                       45.0                    26.0                    10.0                                  122.5              Fe3                          NaN     235.5     235.5    0.2355\n",
       "22      k(e)                    36000.0                        14000.0                    33000.0                 73000.0                 19000.0                                16000.0                K         L-Lysine   146.18764  191000.0  191000.0  191.0000\n",
       "23    mg2(e)                      265.0                          340.0                     1530.0                   205.0                   140.0                                  210.0               Mg                          NaN    2690.0    2690.0    2.6900\n",
       "24    na1(e)                    10000.0                        80000.0                     4000.0                  3000.0                 11000.0                                22000.0           Sodium           Sodium    22.98977  130000.0  130000.0  130.0000\n",
       "25     pb(e)                        0.4                            0.1                        0.3                     0.7                     0.3                                    0.2             Lead             Lead   207.20000       2.0       2.0    0.0020"
      ],
      "text/html": "<div>\n<style scoped>\n    .dataframe tbody tr th:only-of-type {\n        vertical-align: middle;\n    }\n\n    .dataframe tbody tr th {\n        vertical-align: top;\n    }\n\n    .dataframe thead th {\n        text-align: right;\n    }\n</style>\n<table border=\"1\" class=\"dataframe\">\n  <thead>\n    <tr style=\"text-align: right;\">\n      <th></th>\n      <th>BiGG_ID</th>\n      <th>conc_ppm_Bact_Peptone_L37</th>\n      <th>conc_ppm_Proteose_Peptone_L85</th>\n      <th>conc_ppm_soya_peptone_L44</th>\n      <th>conc_ppm_yeast_extract</th>\n      <th>conc_ppm_Lab_Lemco_L29</th>\n      <th>conc_ppm_Liver_Digest_Neutralized_L27</th>\n      <th>query</th>\n      <th>hit</th>\n      <th>mol_weight</th>\n      <th>sum_ppm</th>\n      <th>sum_mg_L</th>\n      <th>g_L</th>\n    </tr>\n  </thead>\n  <tbody>\n    <tr>\n      <th>0</th>\n      <td>ala_L(e)</td>\n      <td>39200.0</td>\n      <td>38100.0</td>\n      <td>25700.0</td>\n      <td>9100.0</td>\n      <td>58500.0</td>\n      <td>34000.0</td>\n      <td>L-Alanine</td>\n      <td>L-Alanine</td>\n      <td>89.09322</td>\n      <td>204600.0</td>\n      <td>204600.0</td>\n      <td>204.6000</td>\n    </tr>\n    <tr>\n      <th>1</th>\n      <td>arg_L(e)</td>\n      <td>49900.0</td>\n      <td>58000.0</td>\n      <td>46400.0</td>\n      <td>33100.0</td>\n      <td>71000.0</td>\n      <td>28900.0</td>\n      <td>L-Arginine</td>\n      <td>L-Arginine</td>\n      <td>174.20100</td>\n      <td>287300.0</td>\n      <td>287300.0</td>\n      <td>287.3000</td>\n    </tr>\n    <tr>\n      <th>2</th>\n      <td>asp_L(e)</td>\n      <td>60600.0</td>\n      <td>58500.0</td>\n      <td>70600.0</td>\n      <td>70700.0</td>\n      <td>51000.0</td>\n      <td>58500.0</td>\n      <td>L-Aspartate</td>\n      <td>L-Aspartic acid</td>\n      <td>133.10270</td>\n      <td>369900.0</td>\n      <td>369900.0</td>\n      <td>369.9000</td>\n    </tr>\n    <tr>\n      <th>3</th>\n      <td>cys_L(e)</td>\n      <td>16600.0</td>\n      <td>1500.0</td>\n      <td>5300.0</td>\n      <td>7600.0</td>\n      <td>6800.0</td>\n      <td>3400.0</td>\n      <td>L-Cysteine</td>\n      <td>L-Cysteine</td>\n      <td>121.15800</td>\n      <td>41200.0</td>\n      <td>41200.0</td>\n      <td>41.2000</td>\n    </tr>\n    <tr>\n      <th>4</th>\n      <td>glu_L(e)</td>\n      <td>99300.0</td>\n      <td>137800.0</td>\n      <td>147100.0</td>\n      <td>134900.0</td>\n      <td>107100.0</td>\n      <td>103800.0</td>\n      <td>L-Glutamate</td>\n      <td>L-Glutamic acid</td>\n      <td>147.12930</td>\n      <td>730000.0</td>\n      <td>730000.0</td>\n      <td>730.0000</td>\n    </tr>\n    <tr>\n      <th>5</th>\n      <td>gly(e)</td>\n      <td>77100.0</td>\n      <td>44500.0</td>\n      <td>28300.0</td>\n      <td>59500.0</td>\n      <td>108500.0</td>\n      <td>38300.0</td>\n      <td>Glycine</td>\n      <td>Glycine</td>\n      <td>75.06664</td>\n      <td>356200.0</td>\n      <td>356200.0</td>\n      <td>356.2000</td>\n    </tr>\n    <tr>\n      <th>6</th>\n      <td>ile_L(e)</td>\n      <td>38100.0</td>\n      <td>45800.0</td>\n      <td>25100.0</td>\n      <td>48100.0</td>\n      <td>31700.0</td>\n      <td>21100.0</td>\n      <td>L-Isoleucine</td>\n      <td>L-Isoleucine</td>\n      <td>131.17500</td>\n      <td>209900.0</td>\n      <td>209900.0</td>\n      <td>209.9000</td>\n    </tr>\n    <tr>\n      <th>7</th>\n      <td>leu_L(e)</td>\n      <td>37900.0</td>\n      <td>60100.0</td>\n      <td>43100.0</td>\n      <td>60400.0</td>\n      <td>31500.0</td>\n      <td>59600.0</td>\n      <td>L-Leucine</td>\n      <td>L-Leucine</td>\n      <td>131.17296</td>\n      <td>292600.0</td>\n      <td>292600.0</td>\n      <td>292.6000</td>\n    </tr>\n    <tr>\n      <th>8</th>\n      <td>lys_L(e)</td>\n      <td>43800.0</td>\n      <td>46100.0</td>\n      <td>37700.0</td>\n      <td>54000.0</td>\n      <td>47800.0</td>\n      <td>60200.0</td>\n      <td>L-Lysine</td>\n      <td>L-Lysine</td>\n      <td>146.18764</td>\n      <td>289600.0</td>\n      <td>289600.0</td>\n      <td>289.6000</td>\n    </tr>\n    <tr>\n      <th>9</th>\n      <td>met_L(e)</td>\n      <td>15800.0</td>\n      <td>10800.0</td>\n      <td>6200.0</td>\n      <td>8000.0</td>\n      <td>26100.0</td>\n      <td>9500.0</td>\n      <td>L-Methionine</td>\n      <td>L-Methionine</td>\n      <td>149.21238</td>\n      <td>76400.0</td>\n      <td>76400.0</td>\n      <td>76.4000</td>\n    </tr>\n    <tr>\n      <th>10</th>\n      <td>phe_L(e)</td>\n      <td>26000.0</td>\n      <td>46600.0</td>\n      <td>3800.0</td>\n      <td>37800.0</td>\n      <td>23400.0</td>\n      <td>24500.0</td>\n      <td>L-Phenylalanine</td>\n      <td>L-Phenylalanine</td>\n      <td>165.18918</td>\n      <td>162100.0</td>\n      <td>162100.0</td>\n      <td>162.1000</td>\n    </tr>\n    <tr>\n      <th>11</th>\n      <td>pro_L(e)</td>\n      <td>58300.0</td>\n      <td>59900.0</td>\n      <td>34000.0</td>\n      <td>8800.0</td>\n      <td>77900.0</td>\n      <td>23800.0</td>\n      <td>L-Proline</td>\n      <td>L-Proline</td>\n      <td>115.13050</td>\n      <td>262700.0</td>\n      <td>262700.0</td>\n      <td>262.7000</td>\n    </tr>\n    <tr>\n      <th>12</th>\n      <td>ser_L(e)</td>\n      <td>28100.0</td>\n      <td>21800.0</td>\n      <td>6700.0</td>\n      <td>34200.0</td>\n      <td>18700.0</td>\n      <td>8300.0</td>\n      <td>L-Serine</td>\n      <td>L-Serine</td>\n      <td>105.09262</td>\n      <td>117800.0</td>\n      <td>117800.0</td>\n      <td>117.8000</td>\n    </tr>\n    <tr>\n      <th>13</th>\n      <td>thr_L(e)</td>\n      <td>12500.0</td>\n      <td>27500.0</td>\n      <td>16800.0</td>\n      <td>27300.0</td>\n      <td>25400.0</td>\n      <td>14200.0</td>\n      <td>L-Threonine</td>\n      <td>L-Threonine</td>\n      <td>119.11920</td>\n      <td>123700.0</td>\n      <td>123700.0</td>\n      <td>123.7000</td>\n    </tr>\n    <tr>\n      <th>14</th>\n      <td>trp_L(e)</td>\n      <td>6600.0</td>\n      <td>7500.0</td>\n      <td>6400.0</td>\n      <td>8500.0</td>\n      <td>3400.0</td>\n      <td>10200.0</td>\n      <td>L-Tryptophan</td>\n      <td>L-Tryptophan</td>\n      <td>204.22526</td>\n      <td>42600.0</td>\n      <td>42600.0</td>\n      <td>42.6000</td>\n    </tr>\n    <tr>\n      <th>15</th>\n      <td>tyr_L(e)</td>\n      <td>3900.0</td>\n      <td>17700.0</td>\n      <td>20900.0</td>\n      <td>49500.0</td>\n      <td>6600.0</td>\n      <td>25400.0</td>\n      <td>L-Tyrosine</td>\n      <td>L-Tyrosine</td>\n      <td>181.18858</td>\n      <td>124000.0</td>\n      <td>124000.0</td>\n      <td>124.0000</td>\n    </tr>\n    <tr>\n      <th>16</th>\n      <td>val_L(e)</td>\n      <td>33300.0</td>\n      <td>41100.0</td>\n      <td>36500.0</td>\n      <td>10000.0</td>\n      <td>30600.0</td>\n      <td>30500.0</td>\n      <td>L-Valine</td>\n      <td>L-Valine</td>\n      <td>117.14638</td>\n      <td>182000.0</td>\n      <td>182000.0</td>\n      <td>182.0000</td>\n    </tr>\n    <tr>\n      <th>17</th>\n      <td>ca2(e)</td>\n      <td>635.0</td>\n      <td>200.0</td>\n      <td>225.0</td>\n      <td>155.0</td>\n      <td>140.0</td>\n      <td>98.0</td>\n      <td>Calcium</td>\n      <td>Calcium</td>\n      <td>40.07800</td>\n      <td>1453.0</td>\n      <td>1453.0</td>\n      <td>1.4530</td>\n    </tr>\n    <tr>\n      <th>18</th>\n      <td>cl(e)</td>\n      <td>10000.0</td>\n      <td>80000.0</td>\n      <td>4000.0</td>\n      <td>3000.0</td>\n      <td>11000.0</td>\n      <td>22000.0</td>\n      <td>Chloride</td>\n      <td>Chloride ion</td>\n      <td>35.45270</td>\n      <td>130000.0</td>\n      <td>130000.0</td>\n      <td>130.0000</td>\n    </tr>\n    <tr>\n      <th>19</th>\n      <td>cu2(e)</td>\n      <td>1.0</td>\n      <td>10.0</td>\n      <td>2.0</td>\n      <td>2.0</td>\n      <td>2.0</td>\n      <td>12.0</td>\n      <td>Cu2</td>\n      <td></td>\n      <td>NaN</td>\n      <td>29.0</td>\n      <td>29.0</td>\n      <td>0.0290</td>\n    </tr>\n    <tr>\n      <th>20</th>\n      <td>fe2(e)</td>\n      <td>11.0</td>\n      <td>21.0</td>\n      <td>45.0</td>\n      <td>26.0</td>\n      <td>10.0</td>\n      <td>122.5</td>\n      <td>Fe2</td>\n      <td></td>\n      <td>NaN</td>\n      <td>235.5</td>\n      <td>235.5</td>\n      <td>0.2355</td>\n    </tr>\n    <tr>\n      <th>21</th>\n      <td>fe3(e)</td>\n      <td>11.0</td>\n      <td>21.0</td>\n      <td>45.0</td>\n      <td>26.0</td>\n      <td>10.0</td>\n      <td>122.5</td>\n      <td>Fe3</td>\n      <td></td>\n      <td>NaN</td>\n      <td>235.5</td>\n      <td>235.5</td>\n      <td>0.2355</td>\n    </tr>\n    <tr>\n      <th>22</th>\n      <td>k(e)</td>\n      <td>36000.0</td>\n      <td>14000.0</td>\n      <td>33000.0</td>\n      <td>73000.0</td>\n      <td>19000.0</td>\n      <td>16000.0</td>\n      <td>K</td>\n      <td>L-Lysine</td>\n      <td>146.18764</td>\n      <td>191000.0</td>\n      <td>191000.0</td>\n      <td>191.0000</td>\n    </tr>\n    <tr>\n      <th>23</th>\n      <td>mg2(e)</td>\n      <td>265.0</td>\n      <td>340.0</td>\n      <td>1530.0</td>\n      <td>205.0</td>\n      <td>140.0</td>\n      <td>210.0</td>\n      <td>Mg</td>\n      <td></td>\n      <td>NaN</td>\n      <td>2690.0</td>\n      <td>2690.0</td>\n      <td>2.6900</td>\n    </tr>\n    <tr>\n      <th>24</th>\n      <td>na1(e)</td>\n      <td>10000.0</td>\n      <td>80000.0</td>\n      <td>4000.0</td>\n      <td>3000.0</td>\n      <td>11000.0</td>\n      <td>22000.0</td>\n      <td>Sodium</td>\n      <td>Sodium</td>\n      <td>22.98977</td>\n      <td>130000.0</td>\n      <td>130000.0</td>\n      <td>130.0000</td>\n    </tr>\n    <tr>\n      <th>25</th>\n      <td>pb(e)</td>\n      <td>0.4</td>\n      <td>0.1</td>\n      <td>0.3</td>\n      <td>0.7</td>\n      <td>0.3</td>\n      <td>0.2</td>\n      <td>Lead</td>\n      <td>Lead</td>\n      <td>207.20000</td>\n      <td>2.0</td>\n      <td>2.0</td>\n      <td>0.0020</td>\n    </tr>\n  </tbody>\n</table>\n</div>"
     },
     "metadata": {},
     "execution_count": 18
    }
   ]
  },
  {
   "cell_type": "code",
   "execution_count": 19,
   "metadata": {},
   "outputs": [
    {
     "output_type": "execute_result",
     "data": {
      "text/plain": [
       "     BiGG_ID  g_L                                              query           hit  mol_weight\n",
       "0     glc(e)  0.5                                          D-Glucose     D-Glucose   180.15588\n",
       "1  strch1(e)  5.0  starch, structure 1 (1,6-{7[1,4-Glc], 4[1,4-Gl...                       NaN\n",
       "2   trp_L(e)  0.2                                       L-Tryptophan  L-Tryptophan   204.22526\n",
       "3   cys_L(e)  0.3                                         L-Cysteine    L-Cysteine   121.15800\n",
       "4       h(e)  0.3                                                  H   L-Histidine   155.15468\n",
       "5      cl(e)  3.3                                           Chloride  Chloride ion    35.45270\n",
       "6     na1(e)  3.3                                             Sodium        Sodium    22.98977\n",
       "7   arg_L(e)  1.0                                         L-Arginine    L-Arginine   174.20100\n",
       "8       k(e)  2.5                                                  K      L-Lysine   146.18764\n",
       "9      pi(e)  2.5                                          Phosphate     Phosphate    97.99520"
      ],
      "text/html": "<div>\n<style scoped>\n    .dataframe tbody tr th:only-of-type {\n        vertical-align: middle;\n    }\n\n    .dataframe tbody tr th {\n        vertical-align: top;\n    }\n\n    .dataframe thead th {\n        text-align: right;\n    }\n</style>\n<table border=\"1\" class=\"dataframe\">\n  <thead>\n    <tr style=\"text-align: right;\">\n      <th></th>\n      <th>BiGG_ID</th>\n      <th>g_L</th>\n      <th>query</th>\n      <th>hit</th>\n      <th>mol_weight</th>\n    </tr>\n  </thead>\n  <tbody>\n    <tr>\n      <th>0</th>\n      <td>glc(e)</td>\n      <td>0.5</td>\n      <td>D-Glucose</td>\n      <td>D-Glucose</td>\n      <td>180.15588</td>\n    </tr>\n    <tr>\n      <th>1</th>\n      <td>strch1(e)</td>\n      <td>5.0</td>\n      <td>starch, structure 1 (1,6-{7[1,4-Glc], 4[1,4-Gl...</td>\n      <td></td>\n      <td>NaN</td>\n    </tr>\n    <tr>\n      <th>2</th>\n      <td>trp_L(e)</td>\n      <td>0.2</td>\n      <td>L-Tryptophan</td>\n      <td>L-Tryptophan</td>\n      <td>204.22526</td>\n    </tr>\n    <tr>\n      <th>3</th>\n      <td>cys_L(e)</td>\n      <td>0.3</td>\n      <td>L-Cysteine</td>\n      <td>L-Cysteine</td>\n      <td>121.15800</td>\n    </tr>\n    <tr>\n      <th>4</th>\n      <td>h(e)</td>\n      <td>0.3</td>\n      <td>H</td>\n      <td>L-Histidine</td>\n      <td>155.15468</td>\n    </tr>\n    <tr>\n      <th>5</th>\n      <td>cl(e)</td>\n      <td>3.3</td>\n      <td>Chloride</td>\n      <td>Chloride ion</td>\n      <td>35.45270</td>\n    </tr>\n    <tr>\n      <th>6</th>\n      <td>na1(e)</td>\n      <td>3.3</td>\n      <td>Sodium</td>\n      <td>Sodium</td>\n      <td>22.98977</td>\n    </tr>\n    <tr>\n      <th>7</th>\n      <td>arg_L(e)</td>\n      <td>1.0</td>\n      <td>L-Arginine</td>\n      <td>L-Arginine</td>\n      <td>174.20100</td>\n    </tr>\n    <tr>\n      <th>8</th>\n      <td>k(e)</td>\n      <td>2.5</td>\n      <td>K</td>\n      <td>L-Lysine</td>\n      <td>146.18764</td>\n    </tr>\n    <tr>\n      <th>9</th>\n      <td>pi(e)</td>\n      <td>2.5</td>\n      <td>Phosphate</td>\n      <td>Phosphate</td>\n      <td>97.99520</td>\n    </tr>\n  </tbody>\n</table>\n</div>"
     },
     "metadata": {},
     "execution_count": 19
    }
   ],
   "source": [
    "#Defined ingredients\n",
    "defined=np.array(['glc(e)','strch1(e)', 'trp_L(e)', 'cys_L(e)', 'h(e)', 'cl(e)', 'na1(e)', 'arg_L(e)', 'k(e)', 'pi(e)'])\n",
    "conc_defined_g_l=np.array([0.5, 5, 0.2, 0.3, 0.3, 0.3+3, 0.3+3, 1, 2.5, 2.5])\n",
    "defined_g_L=pd.merge(pd.DataFrame({'BiGG_ID':defined, 'g_L':conc_defined_g_l}), Weights_Mgam, on='BiGG_ID')\n",
    "defined_g_L"
   ]
  },
  {
   "cell_type": "code",
   "execution_count": 20,
   "metadata": {},
   "outputs": [],
   "source": [
    "Traces_AA_def=Traces_AA_ppm[[\"BiGG_ID\", \"query\", \"hit\", \"g_L\", \"mol_weight\"]].append(defined_g_L).reset_index()\n",
    "\n",
    "missing_weights_BiGG_ID=np.array(Traces_AA_def[Traces_AA_def['mol_weight'].isnull()][\"BiGG_ID\"])\n",
    "missing_weights=Mol_Weight([\"Copper\", \"Fe\", \"Magnesium\", \"Maltoundecadose\"]) #Maltoundecadose equals \n",
    "Fe=missing_weights.loc[1:1]\n",
    "missing_weights_weights = pd.concat([missing_weights.loc[:1], Fe, missing_weights.loc[2:]]).reset_index(drop=True)\n",
    "missing_weights_weights.loc[4:4][\"mol_weight\"]=1801.6 #g/mol https://pubchem.ncbi.nlm.nih.gov/compound/Maltoundecaose#section=Computed-Properties "
   ]
  },
  {
   "cell_type": "code",
   "execution_count": 21,
   "metadata": {},
   "outputs": [
    {
     "output_type": "execute_result",
     "data": {
      "text/plain": [
       "    index    BiGG_ID                                              query              hit       g_L  mol_weight       mmol/L\n",
       "0       0   ala_L(e)                                          L-Alanine        L-Alanine  204.6000    89.09322  2296.471045\n",
       "1       1   arg_L(e)                                         L-Arginine       L-Arginine  287.3000   174.20100  1649.244264\n",
       "2       2   asp_L(e)                                        L-Aspartate  L-Aspartic acid  369.9000   133.10270  2779.057074\n",
       "3       3   cys_L(e)                                         L-Cysteine       L-Cysteine   41.2000   121.15800   340.051833\n",
       "4       4   glu_L(e)                                        L-Glutamate  L-Glutamic acid  730.0000   147.12930  4961.622192\n",
       "5       5     gly(e)                                            Glycine          Glycine  356.2000    75.06664  4745.117139\n",
       "6       6   ile_L(e)                                       L-Isoleucine     L-Isoleucine  209.9000   131.17500  1600.152468\n",
       "7       7   leu_L(e)                                          L-Leucine        L-Leucine  292.6000   131.17296  2230.642657\n",
       "8       8   lys_L(e)                                           L-Lysine         L-Lysine  289.6000   146.18764  1981.015632\n",
       "9       9   met_L(e)                                       L-Methionine     L-Methionine   76.4000   149.21238   512.021858\n",
       "10     10   phe_L(e)                                    L-Phenylalanine  L-Phenylalanine  162.1000   165.18918   981.299138\n",
       "11     11   pro_L(e)                                          L-Proline        L-Proline  262.7000   115.13050  2281.758526\n",
       "12     12   ser_L(e)                                           L-Serine         L-Serine  117.8000   105.09262  1120.916007\n",
       "13     13   thr_L(e)                                        L-Threonine      L-Threonine  123.7000   119.11920  1038.455597\n",
       "14     14   trp_L(e)                                       L-Tryptophan     L-Tryptophan   42.6000   204.22526   208.593198\n",
       "15     15   tyr_L(e)                                         L-Tyrosine       L-Tyrosine  124.0000   181.18858   684.369843\n",
       "16     16   val_L(e)                                           L-Valine         L-Valine  182.0000   117.14638  1553.611815\n",
       "17     17     ca2(e)                                            Calcium          Calcium    1.4530    40.07800    36.254304\n",
       "18     18      cl(e)                                           Chloride     Chloride ion  130.0000    35.45270  3666.857531\n",
       "19     19     cu2(e)                                                Cu2                     0.0290    63.54600     0.456362\n",
       "20     20     fe2(e)                                                Fe2                     0.2355    55.84500     4.217029\n",
       "21     21     fe3(e)                                                Fe3                     0.2355    55.84500     4.217029\n",
       "22     22       k(e)                                                  K         L-Lysine  191.0000   146.18764  1306.540006\n",
       "23     23     mg2(e)                                                 Mg                     2.6900    24.30500   110.676815\n",
       "24     24     na1(e)                                             Sodium           Sodium  130.0000    22.98977  5654.689020\n",
       "25     25      pb(e)                                               Lead             Lead    0.0020   207.20000     0.009653\n",
       "26      0     glc(e)                                          D-Glucose        D-Glucose    0.5000   180.15588     2.775374\n",
       "27      1  strch1(e)  starch, structure 1 (1,6-{7[1,4-Glc], 4[1,4-Gl...                     5.0000  1801.60000     2.775311\n",
       "28      2   trp_L(e)                                       L-Tryptophan     L-Tryptophan    0.2000   204.22526     0.979311\n",
       "29      3   cys_L(e)                                         L-Cysteine       L-Cysteine    0.3000   121.15800     2.476106\n",
       "30      4       h(e)                                                  H      L-Histidine    0.3000   155.15468     1.933554\n",
       "31      5      cl(e)                                           Chloride     Chloride ion    3.3000    35.45270    93.081768\n",
       "32      6     na1(e)                                             Sodium           Sodium    3.3000    22.98977   143.542106\n",
       "33      7   arg_L(e)                                         L-Arginine       L-Arginine    1.0000   174.20100     5.740495\n",
       "34      8       k(e)                                                  K         L-Lysine    2.5000   146.18764    17.101309\n",
       "35      9      pi(e)                                          Phosphate        Phosphate    2.5000    97.99520    25.511454"
      ],
      "text/html": "<div>\n<style scoped>\n    .dataframe tbody tr th:only-of-type {\n        vertical-align: middle;\n    }\n\n    .dataframe tbody tr th {\n        vertical-align: top;\n    }\n\n    .dataframe thead th {\n        text-align: right;\n    }\n</style>\n<table border=\"1\" class=\"dataframe\">\n  <thead>\n    <tr style=\"text-align: right;\">\n      <th></th>\n      <th>index</th>\n      <th>BiGG_ID</th>\n      <th>query</th>\n      <th>hit</th>\n      <th>g_L</th>\n      <th>mol_weight</th>\n      <th>mmol/L</th>\n    </tr>\n  </thead>\n  <tbody>\n    <tr>\n      <th>0</th>\n      <td>0</td>\n      <td>ala_L(e)</td>\n      <td>L-Alanine</td>\n      <td>L-Alanine</td>\n      <td>204.6000</td>\n      <td>89.09322</td>\n      <td>2296.471045</td>\n    </tr>\n    <tr>\n      <th>1</th>\n      <td>1</td>\n      <td>arg_L(e)</td>\n      <td>L-Arginine</td>\n      <td>L-Arginine</td>\n      <td>287.3000</td>\n      <td>174.20100</td>\n      <td>1649.244264</td>\n    </tr>\n    <tr>\n      <th>2</th>\n      <td>2</td>\n      <td>asp_L(e)</td>\n      <td>L-Aspartate</td>\n      <td>L-Aspartic acid</td>\n      <td>369.9000</td>\n      <td>133.10270</td>\n      <td>2779.057074</td>\n    </tr>\n    <tr>\n      <th>3</th>\n      <td>3</td>\n      <td>cys_L(e)</td>\n      <td>L-Cysteine</td>\n      <td>L-Cysteine</td>\n      <td>41.2000</td>\n      <td>121.15800</td>\n      <td>340.051833</td>\n    </tr>\n    <tr>\n      <th>4</th>\n      <td>4</td>\n      <td>glu_L(e)</td>\n      <td>L-Glutamate</td>\n      <td>L-Glutamic acid</td>\n      <td>730.0000</td>\n      <td>147.12930</td>\n      <td>4961.622192</td>\n    </tr>\n    <tr>\n      <th>5</th>\n      <td>5</td>\n      <td>gly(e)</td>\n      <td>Glycine</td>\n      <td>Glycine</td>\n      <td>356.2000</td>\n      <td>75.06664</td>\n      <td>4745.117139</td>\n    </tr>\n    <tr>\n      <th>6</th>\n      <td>6</td>\n      <td>ile_L(e)</td>\n      <td>L-Isoleucine</td>\n      <td>L-Isoleucine</td>\n      <td>209.9000</td>\n      <td>131.17500</td>\n      <td>1600.152468</td>\n    </tr>\n    <tr>\n      <th>7</th>\n      <td>7</td>\n      <td>leu_L(e)</td>\n      <td>L-Leucine</td>\n      <td>L-Leucine</td>\n      <td>292.6000</td>\n      <td>131.17296</td>\n      <td>2230.642657</td>\n    </tr>\n    <tr>\n      <th>8</th>\n      <td>8</td>\n      <td>lys_L(e)</td>\n      <td>L-Lysine</td>\n      <td>L-Lysine</td>\n      <td>289.6000</td>\n      <td>146.18764</td>\n      <td>1981.015632</td>\n    </tr>\n    <tr>\n      <th>9</th>\n      <td>9</td>\n      <td>met_L(e)</td>\n      <td>L-Methionine</td>\n      <td>L-Methionine</td>\n      <td>76.4000</td>\n      <td>149.21238</td>\n      <td>512.021858</td>\n    </tr>\n    <tr>\n      <th>10</th>\n      <td>10</td>\n      <td>phe_L(e)</td>\n      <td>L-Phenylalanine</td>\n      <td>L-Phenylalanine</td>\n      <td>162.1000</td>\n      <td>165.18918</td>\n      <td>981.299138</td>\n    </tr>\n    <tr>\n      <th>11</th>\n      <td>11</td>\n      <td>pro_L(e)</td>\n      <td>L-Proline</td>\n      <td>L-Proline</td>\n      <td>262.7000</td>\n      <td>115.13050</td>\n      <td>2281.758526</td>\n    </tr>\n    <tr>\n      <th>12</th>\n      <td>12</td>\n      <td>ser_L(e)</td>\n      <td>L-Serine</td>\n      <td>L-Serine</td>\n      <td>117.8000</td>\n      <td>105.09262</td>\n      <td>1120.916007</td>\n    </tr>\n    <tr>\n      <th>13</th>\n      <td>13</td>\n      <td>thr_L(e)</td>\n      <td>L-Threonine</td>\n      <td>L-Threonine</td>\n      <td>123.7000</td>\n      <td>119.11920</td>\n      <td>1038.455597</td>\n    </tr>\n    <tr>\n      <th>14</th>\n      <td>14</td>\n      <td>trp_L(e)</td>\n      <td>L-Tryptophan</td>\n      <td>L-Tryptophan</td>\n      <td>42.6000</td>\n      <td>204.22526</td>\n      <td>208.593198</td>\n    </tr>\n    <tr>\n      <th>15</th>\n      <td>15</td>\n      <td>tyr_L(e)</td>\n      <td>L-Tyrosine</td>\n      <td>L-Tyrosine</td>\n      <td>124.0000</td>\n      <td>181.18858</td>\n      <td>684.369843</td>\n    </tr>\n    <tr>\n      <th>16</th>\n      <td>16</td>\n      <td>val_L(e)</td>\n      <td>L-Valine</td>\n      <td>L-Valine</td>\n      <td>182.0000</td>\n      <td>117.14638</td>\n      <td>1553.611815</td>\n    </tr>\n    <tr>\n      <th>17</th>\n      <td>17</td>\n      <td>ca2(e)</td>\n      <td>Calcium</td>\n      <td>Calcium</td>\n      <td>1.4530</td>\n      <td>40.07800</td>\n      <td>36.254304</td>\n    </tr>\n    <tr>\n      <th>18</th>\n      <td>18</td>\n      <td>cl(e)</td>\n      <td>Chloride</td>\n      <td>Chloride ion</td>\n      <td>130.0000</td>\n      <td>35.45270</td>\n      <td>3666.857531</td>\n    </tr>\n    <tr>\n      <th>19</th>\n      <td>19</td>\n      <td>cu2(e)</td>\n      <td>Cu2</td>\n      <td></td>\n      <td>0.0290</td>\n      <td>63.54600</td>\n      <td>0.456362</td>\n    </tr>\n    <tr>\n      <th>20</th>\n      <td>20</td>\n      <td>fe2(e)</td>\n      <td>Fe2</td>\n      <td></td>\n      <td>0.2355</td>\n      <td>55.84500</td>\n      <td>4.217029</td>\n    </tr>\n    <tr>\n      <th>21</th>\n      <td>21</td>\n      <td>fe3(e)</td>\n      <td>Fe3</td>\n      <td></td>\n      <td>0.2355</td>\n      <td>55.84500</td>\n      <td>4.217029</td>\n    </tr>\n    <tr>\n      <th>22</th>\n      <td>22</td>\n      <td>k(e)</td>\n      <td>K</td>\n      <td>L-Lysine</td>\n      <td>191.0000</td>\n      <td>146.18764</td>\n      <td>1306.540006</td>\n    </tr>\n    <tr>\n      <th>23</th>\n      <td>23</td>\n      <td>mg2(e)</td>\n      <td>Mg</td>\n      <td></td>\n      <td>2.6900</td>\n      <td>24.30500</td>\n      <td>110.676815</td>\n    </tr>\n    <tr>\n      <th>24</th>\n      <td>24</td>\n      <td>na1(e)</td>\n      <td>Sodium</td>\n      <td>Sodium</td>\n      <td>130.0000</td>\n      <td>22.98977</td>\n      <td>5654.689020</td>\n    </tr>\n    <tr>\n      <th>25</th>\n      <td>25</td>\n      <td>pb(e)</td>\n      <td>Lead</td>\n      <td>Lead</td>\n      <td>0.0020</td>\n      <td>207.20000</td>\n      <td>0.009653</td>\n    </tr>\n    <tr>\n      <th>26</th>\n      <td>0</td>\n      <td>glc(e)</td>\n      <td>D-Glucose</td>\n      <td>D-Glucose</td>\n      <td>0.5000</td>\n      <td>180.15588</td>\n      <td>2.775374</td>\n    </tr>\n    <tr>\n      <th>27</th>\n      <td>1</td>\n      <td>strch1(e)</td>\n      <td>starch, structure 1 (1,6-{7[1,4-Glc], 4[1,4-Gl...</td>\n      <td></td>\n      <td>5.0000</td>\n      <td>1801.60000</td>\n      <td>2.775311</td>\n    </tr>\n    <tr>\n      <th>28</th>\n      <td>2</td>\n      <td>trp_L(e)</td>\n      <td>L-Tryptophan</td>\n      <td>L-Tryptophan</td>\n      <td>0.2000</td>\n      <td>204.22526</td>\n      <td>0.979311</td>\n    </tr>\n    <tr>\n      <th>29</th>\n      <td>3</td>\n      <td>cys_L(e)</td>\n      <td>L-Cysteine</td>\n      <td>L-Cysteine</td>\n      <td>0.3000</td>\n      <td>121.15800</td>\n      <td>2.476106</td>\n    </tr>\n    <tr>\n      <th>30</th>\n      <td>4</td>\n      <td>h(e)</td>\n      <td>H</td>\n      <td>L-Histidine</td>\n      <td>0.3000</td>\n      <td>155.15468</td>\n      <td>1.933554</td>\n    </tr>\n    <tr>\n      <th>31</th>\n      <td>5</td>\n      <td>cl(e)</td>\n      <td>Chloride</td>\n      <td>Chloride ion</td>\n      <td>3.3000</td>\n      <td>35.45270</td>\n      <td>93.081768</td>\n    </tr>\n    <tr>\n      <th>32</th>\n      <td>6</td>\n      <td>na1(e)</td>\n      <td>Sodium</td>\n      <td>Sodium</td>\n      <td>3.3000</td>\n      <td>22.98977</td>\n      <td>143.542106</td>\n    </tr>\n    <tr>\n      <th>33</th>\n      <td>7</td>\n      <td>arg_L(e)</td>\n      <td>L-Arginine</td>\n      <td>L-Arginine</td>\n      <td>1.0000</td>\n      <td>174.20100</td>\n      <td>5.740495</td>\n    </tr>\n    <tr>\n      <th>34</th>\n      <td>8</td>\n      <td>k(e)</td>\n      <td>K</td>\n      <td>L-Lysine</td>\n      <td>2.5000</td>\n      <td>146.18764</td>\n      <td>17.101309</td>\n    </tr>\n    <tr>\n      <th>35</th>\n      <td>9</td>\n      <td>pi(e)</td>\n      <td>Phosphate</td>\n      <td>Phosphate</td>\n      <td>2.5000</td>\n      <td>97.99520</td>\n      <td>25.511454</td>\n    </tr>\n  </tbody>\n</table>\n</div>"
     },
     "metadata": {},
     "execution_count": 21
    }
   ],
   "source": [
    "index=Traces_AA_def[Traces_AA_def[\"mol_weight\"].isnull()].index\n",
    "for i in range(0,len(index)):\n",
    "    Traces_AA_def.loc[index[i],\"mol_weight\"]= missing_weights_weights[\"mol_weight\"][i]\n",
    "Traces_AA_def[\"mmol/L\"]=Traces_AA_def[\"g_L\"]/Traces_AA_def[\"mol_weight\"]*1000\n",
    "Traces_AA_def"
   ]
  },
  {
   "cell_type": "code",
   "execution_count": 22,
   "metadata": {},
   "outputs": [
    {
     "output_type": "stream",
     "name": "stdout",
     "text": [
      "\nMedium_mgam\n"
     ]
    },
    {
     "output_type": "execute_result",
     "data": {
      "text/plain": [
       "<cobra.summary.model_summary.ModelSummary at 0x7f656234e7d0>"
      ],
      "text/html": "<h3>Objective</h3><p>1.0 Biomass_FP = 10.683145815473363</p><h4>Uptake</h4><table border=\"1\" class=\"dataframe\">\n  <thead>\n    <tr style=\"text-align: right;\">\n      <th>Metabolite</th>\n      <th>Reaction</th>\n      <th>Flux</th>\n      <th>C-Number</th>\n      <th>C-Flux</th>\n    </tr>\n  </thead>\n  <tbody>\n    <tr>\n      <td>Lcystin[e]</td>\n      <td>EX_Lcystin(e)</td>\n      <td>0.5354</td>\n      <td>6</td>\n      <td>0.08%</td>\n    </tr>\n    <tr>\n      <td>adocbl[e]</td>\n      <td>EX_adocbl(e)</td>\n      <td>0.06007</td>\n      <td>72</td>\n      <td>0.10%</td>\n    </tr>\n    <tr>\n      <td>ala-D[e]</td>\n      <td>EX_ala_D(e)</td>\n      <td>1.976</td>\n      <td>3</td>\n      <td>0.14%</td>\n    </tr>\n    <tr>\n      <td>ala-L[e]</td>\n      <td>EX_ala_L(e)</td>\n      <td>6.33</td>\n      <td>3</td>\n      <td>0.46%</td>\n    </tr>\n    <tr>\n      <td>arg-L[e]</td>\n      <td>EX_arg_L(e)</td>\n      <td>5.388</td>\n      <td>6</td>\n      <td>0.78%</td>\n    </tr>\n    <tr>\n      <td>btn[e]</td>\n      <td>EX_btn(e)</td>\n      <td>0.06007</td>\n      <td>10</td>\n      <td>0.01%</td>\n    </tr>\n    <tr>\n      <td>ca2[e]</td>\n      <td>EX_ca2(e)</td>\n      <td>0.06007</td>\n      <td>0</td>\n      <td>0.00%</td>\n    </tr>\n    <tr>\n      <td>cl[e]</td>\n      <td>EX_cl(e)</td>\n      <td>0.06007</td>\n      <td>0</td>\n      <td>0.00%</td>\n    </tr>\n    <tr>\n      <td>cobalt2[e]</td>\n      <td>EX_cobalt2(e)</td>\n      <td>0.06007</td>\n      <td>0</td>\n      <td>0.00%</td>\n    </tr>\n    <tr>\n      <td>cu2[e]</td>\n      <td>EX_cu2(e)</td>\n      <td>0.06007</td>\n      <td>0</td>\n      <td>0.00%</td>\n    </tr>\n    <tr>\n      <td>fe3[e]</td>\n      <td>EX_fe3(e)</td>\n      <td>4.217</td>\n      <td>0</td>\n      <td>0.00%</td>\n    </tr>\n    <tr>\n      <td>fol[e]</td>\n      <td>EX_fol(e)</td>\n      <td>0.1802</td>\n      <td>19</td>\n      <td>0.08%</td>\n    </tr>\n    <tr>\n      <td>glc-D[e]</td>\n      <td>EX_glc(e)</td>\n      <td>2.775</td>\n      <td>6</td>\n      <td>0.40%</td>\n    </tr>\n    <tr>\n      <td>glu-L[e]</td>\n      <td>EX_glu_L(e)</td>\n      <td>6.458</td>\n      <td>5</td>\n      <td>0.78%</td>\n    </tr>\n    <tr>\n      <td>gua[e]</td>\n      <td>EX_gua(e)</td>\n      <td>2.485</td>\n      <td>5</td>\n      <td>0.30%</td>\n    </tr>\n    <tr>\n      <td>h[e]</td>\n      <td>EX_h(e)</td>\n      <td>1.934</td>\n      <td>0</td>\n      <td>0.00%</td>\n    </tr>\n    <tr>\n      <td>h2o[e]</td>\n      <td>EX_h2o(e)</td>\n      <td>10</td>\n      <td>0</td>\n      <td>0.00%</td>\n    </tr>\n    <tr>\n      <td>his-L[e]</td>\n      <td>EX_his_L(e)</td>\n      <td>0.9895</td>\n      <td>6</td>\n      <td>0.14%</td>\n    </tr>\n    <tr>\n      <td>ins[e]</td>\n      <td>EX_ins(e)</td>\n      <td>10</td>\n      <td>10</td>\n      <td>2.41%</td>\n    </tr>\n    <tr>\n      <td>k[e]</td>\n      <td>EX_k(e)</td>\n      <td>0.06007</td>\n      <td>0</td>\n      <td>0.00%</td>\n    </tr>\n    <tr>\n      <td>leu-L[e]</td>\n      <td>EX_leu_L(e)</td>\n      <td>4.686</td>\n      <td>6</td>\n      <td>0.68%</td>\n    </tr>\n    <tr>\n      <td>met-L[e]</td>\n      <td>EX_met_L(e)</td>\n      <td>1.655</td>\n      <td>5</td>\n      <td>0.20%</td>\n    </tr>\n    <tr>\n      <td>mg2[e]</td>\n      <td>EX_mg2(e)</td>\n      <td>0.06007</td>\n      <td>0</td>\n      <td>0.00%</td>\n    </tr>\n    <tr>\n      <td>na1[e]</td>\n      <td>EX_na1(e)</td>\n      <td>143.5</td>\n      <td>0</td>\n      <td>0.00%</td>\n    </tr>\n    <tr>\n      <td>nac[e]</td>\n      <td>EX_nac(e)</td>\n      <td>0.1201</td>\n      <td>6</td>\n      <td>0.02%</td>\n    </tr>\n    <tr>\n      <td>phe-L[e]</td>\n      <td>EX_phe_L(e)</td>\n      <td>1.934</td>\n      <td>9</td>\n      <td>0.42%</td>\n    </tr>\n    <tr>\n      <td>pi[e]</td>\n      <td>EX_pi(e)</td>\n      <td>19.84</td>\n      <td>0</td>\n      <td>0.00%</td>\n    </tr>\n    <tr>\n      <td>pnto-R[e]</td>\n      <td>EX_pnto_R(e)</td>\n      <td>0.1201</td>\n      <td>9</td>\n      <td>0.03%</td>\n    </tr>\n    <tr>\n      <td>pro-L[e]</td>\n      <td>EX_pro_L(e)</td>\n      <td>2.301</td>\n      <td>5</td>\n      <td>0.28%</td>\n    </tr>\n    <tr>\n      <td>pydx[e]</td>\n      <td>EX_pydx(e)</td>\n      <td>0.06007</td>\n      <td>8</td>\n      <td>0.01%</td>\n    </tr>\n    <tr>\n      <td>ribflv[e]</td>\n      <td>EX_ribflv(e)</td>\n      <td>0.1201</td>\n      <td>17</td>\n      <td>0.05%</td>\n    </tr>\n    <tr>\n      <td>ser-L[e]</td>\n      <td>EX_ser_L(e)</td>\n      <td>856.9</td>\n      <td>3</td>\n      <td>61.88%</td>\n    </tr>\n    <tr>\n      <td>so4[e]</td>\n      <td>EX_so4(e)</td>\n      <td>0.06007</td>\n      <td>0</td>\n      <td>0.00%</td>\n    </tr>\n    <tr>\n      <td>strch1[e]</td>\n      <td>EX_strch1(e)</td>\n      <td>2.775</td>\n      <td>66</td>\n      <td>4.41%</td>\n    </tr>\n    <tr>\n      <td>thm[e]</td>\n      <td>EX_thm(e)</td>\n      <td>0.06007</td>\n      <td>12</td>\n      <td>0.02%</td>\n    </tr>\n    <tr>\n      <td>thr-L[e]</td>\n      <td>EX_thr_L(e)</td>\n      <td>264.6</td>\n      <td>4</td>\n      <td>25.47%</td>\n    </tr>\n    <tr>\n      <td>thymd[e]</td>\n      <td>EX_thymd(e)</td>\n      <td>0.3112</td>\n      <td>10</td>\n      <td>0.07%</td>\n    </tr>\n    <tr>\n      <td>trp-L[e]</td>\n      <td>EX_trp_L(e)</td>\n      <td>0.5893</td>\n      <td>11</td>\n      <td>0.16%</td>\n    </tr>\n    <tr>\n      <td>tyr-L[e]</td>\n      <td>EX_tyr_L(e)</td>\n      <td>1.434</td>\n      <td>9</td>\n      <td>0.31%</td>\n    </tr>\n    <tr>\n      <td>ura[e]</td>\n      <td>EX_ura(e)</td>\n      <td>3.317</td>\n      <td>4</td>\n      <td>0.32%</td>\n    </tr>\n    <tr>\n      <td>hpyr[c]</td>\n      <td>sink_hpyr</td>\n      <td>0.05</td>\n      <td>3</td>\n      <td>0.00%</td>\n    </tr>\n  </tbody>\n</table><h4>Secretion</h4><table border=\"1\" class=\"dataframe\">\n  <thead>\n    <tr style=\"text-align: right;\">\n      <th>Metabolite</th>\n      <th>Reaction</th>\n      <th>Flux</th>\n      <th>C-Number</th>\n      <th>C-Flux</th>\n    </tr>\n  </thead>\n  <tbody>\n    <tr>\n      <td>na1[c]</td>\n      <td>DM_NA1</td>\n      <td>-143.5</td>\n      <td>0</td>\n      <td>0.00%</td>\n    </tr>\n    <tr>\n      <td>ac[e]</td>\n      <td>EX_ac(e)</td>\n      <td>-309.4</td>\n      <td>2</td>\n      <td>17.78%</td>\n    </tr>\n    <tr>\n      <td>asp-L[e]</td>\n      <td>EX_asp_L(e)</td>\n      <td>-28.22</td>\n      <td>4</td>\n      <td>3.24%</td>\n    </tr>\n    <tr>\n      <td>but[e]</td>\n      <td>EX_but(e)</td>\n      <td>-328.5</td>\n      <td>4</td>\n      <td>37.75%</td>\n    </tr>\n    <tr>\n      <td>co2[e]</td>\n      <td>EX_co2(e)</td>\n      <td>-669.8</td>\n      <td>1</td>\n      <td>19.24%</td>\n    </tr>\n    <tr>\n      <td>dhor-S[e]</td>\n      <td>EX_dhor_S(e)</td>\n      <td>-2.309</td>\n      <td>5</td>\n      <td>0.33%</td>\n    </tr>\n    <tr>\n      <td>fe2[e]</td>\n      <td>EX_fe2(e)</td>\n      <td>-4.097</td>\n      <td>0</td>\n      <td>0.00%</td>\n    </tr>\n    <tr>\n      <td>for[e]</td>\n      <td>EX_for(e)</td>\n      <td>-144.5</td>\n      <td>1</td>\n      <td>4.15%</td>\n    </tr>\n    <tr>\n      <td>gly[e]</td>\n      <td>EX_gly(e)</td>\n      <td>-238.4</td>\n      <td>2</td>\n      <td>13.70%</td>\n    </tr>\n    <tr>\n      <td>hxan[e]</td>\n      <td>EX_hxan(e)</td>\n      <td>-7.691</td>\n      <td>5</td>\n      <td>1.10%</td>\n    </tr>\n    <tr>\n      <td>ile-L[e]</td>\n      <td>EX_ile_L(e)</td>\n      <td>-14.17</td>\n      <td>6</td>\n      <td>2.44%</td>\n    </tr>\n    <tr>\n      <td>nh4[e]</td>\n      <td>EX_nh4(e)</td>\n      <td>-796.6</td>\n      <td>0</td>\n      <td>0.00%</td>\n    </tr>\n    <tr>\n      <td>ptrc[e]</td>\n      <td>EX_ptrc(e)</td>\n      <td>-2.309</td>\n      <td>4</td>\n      <td>0.27%</td>\n    </tr>\n  </tbody>\n</table>"
     },
     "metadata": {},
     "execution_count": 22
    }
   ],
   "source": [
    "MediumMgam=['4abz(e)','5oxpro(e)','Lcyst(e)', 'Lcystin(e)', 'ade(e)', 'adocbl(e)','ala_D(e)', 'ala_L(e)', 'arg_L(e)', 'asp_L(e)', 'btn(e)', 'ca2(e)', 'cbl1(e)', 'cbl2(e)', 'cl(e)', 'cobalt2(e)', 'cu2(e)', 'cys_L(e)', 'fe2(e)', 'fe3(e)', 'fol(e)', 'glc(e)', 'gln_L(e)', 'glu_L(e)', 'gly(e)',  'gthox(e)', 'gthrd(e)', 'gua(e)', 'h(e)', 'h2o(e)', 'his_L(e)', 'hxan(e)', 'ile_L(e)', 'ins(e)',  'k(e)',  'leu_L(e)', 'lys_L(e)', 'met_D(e)', 'met_L(e)', 'mg2(e)', 'na1(e)', 'nac(e)', 'ncam(e)', 'pb(e)' , 'phe_L(e)', 'pi(e)', 'pnto_R(e)', 'pro_L(e)', 'ptrc(e)', 'pydam(e)', 'pydx(e)', 'pydxn(e)', 'rbflvrd(e)', 'ribflv(e)', 'ser_L(e)', 'so4(e)', 'spmd(e)', 'strch1(e)',  'taur(e)', 'thm(e)', 'thr_L(e)', 'thymd(e)', 'trp_L(e)', 'tyr_L(e)', 'ura(e)', 'val_L(e)', 'xan(e)', 'xyl_D(e)']\n",
    "\n",
    "model_mgam=medium(model.copy(),MediumMgam)\n",
    "print('\\nMedium_mgam')\n",
    "for j,i in enumerate(Traces_AA_def[\"BiGG_ID\"]):\n",
    "    model_mgam.exchanges.get_by_id(\"EX_\"+i).lower_bound=-Traces_AA_def.loc[j,\"mmol/L\"]\n",
    "model_mgam.summary()"
   ]
  },
  {
   "cell_type": "code",
   "execution_count": 67,
   "metadata": {},
   "outputs": [
    {
     "output_type": "execute_result",
     "data": {
      "text/plain": [
       "(38, 68)"
      ]
     },
     "metadata": {},
     "execution_count": 67
    }
   ],
   "source": [
    "MediumMgam=['4abz(e)','5oxpro(e)','Lcyst(e)', 'Lcystin(e)', 'ade(e)', 'adocbl(e)','ala_D(e)', 'ala_L(e)', 'arg_L(e)', 'asp_L(e)', 'btn(e)', 'ca2(e)', 'cbl1(e)', 'cbl2(e)', 'cl(e)', 'cobalt2(e)', 'cu2(e)', 'cys_L(e)', 'fe2(e)', 'fe3(e)', 'fol(e)', 'glc(e)', 'gln_L(e)', 'glu_L(e)', 'gly(e)',  'gthox(e)', 'gthrd(e)', 'gua(e)', 'h(e)', 'h2o(e)', 'his_L(e)', 'hxan(e)', 'ile_L(e)', 'ins(e)',  'k(e)',  'leu_L(e)', 'lys_L(e)', 'met_D(e)', 'met_L(e)', 'mg2(e)', 'na1(e)', 'nac(e)', 'ncam(e)', 'pb(e)' , 'phe_L(e)', 'pi(e)', 'pnto_R(e)', 'pro_L(e)', 'ptrc(e)', 'pydam(e)', 'pydx(e)', 'pydxn(e)', 'rbflvrd(e)', 'ribflv(e)', 'ser_L(e)', 'so4(e)', 'spmd(e)', 'strch1(e)',  'taur(e)', 'thm(e)', 'thr_L(e)', 'thymd(e)', 'trp_L(e)', 'tyr_L(e)', 'ura(e)', 'val_L(e)', 'xan(e)', 'xyl_D(e)']\n",
    "\n",
    "comparison=pd.DataFrame({\"Compound\":MediumMgam, \"Specific_Bound_Set\":pd.Series(MediumMgam).isin(Traces_AA_def[\"BiGG_ID\"])})\n",
    "no_specific_bound=comparison.loc[comparison[\"Specific_Bound_Set\"]==False]\n",
    "len(no_specific_bound), len(MediumMgam)"
   ]
  },
  {
   "cell_type": "code",
   "execution_count": null,
   "metadata": {},
   "outputs": [],
   "source": [
    "for i in MediumMgam:\n",
    "    print(model_mgam.reactions.get_by_id(i))\n",
    "    print(model_mgam.reactions.get_by_id(i).lower_bound)"
   ]
  },
  {
   "cell_type": "code",
   "execution_count": null,
   "metadata": {},
   "outputs": [],
   "source": [
    "find_match(model_mgam,MediumMgam)"
   ]
  },
  {
   "cell_type": "code",
   "execution_count": null,
   "metadata": {},
   "outputs": [],
   "source": [
    "for i in find_match(MediumMgam,)[1]:\n",
    "    r = re.compile(r'{0}.+?{1}?.+?{2}?.*?'.format(i[0:5],i[5], i[6]))\n",
    "    newlist = list(filter(r.findall, x)) # Read Note\n",
    "    print(newlist)"
   ]
  },
  {
   "cell_type": "code",
   "execution_count": null,
   "metadata": {},
   "outputs": [],
   "source": [
    "fba = model.optimize()\n",
    "fluxes = deleteNull(fba.fluxes)\n",
    "print('\\nActive reaction : %i which represent %f%% of the model' %(len(fluxes),len(fluxes)/len(model.reactions)*100))\n",
    "print(fba.objective_value)"
   ]
  },
  {
   "cell_type": "code",
   "execution_count": null,
   "metadata": {},
   "outputs": [],
   "source": [
    "from cobra.medium import minimal_medium\n",
    "\n",
    "max_growth = model.slim_optimize()\n",
    "minimal_medium(model, 0.005)"
   ]
  },
  {
   "cell_type": "code",
   "execution_count": null,
   "metadata": {},
   "outputs": [],
   "source": [
    "from cobra.medium import minimal_medium\n",
    "max_growth = model_mgam.slim_optimize()\n",
    "minimal_medium(model_mgam, max_growth)"
   ]
  },
  {
   "cell_type": "markdown",
   "metadata": {},
   "source": [
    "---\n",
    "## Reinforced Clostridial Medium (RCM)\n",
    "http://www.oxoid.com/UK/blue/prod_detail/prod_detail.asp?pr=CM0149&org=53&c=UK&lang=EN\n",
    "\n",
    "* Yeast Extract -> [lots of stuff in it, unsure of what's garbage](https://www.chemicalbook.com/ChemicalProductProperty_EN_CB9440339.htm#:~:text=Yeast%20extract%20has%20a%20protein,aromatic%20compounds%20and%20other%20components.)\n",
    "    * Glutathione: gthrd (reduced version)\n",
    "    * 18 AA's: see above\n",
    "    * Dextran: glc__D (it's made of glucose)\n",
    "    * Mannan: mannan\n",
    "    * Trehalose: tre\n",
    "    * B-vitamins: (Clemence mentioned vitamins being important so I'm putting them all in)\n",
    "        * \\1. Thiamin -> thm\n",
    "        * \\2. Riboflavin -> ribflv\n",
    "        * \\3. Niacin -> trp__L (made of tryptophan)\n",
    "        * \\5. Pantothenic Acid -> pnto__R\n",
    "        * \\6. Pyridoxine -> pydxn\n",
    "        * \\7. Biotin -> btn\n",
    "        * \\9. Folic Acid -> ... can't find anything\n",
    "        * \\12. Cobalamin -> b12 (or cbl1)\n",
    "    * Biotin\n",
    "* Peptone -> Sticking with the above logic, probably a source of all AAs\n",
    "* Glucose -> Assuming D_Glucose: glc__D\n",
    "* Soluble Starch -> starch1200\n",
    "* Sodium Chloride -> na1, cl\n",
    "* Sodium Acetate -> Assuming breaking down into sodium and acetate: ac, na1\n",
    "* Cysteine Hydrochloride -> cys_L, cl, h (could also be cys_D? cys_L is more widely used)\n",
    "* Agar: Agarose (70%) and Agaropectin (30%) [according to Wiki](https://en.wikipedia.org/wiki/Agar)\n",
    "    * Agarose: D-galactose & 3,6-anhydro-L-galactopyranose\n",
    "        * D-galactose: gal\n",
    "        * 3,6-anhydro-L-galactopyranose: [similar structure & compositon to beta-D-allose](https://pubchem.ncbi.nlm.nih.gov/#query=CID67020466%20structure&tab=similarity)\n",
    "            * D-Allose: all__D\n",
    "    * Agaropectin: D-galactose, L-galactose, pyruvate, sulfate\n",
    "        * D-galactose: gal\n",
    "        * L-galactose: gal__L\n",
    "        * Pyruvate: pyr\n",
    "        * Sulfate: so4"
   ]
  },
  {
   "cell_type": "markdown",
   "metadata": {},
   "source": [
    "| Component              | Concentration (g/L) | BiGG Metabolites                                                                          |\n",
    "|------------------------|---------------------|-------------------------------------------------------------------------------------------|\n",
    "| Yeast Extract          | 13.0                | (see all AA's), gthrd, glc\\__D, mannan, tre, thm, ribflv, trp\\__L, pnto\\__R, pydxn, btn, b12 |\n",
    "| Peptone                | 10.0                | (see all AA's)                                                                            |\n",
    "| Glucose                | 5.0                 | glc_D                                                                                     |\n",
    "| Soluble Starch         | 1.0                 | starch1200                                                                                |\n",
    "| Sodium Chloride        | 5.0                 | na1, cl                                                                                   |\n",
    "| Sodium Acetate         | 3.0                 | na1, ac                                                                                   |\n",
    "| Cysteine Hydrochloride | 0.5                 | cys_L, cl, h                                                                              |\n",
    "| Agar                   | 0.5                 | gal, all\\__D, gal\\__L, pyr, so4                                                           |"
   ]
  },
  {
   "cell_type": "code",
   "execution_count": null,
   "metadata": {},
   "outputs": [],
   "source": [
    "medium_rcm = list(('gthrd','glc__D','mannan','tre','thm','ribflv','trp__L','pnto__R','pydxn','btn','b12',\n",
    "             'starch1200','na1','ac','cl','cys_L','gal','all__D','gal__L','pyr','so4'))\n",
    "medium_rcm=[mets+\"(e)\" for mets in medium_rcm]\n",
    "model_rcm=medium(model.copy(), medium_rcm)\n",
    "for i in range(1,len(model_rcm.reactions)):\n",
    "    model_rcm.reactions[i].upper_bound=1000\n",
    "    model_rcm.reactions[i].lower_bound=-1000\n",
    "model_rcm.objective = {model_rcm.reactions.get_by_id('Biomass_FP'): 1}\n",
    "model_rcm.summary()"
   ]
  },
  {
   "cell_type": "code",
   "execution_count": null,
   "metadata": {},
   "outputs": [],
   "source": [
    "model_mmcb.reactions.get_by_id('mannan')"
   ]
  },
  {
   "cell_type": "code",
   "execution_count": null,
   "metadata": {},
   "outputs": [],
   "source": [
    "# Post-optimization\n",
    "fba_rcm = model_rcm.optimize()\n",
    "fluxes = deleteNull(fba_rcm.fluxes)\n",
    "print('\\nActive reaction : %i which represent %f%% of the model' %(len(fluxes),len(fluxes)/len(model.reactions)*100))\n",
    "print(model_rcm.objective.value)"
   ]
  },
  {
   "source": [
    "---\n",
    "## mMCB\n",
    "\n",
    "(There are also supplements mentioned in the paper but this is the base medium)\n",
    "* [Bacteriological Peptome (6.5) (Oxoid)](http://www.oxoid.com/UK/blue/prod_detail/prod_detail.asp?pr=LP0037&c=UK&lang=EN): \n",
    "    * Vague, decided to go with polypeptides: <b>polypep</b>\n",
    "    * Nitrogen: <b>n2</b>\n",
    "* [Soy Peptome (5.0) (Oxoid)](http://www.oxoid.com/UK/blue/prod_detail/prod_detail.asp?pr=LP0044&cat=&c=UK&lang=EN) --> another vague one:\n",
    "    * Stachyose: <b>stys</b>\n",
    "    * Raffinose: <b>raffin</b>\n",
    "    * Sucrose: <b>sucr</b>\n",
    "    * Nitrogen: <b>n2</b>\n",
    "* [Yeast Extract (3.0) (VWR International, Darmstadt, Germany)](https://us.vwr.com/store/product/7437401/vwr-life-science-yeast-extract-bacteriological-grade):\n",
    "    * Vitamin B (same logic as RCM):\n",
    "        * 1. Thiamin -> <b>thm</b>\n",
    "        * 2. Riboflavin -> <b>ribflv</b>\n",
    "        * 3. Niacin -> <b>trp__L</b> (made of tryptophan)\n",
    "        * 5. Pantothenic Acid -> <b>pnto__R</b>\n",
    "        * 6. Pyridoxine -> <b>pydxn</b>\n",
    "        * 7. Biotin -> <b>btn</b>\n",
    "        * 9. Folic Acid -> ... can't find anything\n",
    "        * 12. Cobalamin -> <b>b12</b> (or cbl1)\n",
    "* [Tryptone (2.5) (Oxoid)](http://www.oxoid.com/UK/blue/prod_detail/prod_detail.asp?pr=LP0042&c=UK&lang=EN): \n",
    "    * Tryptophan: <b>trp__L</b>\n",
    "* NaCL (1.5) (VWR International, Darmstadt, Germany):\n",
    "    * NaCl: <b>na1, cl</b>\n",
    "* K<sub>2</sub>HPO<sub>4</sub> (1.0) (Merck International, Darmstadt, Germany):\n",
    "    * Potassium: <b>k</b>\n",
    "    * Phosphate: <b>p1</b>\n",
    "    * Hydrogen: <b>h2</b>\n",
    "* KH<sub>2</sub>PO<sub>4</sub> (1.0) (Merck International, Darmstadt, Germany):\n",
    "    * Potassium: <b>k</b>\n",
    "    * Phosphate: <b>p1</b>\n",
    "    * Hydrogen: <b>h2</b>\n",
    "* Na<sub>2</sub>SO<sub>4</sub> (2.0) (VWR):\n",
    "    * Sodium: <b>na1</b>\n",
    "    * Sulfate: <b>so4</b>\n",
    "* MgSO<sub>4</sub>*7H<sub>2</sub>O (1.0) (Merck):\n",
    "    * Magnesium: <b>mg2</b>\n",
    "    * Sulfate: <b>so4</b>\n",
    "* CaCl<sub>2</sub>*2H<sub>2</sub>O (0.1) (Merck):\n",
    "    * Calcium Chloride: <b>ca2, cl</b>\n",
    "* NH<sub>4</sub>Cl (1.0) (Merck):\n",
    "    * Ammonium Chloride: <b>nh4, cl</b>\n",
    "* Cysteine-HCL (0.4) (Merck):\n",
    "    * Cysteine: <b>cys__L</b>\n",
    "    * HCL: <b>h2, cl</b>\n",
    "* NaHCO<sub>3</sub> (0.2) (VWR):\n",
    "    * Sodium: <b>na1</b>\n",
    "    * Bicarbonate: <b>hco3<b>\n",
    "* MnSO<sub>4</sub>*H<sub>2</sub>O (0.05) (VWR):\n",
    "    * Manganese: <b>mn2</b>\n",
    "    * Sulfate: <b>so4</b>\n",
    "* FeSO<sub>4</sub>*7H<sub>2</sub>O (0.005) (Merck):\n",
    "    * Iron: <b>fe</b>\n",
    "    * Sulfate: <b>so4</b>\n",
    "* ZnSO<sub>4</sub>*7H<sub>2</sub>O (0.005) (VWR):\n",
    "    * Zinc: <b>zn2</b>\n",
    "    * Sulfate: <b>so4</b>\n",
    "* Hemin (0.005) (Sigma-Aldrich, Steinheim, Germany):\n",
    "    * ... contains iron\n",
    "* Menadione (0.005) (S-A):\n",
    "    * <b>mndn</b>\n",
    "* Resazurin (0.001) (S-A):\n",
    "    * Fluoro identifier\n",
    "\n"
   ],
   "cell_type": "markdown",
   "metadata": {}
  },
  {
   "source": [
    "| Component                            | Concentration (g/L) | BiGG Metabolites                                |\n",
    "|--------------------------------------|---------------------|-------------------------------------------------|\n",
    "| Bacteriological Peptome              | 6.5                 | polypep, n2                                     |\n",
    "| Soy Peptome                          | 5.0                 | stys, raffin, sucr, n2                          |\n",
    "| Yeast Extract                        | 3.0                 | thm, ribflv, trp\\__L, pnto\\__R, pydxn, btn, b12 |\n",
    "| Tryptone                             | 2.5                 | trp\\__L                                         |\n",
    "| NaCL                                 | 1.5                 | na1, cl                                         |\n",
    "| K<sub>2</sub>PO<sub>4</sub>          | 1.0                 | k, p1, h2                                       |\n",
    "| KH<sub>2</sub>PO<sub>4</sub>         | 1.0                 | k, p1, h2                                       |\n",
    "| Na<sub>2</sub>SO<sub>4</sub>         | 2.0                 | na1, so4                                        |\n",
    "| Mg<sub>2</sub>SO<sub>4</sub>         | 1.0                 | mg2, so4                                        |\n",
    "| CaCl<sub>2</sub>*2H<sub>2</sub>O     | 0.1                 | ca2, cl                                         |\n",
    "| NH<sub>4</sub>Cl                     | 1.0                 | nh4, cl                                         |\n",
    "| Cysteine-HCL                         | 0.4                 | cys__L, h2, cl                                  |\n",
    "| NaHCO<sub>3</sub>                    | 0.2                 | na1, hco3                                       |\n",
    "| MnSO<sub>4</sub>*H<sub>2</sub>O      | 0.05                | mn2, so4                                        |\n",
    "| FeSOMnSO<sub>4</sub>*7H<sub>2</sub>O | 0.005               | fe, so4                                         |\n",
    "| ZnSO<sub>4</sub>*7H<sub>2</sub>O     | 0.005               | zn2, so4                                        |\n",
    "| Hemin                                | 0.005               |                                                 |\n",
    "| Menadione                            | 0.005               | mndn                                            |\n",
    "| Resazurin                            | 0.001               |                                                 |"
   ],
   "cell_type": "markdown",
   "metadata": {}
  },
  {
   "cell_type": "code",
   "execution_count": null,
   "metadata": {},
   "outputs": [],
   "source": [
    "model.copy()"
   ]
  },
  {
   "cell_type": "code",
   "execution_count": null,
   "metadata": {},
   "outputs": [],
   "source": [
    "medium_mmcb = list(('polypep','n2','stys','raffin','sucr','n2','thm','ribflv','trp__L',\n",
    "                    'pnto__R','pydxn','btn','b12','trp__L','na1','cl','k','p1','h2','na1',\n",
    "                    'so4','mg2','ca2','nh4','cys__L','h2','cl','na1','hco3','mn2','zn2','mndnb'))"
   ]
  },
  {
   "cell_type": "code",
   "execution_count": null,
   "metadata": {},
   "outputs": [],
   "source": [
    "medium_mmcb=[mets+\"(e)\" for mets in medium_mmcb]\n",
    "model_mmcb=medium(model.copy(), medium_mmcb)\n",
    "unused = []\n",
    "for i in range(1,len(model_mmcb.reactions)):\n",
    "    model_mmcb.reactions[i].upper_bound=1000\n",
    "    if model_mmcb.reactions[i].lower_bound != 0:\n",
    "        model_mmcb.reactions[i].lower_bound=-10\n",
    "    else:    \n",
    "        model_mmcb.reactions[i].lower_bound=-\n",
    "model_mmcb.objective = {model_mmcb.reactions.get_by_id('Biomass_FP'): 1}\n",
    "model_mmcb.summary()\n",
    "\n",
    "# Find list of all metabolites not in media\n",
    "# Express in mmol/g/L\n",
    "# Set as -'ve flux lower bound"
   ]
  },
  {
   "cell_type": "code",
   "execution_count": null,
   "metadata": {},
   "outputs": [],
   "source": [
    "# Post-optimization\n",
    "fba_mmcb = model_mmcb.optimize()\n",
    "fluxes_mmcb = deleteNull(fba_mmcb.fluxes)\n",
    "print('\\nActive reaction : %i which represent %f%% of the model' %(len(fluxes_mmcb),len(fluxes_mmcb)/len(model.reactions)*100))\n",
    "print(model_mmcb.objective.value)"
   ]
  }
 ],
 "metadata": {
  "kernelspec": {
   "name": "Python 3.7.6 64-bit ('base': conda)",
   "display_name": "Python 3.7.6 64-bit ('base': conda)",
   "metadata": {
    "interpreter": {
     "hash": "eec48ea81786c325bfab6147fce8b71cfe42370920a0568aac6dc72a8f882954"
    }
   }
  },
  "language_info": {
   "codemirror_mode": {
    "name": "ipython",
    "version": 3
   },
   "file_extension": ".py",
   "mimetype": "text/x-python",
   "name": "python",
   "nbconvert_exporter": "python",
   "pygments_lexer": "ipython3",
   "version": "3.7.6-final"
  }
 },
 "nbformat": 4,
 "nbformat_minor": 4
}