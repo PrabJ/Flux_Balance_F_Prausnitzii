{
 "cells": [
  {
   "cell_type": "markdown",
   "metadata": {},
   "source": [
    "# Integrated Bioinformatics Project : Flux_Balance_F_Prausnitzii \n",
    "#### Students: Michael Shawn Neilsson, Biancamaria FLorenzi, Prabhat Juyal, Tim Blokker\n",
    "#### Supervisors: Clémence Joseph, Karoline Faust"
   ]
  },
  {
   "cell_type": "code",
   "execution_count": 1,
   "metadata": {},
   "outputs": [],
   "source": [
    "#import packages\n",
    "import io\n",
    "import cobra\n",
    "import functions\n",
    "import re\n",
    "from functions import *\n",
    "import cobrababel\n"
   ]
  },
  {
   "cell_type": "code",
   "execution_count": 2,
   "metadata": {},
   "outputs": [
    {
     "output_type": "stream",
     "name": "stdout",
     "text": [
      "Metabolites :  833\nReactions :  1030\nGenes :  602\nCompartments :  {'c': '', 'e': ''}\nObjective function : \n Maximize\n1.0*Biomass_FP - 1.0*Biomass_FP_reverse_ee33b \n\n"
     ]
    }
   ],
   "source": [
    "#model = cobra.io.read_sbml_model('Data/f_prausnitzii.xml')\n",
    "#info(model)\n",
    "model=cobra.io.load_matlab_model('Data/iFpraus_v_1_0.mat')\n",
    "info(model)"
   ]
  },
  {
   "cell_type": "code",
   "execution_count": 3,
   "metadata": {},
   "outputs": [],
   "source": [
    "outputmodel= cobra.io.save_json_model(model, \"Data/iFpraus.json\")"
   ]
  },
  {
   "cell_type": "code",
   "execution_count": 4,
   "metadata": {},
   "outputs": [
    {
     "output_type": "stream",
     "name": "stdout",
     "text": [
      "\n",
      "Model Medium\n",
      "Objective\n",
      "=========\n",
      "1.0 Biomass_FP = 69.87885590787737\n",
      "\n",
      "Uptake\n",
      "------\n",
      "    Metabolite          Reaction   Flux  C-Number  C-Flux\n",
      "    Lcystin[e]     EX_Lcystin(e)  3.502         6   0.05%\n",
      "        ade[e]         EX_ade(e)  864.9         5  10.85%\n",
      "     adocbl[e]      EX_adocbl(e) 0.3929        72   0.07%\n",
      "     alaala[e]      EX_alaala(e)  6.462         6   0.10%\n",
      "     alagln[e]      EX_alagln(e)  30.81         8   0.62%\n",
      "      arg-L[e]       EX_arg_L(e)   1000         6  15.05%\n",
      "      asn-L[e]       EX_asn_L(e)   16.4         4   0.16%\n",
      "        btn[e]         EX_btn(e) 0.3929        10   0.01%\n",
      "        ca2[e]         EX_ca2(e) 0.3929         0   0.00%\n",
      "         cl[e]          EX_cl(e) 0.3929         0   0.00%\n",
      "    cobalt2[e]     EX_cobalt2(e) 0.3929         0   0.00%\n",
      "     cps_fp[e]      EX_cps_fp(e) 0.3929        63   0.06%\n",
      "        cu2[e]         EX_cu2(e) 0.3929         0   0.00%\n",
      "        fe3[e]         EX_fe3(e) 0.7858         0   0.00%\n",
      "        fol[e]         EX_fol(e)  1.179        19   0.06%\n",
      "        fum[e]         EX_fum(e)   1000         4  10.03%\n",
      "      glu-L[e]       EX_glu_L(e)   1000         5  12.54%\n",
      "        gua[e]         EX_gua(e)  16.25         5   0.20%\n",
      "          h[e]           EX_h(e)    901         0   0.00%\n",
      "      his-L[e]       EX_his_L(e)  6.472         6   0.10%\n",
      "        ins[e]         EX_ins(e)  751.8        10  18.86%\n",
      "          k[e]           EX_k(e) 0.3929         0   0.00%\n",
      "     leuleu[e]      EX_leuleu(e)  15.33        12   0.46%\n",
      "      lys-L[e]       EX_lys_L(e)  23.31         6   0.35%\n",
      "      mal-L[e]       EX_mal_L(e)   1000         4  10.03%\n",
      "     metala[e]      EX_metala(e)  10.59         8   0.21%\n",
      " metsox-S-L[e]  EX_metsox_S_L(e) 0.2368         5   0.00%\n",
      "        mg2[e]         EX_mg2(e) 0.3929         0   0.00%\n",
      "        na1[e]         EX_na1(e)   1000         0   0.00%\n",
      "        nac[e]         EX_nac(e) 0.7858         6   0.01%\n",
      "         o2[e]          EX_o2(e)  618.9         0   0.00%\n",
      "      phe-L[e]       EX_phe_L(e)  12.65         9   0.29%\n",
      "         pi[e]          EX_pi(e)  126.6         0   0.00%\n",
      "     pnto-R[e]      EX_pnto_R(e) 0.7858         9   0.02%\n",
      "      pro-L[e]       EX_pro_L(e)  15.05         5   0.19%\n",
      "       pydx[e]        EX_pydx(e) 0.3929         8   0.01%\n",
      "     ribflv[e]      EX_ribflv(e)  148.3        17   6.32%\n",
      "      ser-L[e]       EX_ser_L(e)  223.1         3   1.68%\n",
      "        so4[e]         EX_so4(e) 0.3929         0   0.00%\n",
      "        thm[e]         EX_thm(e) 0.3929        12   0.01%\n",
      "      thr-L[e]       EX_thr_L(e)  606.4         4   6.08%\n",
      "      thymd[e]       EX_thymd(e)  1.642        10   0.04%\n",
      "      trp-L[e]       EX_trp_L(e)  3.854        11   0.11%\n",
      "      tyr-L[e]       EX_tyr_L(e)  9.381         9   0.21%\n",
      "        ura[e]         EX_ura(e)  20.52         4   0.21%\n",
      "      urate[e]       EX_urate(e)  398.4         5   5.00%\n",
      "       hpyr[c]         sink_hpyr   0.05         3   0.00%\n",
      "\n",
      "Secretion\n",
      "---------\n",
      " Metabolite       Reaction   Flux  C-Number  C-Flux\n",
      "     na1[c]         DM_NA1  -1000         0   0.00%\n",
      "      ac[e]       EX_ac(e)  -1000         2   5.64%\n",
      "   asp-L[e]    EX_asp_L(e) -977.1         4  11.02%\n",
      "     cit[e]      EX_cit(e) -988.6         6  16.73%\n",
      "     co2[e]      EX_co2(e)  -1000         1   2.82%\n",
      "  dhor-S[e]   EX_dhor_S(e) -785.4         5  11.07%\n",
      "     for[e]      EX_for(e)   -158         1   0.45%\n",
      "     gly[e]      EX_gly(e) -527.8         2   2.98%\n",
      "  glyc-R[e]   EX_glyc_R(e)  -0.05         3   0.00%\n",
      "    hxan[e]     EX_hxan(e)  -1000         5  14.10%\n",
      "     nh4[e]      EX_nh4(e)  -1000         0   0.00%\n",
      "    orot[e]     EX_orot(e) -194.5         5   2.74%\n",
      "    ptrc[e]     EX_ptrc(e) -979.9         4  11.05%\n",
      " rbflvrd[e]  EX_rbflvrd(e) -147.5        17   7.07%\n",
      "    succ[e]     EX_succ(e) -20.14         4   0.23%\n",
      "     xan[e]      EX_xan(e)  -1000         5  14.10%\n",
      "\n"
     ]
    }
   ],
   "source": [
    "#unaltered model\n",
    "model1=model.copy()\n",
    "print(\"\\nModel Medium\")\n",
    "#model1.objective = {model1.reactions.get_by_id('EX_ac(e)'): 1}\n",
    "model1.objective = {model1.reactions.get_by_id('Biomass_FP'): 1}\n",
    "print(model1.summary())"
   ]
  },
  {
   "source": [
    "### What are the different reactions\n",
    "e: extracellular\n",
    "\n",
    "c: cytosol\n",
    "\n",
    "EX_ : exchange reaction\n",
    "### Gifu Anaerobic Medium (mGAM) from:\n",
    "https://hyserve.com/files/05433_GAM-Broth_Modified_final.pdf\n",
    "\n",
    "\n",
    "- Peptone, Soya Peptone, Proteose Peptone: source of amino acids -> most likely all of them \n",
    "- Yeast extract, liver extract, meat extract, digested serum -> amino acids but also a lot of other crap, will leave this till the end \n",
    "- Dextrose -> same as glucose (https://www.ebi.ac.uk/chebi/searchId.do?chebiId=CHEBI:17634) and so -> glc_D\n",
    "- Soluble starch -> starch1 (potatoe starch)\n",
    "- L-Tryptophane -> trp__L\n",
    "- L-Cystein Hydrochloride -> cys_L and cl and h (hydrochloride<-> HCL becomes cl and h)\n",
    "- Sodium Thioglycolate -> thiog and na1\n",
    "- L-Arginine -> arg_L\n",
    "- Vitamine K1 -> phllqne https://pubchem.ncbi.nlm.nih.gov/compound/Vitamin-K1#section=Depositor-Supplied-Synonyms \n",
    "- Hemin -> Iron and Chlorine  fe3 and cl  and perhaps ppp9 https://pubchem.ncbi.nlm.nih.gov/#query=3-%5B18-(2-carboxyethyl)-8%2C13-bis(ethenyl)-3%2C7%2C12%2C17-tetramethylporphyrin-21%2C23-diid-2-yl%5Dpropanoic%20acid%3Biron(3%2B)%3Bchloride \n",
    "- Potassium Dihydrogen Phosphate -> pi, k, h\n",
    "- Sodium Chloride -> na1 cl\n",
    "\n",
    "Digested serum : https://www.nebiolabs.com.au/-/media/catalog/datacards-or-manuals/p8108datasheet-lot0021306.pdf\t\n",
    "\n",
    "Generally useful page ; https://pubchem.ncbi.nlm.nih.gov/#query=Hemin\n",
    "\n",
    "check also: https://opencobra.github.io/cobratoolbox/latest/tutorials/tutorialMetabotoolsI.html "
   ],
   "cell_type": "markdown",
   "metadata": {}
  },
  {
   "cell_type": "code",
   "execution_count": 5,
   "metadata": {},
   "outputs": [
    {
     "output_type": "stream",
     "name": "stdout",
     "text": [
      "['ala_L(e)', 'arg_L(e)', 'asn_L(e)', 'asp_L(e)', 'asx_L(e)', 'cys_L(e)', 'glu_L(e)', 'gln_L(e)', 'glx_L(e)', 'gly_L(e)', 'his_L(e)', 'ile_L(e)', 'leu_L(e)', 'lys_L(e)', 'met_L(e)', 'phe_L(e)', 'pro_L(e)', 'ser_L(e)', 'thr_L(e)', 'trp_L(e)', 'tyr_L(e)', 'val_L(e)']\n"
     ]
    }
   ],
   "source": [
    "import numpy as np\n",
    "aa=(\"ala,arg,asn,asp,asx,cys,glu,gln,glx,gly,his,ile,leu,lys,met,phe,pro,ser,thr,trp,tyr,val\").split(\",\")\n",
    "aa=[aminoacid +\"_L(e)\" for aminoacid in aa]\n",
    "print(aa)"
   ]
  },
  {
   "cell_type": "code",
   "execution_count": 6,
   "metadata": {},
   "outputs": [
    {
     "output_type": "stream",
     "name": "stdout",
     "text": [
      "['3mop(e)', '4abz(e)', '5oxpro(e)', 'Lcyst(e)', 'Lcystin(e)', 'ac(e)', 'acasp(e)', 'acgal(e)', 'acgalglcur(e)', 'acgam(e)', 'acglu(e)', 'acnam(e)', 'ade(e)', 'adocbl(e)', 'ala_D(e)', 'ala_L(e)', 'alaala(e)', 'alaasp(e)', 'alagln(e)', 'alaglu(e)', 'alagly(e)', 'alahis(e)', 'alaleu(e)', 'alathr(e)', 'arab_L(e)', 'arg_L(e)', 'asn_L(e)', 'aso3(e)', 'aso4(e)', 'asp_L(e)', 'btn(e)', 'but(e)', 'butso3(e)', 'ca2(e)', 'cbl1(e)', 'cbl2(e)', 'cd2(e)', 'cellb(e)', 'cgly(e)', 'cit(e)', 'cl(e)', 'co2(e)', 'cobalt2(e)', 'cps_fp(e)', 'cu2(e)', 'cys_L(e)', 'dhor_S(e)', 'ethso3(e)', 'fe2(e)', 'fe3(e)', 'fe3dcit(e)', 'fol(e)', 'for(e)', 'fru(e)', 'fum(e)', 'gal(e)', 'galur(e)', 'gam(e)', 'glc(e)', 'glcur(e)', 'gln_L(e)', 'glu_L(e)', 'gly(e)', 'glyasn(e)', 'glyasp(e)', 'glyc3p(e)', 'glyc_R(e)', 'glygln(e)', 'glyglu(e)', 'glygly(e)', 'glyleu(e)', 'glymet(e)', 'glyphe(e)', 'glypro(e)', 'glytyr(e)', 'gthox(e)', 'gthrd(e)', 'gua(e)', 'h(e)', 'h2o(e)', 'h2s(e)', 'hg2(e)', 'his_L(e)', 'hxan(e)', 'ile_L(e)', 'ins(e)', 'inulin(e)', 'isetac(e)', 'k(e)', 'kesto(e)', 'kestopt(e)', 'kestottr(e)', 'lac_D(e)', 'lcts(e)', 'leu_L(e)', 'leugly(e)', 'leuleu(e)', 'lys_L(e)', 'mal_L(e)', 'malt(e)', 'man(e)', 'meoh(e)', 'met_D(e)', 'met_L(e)', 'metala(e)', 'metsox_R_L(e)', 'metsox_S_L(e)', 'mg2(e)', 'mobd(e)', 'mso3(e)', 'na1(e)', 'nac(e)', 'ncam(e)', 'nh4(e)', 'o2(e)', 'orn(e)', 'orot(e)', 'pb(e)', 'pect(e)', 'phe_L(e)', 'pi(e)', 'plac(e)', 'pnto_R(e)', 'pro_L(e)', 'progly(e)', 'ptrc(e)', 'pydam(e)', 'pydx(e)', 'pydxn(e)', 'rbflvrd(e)', 'ribflv(e)', 'seln(e)', 'ser_L(e)', 'so4(e)', 'spmd(e)', 'strch1(e)', 'succ(e)', 'sulfac(e)', 'taur(e)', 'thm(e)', 'thr_L(e)', 'thymd(e)', 'trp_L(e)', 'tyr_L(e)', 'ura(e)', 'urate(e)', 'urea(e)', 'val_L(e)', 'xan(e)', 'xyl_D(e)']\n"
     ]
    }
   ],
   "source": [
    "import re\n",
    "r=re.compile(r\"EX_.*?\\)\")\n",
    "ex_rxn=re.findall(r, str(model.exchanges))\n",
    "MediumMgam_complete=[x[3:len(x)] for x in ex_rxn]\n",
    "print(MediumMgam_complete)"
   ]
  },
  {
   "cell_type": "code",
   "execution_count": 22,
   "metadata": {},
   "outputs": [
    {
     "output_type": "stream",
     "name": "stdout",
     "text": [
      "['4abz(e)', '5oxpro(e)', 'Lcyst(e)', 'Lcystin(e)', 'ade(e)', 'adocbl(e)', 'ala_D(e)', 'ala_L(e)', 'arg_L(e)', 'asn_L(e)', 'asp_L(e)', 'btn(e)', 'ca2(e)', 'cbl1(e)', 'cbl2(e)', 'cl(e)', 'cobalt2(e)', 'cu2(e)', 'cys_L(e)', 'fe2(e)', 'fe3(e)', 'fol(e)', 'glc(e)', 'gln_L(e)', 'glu_L(e)', 'gly(e)', 'gthox(e)', 'gthrd(e)', 'gua(e)', 'h(e)', 'h2o(e)', 'his_L(e)', 'hxan(e)', 'ile_L(e)', 'ins(e)', 'inulin(e)', 'k(e)', 'leu_L(e)', 'lys_L(e)', 'met_D(e)', 'met_L(e)', 'mg2(e)', 'na1(e)', 'nac(e)', 'ncam(e)', 'phe_L(e)', 'pi(e)', 'pnto_R(e)', 'pro_L(e)', 'ptrc(e)', 'pydam(e)', 'pydx(e)', 'pydxn(e)', 'rbflvrd(e)', 'ribflv(e)', 'ser_L(e)', 'so4(e)', 'spmd(e)', 'strch1(e)', 'taur(e)', 'thm(e)', 'thr_L(e)', 'thymd(e)', 'trp_L(e)', 'tyr_L(e)', 'ura(e)', 'val_L(e)', 'xan(e)', 'xyl_D(e)']\n"
     ]
    }
   ],
   "source": [
    "#Ca2? Cu2? cobalt2? inulin(e)? mg2? pi(e)? so4?\n",
    "\n",
    "#'4abz(e)' '5oxpro(e)' from yeast extract?\n",
    "#'thm(e)' thiamin vitamin b1\n",
    "#biotin -> btn |from yeast extract? \n",
    "#'rbflvrd(e)', 'ribflv(e)' vitamin b2\n",
    "# 'pydam(e)' pydx pydxn vitamin b6 from yeast extract\n",
    "# 'pnto_R(e)' pantothenic acid from yeast extract?\n",
    "#'ptrc(e)' probably from meat extract(e)\n",
    "#'spmd(e)' from meat extract and linked to ptrc\n",
    "#cbl1  adocbl Cyanocobalamin is a cobalt-containing coordination compound generated by intestinal microbes, and a natural water-soluble vitamin of the B-complex family that must combine with Intrinsic Factor for absorption by the intestine.\n",
    "# folate fol is of B vitamin family \n",
    "#tautin from meat extract\n",
    "#nac is nicotinate and also vitamin b and so is nacm nicotinamide\n",
    "#hxan, gua , ins are all some kind of nucleic acid that is probably present in yeast extract\n",
    "\n",
    "MediumMgam=['4abz(e)','5oxpro(e)','Lcyst(e)', 'Lcystin(e)', 'ade(e)', 'adocbl(e)','ala_D(e)', 'ala_L(e)', 'arg_L(e)', 'asn_L(e)', 'asp_L(e)', 'btn(e)', 'ca2(e)', 'cbl1(e)', 'cbl2(e)', 'cl(e)', 'cobalt2(e)', 'cu2(e)', 'cys_L(e)', 'fe2(e)', 'fe3(e)', 'fol(e)', 'glc(e)', 'gln_L(e)', 'glu_L(e)', 'gly(e)',  'gthox(e)', 'gthrd(e)', 'gua(e)', 'h(e)', 'h2o(e)', 'his_L(e)', 'hxan(e)', 'ile_L(e)', 'ins(e)', 'inulin(e)', 'k(e)',  'leu_L(e)', 'lys_L(e)', 'met_D(e)', 'met_L(e)', 'mg2(e)', 'na1(e)', 'nac(e)', 'ncam(e)',  'phe_L(e)', 'pi(e)', 'pnto_R(e)', 'pro_L(e)', 'ptrc(e)', 'pydam(e)', 'pydx(e)', 'pydxn(e)', 'rbflvrd(e)', 'ribflv(e)', 'ser_L(e)', 'so4(e)', 'spmd(e)', 'strch1(e)',  'taur(e)', 'thm(e)', 'thr_L(e)', 'thymd(e)', 'trp_L(e)', 'tyr_L(e)', 'ura(e)', 'val_L(e)', 'xan(e)', 'xyl_D(e)']\n",
    "print(MediumMgam)"
   ]
  },
  {
   "cell_type": "code",
   "execution_count": 23,
   "metadata": {},
   "outputs": [
    {
     "output_type": "stream",
     "name": "stdout",
     "text": [
      "\nMedium_mgam\n"
     ]
    },
    {
     "output_type": "execute_result",
     "data": {
      "text/plain": [
       "<cobra.summary.model_summary.ModelSummary at 0x7feaea87e910>"
      ],
      "text/html": "<h3>Objective</h3><p>1.0 Biomass_FP = 5.385288877129183</p><h4>Uptake</h4><table border=\"1\" class=\"dataframe\">\n  <thead>\n    <tr style=\"text-align: right;\">\n      <th>Metabolite</th>\n      <th>Reaction</th>\n      <th>Flux</th>\n      <th>C-Number</th>\n      <th>C-Flux</th>\n    </tr>\n  </thead>\n  <tbody>\n    <tr>\n      <td>Lcystin[e]</td>\n      <td>EX_Lcystin(e)</td>\n      <td>0.2699</td>\n      <td>6</td>\n      <td>0.11%</td>\n    </tr>\n    <tr>\n      <td>adocbl[e]</td>\n      <td>EX_adocbl(e)</td>\n      <td>0.03028</td>\n      <td>72</td>\n      <td>0.15%</td>\n    </tr>\n    <tr>\n      <td>ala-D[e]</td>\n      <td>EX_ala_D(e)</td>\n      <td>0.996</td>\n      <td>3</td>\n      <td>0.21%</td>\n    </tr>\n    <tr>\n      <td>ala-L[e]</td>\n      <td>EX_ala_L(e)</td>\n      <td>3.191</td>\n      <td>3</td>\n      <td>0.67%</td>\n    </tr>\n    <tr>\n      <td>arg-L[e]</td>\n      <td>EX_arg_L(e)</td>\n      <td>2.716</td>\n      <td>6</td>\n      <td>1.15%</td>\n    </tr>\n    <tr>\n      <td>asn-L[e]</td>\n      <td>EX_asn_L(e)</td>\n      <td>1.264</td>\n      <td>4</td>\n      <td>0.36%</td>\n    </tr>\n    <tr>\n      <td>btn[e]</td>\n      <td>EX_btn(e)</td>\n      <td>0.03028</td>\n      <td>10</td>\n      <td>0.02%</td>\n    </tr>\n    <tr>\n      <td>ca2[e]</td>\n      <td>EX_ca2(e)</td>\n      <td>0.03028</td>\n      <td>0</td>\n      <td>0.00%</td>\n    </tr>\n    <tr>\n      <td>cl[e]</td>\n      <td>EX_cl(e)</td>\n      <td>0.03028</td>\n      <td>0</td>\n      <td>0.00%</td>\n    </tr>\n    <tr>\n      <td>cobalt2[e]</td>\n      <td>EX_cobalt2(e)</td>\n      <td>0.03028</td>\n      <td>0</td>\n      <td>0.00%</td>\n    </tr>\n    <tr>\n      <td>cu2[e]</td>\n      <td>EX_cu2(e)</td>\n      <td>0.03028</td>\n      <td>0</td>\n      <td>0.00%</td>\n    </tr>\n    <tr>\n      <td>fe2[e]</td>\n      <td>EX_fe2(e)</td>\n      <td>0.03028</td>\n      <td>0</td>\n      <td>0.00%</td>\n    </tr>\n    <tr>\n      <td>fe3[e]</td>\n      <td>EX_fe3(e)</td>\n      <td>0.03028</td>\n      <td>0</td>\n      <td>0.00%</td>\n    </tr>\n    <tr>\n      <td>fol[e]</td>\n      <td>EX_fol(e)</td>\n      <td>0.09084</td>\n      <td>19</td>\n      <td>0.12%</td>\n    </tr>\n    <tr>\n      <td>glc-D[e]</td>\n      <td>EX_glc(e)</td>\n      <td>2.77</td>\n      <td>6</td>\n      <td>1.17%</td>\n    </tr>\n    <tr>\n      <td>gln-L[e]</td>\n      <td>EX_gln_L(e)</td>\n      <td>3.654</td>\n      <td>5</td>\n      <td>1.29%</td>\n    </tr>\n    <tr>\n      <td>glu-L[e]</td>\n      <td>EX_glu_L(e)</td>\n      <td>2.011</td>\n      <td>5</td>\n      <td>0.71%</td>\n    </tr>\n    <tr>\n      <td>gly[e]</td>\n      <td>EX_gly(e)</td>\n      <td>2.068</td>\n      <td>2</td>\n      <td>0.29%</td>\n    </tr>\n    <tr>\n      <td>gua[e]</td>\n      <td>EX_gua(e)</td>\n      <td>1.253</td>\n      <td>5</td>\n      <td>0.44%</td>\n    </tr>\n    <tr>\n      <td>h2o[e]</td>\n      <td>EX_h2o(e)</td>\n      <td>10</td>\n      <td>0</td>\n      <td>0.00%</td>\n    </tr>\n    <tr>\n      <td>his-L[e]</td>\n      <td>EX_his_L(e)</td>\n      <td>0.4988</td>\n      <td>6</td>\n      <td>0.21%</td>\n    </tr>\n    <tr>\n      <td>ins[e]</td>\n      <td>EX_ins(e)</td>\n      <td>10</td>\n      <td>10</td>\n      <td>7.04%</td>\n    </tr>\n    <tr>\n      <td>inulin[e]</td>\n      <td>EX_inulin(e)</td>\n      <td>5.203</td>\n      <td>180</td>\n      <td>65.89%</td>\n    </tr>\n    <tr>\n      <td>k[e]</td>\n      <td>EX_k(e)</td>\n      <td>0.03028</td>\n      <td>0</td>\n      <td>0.00%</td>\n    </tr>\n    <tr>\n      <td>leu-L[e]</td>\n      <td>EX_leu_L(e)</td>\n      <td>2.362</td>\n      <td>6</td>\n      <td>1.00%</td>\n    </tr>\n    <tr>\n      <td>met-L[e]</td>\n      <td>EX_met_L(e)</td>\n      <td>0.8345</td>\n      <td>5</td>\n      <td>0.29%</td>\n    </tr>\n    <tr>\n      <td>mg2[e]</td>\n      <td>EX_mg2(e)</td>\n      <td>0.03028</td>\n      <td>0</td>\n      <td>0.00%</td>\n    </tr>\n    <tr>\n      <td>na1[e]</td>\n      <td>EX_na1(e)</td>\n      <td>10</td>\n      <td>0</td>\n      <td>0.00%</td>\n    </tr>\n    <tr>\n      <td>nac[e]</td>\n      <td>EX_nac(e)</td>\n      <td>0.06056</td>\n      <td>6</td>\n      <td>0.03%</td>\n    </tr>\n    <tr>\n      <td>phe-L[e]</td>\n      <td>EX_phe_L(e)</td>\n      <td>0.9747</td>\n      <td>9</td>\n      <td>0.62%</td>\n    </tr>\n    <tr>\n      <td>pi[e]</td>\n      <td>EX_pi(e)</td>\n      <td>10</td>\n      <td>0</td>\n      <td>0.00%</td>\n    </tr>\n    <tr>\n      <td>pnto-R[e]</td>\n      <td>EX_pnto_R(e)</td>\n      <td>0.06056</td>\n      <td>9</td>\n      <td>0.04%</td>\n    </tr>\n    <tr>\n      <td>pydx[e]</td>\n      <td>EX_pydx(e)</td>\n      <td>0.03028</td>\n      <td>8</td>\n      <td>0.02%</td>\n    </tr>\n    <tr>\n      <td>ribflv[e]</td>\n      <td>EX_ribflv(e)</td>\n      <td>10</td>\n      <td>17</td>\n      <td>11.96%</td>\n    </tr>\n    <tr>\n      <td>ser-L[e]</td>\n      <td>EX_ser_L(e)</td>\n      <td>10</td>\n      <td>3</td>\n      <td>2.11%</td>\n    </tr>\n    <tr>\n      <td>so4[e]</td>\n      <td>EX_so4(e)</td>\n      <td>0.03028</td>\n      <td>0</td>\n      <td>0.00%</td>\n    </tr>\n    <tr>\n      <td>thm[e]</td>\n      <td>EX_thm(e)</td>\n      <td>0.03028</td>\n      <td>12</td>\n      <td>0.03%</td>\n    </tr>\n    <tr>\n      <td>thr-L[e]</td>\n      <td>EX_thr_L(e)</td>\n      <td>10</td>\n      <td>4</td>\n      <td>2.81%</td>\n    </tr>\n    <tr>\n      <td>thymd[e]</td>\n      <td>EX_thymd(e)</td>\n      <td>0.1569</td>\n      <td>10</td>\n      <td>0.11%</td>\n    </tr>\n    <tr>\n      <td>trp-L[e]</td>\n      <td>EX_trp_L(e)</td>\n      <td>0.297</td>\n      <td>11</td>\n      <td>0.23%</td>\n    </tr>\n    <tr>\n      <td>tyr-L[e]</td>\n      <td>EX_tyr_L(e)</td>\n      <td>0.723</td>\n      <td>9</td>\n      <td>0.46%</td>\n    </tr>\n    <tr>\n      <td>ura[e]</td>\n      <td>EX_ura(e)</td>\n      <td>1.672</td>\n      <td>4</td>\n      <td>0.47%</td>\n    </tr>\n    <tr>\n      <td>hpyr[c]</td>\n      <td>sink_hpyr</td>\n      <td>0.05</td>\n      <td>3</td>\n      <td>0.01%</td>\n    </tr>\n  </tbody>\n</table><h4>Secretion</h4><table border=\"1\" class=\"dataframe\">\n  <thead>\n    <tr style=\"text-align: right;\">\n      <th>Metabolite</th>\n      <th>Reaction</th>\n      <th>Flux</th>\n      <th>C-Number</th>\n      <th>C-Flux</th>\n    </tr>\n  </thead>\n  <tbody>\n    <tr>\n      <td>na1[c]</td>\n      <td>DM_NA1</td>\n      <td>-10</td>\n      <td>0</td>\n      <td>0.00%</td>\n    </tr>\n    <tr>\n      <td>5oxpro[e]</td>\n      <td>EX_5oxpro(e)</td>\n      <td>-1.249</td>\n      <td>5</td>\n      <td>0.58%</td>\n    </tr>\n    <tr>\n      <td>but[e]</td>\n      <td>EX_but(e)</td>\n      <td>-18.12</td>\n      <td>4</td>\n      <td>6.70%</td>\n    </tr>\n    <tr>\n      <td>co2[e]</td>\n      <td>EX_co2(e)</td>\n      <td>-96.12</td>\n      <td>1</td>\n      <td>8.88%</td>\n    </tr>\n    <tr>\n      <td>dhor-S[e]</td>\n      <td>EX_dhor_S(e)</td>\n      <td>-1.164</td>\n      <td>5</td>\n      <td>0.54%</td>\n    </tr>\n    <tr>\n      <td>h[e]</td>\n      <td>EX_h(e)</td>\n      <td>-226.2</td>\n      <td>0</td>\n      <td>0.00%</td>\n    </tr>\n    <tr>\n      <td>hxan[e]</td>\n      <td>EX_hxan(e)</td>\n      <td>-8.836</td>\n      <td>5</td>\n      <td>4.08%</td>\n    </tr>\n    <tr>\n      <td>ile-L[e]</td>\n      <td>EX_ile_L(e)</td>\n      <td>-6.01</td>\n      <td>6</td>\n      <td>3.33%</td>\n    </tr>\n    <tr>\n      <td>lac-D[e]</td>\n      <td>EX_lac_D(e)</td>\n      <td>-215.8</td>\n      <td>3</td>\n      <td>59.83%</td>\n    </tr>\n    <tr>\n      <td>ptrc[e]</td>\n      <td>EX_ptrc(e)</td>\n      <td>-1.164</td>\n      <td>4</td>\n      <td>0.43%</td>\n    </tr>\n    <tr>\n      <td>rbflvrd[e]</td>\n      <td>EX_rbflvrd(e)</td>\n      <td>-9.939</td>\n      <td>17</td>\n      <td>15.62%</td>\n    </tr>\n  </tbody>\n</table>"
     },
     "metadata": {},
     "execution_count": 23
    }
   ],
   "source": [
    "model_mgam=medium(model.copy(),MediumMgam)\n",
    "print('\\nMedium_mgam')\n",
    "for i in MediumMgam:\n",
    "    #if model_mgam.exchanges.get_by_id(i).lower_bound != 0:\n",
    "     #model_mgam.exchanges.get_by_id(i).lower_bound=-1000\n",
    "    model_mgam.exchanges.get_by_id('EX_glc(e)').lower_bound=-2.77\n",
    "model_mgam.summary()"
   ]
  },
  {
   "cell_type": "code",
   "execution_count": 9,
   "metadata": {},
   "outputs": [
    {
     "output_type": "execute_result",
     "data": {
      "text/plain": [
       "([<Reaction EX_4abz(e) at 0x7feaef0d3e90>,\n",
       "  <Reaction EX_5oxpro(e) at 0x7feaef0d3ed0>,\n",
       "  <Reaction EX_Lcyst(e) at 0x7feaef0d3f10>,\n",
       "  <Reaction EX_Lcystin(e) at 0x7feaef0d3f50>,\n",
       "  <Reaction EX_ade(e) at 0x7feaef06b190>,\n",
       "  <Reaction EX_adocbl(e) at 0x7feaef06b1d0>,\n",
       "  <Reaction EX_ala_D(e) at 0x7feaef06b210>,\n",
       "  <Reaction EX_ala_L(e) at 0x7feaef06b250>,\n",
       "  <Reaction EX_arg_L(e) at 0x7feaef06b4d0>,\n",
       "  <Reaction EX_asn_L(e) at 0x7feaef06b510>,\n",
       "  <Reaction EX_asp_L(e) at 0x7feaef06b5d0>,\n",
       "  <Reaction EX_btn(e) at 0x7feaef06b610>,\n",
       "  <Reaction EX_ca2(e) at 0x7feaef06b6d0>,\n",
       "  <Reaction EX_cbl1(e) at 0x7feaef06b710>,\n",
       "  <Reaction EX_cbl2(e) at 0x7feaef06b750>,\n",
       "  <Reaction EX_cl(e) at 0x7feaef06b890>,\n",
       "  <Reaction EX_cobalt2(e) at 0x7feaef06b910>,\n",
       "  <Reaction EX_cu2(e) at 0x7feaef06b990>,\n",
       "  <Reaction EX_cys_L(e) at 0x7feaef06b9d0>,\n",
       "  <Reaction EX_fe2(e) at 0x7feaef06ba90>,\n",
       "  <Reaction EX_fe3(e) at 0x7feaef06bad0>,\n",
       "  <Reaction EX_fol(e) at 0x7feaef06bb50>,\n",
       "  <Reaction EX_glc(e) at 0x7feaef06bd10>,\n",
       "  <Reaction EX_gln_L(e) at 0x7feaef06bd90>,\n",
       "  <Reaction EX_glu_L(e) at 0x7feaef06bdd0>,\n",
       "  <Reaction EX_gly(e) at 0x7feaef06be10>,\n",
       "  <Reaction EX_gthox(e) at 0x7feaef085190>,\n",
       "  <Reaction EX_gthrd(e) at 0x7feaef0851d0>,\n",
       "  <Reaction EX_gua(e) at 0x7feaef085210>,\n",
       "  <Reaction EX_h(e) at 0x7feaef085250>,\n",
       "  <Reaction EX_h2o(e) at 0x7feaef085290>,\n",
       "  <Reaction EX_his_L(e) at 0x7feaef085350>,\n",
       "  <Reaction EX_hxan(e) at 0x7feaef085390>,\n",
       "  <Reaction EX_ile_L(e) at 0x7feaef0853d0>,\n",
       "  <Reaction EX_ins(e) at 0x7feaef085410>,\n",
       "  <Reaction EX_inulin(e) at 0x7feaef085450>,\n",
       "  <Reaction EX_k(e) at 0x7feaef0854d0>,\n",
       "  <Reaction EX_leu_L(e) at 0x7feaef085650>,\n",
       "  <Reaction EX_lys_L(e) at 0x7feaef085710>,\n",
       "  <Reaction EX_met_D(e) at 0x7feaef085850>,\n",
       "  <Reaction EX_met_L(e) at 0x7feaef085890>,\n",
       "  <Reaction EX_mg2(e) at 0x7feaef085990>,\n",
       "  <Reaction EX_na1(e) at 0x7feaef085a50>,\n",
       "  <Reaction EX_nac(e) at 0x7feaef085a90>,\n",
       "  <Reaction EX_ncam(e) at 0x7feaef085ad0>,\n",
       "  <Reaction EX_phe_L(e) at 0x7feaef085c90>,\n",
       "  <Reaction EX_pi(e) at 0x7feaef085cd0>,\n",
       "  <Reaction EX_pnto_R(e) at 0x7feaef085d50>,\n",
       "  <Reaction EX_pro_L(e) at 0x7feaef085d90>,\n",
       "  <Reaction EX_ptrc(e) at 0x7feaef085e10>,\n",
       "  <Reaction EX_pydam(e) at 0x7feaef085e50>,\n",
       "  <Reaction EX_pydx(e) at 0x7feaef085e90>,\n",
       "  <Reaction EX_pydxn(e) at 0x7feaef085ed0>,\n",
       "  <Reaction EX_rbflvrd(e) at 0x7feaef085f10>,\n",
       "  <Reaction EX_ribflv(e) at 0x7feaef085f50>,\n",
       "  <Reaction EX_ser_L(e) at 0x7feaef085fd0>,\n",
       "  <Reaction EX_so4(e) at 0x7feaef01e050>,\n",
       "  <Reaction EX_spmd(e) at 0x7feaef01e090>,\n",
       "  <Reaction EX_strch1(e) at 0x7feaef01e0d0>,\n",
       "  <Reaction EX_taur(e) at 0x7feaef01e190>,\n",
       "  <Reaction EX_thm(e) at 0x7feaef01e1d0>,\n",
       "  <Reaction EX_thr_L(e) at 0x7feaef01e210>,\n",
       "  <Reaction EX_thymd(e) at 0x7feaef01e250>,\n",
       "  <Reaction EX_trp_L(e) at 0x7feaef01e290>,\n",
       "  <Reaction EX_tyr_L(e) at 0x7feaef01e2d0>,\n",
       "  <Reaction EX_ura(e) at 0x7feaef01e310>,\n",
       "  <Reaction EX_val_L(e) at 0x7feaef01e3d0>,\n",
       "  <Reaction EX_xan(e) at 0x7feaef01e410>,\n",
       "  <Reaction EX_xyl_D(e) at 0x7feaef01e450>],\n",
       " [])"
      ]
     },
     "metadata": {},
     "execution_count": 9
    }
   ],
   "source": [
    "find_match(model_mgam,MediumMgam)"
   ]
  },
  {
   "cell_type": "code",
   "execution_count": 140,
   "metadata": {},
   "outputs": [
    {
     "output_type": "error",
     "ename": "NameError",
     "evalue": "name 'x' is not defined",
     "traceback": [
      "\u001b[0;31m---------------------------------------------------------------------------\u001b[0m",
      "\u001b[0;31mNameError\u001b[0m                                 Traceback (most recent call last)",
      "\u001b[0;32m<ipython-input-140-3d0667fca239>\u001b[0m in \u001b[0;36m<module>\u001b[0;34m\u001b[0m\n\u001b[1;32m      1\u001b[0m \u001b[0;32mfor\u001b[0m \u001b[0mi\u001b[0m \u001b[0;32min\u001b[0m \u001b[0mfind_match\u001b[0m\u001b[0;34m(\u001b[0m\u001b[0mMediumMgam\u001b[0m\u001b[0;34m)\u001b[0m\u001b[0;34m[\u001b[0m\u001b[0;36m1\u001b[0m\u001b[0;34m]\u001b[0m\u001b[0;34m:\u001b[0m\u001b[0;34m\u001b[0m\u001b[0;34m\u001b[0m\u001b[0m\n\u001b[1;32m      2\u001b[0m     \u001b[0mr\u001b[0m \u001b[0;34m=\u001b[0m \u001b[0mre\u001b[0m\u001b[0;34m.\u001b[0m\u001b[0mcompile\u001b[0m\u001b[0;34m(\u001b[0m\u001b[0;34mr'{0}.+?{1}?.+?{2}?.*?'\u001b[0m\u001b[0;34m.\u001b[0m\u001b[0mformat\u001b[0m\u001b[0;34m(\u001b[0m\u001b[0mi\u001b[0m\u001b[0;34m[\u001b[0m\u001b[0;36m0\u001b[0m\u001b[0;34m:\u001b[0m\u001b[0;36m5\u001b[0m\u001b[0;34m]\u001b[0m\u001b[0;34m,\u001b[0m\u001b[0mi\u001b[0m\u001b[0;34m[\u001b[0m\u001b[0;36m5\u001b[0m\u001b[0;34m]\u001b[0m\u001b[0;34m,\u001b[0m \u001b[0mi\u001b[0m\u001b[0;34m[\u001b[0m\u001b[0;36m6\u001b[0m\u001b[0;34m]\u001b[0m\u001b[0;34m)\u001b[0m\u001b[0;34m)\u001b[0m\u001b[0;34m\u001b[0m\u001b[0;34m\u001b[0m\u001b[0m\n\u001b[0;32m----> 3\u001b[0;31m     \u001b[0mnewlist\u001b[0m \u001b[0;34m=\u001b[0m \u001b[0mlist\u001b[0m\u001b[0;34m(\u001b[0m\u001b[0mfilter\u001b[0m\u001b[0;34m(\u001b[0m\u001b[0mr\u001b[0m\u001b[0;34m.\u001b[0m\u001b[0mfindall\u001b[0m\u001b[0;34m,\u001b[0m \u001b[0mx\u001b[0m\u001b[0;34m)\u001b[0m\u001b[0;34m)\u001b[0m \u001b[0;31m# Read Note\u001b[0m\u001b[0;34m\u001b[0m\u001b[0;34m\u001b[0m\u001b[0m\n\u001b[0m\u001b[1;32m      4\u001b[0m     \u001b[0mprint\u001b[0m\u001b[0;34m(\u001b[0m\u001b[0mnewlist\u001b[0m\u001b[0;34m)\u001b[0m\u001b[0;34m\u001b[0m\u001b[0;34m\u001b[0m\u001b[0m\n",
      "\u001b[0;31mNameError\u001b[0m: name 'x' is not defined"
     ]
    }
   ],
   "source": [
    "for i in find_match(MediumMgam,)[1]:\n",
    "    r = re.compile(r'{0}.+?{1}?.+?{2}?.*?'.format(i[0:5],i[5], i[6]))\n",
    "    newlist = list(filter(r.findall, x)) # Read Note\n",
    "    print(newlist)"
   ]
  },
  {
   "cell_type": "code",
   "execution_count": null,
   "metadata": {},
   "outputs": [],
   "source": [
    "fba = model.optimize()\n",
    "fluxes = deleteNull(fba.fluxes)\n",
    "print('\\nActive reaction : %i which represent %f%% of the model' %(len(fluxes),len(fluxes)/len(model.reactions)*100))\n",
    "print(fba.objective_value)"
   ]
  },
  {
   "cell_type": "code",
   "execution_count": null,
   "metadata": {},
   "outputs": [],
   "source": [
    "from cobra.medium import minimal_medium\n",
    "\n",
    "max_growth = model.slim_optimize()\n",
    "minimal_medium(model, max_growth)"
   ]
  },
  {
   "cell_type": "code",
   "execution_count": null,
   "metadata": {},
   "outputs": [],
   "source": [
    "from cobra.medium import minimal_medium\n",
    "max_growth = model_mgam.slim_optimize()\n",
    "minimal_medium(model_mgam, max_growth)"
   ]
  },
  {
   "cell_type": "markdown",
   "metadata": {},
   "source": [
    "---\n",
    "## Reinforced Clostridial Medium (RCM)\n",
    "http://www.oxoid.com/UK/blue/prod_detail/prod_detail.asp?pr=CM0149&org=53&c=UK&lang=EN\n",
    "\n",
    "* Yeast Extract -> [lots of stuff in it, unsure of what's garbage](https://www.chemicalbook.com/ChemicalProductProperty_EN_CB9440339.htm#:~:text=Yeast%20extract%20has%20a%20protein,aromatic%20compounds%20and%20other%20components.)\n",
    "    * Glutathione: gthrd (reduced version)\n",
    "    * 18 AA's: see above\n",
    "    * Dextran: glc__D (it's made of glucose)\n",
    "    * Mannan: mannan\n",
    "    * Trehalose: tre\n",
    "    * B-vitamins: (Clemence mentioned vitamins being important so I'm putting them all in)\n",
    "        * \\1. Thiamin -> thm\n",
    "        * \\2. Riboflavin -> ribflv\n",
    "        * \\3. Niacin -> trp__L (made of tryptophan)\n",
    "        * \\5. Pantothenic Acid -> pnto__R\n",
    "        * \\6. Pyridoxine -> pydxn\n",
    "        * \\7. Biotin -> btn\n",
    "        * \\9. Folic Acid -> ... can't find anything\n",
    "        * \\12. Cobalamin -> b12 (or cbl1)\n",
    "    * Biotin\n",
    "* Peptone -> Sticking with the above logic, probably a source of all AAs\n",
    "* Glucose -> Assuming D_Glucose: glc__D\n",
    "* Soluble Starch -> starch1200\n",
    "* Sodium Chloride -> na1, cl\n",
    "* Sodium Acetate -> Assuming breaking down into sodium and acetate: ac, na1\n",
    "* Cysteine Hydrochloride -> cys_L, cl, h (could also be cys_D? cys_L is more widely used)\n",
    "* Agar: Agarose (70%) and Agaropectin (30%) [according to Wiki](https://en.wikipedia.org/wiki/Agar)\n",
    "    * Agarose: D-galactose & 3,6-anhydro-L-galactopyranose\n",
    "        * D-galactose: gal\n",
    "        * 3,6-anhydro-L-galactopyranose: [similar structure & compositon to beta-D-allose](https://pubchem.ncbi.nlm.nih.gov/#query=CID67020466%20structure&tab=similarity)\n",
    "            * D-Allose: all__D\n",
    "    * Agaropectin: D-galactose, L-galactose, pyruvate, sulfate\n",
    "        * D-galactose: gal\n",
    "        * L-galactose: gal__L\n",
    "        * Pyruvate: pyr\n",
    "        * Sulfate: so4"
   ]
  },
  {
   "cell_type": "markdown",
   "metadata": {},
   "source": [
    "| Component              | Concentration (g/L) | BiGG Metabolites                                                                          |\n",
    "|------------------------|---------------------|-------------------------------------------------------------------------------------------|\n",
    "| Yeast Extract          | 13.0                | (see all AA's), gthrd, glc\\__D, mannan, tre, thm, ribflv, trp\\__L, pnto\\__R, pydxn, btn, b12 |\n",
    "| Peptone                | 10.0                | (see all AA's)                                                                            |\n",
    "| Glucose                | 5.0                 | glc_D                                                                                     |\n",
    "| Soluble Starch         | 1.0                 | starch1200                                                                                |\n",
    "| Sodium Chloride        | 5.0                 | na1, cl                                                                                   |\n",
    "| Sodium Acetate         | 3.0                 | na1, ac                                                                                   |\n",
    "| Cysteine Hydrochloride | 0.5                 | cys_L, cl, h                                                                              |\n",
    "| Agar                   | 0.5                 | gal, all\\__D, gal\\__L, pyr, so4                                                           |"
   ]
  },
  {
   "cell_type": "code",
   "execution_count": null,
   "metadata": {},
   "outputs": [],
   "source": [
    "medium_rcm = list(('gthrd','glc__D','mannan','tre','thm','ribflv','trp__L','pnto__R','pydxn','btn','b12',\n",
    "             'starch1200','na1','ac','cl','cys_L','gal','all__D','gal__L','pyr','so4'))\n",
    "medium_rcm=[mets+\"(e)\" for mets in medium_rcm]\n",
    "model_rcm=medium(model.copy(), medium_rcm)\n",
    "for i in range(1,len(model_rcm.reactions)):\n",
    "    model_rcm.reactions[i].upper_bound=1000\n",
    "    model_rcm.reactions[i].lower_bound=-1000\n",
    "model_rcm.objective = {model_rcm.reactions.get_by_id('Biomass_FP'): 1}\n",
    "model_rcm.summary()"
   ]
  },
  {
   "cell_type": "code",
   "execution_count": null,
   "metadata": {},
   "outputs": [],
   "source": [
    "model_mmcb.reactions.get_by_id('mannan')"
   ]
  },
  {
   "cell_type": "code",
   "execution_count": null,
   "metadata": {},
   "outputs": [],
   "source": [
    "# Post-optimization\n",
    "fba_rcm = model_rcm.optimize()\n",
    "fluxes = deleteNull(fba_rcm.fluxes)\n",
    "print('\\nActive reaction : %i which represent %f%% of the model' %(len(fluxes),len(fluxes)/len(model.reactions)*100))\n",
    "print(model_rcm.objective.value)"
   ]
  },
  {
   "source": [
    "---\n",
    "## mMCB\n",
    "\n",
    "(There are also supplements mentioned in the paper but this is the base medium)\n",
    "* [Bacteriological Peptome (6.5) (Oxoid)](http://www.oxoid.com/UK/blue/prod_detail/prod_detail.asp?pr=LP0037&c=UK&lang=EN): \n",
    "    * Vague, decided to go with polypeptides: <b>polypep</b>\n",
    "    * Nitrogen: <b>n2</b>\n",
    "* [Soy Peptome (5.0) (Oxoid)](http://www.oxoid.com/UK/blue/prod_detail/prod_detail.asp?pr=LP0044&cat=&c=UK&lang=EN) --> another vague one:\n",
    "    * Stachyose: <b>stys</b>\n",
    "    * Raffinose: <b>raffin</b>\n",
    "    * Sucrose: <b>sucr</b>\n",
    "    * Nitrogen: <b>n2</b>\n",
    "* [Yeast Extract (3.0) (VWR International, Darmstadt, Germany)](https://us.vwr.com/store/product/7437401/vwr-life-science-yeast-extract-bacteriological-grade):\n",
    "    * Vitamin B (same logic as RCM):\n",
    "        * 1. Thiamin -> <b>thm</b>\n",
    "        * 2. Riboflavin -> <b>ribflv</b>\n",
    "        * 3. Niacin -> <b>trp__L</b> (made of tryptophan)\n",
    "        * 5. Pantothenic Acid -> <b>pnto__R</b>\n",
    "        * 6. Pyridoxine -> <b>pydxn</b>\n",
    "        * 7. Biotin -> <b>btn</b>\n",
    "        * 9. Folic Acid -> ... can't find anything\n",
    "        * 12. Cobalamin -> <b>b12</b> (or cbl1)\n",
    "* [Tryptone (2.5) (Oxoid)](http://www.oxoid.com/UK/blue/prod_detail/prod_detail.asp?pr=LP0042&c=UK&lang=EN): \n",
    "    * Tryptophan: <b>trp__L</b>\n",
    "* NaCL (1.5) (VWR International, Darmstadt, Germany):\n",
    "    * NaCl: <b>na1, cl</b>\n",
    "* K<sub>2</sub>HPO<sub>4</sub> (1.0) (Merck International, Darmstadt, Germany):\n",
    "    * Potassium: <b>k</b>\n",
    "    * Phosphate: <b>p1</b>\n",
    "    * Hydrogen: <b>h2</b>\n",
    "* KH<sub>2</sub>PO<sub>4</sub> (1.0) (Merck International, Darmstadt, Germany):\n",
    "    * Potassium: <b>k</b>\n",
    "    * Phosphate: <b>p1</b>\n",
    "    * Hydrogen: <b>h2</b>\n",
    "* Na<sub>2</sub>SO<sub>4</sub> (2.0) (VWR):\n",
    "    * Sodium: <b>na1</b>\n",
    "    * Sulfate: <b>so4</b>\n",
    "* MgSO<sub>4</sub>*7H<sub>2</sub>O (1.0) (Merck):\n",
    "    * Magnesium: <b>mg2</b>\n",
    "    * Sulfate: <b>so4</b>\n",
    "* CaCl<sub>2</sub>*2H<sub>2</sub>O (0.1) (Merck):\n",
    "    * Calcium Chloride: <b>ca2, cl</b>\n",
    "* NH<sub>4</sub>Cl (1.0) (Merck):\n",
    "    * Ammonium Chloride: <b>nh4, cl</b>\n",
    "* Cysteine-HCL (0.4) (Merck):\n",
    "    * Cysteine: <b>cys__L</b>\n",
    "    * HCL: <b>h2, cl</b>\n",
    "* NaHCO<sub>3</sub> (0.2) (VWR):\n",
    "    * Sodium: <b>na1</b>\n",
    "    * Bicarbonate: <b>hco3<b>\n",
    "* MnSO<sub>4</sub>*H<sub>2</sub>O (0.05) (VWR):\n",
    "    * Manganese: <b>mn2</b>\n",
    "    * Sulfate: <b>so4</b>\n",
    "* FeSO<sub>4</sub>*7H<sub>2</sub>O (0.005) (Merck):\n",
    "    * Iron: <b>fe</b>\n",
    "    * Sulfate: <b>so4</b>\n",
    "* ZnSO<sub>4</sub>*7H<sub>2</sub>O (0.005) (VWR):\n",
    "    * Zinc: <b>zn2</b>\n",
    "    * Sulfate: <b>so4</b>\n",
    "* Hemin (0.005) (Sigma-Aldrich, Steinheim, Germany):\n",
    "    * ... contains iron\n",
    "* Menadione (0.005) (S-A):\n",
    "    * <b>mndn</b>\n",
    "* Resazurin (0.001) (S-A):\n",
    "    * Fluoro identifier\n",
    "\n"
   ],
   "cell_type": "markdown",
   "metadata": {}
  },
  {
   "source": [
    "| Component                            | Concentration (g/L) | BiGG Metabolites                                |\n",
    "|--------------------------------------|---------------------|-------------------------------------------------|\n",
    "| Bacteriological Peptome              | 6.5                 | polypep, n2                                     |\n",
    "| Soy Peptome                          | 5.0                 | stys, raffin, sucr, n2                          |\n",
    "| Yeast Extract                        | 3.0                 | thm, ribflv, trp\\__L, pnto\\__R, pydxn, btn, b12 |\n",
    "| Tryptone                             | 2.5                 | trp\\__L                                         |\n",
    "| NaCL                                 | 1.5                 | na1, cl                                         |\n",
    "| K<sub>2</sub>PO<sub>4</sub>          | 1.0                 | k, p1, h2                                       |\n",
    "| KH<sub>2</sub>PO<sub>4</sub>         | 1.0                 | k, p1, h2                                       |\n",
    "| Na<sub>2</sub>SO<sub>4</sub>         | 2.0                 | na1, so4                                        |\n",
    "| Mg<sub>2</sub>SO<sub>4</sub>         | 1.0                 | mg2, so4                                        |\n",
    "| CaCl<sub>2</sub>*2H<sub>2</sub>O     | 0.1                 | ca2, cl                                         |\n",
    "| NH<sub>4</sub>Cl                     | 1.0                 | nh4, cl                                         |\n",
    "| Cysteine-HCL                         | 0.4                 | cys__L, h2, cl                                  |\n",
    "| NaHCO<sub>3</sub>                    | 0.2                 | na1, hco3                                       |\n",
    "| MnSO<sub>4</sub>*H<sub>2</sub>O      | 0.05                | mn2, so4                                        |\n",
    "| FeSOMnSO<sub>4</sub>*7H<sub>2</sub>O | 0.005               | fe, so4                                         |\n",
    "| ZnSO<sub>4</sub>*7H<sub>2</sub>O     | 0.005               | zn2, so4                                        |\n",
    "| Hemin                                | 0.005               |                                                 |\n",
    "| Menadione                            | 0.005               | mndn                                            |\n",
    "| Resazurin                            | 0.001               |                                                 |"
   ],
   "cell_type": "markdown",
   "metadata": {}
  },
  {
   "cell_type": "code",
   "execution_count": null,
   "metadata": {},
   "outputs": [],
   "source": [
    "model.copy()"
   ]
  },
  {
   "cell_type": "code",
   "execution_count": null,
   "metadata": {},
   "outputs": [],
   "source": [
    "medium_mmcb = list(('polypep','n2','stys','raffin','sucr','n2','thm','ribflv','trp__L',\n",
    "                    'pnto__R','pydxn','btn','b12','trp__L','na1','cl','k','p1','h2','na1',\n",
    "                    'so4','mg2','ca2','nh4','cys__L','h2','cl','na1','hco3','mn2','zn2','mndnb'))"
   ]
  },
  {
   "cell_type": "code",
   "execution_count": null,
   "metadata": {},
   "outputs": [],
   "source": [
    "medium_mmcb=[mets+\"(e)\" for mets in medium_mmcb]\n",
    "model_mmcb=medium(model.copy(), medium_mmcb)\n",
    "unused = []\n",
    "for i in range(1,len(model_mmcb.reactions)):\n",
    "    model_mmcb.reactions[i].upper_bound=1000\n",
    "    if model_mmcb.reactions[i].lower_bound != 0:\n",
    "        model_mmcb.reactions[i].lower_bound=-10\n",
    "    else:    \n",
    "        model_mmcb.reactions[i].lower_bound=-\n",
    "model_mmcb.objective = {model_mmcb.reactions.get_by_id('Biomass_FP'): 1}\n",
    "model_mmcb.summary()\n",
    "\n",
    "# Find list of all metabolites not in media\n",
    "# Express in mmol/g/L\n",
    "# Set as -'ve flux lower bound"
   ]
  },
  {
   "cell_type": "code",
   "execution_count": null,
   "metadata": {},
   "outputs": [],
   "source": [
    "# Post-optimization\n",
    "fba_mmcb = model_mmcb.optimize()\n",
    "fluxes_mmcb = deleteNull(fba_mmcb.fluxes)\n",
    "print('\\nActive reaction : %i which represent %f%% of the model' %(len(fluxes_mmcb),len(fluxes_mmcb)/len(model.reactions)*100))\n",
    "print(model_mmcb.objective.value)"
   ]
  }
 ],
 "metadata": {
  "kernelspec": {
   "name": "Python 3.7.6 64-bit ('base': conda)",
   "display_name": "Python 3.7.6 64-bit ('base': conda)",
   "metadata": {
    "interpreter": {
     "hash": "eec48ea81786c325bfab6147fce8b71cfe42370920a0568aac6dc72a8f882954"
    }
   }
  },
  "language_info": {
   "codemirror_mode": {
    "name": "ipython",
    "version": 3
   },
   "file_extension": ".py",
   "mimetype": "text/x-python",
   "name": "python",
   "nbconvert_exporter": "python",
   "pygments_lexer": "ipython3",
   "version": "3.7.6-final"
  }
 },
 "nbformat": 4,
 "nbformat_minor": 4
}