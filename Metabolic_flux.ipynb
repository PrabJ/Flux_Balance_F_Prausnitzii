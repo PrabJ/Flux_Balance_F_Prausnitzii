{
 "cells": [
  {
   "cell_type": "markdown",
   "metadata": {},
   "source": [
    "# Integrated Bioinformatics Project : Flux_Balance_F_Prausnitzii \n",
    "#### Students: Michael Shawn Neilsson, Biancamaria FLorenzi, Prabhat Juyal, Tim Blokker\n",
    "#### Supervisors: Clémence Joseph, Karoline Faust"
   ]
  },
  {
   "cell_type": "code",
   "execution_count": 26,
   "metadata": {},
   "outputs": [],
   "source": [
    "#import packages\n",
    "from libchebipy import ChebiEntity\n",
    "import molmass\n",
    "import io\n",
    "import cobra\n",
    "import functions\n",
    "import re\n",
    "from functions import *\n",
    "import cobrababel\n",
    "import json\n",
    "import requests\n",
    "import pandas as pd"
   ]
  },
  {
   "cell_type": "code",
   "execution_count": 27,
   "metadata": {},
   "outputs": [
    {
     "output_type": "stream",
     "name": "stdout",
     "text": [
      "Metabolites :  833\nReactions :  1030\nGenes :  602\nCompartments :  {'c': '', 'e': ''}\nObjective function : \n Maximize\n1.0*Biomass_FP - 1.0*Biomass_FP_reverse_ee33b \n\n"
     ]
    }
   ],
   "source": [
    "#model = cobra.io.read_sbml_model('Data/f_prausnitzii.xml')\n",
    "#info(model)\n",
    "model=cobra.io.load_matlab_model('Data/iFpraus_v_1_0.mat')\n",
    "info(model)"
   ]
  },
  {
   "cell_type": "code",
   "execution_count": 28,
   "metadata": {},
   "outputs": [
    {
     "output_type": "execute_result",
     "data": {
      "text/plain": [
       "'3mop;4 Aminobenzoate;5oxpro;L-cysteate;L-Cystine;Acetate;N-acetyl-L-aspartate;N-Acetyl-D-galactosamine;desulfated disaccharide acgalglcur;N-Acetyl-D-glucosamine;N-acetylglutamate;N-Acetylneuraminate;Adenine;Adenosylcobalamin;D-Alanine;L-Alanine;D-Alanyl-D-alanine;L-alanyl-L-aspartate;L-alanyl-L-glutamine;L-alanyl-L-glutamate;L-alanylglycine;L-alanyl-L-histidine;L-alanyl-L-leucine;L-alanyl-L-threonine;L-Arabinose;L-Arginine;L-Asparagine;arsenite;Arsenate;L-Aspartate;Biotin;Butyrate (n-C4:0);butanesulfonate;Calcium;Cob(I)alamin;Cob(II)alamin;Cadmium;Cellobiose;Cys-Gly;Citrate;Chloride;CO2;Co2+;Capsular polysaccharide (F. prausnitzii, putative);Cu2+;L-Cysteine;(S)-Dihydrooroate;ethanesulfonate;Fe2+;Fe3+;Fe(III)dicitrate;Folate;Formate;D-Fructose;Fumarate;D-Galactose;D-Galacturonate;D-Glucosamine;D-Glucose;D-Glucuronate;L-Glutamine;L-Glutamate;Glycine;Glycyl-L-asparagine;Glycyl-L-aspartate;Glycerol 3-phosphate;(R)-Glycerate;Glycyl-L-glutamine;Glycyl-L-glutamate;nge reaction for glycylglyc;Glycylleucine;Glycyl-L-methionine;nge reaction for glycylphenylala;Glycylproline;Glycyl-L-tyrosine;Oxidized glutathione;Reduced glutathione;Guanine;H+;H2O;Hydrogen sulfide;Hg2+;L-Histidine;Hypoxanthine;L-Isoleucine;Inosine;Inulin;Isethionic acid;K+;Kestose;Kestopentaose;Kestotetraose;D-lactate;Lactose;L-Leucine;nge reaction for leucylglyc;Leucylleucine;L-Lysine;L-Malate;Maltose;D-Mannose;methanol;D-Methionine;L-Methionine;L-methionyl-L-alanine;L-methionine-R-sulfoxide;L-Methionine S-oxide;Mg;Molybdate;methanesulfonate;Sodium;Nicotinate;Nicotinamide;Ammonia;O2;Ornithine;Orotate;Lead;nge reaction for pect;L-Phenylalanine;Phosphate;Phenyllactate;(R)-Pantothenate;L-Proline;L-Prolinylglycine;Putrescine;Pyridoxamine;Pyridoxal;Pyridoxine;Reduced riboflavin;Riboflavin;Selenide;L-Serine;Sulfate;Spermidine;starch, structure 1 (1,6-{7[1,4-Glc], 4[1,4-Glc]});Succinate;sulfoacetate;Taurine;Thiamin;L-Threonine;Thymidine;L-Tryptophan;L-Tyrosine;Uracil;Urate;Urea;L-Valine;Xanthine;D-Xylose'"
      ]
     },
     "metadata": {},
     "execution_count": 28
    }
   ],
   "source": [
    "x=[model.reactions.get_by_id(compound_id).name for compound_id in model.medium]\n",
    "x=[compound[:(len(compound)-3)] for compound in x]\n",
    "x=[compoundname.replace(\"EX_\", \"\") for compoundname in x]\n",
    "x=[compoundname.replace(\"excha\", \"\").strip() for compoundname in x]\n",
    "\";\".join(x)"
   ]
  },
  {
   "cell_type": "code",
   "execution_count": 29,
   "metadata": {
    "tags": []
   },
   "outputs": [],
   "source": [
    "url = \"http://api.xialab.ca/mapcompounds\"\n",
    "\n",
    "payload = \"{\\n\\t\\\"queryList\\\": \\\"%s;\\\",\\n\\t\\\"inputType\\\": \\\"name\\\"\\n}\" %\";\".join(x)\n",
    "headers = {\n",
    "    'Content-Type': \"application/json\",\n",
    "    'cache-control': \"no-cache\",\n",
    "    }\n",
    "\n",
    "response = requests.request(\"POST\", url, data=payload, headers=headers)"
   ]
  },
  {
   "cell_type": "code",
   "execution_count": 30,
   "metadata": {},
   "outputs": [
    {
     "output_type": "execute_result",
     "data": {
      "text/plain": [
       "             query           hit      hmdb_id kegg_id pubchem_id chebi_id metlin_id                             smiles\n",
       "0             3mop                          -       -          -        -         -                                 NA\n",
       "1  4 Aminobenzoate                          -       -          -        -         -                                 NA\n",
       "2           5oxpro                          -       -          -        -         -                                 NA\n",
       "3       L-cysteate  Cysteic acid  HMDB0002757  C00506      25701    21260       332              NC(CS(O)(=O)=O)C(O)=O\n",
       "4        L-Cystine     L-Cystine  HMDB0000192  C00491      67678    16283      5207  N[C@@H](CSSC[C@H](N)C(O)=O)C(O)=O"
      ],
      "text/html": "<div>\n<style scoped>\n    .dataframe tbody tr th:only-of-type {\n        vertical-align: middle;\n    }\n\n    .dataframe tbody tr th {\n        vertical-align: top;\n    }\n\n    .dataframe thead th {\n        text-align: right;\n    }\n</style>\n<table border=\"1\" class=\"dataframe\">\n  <thead>\n    <tr style=\"text-align: right;\">\n      <th></th>\n      <th>query</th>\n      <th>hit</th>\n      <th>hmdb_id</th>\n      <th>kegg_id</th>\n      <th>pubchem_id</th>\n      <th>chebi_id</th>\n      <th>metlin_id</th>\n      <th>smiles</th>\n    </tr>\n  </thead>\n  <tbody>\n    <tr>\n      <th>0</th>\n      <td>3mop</td>\n      <td></td>\n      <td>-</td>\n      <td>-</td>\n      <td>-</td>\n      <td>-</td>\n      <td>-</td>\n      <td>NA</td>\n    </tr>\n    <tr>\n      <th>1</th>\n      <td>4 Aminobenzoate</td>\n      <td></td>\n      <td>-</td>\n      <td>-</td>\n      <td>-</td>\n      <td>-</td>\n      <td>-</td>\n      <td>NA</td>\n    </tr>\n    <tr>\n      <th>2</th>\n      <td>5oxpro</td>\n      <td></td>\n      <td>-</td>\n      <td>-</td>\n      <td>-</td>\n      <td>-</td>\n      <td>-</td>\n      <td>NA</td>\n    </tr>\n    <tr>\n      <th>3</th>\n      <td>L-cysteate</td>\n      <td>Cysteic acid</td>\n      <td>HMDB0002757</td>\n      <td>C00506</td>\n      <td>25701</td>\n      <td>21260</td>\n      <td>332</td>\n      <td>NC(CS(O)(=O)=O)C(O)=O</td>\n    </tr>\n    <tr>\n      <th>4</th>\n      <td>L-Cystine</td>\n      <td>L-Cystine</td>\n      <td>HMDB0000192</td>\n      <td>C00491</td>\n      <td>67678</td>\n      <td>16283</td>\n      <td>5207</td>\n      <td>N[C@@H](CSSC[C@H](N)C(O)=O)C(O)=O</td>\n    </tr>\n  </tbody>\n</table>\n</div>"
     },
     "metadata": {},
     "execution_count": 30
    }
   ],
   "source": [
    "dict=json.loads(response.text)\n",
    "mapped_compounds=pd.DataFrame(dict)\n",
    "mapped_compounds.head()"
   ]
  },
  {
   "cell_type": "code",
   "execution_count": 55,
   "metadata": {},
   "outputs": [],
   "source": [
    "mol_weight=[]\n",
    "for i in mapped_compounds[\"chebi_id\"]:\n",
    "    try:\n",
    "        x= ChebiEntity(str(i))\n",
    "        mol_weight.append(x.get_mass())\n",
    "    except:\n",
    "        mol_weight.append(\"NA\")\n",
    "        continue"
   ]
  },
  {
   "cell_type": "code",
   "execution_count": 57,
   "metadata": {},
   "outputs": [
    {
     "output_type": "execute_result",
     "data": {
      "text/plain": [
       "                                                 query                       hit mol_weight\n",
       "0                                                 3mop                                   NA\n",
       "1                                      4 Aminobenzoate                                   NA\n",
       "2                                               5oxpro                                   NA\n",
       "3                                           L-cysteate              Cysteic acid    169.156\n",
       "4                                            L-Cystine                 L-Cystine    240.303\n",
       "5                                              Acetate               Acetic acid     60.052\n",
       "6                                 N-acetyl-L-aspartate  N-Acetyl-L-aspartic acid    175.139\n",
       "7                             N-Acetyl-D-galactosamine  N-Acetyl-D-galactosamine         NA\n",
       "8                   desulfated disaccharide acgalglcur                                   NA\n",
       "9                               N-Acetyl-D-glucosamine    N-Acetyl-D-glucosamine    221.208\n",
       "10                                   N-acetylglutamate     N-Acetylglutamic acid     187.15\n",
       "11                                 N-Acetylneuraminate       N-Acetylneuraminate     309.27\n",
       "12                                             Adenine                   Adenine    135.127\n",
       "13                                   Adenosylcobalamin         Adenosylcobalamin    1579.58\n",
       "14                                           D-Alanine                 D-Alanine    89.0932\n",
       "15                                           L-Alanine                 L-Alanine    89.0932\n",
       "16                                  D-Alanyl-D-alanine        D-Alanyl-D-alanine    160.171\n",
       "17                                L-alanyl-L-aspartate      Alanyl-Aspartic acid         NA\n",
       "18                                L-alanyl-L-glutamine          Alanyl-Glutamine         NA\n",
       "19                                L-alanyl-L-glutamate      Alanyl-Glutamic acid         NA\n",
       "20                                     L-alanylglycine             Alanylglycine         NA\n",
       "21                                L-alanyl-L-histidine          Alanyl-Histidine         NA\n",
       "22                                  L-alanyl-L-leucine            Alanyl-Leucine         NA\n",
       "23                                L-alanyl-L-threonine          Alanyl-Threonine         NA\n",
       "24                                         L-Arabinose               L-Arabinose     150.13\n",
       "25                                          L-Arginine                L-Arginine    174.201\n",
       "26                                        L-Asparagine              L-Asparagine    132.118\n",
       "27                                            arsenite                  Arsenite    125.944\n",
       "28                                            Arsenate                  Arsenate    141.943\n",
       "29                                         L-Aspartate           L-Aspartic acid    133.103\n",
       "30                                              Biotin                    Biotin    244.312\n",
       "31                                   Butyrate (n-C4:0)                                   NA\n",
       "32                                     butanesulfonate                                   NA\n",
       "33                                             Calcium                   Calcium     40.078\n",
       "34                                        Cob(I)alamin              Cob(I)alamin    1330.36\n",
       "35                                       Cob(II)alamin             Cob(II)alamin    1329.35\n",
       "36                                             Cadmium                   Cadmium    112.411\n",
       "37                                          Cellobiose                Cellobiose    342.296\n",
       "38                                             Cys-Gly          Cysteinylglycine    178.211\n",
       "39                                             Citrate               Citric acid    192.124\n",
       "40                                            Chloride              Chloride ion    35.4527\n",
       "41                                                 CO2            Carbon dioxide      44.01\n",
       "42                                                 Co2            Carbon dioxide      44.01\n",
       "43   Capsular polysaccharide (F. prausnitzii, putat...                                   NA\n",
       "44                                                 Cu2                                   NA\n",
       "45                                          L-Cysteine                L-Cysteine    121.158\n",
       "46                                   (S)-Dihydrooroate                                   NA\n",
       "47                                     ethanesulfonate                                   NA\n",
       "48                                                 Fe2                                   NA\n",
       "49                                                 Fe3                                   NA\n",
       "50                                    Fe(III)dicitrate          Fe(III)dicitrate         NA\n",
       "51                                              Folate                Folic acid    441.397\n",
       "52                                             Formate               Formic acid    46.0254\n",
       "53                                          D-Fructose                D-Fructose         NA\n",
       "54                                            Fumarate              Fumaric acid    116.072\n",
       "55                                         D-Galactose               D-Galactose    180.156\n",
       "56                                     D-Galacturonate           D-Galacturonate         NA\n",
       "57                                       D-Glucosamine               Glucosamine    179.171\n",
       "58                                           D-Glucose                 D-Glucose    180.156\n",
       "59                                       D-Glucuronate         D-Glucuronic acid    194.139\n",
       "60                                         L-Glutamine               L-Glutamine    146.145\n",
       "61                                         L-Glutamate           L-Glutamic acid    147.129\n",
       "62                                             Glycine                   Glycine    75.0666\n",
       "63                                 Glycyl-L-asparagine                                   NA\n",
       "64                                  Glycyl-L-aspartate                                   NA\n",
       "65                                Glycerol 3-phosphate      Glycerol 3-phosphate    172.074\n",
       "66                                       (R)-Glycerate             Glyceric acid    106.077\n",
       "67                                  Glycyl-L-glutamine                                   NA\n",
       "68                                  Glycyl-L-glutamate                                   NA\n",
       "69                         nge reaction for glycylglyc                                   NA\n",
       "70                                       Glycylleucine             Glycylleucine    188.224\n",
       "71                                 Glycyl-L-methionine                                   NA\n",
       "72                    nge reaction for glycylphenylala                                   NA\n",
       "73                                       Glycylproline             Glycylproline         NA\n",
       "74                                   Glycyl-L-tyrosine           Glycyl-Tyrosine     238.24\n",
       "75                                Oxidized glutathione      Oxidized glutathione         NA\n",
       "76                                 Reduced glutathione               Glutathione     307.32\n",
       "77                                             Guanine                   Guanine         NA\n",
       "78                                                   H               L-Histidine    155.155\n",
       "79                                                 H2O                     Water    18.0153\n",
       "80                                    Hydrogen sulfide          Hydrogen sulfide    34.0819\n",
       "81                                                 Hg2                                   NA\n",
       "82                                         L-Histidine               L-Histidine    155.155\n",
       "83                                        Hypoxanthine              Hypoxanthine         NA\n",
       "84                                        L-Isoleucine              L-Isoleucine    131.175\n",
       "85                                             Inosine                   Inosine         NA\n",
       "86                                              Inulin                    Inulin        NaN\n",
       "87                                     Isethionic acid  2-Hydroxyethanesulfonate    126.132\n",
       "88                                                   K                  L-Lysine    146.188\n",
       "89                                             Kestose                 6-Kestose         NA\n",
       "90                                       Kestopentaose                                   NA\n",
       "91                                       Kestotetraose                                   NA\n",
       "92                                           D-lactate             L-Lactic acid    90.0779\n",
       "93                                             Lactose                   Lactose         NA\n",
       "94                                           L-Leucine                 L-Leucine    131.173\n",
       "95                         nge reaction for leucylglyc                                   NA\n",
       "96                                       Leucylleucine            Leucyl-Leucine    244.331\n",
       "97                                            L-Lysine                  L-Lysine    146.188\n",
       "98                                            L-Malate              L-Malic acid    134.087\n",
       "99                                             Maltose                   Maltose         NA\n",
       "100                                          D-Mannose                 D-Mannose    180.156\n",
       "101                                           methanol                  Methanol    32.0419\n",
       "102                                       D-Methionine              D-Methionine    149.212\n",
       "103                                       L-Methionine              L-Methionine    149.212\n",
       "104                              L-methionyl-L-alanine         Methionyl-Alanine         NA\n",
       "105                           L-methionine-R-sulfoxide                                   NA\n",
       "106                               L-Methionine S-oxide      L-Methionine S-oxide    165.212\n",
       "107                                                 Mg                                   NA\n",
       "108                                          Molybdate                 Molybdate    161.953\n",
       "109                                   methanesulfonate                  Mesylate    96.1067\n",
       "110                                             Sodium                    Sodium    22.9898\n",
       "111                                         Nicotinate            Nicotinic acid    123.109\n",
       "112                                       Nicotinamide               Niacinamide    122.125\n",
       "113                                            Ammonia                   Ammonia    17.0306\n",
       "114                                                 O2                    Oxygen    31.9988\n",
       "115                                          Ornithine                 Ornithine    132.161\n",
       "116                                            Orotate               Orotic acid    156.096\n",
       "117                                               Lead                      Lead      207.2\n",
       "118                              nge reaction for pect                                   NA\n",
       "119                                    L-Phenylalanine           L-Phenylalanine    165.189\n",
       "120                                          Phosphate                 Phosphate    97.9952\n",
       "121                                      Phenyllactate         Phenyllactic acid    166.174\n",
       "122                                   (R)-Pantothenate          Pantothenic acid    219.235\n",
       "123                                          L-Proline                 L-Proline     115.13\n",
       "124                                  L-Prolinylglycine                                   NA\n",
       "125                                         Putrescine                Putrescine    88.1515\n",
       "126                                       Pyridoxamine              Pyridoxamine    168.193\n",
       "127                                          Pyridoxal                 Pyridoxal    167.162\n",
       "128                                         Pyridoxine                Pyridoxine    169.178\n",
       "129                                 Reduced riboflavin        Riboflavin reduced         NA\n",
       "130                                         Riboflavin                Riboflavin    376.364\n",
       "131                                           Selenide                  Selenium      78.96\n",
       "132                                           L-Serine                  L-Serine    105.093\n",
       "133                                            Sulfate                   Sulfate    98.0795\n",
       "134                                         Spermidine                Spermidine    145.246\n",
       "135  starch, structure 1 (1,6-{7[1,4-Glc], 4[1,4-Gl...                                   NA\n",
       "136                                          Succinate             Succinic acid    118.088\n",
       "137                                       sulfoacetate              Sulfoacetate    140.116\n",
       "138                                            Taurine                   Taurine    125.148\n",
       "139                                            Thiamin                  Thiamine    265.356\n",
       "140                                        L-Threonine               L-Threonine    119.119\n",
       "141                                          Thymidine                 Thymidine    242.229\n",
       "142                                       L-Tryptophan              L-Tryptophan    204.225\n",
       "143                                         L-Tyrosine                L-Tyrosine    181.189\n",
       "144                                             Uracil                    Uracil    112.087\n",
       "145                                              Urate                 Uric acid     168.11\n",
       "146                                               Urea                      Urea    60.0553\n",
       "147                                           L-Valine                  L-Valine    117.146\n",
       "148                                           Xanthine                  Xanthine    152.111\n",
       "149                                           D-Xylose                  D-Xylose     150.13"
      ],
      "text/html": "<div>\n<style scoped>\n    .dataframe tbody tr th:only-of-type {\n        vertical-align: middle;\n    }\n\n    .dataframe tbody tr th {\n        vertical-align: top;\n    }\n\n    .dataframe thead th {\n        text-align: right;\n    }\n</style>\n<table border=\"1\" class=\"dataframe\">\n  <thead>\n    <tr style=\"text-align: right;\">\n      <th></th>\n      <th>query</th>\n      <th>hit</th>\n      <th>mol_weight</th>\n    </tr>\n  </thead>\n  <tbody>\n    <tr>\n      <th>0</th>\n      <td>3mop</td>\n      <td></td>\n      <td>NA</td>\n    </tr>\n    <tr>\n      <th>1</th>\n      <td>4 Aminobenzoate</td>\n      <td></td>\n      <td>NA</td>\n    </tr>\n    <tr>\n      <th>2</th>\n      <td>5oxpro</td>\n      <td></td>\n      <td>NA</td>\n    </tr>\n    <tr>\n      <th>3</th>\n      <td>L-cysteate</td>\n      <td>Cysteic acid</td>\n      <td>169.156</td>\n    </tr>\n    <tr>\n      <th>4</th>\n      <td>L-Cystine</td>\n      <td>L-Cystine</td>\n      <td>240.303</td>\n    </tr>\n    <tr>\n      <th>5</th>\n      <td>Acetate</td>\n      <td>Acetic acid</td>\n      <td>60.052</td>\n    </tr>\n    <tr>\n      <th>6</th>\n      <td>N-acetyl-L-aspartate</td>\n      <td>N-Acetyl-L-aspartic acid</td>\n      <td>175.139</td>\n    </tr>\n    <tr>\n      <th>7</th>\n      <td>N-Acetyl-D-galactosamine</td>\n      <td>N-Acetyl-D-galactosamine</td>\n      <td>NA</td>\n    </tr>\n    <tr>\n      <th>8</th>\n      <td>desulfated disaccharide acgalglcur</td>\n      <td></td>\n      <td>NA</td>\n    </tr>\n    <tr>\n      <th>9</th>\n      <td>N-Acetyl-D-glucosamine</td>\n      <td>N-Acetyl-D-glucosamine</td>\n      <td>221.208</td>\n    </tr>\n    <tr>\n      <th>10</th>\n      <td>N-acetylglutamate</td>\n      <td>N-Acetylglutamic acid</td>\n      <td>187.15</td>\n    </tr>\n    <tr>\n      <th>11</th>\n      <td>N-Acetylneuraminate</td>\n      <td>N-Acetylneuraminate</td>\n      <td>309.27</td>\n    </tr>\n    <tr>\n      <th>12</th>\n      <td>Adenine</td>\n      <td>Adenine</td>\n      <td>135.127</td>\n    </tr>\n    <tr>\n      <th>13</th>\n      <td>Adenosylcobalamin</td>\n      <td>Adenosylcobalamin</td>\n      <td>1579.58</td>\n    </tr>\n    <tr>\n      <th>14</th>\n      <td>D-Alanine</td>\n      <td>D-Alanine</td>\n      <td>89.0932</td>\n    </tr>\n    <tr>\n      <th>15</th>\n      <td>L-Alanine</td>\n      <td>L-Alanine</td>\n      <td>89.0932</td>\n    </tr>\n    <tr>\n      <th>16</th>\n      <td>D-Alanyl-D-alanine</td>\n      <td>D-Alanyl-D-alanine</td>\n      <td>160.171</td>\n    </tr>\n    <tr>\n      <th>17</th>\n      <td>L-alanyl-L-aspartate</td>\n      <td>Alanyl-Aspartic acid</td>\n      <td>NA</td>\n    </tr>\n    <tr>\n      <th>18</th>\n      <td>L-alanyl-L-glutamine</td>\n      <td>Alanyl-Glutamine</td>\n      <td>NA</td>\n    </tr>\n    <tr>\n      <th>19</th>\n      <td>L-alanyl-L-glutamate</td>\n      <td>Alanyl-Glutamic acid</td>\n      <td>NA</td>\n    </tr>\n    <tr>\n      <th>20</th>\n      <td>L-alanylglycine</td>\n      <td>Alanylglycine</td>\n      <td>NA</td>\n    </tr>\n    <tr>\n      <th>21</th>\n      <td>L-alanyl-L-histidine</td>\n      <td>Alanyl-Histidine</td>\n      <td>NA</td>\n    </tr>\n    <tr>\n      <th>22</th>\n      <td>L-alanyl-L-leucine</td>\n      <td>Alanyl-Leucine</td>\n      <td>NA</td>\n    </tr>\n    <tr>\n      <th>23</th>\n      <td>L-alanyl-L-threonine</td>\n      <td>Alanyl-Threonine</td>\n      <td>NA</td>\n    </tr>\n    <tr>\n      <th>24</th>\n      <td>L-Arabinose</td>\n      <td>L-Arabinose</td>\n      <td>150.13</td>\n    </tr>\n    <tr>\n      <th>25</th>\n      <td>L-Arginine</td>\n      <td>L-Arginine</td>\n      <td>174.201</td>\n    </tr>\n    <tr>\n      <th>26</th>\n      <td>L-Asparagine</td>\n      <td>L-Asparagine</td>\n      <td>132.118</td>\n    </tr>\n    <tr>\n      <th>27</th>\n      <td>arsenite</td>\n      <td>Arsenite</td>\n      <td>125.944</td>\n    </tr>\n    <tr>\n      <th>28</th>\n      <td>Arsenate</td>\n      <td>Arsenate</td>\n      <td>141.943</td>\n    </tr>\n    <tr>\n      <th>29</th>\n      <td>L-Aspartate</td>\n      <td>L-Aspartic acid</td>\n      <td>133.103</td>\n    </tr>\n    <tr>\n      <th>30</th>\n      <td>Biotin</td>\n      <td>Biotin</td>\n      <td>244.312</td>\n    </tr>\n    <tr>\n      <th>31</th>\n      <td>Butyrate (n-C4:0)</td>\n      <td></td>\n      <td>NA</td>\n    </tr>\n    <tr>\n      <th>32</th>\n      <td>butanesulfonate</td>\n      <td></td>\n      <td>NA</td>\n    </tr>\n    <tr>\n      <th>33</th>\n      <td>Calcium</td>\n      <td>Calcium</td>\n      <td>40.078</td>\n    </tr>\n    <tr>\n      <th>34</th>\n      <td>Cob(I)alamin</td>\n      <td>Cob(I)alamin</td>\n      <td>1330.36</td>\n    </tr>\n    <tr>\n      <th>35</th>\n      <td>Cob(II)alamin</td>\n      <td>Cob(II)alamin</td>\n      <td>1329.35</td>\n    </tr>\n    <tr>\n      <th>36</th>\n      <td>Cadmium</td>\n      <td>Cadmium</td>\n      <td>112.411</td>\n    </tr>\n    <tr>\n      <th>37</th>\n      <td>Cellobiose</td>\n      <td>Cellobiose</td>\n      <td>342.296</td>\n    </tr>\n    <tr>\n      <th>38</th>\n      <td>Cys-Gly</td>\n      <td>Cysteinylglycine</td>\n      <td>178.211</td>\n    </tr>\n    <tr>\n      <th>39</th>\n      <td>Citrate</td>\n      <td>Citric acid</td>\n      <td>192.124</td>\n    </tr>\n    <tr>\n      <th>40</th>\n      <td>Chloride</td>\n      <td>Chloride ion</td>\n      <td>35.4527</td>\n    </tr>\n    <tr>\n      <th>41</th>\n      <td>CO2</td>\n      <td>Carbon dioxide</td>\n      <td>44.01</td>\n    </tr>\n    <tr>\n      <th>42</th>\n      <td>Co2</td>\n      <td>Carbon dioxide</td>\n      <td>44.01</td>\n    </tr>\n    <tr>\n      <th>43</th>\n      <td>Capsular polysaccharide (F. prausnitzii, putat...</td>\n      <td></td>\n      <td>NA</td>\n    </tr>\n    <tr>\n      <th>44</th>\n      <td>Cu2</td>\n      <td></td>\n      <td>NA</td>\n    </tr>\n    <tr>\n      <th>45</th>\n      <td>L-Cysteine</td>\n      <td>L-Cysteine</td>\n      <td>121.158</td>\n    </tr>\n    <tr>\n      <th>46</th>\n      <td>(S)-Dihydrooroate</td>\n      <td></td>\n      <td>NA</td>\n    </tr>\n    <tr>\n      <th>47</th>\n      <td>ethanesulfonate</td>\n      <td></td>\n      <td>NA</td>\n    </tr>\n    <tr>\n      <th>48</th>\n      <td>Fe2</td>\n      <td></td>\n      <td>NA</td>\n    </tr>\n    <tr>\n      <th>49</th>\n      <td>Fe3</td>\n      <td></td>\n      <td>NA</td>\n    </tr>\n    <tr>\n      <th>50</th>\n      <td>Fe(III)dicitrate</td>\n      <td>Fe(III)dicitrate</td>\n      <td>NA</td>\n    </tr>\n    <tr>\n      <th>51</th>\n      <td>Folate</td>\n      <td>Folic acid</td>\n      <td>441.397</td>\n    </tr>\n    <tr>\n      <th>52</th>\n      <td>Formate</td>\n      <td>Formic acid</td>\n      <td>46.0254</td>\n    </tr>\n    <tr>\n      <th>53</th>\n      <td>D-Fructose</td>\n      <td>D-Fructose</td>\n      <td>NA</td>\n    </tr>\n    <tr>\n      <th>54</th>\n      <td>Fumarate</td>\n      <td>Fumaric acid</td>\n      <td>116.072</td>\n    </tr>\n    <tr>\n      <th>55</th>\n      <td>D-Galactose</td>\n      <td>D-Galactose</td>\n      <td>180.156</td>\n    </tr>\n    <tr>\n      <th>56</th>\n      <td>D-Galacturonate</td>\n      <td>D-Galacturonate</td>\n      <td>NA</td>\n    </tr>\n    <tr>\n      <th>57</th>\n      <td>D-Glucosamine</td>\n      <td>Glucosamine</td>\n      <td>179.171</td>\n    </tr>\n    <tr>\n      <th>58</th>\n      <td>D-Glucose</td>\n      <td>D-Glucose</td>\n      <td>180.156</td>\n    </tr>\n    <tr>\n      <th>59</th>\n      <td>D-Glucuronate</td>\n      <td>D-Glucuronic acid</td>\n      <td>194.139</td>\n    </tr>\n    <tr>\n      <th>60</th>\n      <td>L-Glutamine</td>\n      <td>L-Glutamine</td>\n      <td>146.145</td>\n    </tr>\n    <tr>\n      <th>61</th>\n      <td>L-Glutamate</td>\n      <td>L-Glutamic acid</td>\n      <td>147.129</td>\n    </tr>\n    <tr>\n      <th>62</th>\n      <td>Glycine</td>\n      <td>Glycine</td>\n      <td>75.0666</td>\n    </tr>\n    <tr>\n      <th>63</th>\n      <td>Glycyl-L-asparagine</td>\n      <td></td>\n      <td>NA</td>\n    </tr>\n    <tr>\n      <th>64</th>\n      <td>Glycyl-L-aspartate</td>\n      <td></td>\n      <td>NA</td>\n    </tr>\n    <tr>\n      <th>65</th>\n      <td>Glycerol 3-phosphate</td>\n      <td>Glycerol 3-phosphate</td>\n      <td>172.074</td>\n    </tr>\n    <tr>\n      <th>66</th>\n      <td>(R)-Glycerate</td>\n      <td>Glyceric acid</td>\n      <td>106.077</td>\n    </tr>\n    <tr>\n      <th>67</th>\n      <td>Glycyl-L-glutamine</td>\n      <td></td>\n      <td>NA</td>\n    </tr>\n    <tr>\n      <th>68</th>\n      <td>Glycyl-L-glutamate</td>\n      <td></td>\n      <td>NA</td>\n    </tr>\n    <tr>\n      <th>69</th>\n      <td>nge reaction for glycylglyc</td>\n      <td></td>\n      <td>NA</td>\n    </tr>\n    <tr>\n      <th>70</th>\n      <td>Glycylleucine</td>\n      <td>Glycylleucine</td>\n      <td>188.224</td>\n    </tr>\n    <tr>\n      <th>71</th>\n      <td>Glycyl-L-methionine</td>\n      <td></td>\n      <td>NA</td>\n    </tr>\n    <tr>\n      <th>72</th>\n      <td>nge reaction for glycylphenylala</td>\n      <td></td>\n      <td>NA</td>\n    </tr>\n    <tr>\n      <th>73</th>\n      <td>Glycylproline</td>\n      <td>Glycylproline</td>\n      <td>NA</td>\n    </tr>\n    <tr>\n      <th>74</th>\n      <td>Glycyl-L-tyrosine</td>\n      <td>Glycyl-Tyrosine</td>\n      <td>238.24</td>\n    </tr>\n    <tr>\n      <th>75</th>\n      <td>Oxidized glutathione</td>\n      <td>Oxidized glutathione</td>\n      <td>NA</td>\n    </tr>\n    <tr>\n      <th>76</th>\n      <td>Reduced glutathione</td>\n      <td>Glutathione</td>\n      <td>307.32</td>\n    </tr>\n    <tr>\n      <th>77</th>\n      <td>Guanine</td>\n      <td>Guanine</td>\n      <td>NA</td>\n    </tr>\n    <tr>\n      <th>78</th>\n      <td>H</td>\n      <td>L-Histidine</td>\n      <td>155.155</td>\n    </tr>\n    <tr>\n      <th>79</th>\n      <td>H2O</td>\n      <td>Water</td>\n      <td>18.0153</td>\n    </tr>\n    <tr>\n      <th>80</th>\n      <td>Hydrogen sulfide</td>\n      <td>Hydrogen sulfide</td>\n      <td>34.0819</td>\n    </tr>\n    <tr>\n      <th>81</th>\n      <td>Hg2</td>\n      <td></td>\n      <td>NA</td>\n    </tr>\n    <tr>\n      <th>82</th>\n      <td>L-Histidine</td>\n      <td>L-Histidine</td>\n      <td>155.155</td>\n    </tr>\n    <tr>\n      <th>83</th>\n      <td>Hypoxanthine</td>\n      <td>Hypoxanthine</td>\n      <td>NA</td>\n    </tr>\n    <tr>\n      <th>84</th>\n      <td>L-Isoleucine</td>\n      <td>L-Isoleucine</td>\n      <td>131.175</td>\n    </tr>\n    <tr>\n      <th>85</th>\n      <td>Inosine</td>\n      <td>Inosine</td>\n      <td>NA</td>\n    </tr>\n    <tr>\n      <th>86</th>\n      <td>Inulin</td>\n      <td>Inulin</td>\n      <td>NaN</td>\n    </tr>\n    <tr>\n      <th>87</th>\n      <td>Isethionic acid</td>\n      <td>2-Hydroxyethanesulfonate</td>\n      <td>126.132</td>\n    </tr>\n    <tr>\n      <th>88</th>\n      <td>K</td>\n      <td>L-Lysine</td>\n      <td>146.188</td>\n    </tr>\n    <tr>\n      <th>89</th>\n      <td>Kestose</td>\n      <td>6-Kestose</td>\n      <td>NA</td>\n    </tr>\n    <tr>\n      <th>90</th>\n      <td>Kestopentaose</td>\n      <td></td>\n      <td>NA</td>\n    </tr>\n    <tr>\n      <th>91</th>\n      <td>Kestotetraose</td>\n      <td></td>\n      <td>NA</td>\n    </tr>\n    <tr>\n      <th>92</th>\n      <td>D-lactate</td>\n      <td>L-Lactic acid</td>\n      <td>90.0779</td>\n    </tr>\n    <tr>\n      <th>93</th>\n      <td>Lactose</td>\n      <td>Lactose</td>\n      <td>NA</td>\n    </tr>\n    <tr>\n      <th>94</th>\n      <td>L-Leucine</td>\n      <td>L-Leucine</td>\n      <td>131.173</td>\n    </tr>\n    <tr>\n      <th>95</th>\n      <td>nge reaction for leucylglyc</td>\n      <td></td>\n      <td>NA</td>\n    </tr>\n    <tr>\n      <th>96</th>\n      <td>Leucylleucine</td>\n      <td>Leucyl-Leucine</td>\n      <td>244.331</td>\n    </tr>\n    <tr>\n      <th>97</th>\n      <td>L-Lysine</td>\n      <td>L-Lysine</td>\n      <td>146.188</td>\n    </tr>\n    <tr>\n      <th>98</th>\n      <td>L-Malate</td>\n      <td>L-Malic acid</td>\n      <td>134.087</td>\n    </tr>\n    <tr>\n      <th>99</th>\n      <td>Maltose</td>\n      <td>Maltose</td>\n      <td>NA</td>\n    </tr>\n    <tr>\n      <th>100</th>\n      <td>D-Mannose</td>\n      <td>D-Mannose</td>\n      <td>180.156</td>\n    </tr>\n    <tr>\n      <th>101</th>\n      <td>methanol</td>\n      <td>Methanol</td>\n      <td>32.0419</td>\n    </tr>\n    <tr>\n      <th>102</th>\n      <td>D-Methionine</td>\n      <td>D-Methionine</td>\n      <td>149.212</td>\n    </tr>\n    <tr>\n      <th>103</th>\n      <td>L-Methionine</td>\n      <td>L-Methionine</td>\n      <td>149.212</td>\n    </tr>\n    <tr>\n      <th>104</th>\n      <td>L-methionyl-L-alanine</td>\n      <td>Methionyl-Alanine</td>\n      <td>NA</td>\n    </tr>\n    <tr>\n      <th>105</th>\n      <td>L-methionine-R-sulfoxide</td>\n      <td></td>\n      <td>NA</td>\n    </tr>\n    <tr>\n      <th>106</th>\n      <td>L-Methionine S-oxide</td>\n      <td>L-Methionine S-oxide</td>\n      <td>165.212</td>\n    </tr>\n    <tr>\n      <th>107</th>\n      <td>Mg</td>\n      <td></td>\n      <td>NA</td>\n    </tr>\n    <tr>\n      <th>108</th>\n      <td>Molybdate</td>\n      <td>Molybdate</td>\n      <td>161.953</td>\n    </tr>\n    <tr>\n      <th>109</th>\n      <td>methanesulfonate</td>\n      <td>Mesylate</td>\n      <td>96.1067</td>\n    </tr>\n    <tr>\n      <th>110</th>\n      <td>Sodium</td>\n      <td>Sodium</td>\n      <td>22.9898</td>\n    </tr>\n    <tr>\n      <th>111</th>\n      <td>Nicotinate</td>\n      <td>Nicotinic acid</td>\n      <td>123.109</td>\n    </tr>\n    <tr>\n      <th>112</th>\n      <td>Nicotinamide</td>\n      <td>Niacinamide</td>\n      <td>122.125</td>\n    </tr>\n    <tr>\n      <th>113</th>\n      <td>Ammonia</td>\n      <td>Ammonia</td>\n      <td>17.0306</td>\n    </tr>\n    <tr>\n      <th>114</th>\n      <td>O2</td>\n      <td>Oxygen</td>\n      <td>31.9988</td>\n    </tr>\n    <tr>\n      <th>115</th>\n      <td>Ornithine</td>\n      <td>Ornithine</td>\n      <td>132.161</td>\n    </tr>\n    <tr>\n      <th>116</th>\n      <td>Orotate</td>\n      <td>Orotic acid</td>\n      <td>156.096</td>\n    </tr>\n    <tr>\n      <th>117</th>\n      <td>Lead</td>\n      <td>Lead</td>\n      <td>207.2</td>\n    </tr>\n    <tr>\n      <th>118</th>\n      <td>nge reaction for pect</td>\n      <td></td>\n      <td>NA</td>\n    </tr>\n    <tr>\n      <th>119</th>\n      <td>L-Phenylalanine</td>\n      <td>L-Phenylalanine</td>\n      <td>165.189</td>\n    </tr>\n    <tr>\n      <th>120</th>\n      <td>Phosphate</td>\n      <td>Phosphate</td>\n      <td>97.9952</td>\n    </tr>\n    <tr>\n      <th>121</th>\n      <td>Phenyllactate</td>\n      <td>Phenyllactic acid</td>\n      <td>166.174</td>\n    </tr>\n    <tr>\n      <th>122</th>\n      <td>(R)-Pantothenate</td>\n      <td>Pantothenic acid</td>\n      <td>219.235</td>\n    </tr>\n    <tr>\n      <th>123</th>\n      <td>L-Proline</td>\n      <td>L-Proline</td>\n      <td>115.13</td>\n    </tr>\n    <tr>\n      <th>124</th>\n      <td>L-Prolinylglycine</td>\n      <td></td>\n      <td>NA</td>\n    </tr>\n    <tr>\n      <th>125</th>\n      <td>Putrescine</td>\n      <td>Putrescine</td>\n      <td>88.1515</td>\n    </tr>\n    <tr>\n      <th>126</th>\n      <td>Pyridoxamine</td>\n      <td>Pyridoxamine</td>\n      <td>168.193</td>\n    </tr>\n    <tr>\n      <th>127</th>\n      <td>Pyridoxal</td>\n      <td>Pyridoxal</td>\n      <td>167.162</td>\n    </tr>\n    <tr>\n      <th>128</th>\n      <td>Pyridoxine</td>\n      <td>Pyridoxine</td>\n      <td>169.178</td>\n    </tr>\n    <tr>\n      <th>129</th>\n      <td>Reduced riboflavin</td>\n      <td>Riboflavin reduced</td>\n      <td>NA</td>\n    </tr>\n    <tr>\n      <th>130</th>\n      <td>Riboflavin</td>\n      <td>Riboflavin</td>\n      <td>376.364</td>\n    </tr>\n    <tr>\n      <th>131</th>\n      <td>Selenide</td>\n      <td>Selenium</td>\n      <td>78.96</td>\n    </tr>\n    <tr>\n      <th>132</th>\n      <td>L-Serine</td>\n      <td>L-Serine</td>\n      <td>105.093</td>\n    </tr>\n    <tr>\n      <th>133</th>\n      <td>Sulfate</td>\n      <td>Sulfate</td>\n      <td>98.0795</td>\n    </tr>\n    <tr>\n      <th>134</th>\n      <td>Spermidine</td>\n      <td>Spermidine</td>\n      <td>145.246</td>\n    </tr>\n    <tr>\n      <th>135</th>\n      <td>starch, structure 1 (1,6-{7[1,4-Glc], 4[1,4-Gl...</td>\n      <td></td>\n      <td>NA</td>\n    </tr>\n    <tr>\n      <th>136</th>\n      <td>Succinate</td>\n      <td>Succinic acid</td>\n      <td>118.088</td>\n    </tr>\n    <tr>\n      <th>137</th>\n      <td>sulfoacetate</td>\n      <td>Sulfoacetate</td>\n      <td>140.116</td>\n    </tr>\n    <tr>\n      <th>138</th>\n      <td>Taurine</td>\n      <td>Taurine</td>\n      <td>125.148</td>\n    </tr>\n    <tr>\n      <th>139</th>\n      <td>Thiamin</td>\n      <td>Thiamine</td>\n      <td>265.356</td>\n    </tr>\n    <tr>\n      <th>140</th>\n      <td>L-Threonine</td>\n      <td>L-Threonine</td>\n      <td>119.119</td>\n    </tr>\n    <tr>\n      <th>141</th>\n      <td>Thymidine</td>\n      <td>Thymidine</td>\n      <td>242.229</td>\n    </tr>\n    <tr>\n      <th>142</th>\n      <td>L-Tryptophan</td>\n      <td>L-Tryptophan</td>\n      <td>204.225</td>\n    </tr>\n    <tr>\n      <th>143</th>\n      <td>L-Tyrosine</td>\n      <td>L-Tyrosine</td>\n      <td>181.189</td>\n    </tr>\n    <tr>\n      <th>144</th>\n      <td>Uracil</td>\n      <td>Uracil</td>\n      <td>112.087</td>\n    </tr>\n    <tr>\n      <th>145</th>\n      <td>Urate</td>\n      <td>Uric acid</td>\n      <td>168.11</td>\n    </tr>\n    <tr>\n      <th>146</th>\n      <td>Urea</td>\n      <td>Urea</td>\n      <td>60.0553</td>\n    </tr>\n    <tr>\n      <th>147</th>\n      <td>L-Valine</td>\n      <td>L-Valine</td>\n      <td>117.146</td>\n    </tr>\n    <tr>\n      <th>148</th>\n      <td>Xanthine</td>\n      <td>Xanthine</td>\n      <td>152.111</td>\n    </tr>\n    <tr>\n      <th>149</th>\n      <td>D-Xylose</td>\n      <td>D-Xylose</td>\n      <td>150.13</td>\n    </tr>\n  </tbody>\n</table>\n</div>"
     },
     "metadata": {},
     "execution_count": 57
    }
   ],
   "source": [
    "mapped_compounds[\"mol_weight\"]=mol_weight\n",
    "weights=mapped_compounds[[\"query\", \"hit\", \"mol_weight\"]]\n",
    "weights"
   ]
  },
  {
   "cell_type": "code",
   "execution_count": null,
   "metadata": {},
   "outputs": [],
   "source": [
    "#outputmodel= cobra.io.save_json_model(model, \"Data/iFpraus.json\")"
   ]
  },
  {
   "cell_type": "code",
   "execution_count": null,
   "metadata": {},
   "outputs": [],
   "source": [
    "#unaltered model\n",
    "model1=model.copy()\n",
    "print(\"\\nModel Medium\")\n",
    "model1.objective = {model1.reactions.get_by_id('Biomass_FP'): 1}\n",
    "print(model1.summary())"
   ]
  },
  {
   "source": [
    "### What are the different reactions\n",
    "e: extracellular\n",
    "\n",
    "c: cytosol\n",
    "\n",
    "EX_ : exchange reaction\n",
    "### Gifu Anaerobic Medium (mGAM) from:\n",
    "https://hyserve.com/files/05433_GAM-Broth_Modified_final.pdf\n",
    "\n",
    "\n",
    "- Peptone, Soya Peptone, Proteose Peptone: source of amino acids -> most likely all of them \n",
    "- Yeast extract, liver extract, meat extract, digested serum -> \n",
    "    - amino acids, \n",
    "    - '4abz(e)' \n",
    "    - '5oxpro(e)'\n",
    "    - thm(e)' thiamin vitamin b1\n",
    "    - biotin -> btn |from yeast extract? \n",
    "    - 'rbflvrd(e)', 'ribflv(e)' vitamin b2\n",
    "    - 'pydam(e)' pydx pydxn vitamin b6 from yeast extract\n",
    "    - 'pnto_R(e)' pantothenic acid from yeast extract?\n",
    "    - 'ptrc(e)' probably from meat extract(e)\n",
    "    - 'spmd(e)' from meat extract and linked to ptrc\n",
    "    - cbl1   Cyanocobalamin is a cobalt-containing coordination compound and a natural water-soluble vitamin of the B-complex family \n",
    "    - adocbl\n",
    "    - folate fol is of B vitamin family \n",
    "    - tautin from meat extract\n",
    "    - nac is nicotinate and also vitamin b and so is nacm nicotinamide\n",
    "    - hxan, gua , ins are all some kind of nucleic acid that is probably present in yeast extract\n",
    "    - trace elements: Ca2? Cu2? cobalt2?  mg2? pi(e)? so4?\n",
    "- Dextrose -> same as glucose (https://www.ebi.ac.uk/chebi/searchId.do?chebiId=CHEBI:17634) and so -> glc_D\n",
    "- Soluble starch -> starch1 (potatoe starch)\n",
    "- L-Tryptophane -> trp__L\n",
    "- L-Cystein Hydrochloride -> cys_L and cl and h (hydrochloride<-> HCL becomes cl and h)\n",
    "- Sodium Thioglycolate -> thiog and na1\n",
    "- L-Arginine -> arg_L\n",
    "- Vitamine K1 -> phllqne https://pubchem.ncbi.nlm.nih.gov/compound/Vitamin-K1#section=Depositor-Supplied-Synonyms \n",
    "- Hemin -> Iron and Chlorine  fe3 and cl  and perhaps ppp9 https://pubchem.ncbi.nlm.nih.gov/#query=3-%5B18-(2-carboxyethyl)-8%2C13-bis(ethenyl)-3%2C7%2C12%2C17-tetramethylporphyrin-21%2C23-diid-2-yl%5Dpropanoic%20acid%3Biron(3%2B)%3Bchloride \n",
    "- Potassium Dihydrogen Phosphate -> pi, k, h\n",
    "- Sodium Chloride -> na1 cl\n",
    "\n",
    "Digested serum : https://www.nebiolabs.com.au/-/media/catalog/datacards-or-manuals/p8108datasheet-lot0021306.pdf\t\n",
    "\n",
    "Generally useful page ; https://pubchem.ncbi.nlm.nih.gov/#query=Hemin\n",
    "\n",
    "check also: https://opencobra.github.io/cobratoolbox/latest/tutorials/tutorialMetabotoolsI.html "
   ],
   "cell_type": "markdown",
   "metadata": {}
  },
  {
   "cell_type": "code",
   "execution_count": null,
   "metadata": {},
   "outputs": [],
   "source": [
    "import numpy as np\n",
    "aa=(\"ala,arg,asn,asp,asx,cys,glu,gln,glx,gly,his,ile,leu,lys,met,phe,pro,ser,thr,trp,tyr,val\").split(\",\")\n",
    "aa=[aminoacid +\"_L(e)\" for aminoacid in aa]\n",
    "print(aa)"
   ]
  },
  {
   "cell_type": "code",
   "execution_count": null,
   "metadata": {},
   "outputs": [],
   "source": [
    "import re\n",
    "r=re.compile(r\"EX_.*?\\)\")\n",
    "ex_rxn=re.findall(r, str(model.exchanges))\n",
    "MediumMgam_complete=[x[3:len(x)] for x in ex_rxn]\n",
    "print(MediumMgam_complete)"
   ]
  },
  {
   "cell_type": "code",
   "execution_count": null,
   "metadata": {},
   "outputs": [],
   "source": [
    "\n",
    "\n",
    "MediumMgam=['4abz(e)','5oxpro(e)','Lcyst(e)', 'Lcystin(e)', 'ade(e)', 'adocbl(e)','ala_D(e)', 'ala_L(e)', 'arg_L(e)', 'asn_L(e)', 'asp_L(e)', 'btn(e)', 'ca2(e)', 'cbl1(e)', 'cbl2(e)', 'cl(e)', 'cobalt2(e)', 'cu2(e)', 'cys_L(e)', 'fe2(e)', 'fe3(e)', 'fol(e)', 'glc(e)', 'gln_L(e)', 'glu_L(e)', 'gly(e)',  'gthox(e)', 'gthrd(e)', 'gua(e)', 'h(e)', 'h2o(e)', 'his_L(e)', 'hxan(e)', 'ile_L(e)', 'ins(e)',  'k(e)',  'leu_L(e)', 'lys_L(e)', 'met_D(e)', 'met_L(e)', 'mg2(e)', 'na1(e)', 'nac(e)', 'ncam(e)',  'phe_L(e)', 'pi(e)', 'pnto_R(e)', 'pro_L(e)', 'ptrc(e)', 'pydam(e)', 'pydx(e)', 'pydxn(e)', 'rbflvrd(e)', 'ribflv(e)', 'ser_L(e)', 'so4(e)', 'spmd(e)', 'strch1(e)',  'taur(e)', 'thm(e)', 'thr_L(e)', 'thymd(e)', 'trp_L(e)', 'tyr_L(e)', 'ura(e)', 'val_L(e)', 'xan(e)', 'xyl_D(e)']\n",
    "print(MediumMgam)"
   ]
  },
  {
   "cell_type": "code",
   "execution_count": null,
   "metadata": {},
   "outputs": [],
   "source": [
    "x=[model.reactions.get_by_id(compound_id).id for compound_id in model.medium]\n",
    "x=[compound[3:(len(x)-2)] for compound in x]\n",
    "print(x)"
   ]
  },
  {
   "cell_type": "code",
   "execution_count": null,
   "metadata": {},
   "outputs": [],
   "source": [
    "model_mgam=medium(model.copy(),MediumMgam)\n",
    "print('\\nMedium_mgam')\n",
    "for i in MediumMgam:\n",
    "    #if model_mgam.exchanges.get_by_id(i).lower_bound != 0:\n",
    "     #model_mgam.exchanges.get_by_id(i).lower_bound=-1000\n",
    "    model_mgam.exchanges.get_by_id('EX_glc(e)').lower_bound=-2.7\n",
    "model_mgam.summary()"
   ]
  },
  {
   "cell_type": "code",
   "execution_count": null,
   "metadata": {},
   "outputs": [],
   "source": [
    "for i in MediumMgam:\n",
    "    print(model_mgam.reactions.get_by_id(i))\n",
    "    print(model_mgam.reactions.get_by_id(i).lower_bound)"
   ]
  },
  {
   "cell_type": "code",
   "execution_count": null,
   "metadata": {},
   "outputs": [],
   "source": [
    "find_match(model_mgam,MediumMgam)"
   ]
  },
  {
   "cell_type": "code",
   "execution_count": null,
   "metadata": {},
   "outputs": [],
   "source": [
    "for i in find_match(MediumMgam,)[1]:\n",
    "    r = re.compile(r'{0}.+?{1}?.+?{2}?.*?'.format(i[0:5],i[5], i[6]))\n",
    "    newlist = list(filter(r.findall, x)) # Read Note\n",
    "    print(newlist)"
   ]
  },
  {
   "cell_type": "code",
   "execution_count": null,
   "metadata": {},
   "outputs": [],
   "source": [
    "fba = model.optimize()\n",
    "fluxes = deleteNull(fba.fluxes)\n",
    "print('\\nActive reaction : %i which represent %f%% of the model' %(len(fluxes),len(fluxes)/len(model.reactions)*100))\n",
    "print(fba.objective_value)"
   ]
  },
  {
   "cell_type": "code",
   "execution_count": null,
   "metadata": {},
   "outputs": [],
   "source": [
    "from cobra.medium import minimal_medium\n",
    "\n",
    "max_growth = model.slim_optimize()\n",
    "minimal_medium(model, 0.005)"
   ]
  },
  {
   "cell_type": "code",
   "execution_count": null,
   "metadata": {},
   "outputs": [],
   "source": [
    "from cobra.medium import minimal_medium\n",
    "max_growth = model_mgam.slim_optimize()\n",
    "minimal_medium(model_mgam, max_growth)"
   ]
  },
  {
   "cell_type": "markdown",
   "metadata": {},
   "source": [
    "---\n",
    "## Reinforced Clostridial Medium (RCM)\n",
    "http://www.oxoid.com/UK/blue/prod_detail/prod_detail.asp?pr=CM0149&org=53&c=UK&lang=EN\n",
    "\n",
    "* Yeast Extract -> [lots of stuff in it, unsure of what's garbage](https://www.chemicalbook.com/ChemicalProductProperty_EN_CB9440339.htm#:~:text=Yeast%20extract%20has%20a%20protein,aromatic%20compounds%20and%20other%20components.)\n",
    "    * Glutathione: gthrd (reduced version)\n",
    "    * 18 AA's: see above\n",
    "    * Dextran: glc__D (it's made of glucose)\n",
    "    * Mannan: mannan\n",
    "    * Trehalose: tre\n",
    "    * B-vitamins: (Clemence mentioned vitamins being important so I'm putting them all in)\n",
    "        * \\1. Thiamin -> thm\n",
    "        * \\2. Riboflavin -> ribflv\n",
    "        * \\3. Niacin -> trp__L (made of tryptophan)\n",
    "        * \\5. Pantothenic Acid -> pnto__R\n",
    "        * \\6. Pyridoxine -> pydxn\n",
    "        * \\7. Biotin -> btn\n",
    "        * \\9. Folic Acid -> ... can't find anything\n",
    "        * \\12. Cobalamin -> b12 (or cbl1)\n",
    "    * Biotin\n",
    "* Peptone -> Sticking with the above logic, probably a source of all AAs\n",
    "* Glucose -> Assuming D_Glucose: glc__D\n",
    "* Soluble Starch -> starch1200\n",
    "* Sodium Chloride -> na1, cl\n",
    "* Sodium Acetate -> Assuming breaking down into sodium and acetate: ac, na1\n",
    "* Cysteine Hydrochloride -> cys_L, cl, h (could also be cys_D? cys_L is more widely used)\n",
    "* Agar: Agarose (70%) and Agaropectin (30%) [according to Wiki](https://en.wikipedia.org/wiki/Agar)\n",
    "    * Agarose: D-galactose & 3,6-anhydro-L-galactopyranose\n",
    "        * D-galactose: gal\n",
    "        * 3,6-anhydro-L-galactopyranose: [similar structure & compositon to beta-D-allose](https://pubchem.ncbi.nlm.nih.gov/#query=CID67020466%20structure&tab=similarity)\n",
    "            * D-Allose: all__D\n",
    "    * Agaropectin: D-galactose, L-galactose, pyruvate, sulfate\n",
    "        * D-galactose: gal\n",
    "        * L-galactose: gal__L\n",
    "        * Pyruvate: pyr\n",
    "        * Sulfate: so4"
   ]
  },
  {
   "cell_type": "markdown",
   "metadata": {},
   "source": [
    "| Component              | Concentration (g/L) | BiGG Metabolites                                                                          |\n",
    "|------------------------|---------------------|-------------------------------------------------------------------------------------------|\n",
    "| Yeast Extract          | 13.0                | (see all AA's), gthrd, glc\\__D, mannan, tre, thm, ribflv, trp\\__L, pnto\\__R, pydxn, btn, b12 |\n",
    "| Peptone                | 10.0                | (see all AA's)                                                                            |\n",
    "| Glucose                | 5.0                 | glc_D                                                                                     |\n",
    "| Soluble Starch         | 1.0                 | starch1200                                                                                |\n",
    "| Sodium Chloride        | 5.0                 | na1, cl                                                                                   |\n",
    "| Sodium Acetate         | 3.0                 | na1, ac                                                                                   |\n",
    "| Cysteine Hydrochloride | 0.5                 | cys_L, cl, h                                                                              |\n",
    "| Agar                   | 0.5                 | gal, all\\__D, gal\\__L, pyr, so4                                                           |"
   ]
  },
  {
   "cell_type": "code",
   "execution_count": null,
   "metadata": {},
   "outputs": [],
   "source": [
    "medium_rcm = list(('gthrd','glc__D','mannan','tre','thm','ribflv','trp__L','pnto__R','pydxn','btn','b12',\n",
    "             'starch1200','na1','ac','cl','cys_L','gal','all__D','gal__L','pyr','so4'))\n",
    "medium_rcm=[mets+\"(e)\" for mets in medium_rcm]\n",
    "model_rcm=medium(model.copy(), medium_rcm)\n",
    "for i in range(1,len(model_rcm.reactions)):\n",
    "    model_rcm.reactions[i].upper_bound=1000\n",
    "    model_rcm.reactions[i].lower_bound=-1000\n",
    "model_rcm.objective = {model_rcm.reactions.get_by_id('Biomass_FP'): 1}\n",
    "model_rcm.summary()"
   ]
  },
  {
   "cell_type": "code",
   "execution_count": null,
   "metadata": {},
   "outputs": [],
   "source": [
    "model_mmcb.reactions.get_by_id('mannan')"
   ]
  },
  {
   "cell_type": "code",
   "execution_count": null,
   "metadata": {},
   "outputs": [],
   "source": [
    "# Post-optimization\n",
    "fba_rcm = model_rcm.optimize()\n",
    "fluxes = deleteNull(fba_rcm.fluxes)\n",
    "print('\\nActive reaction : %i which represent %f%% of the model' %(len(fluxes),len(fluxes)/len(model.reactions)*100))\n",
    "print(model_rcm.objective.value)"
   ]
  },
  {
   "source": [
    "---\n",
    "## mMCB\n",
    "\n",
    "(There are also supplements mentioned in the paper but this is the base medium)\n",
    "* [Bacteriological Peptome (6.5) (Oxoid)](http://www.oxoid.com/UK/blue/prod_detail/prod_detail.asp?pr=LP0037&c=UK&lang=EN): \n",
    "    * Vague, decided to go with polypeptides: <b>polypep</b>\n",
    "    * Nitrogen: <b>n2</b>\n",
    "* [Soy Peptome (5.0) (Oxoid)](http://www.oxoid.com/UK/blue/prod_detail/prod_detail.asp?pr=LP0044&cat=&c=UK&lang=EN) --> another vague one:\n",
    "    * Stachyose: <b>stys</b>\n",
    "    * Raffinose: <b>raffin</b>\n",
    "    * Sucrose: <b>sucr</b>\n",
    "    * Nitrogen: <b>n2</b>\n",
    "* [Yeast Extract (3.0) (VWR International, Darmstadt, Germany)](https://us.vwr.com/store/product/7437401/vwr-life-science-yeast-extract-bacteriological-grade):\n",
    "    * Vitamin B (same logic as RCM):\n",
    "        * 1. Thiamin -> <b>thm</b>\n",
    "        * 2. Riboflavin -> <b>ribflv</b>\n",
    "        * 3. Niacin -> <b>trp__L</b> (made of tryptophan)\n",
    "        * 5. Pantothenic Acid -> <b>pnto__R</b>\n",
    "        * 6. Pyridoxine -> <b>pydxn</b>\n",
    "        * 7. Biotin -> <b>btn</b>\n",
    "        * 9. Folic Acid -> ... can't find anything\n",
    "        * 12. Cobalamin -> <b>b12</b> (or cbl1)\n",
    "* [Tryptone (2.5) (Oxoid)](http://www.oxoid.com/UK/blue/prod_detail/prod_detail.asp?pr=LP0042&c=UK&lang=EN): \n",
    "    * Tryptophan: <b>trp__L</b>\n",
    "* NaCL (1.5) (VWR International, Darmstadt, Germany):\n",
    "    * NaCl: <b>na1, cl</b>\n",
    "* K<sub>2</sub>HPO<sub>4</sub> (1.0) (Merck International, Darmstadt, Germany):\n",
    "    * Potassium: <b>k</b>\n",
    "    * Phosphate: <b>p1</b>\n",
    "    * Hydrogen: <b>h2</b>\n",
    "* KH<sub>2</sub>PO<sub>4</sub> (1.0) (Merck International, Darmstadt, Germany):\n",
    "    * Potassium: <b>k</b>\n",
    "    * Phosphate: <b>p1</b>\n",
    "    * Hydrogen: <b>h2</b>\n",
    "* Na<sub>2</sub>SO<sub>4</sub> (2.0) (VWR):\n",
    "    * Sodium: <b>na1</b>\n",
    "    * Sulfate: <b>so4</b>\n",
    "* MgSO<sub>4</sub>*7H<sub>2</sub>O (1.0) (Merck):\n",
    "    * Magnesium: <b>mg2</b>\n",
    "    * Sulfate: <b>so4</b>\n",
    "* CaCl<sub>2</sub>*2H<sub>2</sub>O (0.1) (Merck):\n",
    "    * Calcium Chloride: <b>ca2, cl</b>\n",
    "* NH<sub>4</sub>Cl (1.0) (Merck):\n",
    "    * Ammonium Chloride: <b>nh4, cl</b>\n",
    "* Cysteine-HCL (0.4) (Merck):\n",
    "    * Cysteine: <b>cys__L</b>\n",
    "    * HCL: <b>h2, cl</b>\n",
    "* NaHCO<sub>3</sub> (0.2) (VWR):\n",
    "    * Sodium: <b>na1</b>\n",
    "    * Bicarbonate: <b>hco3<b>\n",
    "* MnSO<sub>4</sub>*H<sub>2</sub>O (0.05) (VWR):\n",
    "    * Manganese: <b>mn2</b>\n",
    "    * Sulfate: <b>so4</b>\n",
    "* FeSO<sub>4</sub>*7H<sub>2</sub>O (0.005) (Merck):\n",
    "    * Iron: <b>fe</b>\n",
    "    * Sulfate: <b>so4</b>\n",
    "* ZnSO<sub>4</sub>*7H<sub>2</sub>O (0.005) (VWR):\n",
    "    * Zinc: <b>zn2</b>\n",
    "    * Sulfate: <b>so4</b>\n",
    "* Hemin (0.005) (Sigma-Aldrich, Steinheim, Germany):\n",
    "    * ... contains iron\n",
    "* Menadione (0.005) (S-A):\n",
    "    * <b>mndn</b>\n",
    "* Resazurin (0.001) (S-A):\n",
    "    * Fluoro identifier\n",
    "\n"
   ],
   "cell_type": "markdown",
   "metadata": {}
  },
  {
   "source": [
    "| Component                            | Concentration (g/L) | BiGG Metabolites                                |\n",
    "|--------------------------------------|---------------------|-------------------------------------------------|\n",
    "| Bacteriological Peptome              | 6.5                 | polypep, n2                                     |\n",
    "| Soy Peptome                          | 5.0                 | stys, raffin, sucr, n2                          |\n",
    "| Yeast Extract                        | 3.0                 | thm, ribflv, trp\\__L, pnto\\__R, pydxn, btn, b12 |\n",
    "| Tryptone                             | 2.5                 | trp\\__L                                         |\n",
    "| NaCL                                 | 1.5                 | na1, cl                                         |\n",
    "| K<sub>2</sub>PO<sub>4</sub>          | 1.0                 | k, p1, h2                                       |\n",
    "| KH<sub>2</sub>PO<sub>4</sub>         | 1.0                 | k, p1, h2                                       |\n",
    "| Na<sub>2</sub>SO<sub>4</sub>         | 2.0                 | na1, so4                                        |\n",
    "| Mg<sub>2</sub>SO<sub>4</sub>         | 1.0                 | mg2, so4                                        |\n",
    "| CaCl<sub>2</sub>*2H<sub>2</sub>O     | 0.1                 | ca2, cl                                         |\n",
    "| NH<sub>4</sub>Cl                     | 1.0                 | nh4, cl                                         |\n",
    "| Cysteine-HCL                         | 0.4                 | cys__L, h2, cl                                  |\n",
    "| NaHCO<sub>3</sub>                    | 0.2                 | na1, hco3                                       |\n",
    "| MnSO<sub>4</sub>*H<sub>2</sub>O      | 0.05                | mn2, so4                                        |\n",
    "| FeSOMnSO<sub>4</sub>*7H<sub>2</sub>O | 0.005               | fe, so4                                         |\n",
    "| ZnSO<sub>4</sub>*7H<sub>2</sub>O     | 0.005               | zn2, so4                                        |\n",
    "| Hemin                                | 0.005               |                                                 |\n",
    "| Menadione                            | 0.005               | mndn                                            |\n",
    "| Resazurin                            | 0.001               |                                                 |"
   ],
   "cell_type": "markdown",
   "metadata": {}
  },
  {
   "cell_type": "code",
   "execution_count": null,
   "metadata": {},
   "outputs": [],
   "source": [
    "model.copy()"
   ]
  },
  {
   "cell_type": "code",
   "execution_count": null,
   "metadata": {},
   "outputs": [],
   "source": [
    "medium_mmcb = list(('polypep','n2','stys','raffin','sucr','n2','thm','ribflv','trp__L',\n",
    "                    'pnto__R','pydxn','btn','b12','trp__L','na1','cl','k','p1','h2','na1',\n",
    "                    'so4','mg2','ca2','nh4','cys__L','h2','cl','na1','hco3','mn2','zn2','mndnb'))"
   ]
  },
  {
   "cell_type": "code",
   "execution_count": null,
   "metadata": {},
   "outputs": [],
   "source": [
    "medium_mmcb=[mets+\"(e)\" for mets in medium_mmcb]\n",
    "model_mmcb=medium(model.copy(), medium_mmcb)\n",
    "unused = []\n",
    "for i in range(1,len(model_mmcb.reactions)):\n",
    "    model_mmcb.reactions[i].upper_bound=1000\n",
    "    if model_mmcb.reactions[i].lower_bound != 0:\n",
    "        model_mmcb.reactions[i].lower_bound=-10\n",
    "    else:    \n",
    "        model_mmcb.reactions[i].lower_bound=-\n",
    "model_mmcb.objective = {model_mmcb.reactions.get_by_id('Biomass_FP'): 1}\n",
    "model_mmcb.summary()\n",
    "\n",
    "# Find list of all metabolites not in media\n",
    "# Express in mmol/g/L\n",
    "# Set as -'ve flux lower bound"
   ]
  },
  {
   "cell_type": "code",
   "execution_count": null,
   "metadata": {},
   "outputs": [],
   "source": [
    "# Post-optimization\n",
    "fba_mmcb = model_mmcb.optimize()\n",
    "fluxes_mmcb = deleteNull(fba_mmcb.fluxes)\n",
    "print('\\nActive reaction : %i which represent %f%% of the model' %(len(fluxes_mmcb),len(fluxes_mmcb)/len(model.reactions)*100))\n",
    "print(model_mmcb.objective.value)"
   ]
  }
 ],
 "metadata": {
  "kernelspec": {
   "name": "Python 3.7.6 64-bit ('base': conda)",
   "display_name": "Python 3.7.6 64-bit ('base': conda)",
   "metadata": {
    "interpreter": {
     "hash": "eec48ea81786c325bfab6147fce8b71cfe42370920a0568aac6dc72a8f882954"
    }
   }
  },
  "language_info": {
   "codemirror_mode": {
    "name": "ipython",
    "version": 3
   },
   "file_extension": ".py",
   "mimetype": "text/x-python",
   "name": "python",
   "nbconvert_exporter": "python",
   "pygments_lexer": "ipython3",
   "version": "3.7.6-final"
  }
 },
 "nbformat": 4,
 "nbformat_minor": 4
}