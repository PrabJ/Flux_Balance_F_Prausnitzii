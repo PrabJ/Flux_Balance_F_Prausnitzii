{
 "cells": [
  {
   "cell_type": "markdown",
   "metadata": {},
   "source": [
    "# Integrated Bioinformatics Project : Flux_Balance_F_Prausnitzii \n",
    "#### Students: Michael Shawn Neilsson, Biancamaria FLorenzi, Prabhat Juyal, Tim Blokker\n",
    "#### Supervisors: Clémence Joseph, Karoline Faust"
   ]
  },
  {
   "cell_type": "code",
   "execution_count": 1,
   "metadata": {},
   "outputs": [],
   "source": [
    "#import packages\n",
    "from libchebipy import ChebiEntity\n",
    "import libchebipy\n",
    "import pubchempy as pcp\n",
    "import io\n",
    "import requests\n",
    "import json\n",
    "import cobra\n",
    "import functions\n",
    "from functions import *"
   ]
  },
  {
   "cell_type": "code",
   "execution_count": 2,
   "metadata": {},
   "outputs": [],
   "source": [
    "#model = cobra.io.read_sbml_model('Data/f_prausnitzii.xml')\n",
    "#info(model)"
   ]
  },
  {
   "cell_type": "code",
   "execution_count": 3,
   "metadata": {},
   "outputs": [
    {
     "output_type": "stream",
     "name": "stdout",
     "text": [
      "Metabolites :  833\nReactions :  1030\nGenes :  602\nCompartments :  {'c': '', 'e': ''}\nObjective function : \n Maximize\n1.0*Biomass_FP - 1.0*Biomass_FP_reverse_ee33b \n\n"
     ]
    }
   ],
   "source": [
    "model=cobra.io.load_matlab_model('Data/iFpraus_v_1_0.mat')\n",
    "info(model)"
   ]
  },
  {
   "cell_type": "code",
   "execution_count": 4,
   "metadata": {},
   "outputs": [],
   "source": [
    "#https://www.thielelab.eu/in-silico-models\n",
    "#model = cobra.io.read_sbml_model('Data/iFpraus_v_1_0.xml')\n",
    "#(model2,errors)=(cobra.io.sbml.validate_sbml_model('Data/iFpraus_v_1_0.xml'))\n",
    "#print(errors)"
   ]
  },
  {
   "cell_type": "code",
   "execution_count": 5,
   "metadata": {},
   "outputs": [],
   "source": [
    "outputmodel= cobra.io.save_json_model(model, \"Data/iFpraus.json\")"
   ]
  },
  {
   "cell_type": "markdown",
   "metadata": {},
   "source": [
    "### What are the different reactions\n",
    "e: extracellular\n",
    "\n",
    "c: cytosol\n",
    "\n",
    "EX_ : exchange reaction\n",
    "### Gifu Anaerobic Medium (mGAM) from:\n",
    "https://hyserve.com/files/05433_GAM-Broth_Modified_final.pdf\n",
    "\n",
    "\n",
    "- Peptone, Soya Peptone, Proteose Peptone: source of amino acids -> most likely all of them \n",
    "- Yeast extract, liver extract, meat extract, digested serum -> amino acids but also a lot of other crap, will leave this till the end \n",
    "- Dextrose -> same as glucose (https://www.ebi.ac.uk/chebi/searchId.do?chebiId=CHEBI:17634) and so -> glc_D\n",
    "- Soluble starch -> starch1200 (potatoe starch)\n",
    "- L-Tryptophane -> trp__L\n",
    "- L-Cystein Hydrochloride -> cys_L and cl and h (hydrochloride<-> HCL becomes cl and h)\n",
    "- Sodium Thioglycolate -> thiog and na1\n",
    "- L-Arginine -> arg_L\n",
    "- Vitamine K1 -> phllqne https://pubchem.ncbi.nlm.nih.gov/compound/Vitamin-K1#section=Depositor-Supplied-Synonyms \n",
    "- Hemin -> Iron and Chlorine  fe3 and cl  and perhaps ppp9 https://pubchem.ncbi.nlm.nih.gov/#query=3-%5B18-(2-carboxyethyl)-8%2C13-bis(ethenyl)-3%2C7%2C12%2C17-tetramethylporphyrin-21%2C23-diid-2-yl%5Dpropanoic%20acid%3Biron(3%2B)%3Bchloride \n",
    "- Potassium Dihydrogen Phosphate -> pi, k, h\n",
    "- Sodium Chloride -> na1 cl\n",
    "\n",
    "Digested serum : https://www.nebiolabs.com.au/-/media/catalog/datacards-or-manuals/p8108datasheet-lot0021306.pdf\t\n",
    "\n",
    "Generally useful page ; https://pubchem.ncbi.nlm.nih.gov/#query=Hemin\n",
    "\n",
    "check also: https://opencobra.github.io/cobratoolbox/latest/tutorials/tutorialMetabotoolsI.html "
   ]
  },
  {
   "cell_type": "code",
   "execution_count": 6,
   "metadata": {},
   "outputs": [
    {
     "output_type": "stream",
     "name": "stdout",
     "text": [
      "['ala_L(e)', 'arg_L(e)', 'asn_L(e)', 'asp_L(e)', 'asx_L(e)', 'cys_L(e)', 'glu_L(e)', 'gln_L(e)', 'glx_L(e)', 'gly_L(e)', 'his_L(e)', 'ile_L(e)', 'leu_L(e)', 'lys_L(e)', 'met_L(e)', 'phe_L(e)', 'pro_L(e)', 'ser_L(e)', 'thr_L(e)', 'trp_L(e)', 'tyr_L(e)', 'val_L(e)']\n"
     ]
    }
   ],
   "source": [
    "import numpy as np\n",
    "aa=(\"ala,arg,asn,asp,asx,cys,glu,gln,glx,gly,his,ile,leu,lys,met,phe,pro,ser,thr,trp,tyr,val\").split(\",\")\n",
    "aa=[aminoacid +\"_L(e)\" for aminoacid in aa]\n",
    "print(aa)"
   ]
  },
  {
   "cell_type": "code",
   "execution_count": 7,
   "metadata": {},
   "outputs": [
    {
     "output_type": "stream",
     "name": "stdout",
     "text": [
      "\n",
      "Model Medium\n",
      "Objective\n",
      "=========\n",
      "1.0 Biomass_FP = 69.87885590787737\n",
      "\n",
      "Uptake\n",
      "------\n",
      "    Metabolite          Reaction   Flux  C-Number  C-Flux\n",
      "    Lcystin[e]     EX_Lcystin(e)  3.502         6   0.05%\n",
      "        ade[e]         EX_ade(e)  864.9         5  10.85%\n",
      "     adocbl[e]      EX_adocbl(e) 0.3929        72   0.07%\n",
      "     alaala[e]      EX_alaala(e)  6.462         6   0.10%\n",
      "     alagln[e]      EX_alagln(e)  30.81         8   0.62%\n",
      "      arg-L[e]       EX_arg_L(e)   1000         6  15.05%\n",
      "      asn-L[e]       EX_asn_L(e)   16.4         4   0.16%\n",
      "        btn[e]         EX_btn(e) 0.3929        10   0.01%\n",
      "        ca2[e]         EX_ca2(e) 0.3929         0   0.00%\n",
      "         cl[e]          EX_cl(e) 0.3929         0   0.00%\n",
      "    cobalt2[e]     EX_cobalt2(e) 0.3929         0   0.00%\n",
      "     cps_fp[e]      EX_cps_fp(e) 0.3929        63   0.06%\n",
      "        cu2[e]         EX_cu2(e) 0.3929         0   0.00%\n",
      "        fe3[e]         EX_fe3(e) 0.7858         0   0.00%\n",
      "        fol[e]         EX_fol(e)  1.179        19   0.06%\n",
      "        fum[e]         EX_fum(e)   1000         4  10.03%\n",
      "      glu-L[e]       EX_glu_L(e)   1000         5  12.54%\n",
      "        gua[e]         EX_gua(e)  16.25         5   0.20%\n",
      "          h[e]           EX_h(e)    901         0   0.00%\n",
      "      his-L[e]       EX_his_L(e)  6.472         6   0.10%\n",
      "        ins[e]         EX_ins(e)  751.8        10  18.86%\n",
      "          k[e]           EX_k(e) 0.3929         0   0.00%\n",
      "     leuleu[e]      EX_leuleu(e)  15.33        12   0.46%\n",
      "      lys-L[e]       EX_lys_L(e)  23.31         6   0.35%\n",
      "      mal-L[e]       EX_mal_L(e)   1000         4  10.03%\n",
      "     metala[e]      EX_metala(e)  10.59         8   0.21%\n",
      " metsox-S-L[e]  EX_metsox_S_L(e) 0.2368         5   0.00%\n",
      "        mg2[e]         EX_mg2(e) 0.3929         0   0.00%\n",
      "        na1[e]         EX_na1(e)   1000         0   0.00%\n",
      "        nac[e]         EX_nac(e) 0.7858         6   0.01%\n",
      "         o2[e]          EX_o2(e)  618.9         0   0.00%\n",
      "      phe-L[e]       EX_phe_L(e)  12.65         9   0.29%\n",
      "         pi[e]          EX_pi(e)  126.6         0   0.00%\n",
      "     pnto-R[e]      EX_pnto_R(e) 0.7858         9   0.02%\n",
      "      pro-L[e]       EX_pro_L(e)  15.05         5   0.19%\n",
      "       pydx[e]        EX_pydx(e) 0.3929         8   0.01%\n",
      "     ribflv[e]      EX_ribflv(e)  148.3        17   6.32%\n",
      "      ser-L[e]       EX_ser_L(e)  223.1         3   1.68%\n",
      "        so4[e]         EX_so4(e) 0.3929         0   0.00%\n",
      "        thm[e]         EX_thm(e) 0.3929        12   0.01%\n",
      "      thr-L[e]       EX_thr_L(e)  606.4         4   6.08%\n",
      "      thymd[e]       EX_thymd(e)  1.642        10   0.04%\n",
      "      trp-L[e]       EX_trp_L(e)  3.854        11   0.11%\n",
      "      tyr-L[e]       EX_tyr_L(e)  9.381         9   0.21%\n",
      "        ura[e]         EX_ura(e)  20.52         4   0.21%\n",
      "      urate[e]       EX_urate(e)  398.4         5   5.00%\n",
      "       hpyr[c]         sink_hpyr   0.05         3   0.00%\n",
      "\n",
      "Secretion\n",
      "---------\n",
      " Metabolite       Reaction   Flux  C-Number  C-Flux\n",
      "     na1[c]         DM_NA1  -1000         0   0.00%\n",
      "      ac[e]       EX_ac(e)  -1000         2   5.64%\n",
      "   asp-L[e]    EX_asp_L(e) -977.1         4  11.02%\n",
      "     cit[e]      EX_cit(e) -988.6         6  16.73%\n",
      "     co2[e]      EX_co2(e)  -1000         1   2.82%\n",
      "  dhor-S[e]   EX_dhor_S(e) -785.4         5  11.07%\n",
      "     for[e]      EX_for(e)   -158         1   0.45%\n",
      "     gly[e]      EX_gly(e) -527.8         2   2.98%\n",
      "  glyc-R[e]   EX_glyc_R(e)  -0.05         3   0.00%\n",
      "    hxan[e]     EX_hxan(e)  -1000         5  14.10%\n",
      "     nh4[e]      EX_nh4(e)  -1000         0   0.00%\n",
      "    orot[e]     EX_orot(e) -194.5         5   2.74%\n",
      "    ptrc[e]     EX_ptrc(e) -979.9         4  11.05%\n",
      " rbflvrd[e]  EX_rbflvrd(e) -147.5        17   7.07%\n",
      "    succ[e]     EX_succ(e) -20.14         4   0.23%\n",
      "     xan[e]      EX_xan(e)  -1000         5  14.10%\n",
      "\n"
     ]
    }
   ],
   "source": [
    "model1=model.copy()\n",
    "print(\"\\nModel Medium\")\n",
    "#model1.objective = {model1.reactions.get_by_id('EX_ac(e)'): 1}\n",
    "model1.objective = {model1.reactions.get_by_id('Biomass_FP'): 1}\n",
    "\n",
    "print(model1.summary())"
   ]
  },
  {
   "cell_type": "code",
   "execution_count": 8,
   "metadata": {},
   "outputs": [],
   "source": [
    "#use for later perhaps \n",
    "\n",
    "#modelMedium = setMediumConstraints(starting_model, set_inf,\n",
    "#current_inf,... medium_composition, met_Conc_mM, cellConc, t, cell-\n",
    "#Weight, mediumCompounds,... mediumCompounds_lb);\n",
    "\n",
    "#met_Conc_mM = [0.1;1.15;0.15;0.379;0.208;2;0.136;0.133;0.0968;0.382;0.382;0.274;0.101;0.0909;0.153;0.174;...\n",
    "#0.286;0.168;0.0245;0.129;0.171;0.00863;0.00082;0.0214;0.000524;0.00227;0.082;0.00485;0.000532;0.00297;...\n",
    "#0.194;0.424;0;5.33;23.81;127.26;5.63;11.11;0;0;0;1;0;0.00326;0.0073]\n",
    "#customizedConstraints_lb = [-2.3460;0;0;-500;-100;-100;-100];\n",
    "#customizedConstraints_ub = [500;0;0;500;500;500;500];"
   ]
  },
  {
   "cell_type": "code",
   "execution_count": 9,
   "metadata": {},
   "outputs": [
    {
     "output_type": "stream",
     "name": "stdout",
     "text": [
      "['ala_L(e)', 'arg_L(e)', 'asn_L(e)', 'asp_L(e)', 'asx_L(e)', 'cys_L(e)', 'glu_L(e)', 'gln_L(e)', 'glx_L(e)', 'gly_L(e)', 'his_L(e)', 'ile_L(e)', 'leu_L(e)', 'lys_L(e)', 'met_L(e)', 'phe_L(e)', 'pro_L(e)', 'ser_L(e)', 'thr_L(e)', 'trp_L(e)', 'tyr_L(e)', 'val_L(e)', 'glc_D(e)', 'starch1200(e)', 'cl(e)', 'h(e)', 'ac(e)', 'so4(e)', 'na1(e)', 'fe3(e)', 'ppp9(e)', 'h2o(e)', 'pi(e)', 'k(e)']\n",
      "\n",
      "Medium_mgam\n",
      "Objective\n",
      "=========\n",
      "1.0 Biomass_FP = -6.330253172891172e-16\n",
      "\n",
      "Uptake\n",
      "------\n",
      "Metabolite     Reaction  Flux  C-Number  C-Flux\n",
      "      h[e]      EX_h(e) 3.912         0   0.00%\n",
      "    na1[e]    EX_na1(e)    10         0   0.00%\n",
      "  ser-L[e]  EX_ser_L(e) 7.823         3  99.36%\n",
      "   hpyr[c]    sink_hpyr  0.05         3   0.64%\n",
      "\n",
      "Secretion\n",
      "---------\n",
      "Metabolite   Reaction   Flux  C-Number  C-Flux\n",
      "    na1[c]     DM_NA1    -10         0   0.00%\n",
      "     ac[e]   EX_ac(e)  -0.05         2   0.42%\n",
      "    but[e]  EX_but(e) -3.912         4  66.24%\n",
      "    co2[e]  EX_co2(e) -7.873         1  33.33%\n",
      "    nh4[e]  EX_nh4(e) -7.823         0   0.00%\n",
      "\n"
     ]
    }
   ],
   "source": [
    "MediumMgam = ['ala_L_(e)', 'arg_L_(e)', 'asn_L_(e)', 'asp_L_(e)', 'asx_L_(e)', 'cys_L_(e)', 'glu_L_(e)', 'gln_L_(e)', \n",
    "              'glx_L_(e)', 'gly_L_(e)', 'his_L_(e)', 'ile_L_(e)', 'leu_L_(e)', 'lys_L_(e)', 'met_L_(e)', 'phe_L_(e)', \n",
    "              'pro_L_(e)', 'ser_L_(e)', 'thr_L_(e)', 'trp_L_(e)', 'tyr_L_(e)', 'val_L_(e)', 'glc_D_(e)', 'starch1200_(e)', \n",
    "              'cl_(e)', 'h_(e)',\"ac_(e)\", \"so4_(e)\" #'thiog_(e)'\n",
    "              , 'na1_(e)', 'fe3_(e)', 'ppp9_(e)', 'h2o_(e)', \n",
    "              'pi_(e)', 'k_(e)']\n",
    "MediumMgam=[mets[:-4] +\"(e)\" for mets in MediumMgam]\n",
    "print(MediumMgam)\n",
    "model2=model.copy()\n",
    "model_mgam=medium(model2,MediumMgam)\n",
    "print('\\nMedium_mgam')\n",
    "model_mgam.objective = {model_mgam.reactions.get_by_id('Biomass_FP'): 1}\n",
    "#model_mgam.optimize()\n",
    "print(model_mgam.summary())"
   ]
  },
  {
   "cell_type": "code",
   "execution_count": 10,
   "metadata": {},
   "outputs": [
    {
     "output_type": "stream",
     "name": "stdout",
     "text": [
      "['ala_L(e)', 'arg_L(e)', 'asn_L(e)', 'asp_L(e)', 'asx_L(e)', 'cys_L(e)', 'glu_L(e)', 'gln_L(e)', 'glx_L(e)', 'gly_L(e)', 'his_L(e)', 'ile_L(e)', 'leu_L(e)', 'lys_L(e)', 'met_L(e)', 'phe_L(e)', 'pro_L(e)', 'ser_L(e)', 'thr_L(e)', 'trp_L(e)', 'tyr_L(e)', 'val_L(e)', 'glc_D(e)', 'starch1200(e)', 'cl(e)', 'h(e)', 'ac(e)', 'so4(e)', 'na1(e)', 'fe3(e)', 'ppp9(e)', 'h2o(e)', 'pi(e)', 'k(e)']\n",
      "\n",
      "Medium_mgam\n",
      "Objective\n",
      "=========\n",
      "1.0 Biomass_FP = 131.51398638093758\n",
      "\n",
      "Uptake\n",
      "------\n",
      " Metabolite       Reaction   Flux  C-Number  C-Flux\n",
      "    4hba[c]        DM_4HBA  64.77         7   4.63%\n",
      "    3mop[e]     EX_3mop(e)  521.6         6  31.94%\n",
      "   acglu[e]    EX_acglu(e)  57.79         7   4.13%\n",
      "     ade[e]      EX_ade(e)  28.42         5   1.45%\n",
      "  adocbl[e]   EX_adocbl(e) 0.7395        72   0.54%\n",
      "  alaala[e]   EX_alaala(e)  38.38         6   2.35%\n",
      "  alahis[e]   EX_alahis(e)  12.18         9   1.12%\n",
      "  alaleu[e]   EX_alaleu(e)  57.69         9   5.30%\n",
      "   arg-L[e]    EX_arg_L(e)  37.91         6   2.32%\n",
      "     btn[e]      EX_btn(e) 0.7395        10   0.08%\n",
      "     but[e]      EX_but(e)  27.58         4   1.13%\n",
      "     ca2[e]      EX_ca2(e) 0.7395         0   0.00%\n",
      "      cl[e]       EX_cl(e) 0.7395         0   0.00%\n",
      " cobalt2[e]  EX_cobalt2(e) 0.7395         0   0.00%\n",
      "  cps_fp[e]   EX_cps_fp(e)  27.35        63  17.59%\n",
      "     cu2[e]      EX_cu2(e) 0.7395         0   0.00%\n",
      "     fe2[e]      EX_fe2(e) 0.7395         0   0.00%\n",
      "     fe3[e]      EX_fe3(e) 0.7395         0   0.00%\n",
      "     fol[e]      EX_fol(e)  2.218        19   0.43%\n",
      "  glyc3p[e]   EX_glyc3p(e)   25.4         3   0.78%\n",
      "     gua[e]      EX_gua(e)  30.59         5   1.56%\n",
      "   ile-L[e]    EX_ile_L(e)  37.16         6   2.28%\n",
      "       k[e]        EX_k(e) 0.7395         0   0.00%\n",
      "   lys-L[e]    EX_lys_L(e)  56.03         6   3.43%\n",
      "  metala[e]   EX_metala(e)  20.38         8   1.66%\n",
      "     mg2[e]      EX_mg2(e) 0.7395         0   0.00%\n",
      "    ncam[e]     EX_ncam(e)  1.479         6   0.09%\n",
      "   phe-L[e]    EX_phe_L(e)   23.8         9   2.19%\n",
      "    plac[e]     EX_plac(e)  4.492         9   0.41%\n",
      "  pnto-R[e]   EX_pnto_R(e)  1.479         9   0.14%\n",
      "   pro-L[e]    EX_pro_L(e)  50.04         5   2.55%\n",
      "    pydx[e]     EX_pydx(e) 0.7395         8   0.06%\n",
      "  ribflv[e]   EX_ribflv(e)  1.479        17   0.26%\n",
      "     so4[e]      EX_so4(e) 0.7395         0   0.00%\n",
      "     thm[e]      EX_thm(e)  65.51        12   8.02%\n",
      "   trp-L[e]    EX_trp_L(e)  7.254        11   0.81%\n",
      "   val-L[e]    EX_val_L(e)  54.13         5   2.76%\n",
      "\n",
      "Secretion\n",
      "---------\n",
      "Metabolite    Reaction   Flux  C-Number  C-Flux\n",
      "   cgly[e]  EX_cgly(e) -24.01         5   7.96%\n",
      "    co2[e]   EX_co2(e) -229.9         1  15.24%\n",
      "    for[e]   EX_for(e) -475.6         1  31.54%\n",
      "    gal[e]   EX_gal(e) -26.61         6  10.59%\n",
      "    gam[e]   EX_gam(e) -2.288         6   0.91%\n",
      "  glc-D[e]   EX_glc(e) -53.22         6  21.18%\n",
      "    gly[e]   EX_gly(e) -24.86         2   3.30%\n",
      "    h2s[e]   EX_h2s(e) -27.58         0   0.00%\n",
      "     o2[e]    EX_o2(e) -32.34         0   0.00%\n",
      "   orot[e]  EX_orot(e) -10.49         5   3.48%\n",
      "    ura[e]   EX_ura(e) -21.91         4   5.81%\n",
      "\n"
     ]
    }
   ],
   "source": [
    "MediumMgam = ['ala_L_(e)', 'arg_L_(e)', 'asn_L_(e)', 'asp_L_(e)', 'asx_L_(e)', 'cys_L_(e)', 'glu_L_(e)', 'gln_L_(e)', \n",
    "              'glx_L_(e)', 'gly_L_(e)', 'his_L_(e)', 'ile_L_(e)', 'leu_L_(e)', 'lys_L_(e)', 'met_L_(e)', 'phe_L_(e)', \n",
    "              'pro_L_(e)', 'ser_L_(e)', 'thr_L_(e)', 'trp_L_(e)', 'tyr_L_(e)', 'val_L_(e)', 'glc_D_(e)', 'starch1200_(e)', \n",
    "              'cl_(e)', 'h_(e)',\"ac_(e)\", \"so4_(e)\" #'thiog_(e)'\n",
    "              , 'na1_(e)', 'fe3_(e)', 'ppp9_(e)', 'h2o_(e)', \n",
    "              'pi_(e)', 'k_(e)']\n",
    "MediumMgam=[mets[:-4] +\"(e)\" for mets in MediumMgam]\n",
    "print(MediumMgam)\n",
    "model2=model.copy()\n",
    "model_mgam=medium(model2,MediumMgam)\n",
    "print('\\nMedium_mgam')\n",
    "for i in range(1,len(model_mgam.reactions)):\n",
    "    model_mgam.reactions[i].upper_bound=1000\n",
    "    model_mgam.reactions[i].lower_bound=-1000 #does not change till 77,78\n",
    "model_mgam.objective = {model_mgam.reactions.get_by_id('Biomass_FP'): 1}\n",
    "#model_mgam.optimize()\n",
    "print(model_mgam.summary())"
   ]
  },
  {
   "cell_type": "code",
   "execution_count": 11,
   "metadata": {},
   "outputs": [
    {
     "output_type": "stream",
     "name": "stdout",
     "text": [
      "['ala_L(e)', 'arg_L(e)', 'asn_L(e)', 'asp_L(e)', 'asx_L(e)', 'cys_L(e)', 'glu_L(e)', 'gln_L(e)', 'glx_L(e)', 'gly_L(e)', 'his_L(e)', 'ile_L(e)', 'leu_L(e)', 'lys_L(e)', 'met_L(e)', 'phe_L(e)', 'pro_L(e)', 'ser_L(e)', 'thr_L(e)', 'trp_L(e)', 'tyr_L(e)', 'val_L(e)', 'glc_D(e)', 'starch1200(e)', 'cl(e)', 'h(e)', 'ac(e)', 'so4(e)', 'na1(e)', 'fe3(e)', 'ppp9(e)', 'h2o(e)', 'pi(e)', 'k(e)']\n",
      "\n",
      "Medium_mgam\n",
      "Objective\n",
      "=========\n",
      "1.0 Biomass_FP = 0.0\n",
      "\n",
      "Uptake\n",
      "------\n",
      "Empty DataFrame\n",
      "Columns: [Metabolite, Reaction, Flux, C-Number, C-Flux]\n",
      "Index: []\n",
      "\n",
      "Secretion\n",
      "---------\n",
      "Empty DataFrame\n",
      "Columns: [Metabolite, Reaction, Flux, C-Number, C-Flux]\n",
      "Index: []\n",
      "\n"
     ]
    }
   ],
   "source": [
    "MediumMgam = ['ala_L_(e)', 'arg_L_(e)', 'asn_L_(e)', 'asp_L_(e)', 'asx_L_(e)', 'cys_L_(e)', 'glu_L_(e)', 'gln_L_(e)', \n",
    "              'glx_L_(e)', 'gly_L_(e)', 'his_L_(e)', 'ile_L_(e)', 'leu_L_(e)', 'lys_L_(e)', 'met_L_(e)', 'phe_L_(e)', \n",
    "              'pro_L_(e)', 'ser_L_(e)', 'thr_L_(e)', 'trp_L_(e)', 'tyr_L_(e)', 'val_L_(e)', 'glc_D_(e)', 'starch1200_(e)', \n",
    "              'cl_(e)', 'h_(e)',\"ac_(e)\", \"so4_(e)\" #'thiog_(e)'\n",
    "              , 'na1_(e)', 'fe3_(e)', 'ppp9_(e)', 'h2o_(e)', \n",
    "              'pi_(e)', 'k_(e)']\n",
    "MediumMgam=[mets[:-4] +\"(e)\" for mets in MediumMgam]\n",
    "print(MediumMgam)\n",
    "model2=model.copy()\n",
    "model_mgam=medium(model2,MediumMgam)\n",
    "print('\\nMedium_mgam')\n",
    "for i in range(1,len(model_mgam.reactions)):\n",
    "    model_mgam.reactions[i].upper_bound=1000\n",
    "    if model_mgam.reactions[i].lower_bound == 0:\n",
    "        model_mgam.reactions[i].lower_bound=0 #does not change till 77,78\n",
    "    else:\n",
    "        model_mgam.reactions[i].lower_bound=-1000 #does not change till 77,78\n",
    "mediums=model_mgam.medium\n",
    "model_mgam.objective = {model_mgam.reactions.get_by_id('Biomass_FP'): 1}\n",
    "print(model_mgam.summary())"
   ]
  },
  {
   "cell_type": "code",
   "execution_count": 12,
   "metadata": {},
   "outputs": [
    {
     "output_type": "stream",
     "name": "stdout",
     "text": [
      "\nActive reaction : 364 which represent 35.339806% of the model\n69.8788559078775\n"
     ]
    }
   ],
   "source": [
    "fba = model.optimize()\n",
    "fluxes = deleteNull(fba.fluxes)\n",
    "print('\\nActive reaction : %i which represent %f%% of the model' %(len(fluxes),len(fluxes)/len(model.reactions)*100))\n",
    "print(fba.objective_value)"
   ]
  },
  {
   "cell_type": "code",
   "execution_count": 13,
   "metadata": {},
   "outputs": [
    {
     "output_type": "execute_result",
     "data": {
      "text/plain": [
       "EX_Lcystin(e)          3.501825\n",
       "EX_ade(e)            864.852705\n",
       "EX_adocbl(e)           0.392915\n",
       "EX_alaala(e)           6.462117\n",
       "EX_alagln(e)          30.813920\n",
       "EX_arg_L(e)         1000.000000\n",
       "EX_asn_L(e)           16.399170\n",
       "EX_btn(e)              0.392915\n",
       "EX_ca2(e)              0.392915\n",
       "EX_cl(e)               0.392915\n",
       "EX_cobalt2(e)          0.392915\n",
       "EX_cps_fp(e)           0.392915\n",
       "EX_cu2(e)              0.392915\n",
       "EX_fe3(e)            520.613611\n",
       "EX_fol(e)              1.178744\n",
       "EX_fum(e)           1000.000000\n",
       "EX_glu_L(e)         1000.000000\n",
       "EX_gua(e)             16.254032\n",
       "EX_h(e)              269.528716\n",
       "EX_his_L(e)            6.472389\n",
       "EX_ins(e)            751.818425\n",
       "EX_k(e)                0.392915\n",
       "EX_lac_D(e)           65.317421\n",
       "EX_leuleu(e)          15.326529\n",
       "EX_lys_L(e)           23.308092\n",
       "EX_mal_L(e)         1000.000000\n",
       "EX_metala(e)          10.591818\n",
       "EX_metsox_S_L(e)       0.236805\n",
       "EX_mg2(e)              0.392915\n",
       "EX_na1(e)           1000.000000\n",
       "EX_nac(e)              0.785830\n",
       "EX_o2(e)             563.085332\n",
       "EX_phe_L(e)           12.648073\n",
       "EX_pi(e)             126.615470\n",
       "EX_pnto_R(e)           0.785830\n",
       "EX_pro_L(e)           15.054002\n",
       "EX_pydx(e)             0.392915\n",
       "EX_rbflvrd(e)          0.785830\n",
       "EX_ser_L(e)          223.057188\n",
       "EX_so4(e)              0.392915\n",
       "EX_thm(e)              0.392915\n",
       "EX_thr_L(e)          652.760922\n",
       "EX_thymd(e)            1.642363\n",
       "EX_trp_L(e)            3.854308\n",
       "EX_tyr_L(e)            9.381236\n",
       "EX_ura(e)             20.520136\n",
       "EX_urate(e)          398.429285\n",
       "dtype: float64"
      ]
     },
     "metadata": {},
     "execution_count": 13
    }
   ],
   "source": [
    "from cobra.medium import minimal_medium\n",
    "\n",
    "max_growth = model.slim_optimize()\n",
    "minimal_medium(model, max_growth)"
   ]
  },
  {
   "cell_type": "code",
   "execution_count": 14,
   "metadata": {},
   "outputs": [
    {
     "output_type": "execute_result",
     "data": {
      "text/plain": [
       "Series([], dtype: float64)"
      ]
     },
     "metadata": {},
     "execution_count": 14
    }
   ],
   "source": [
    "from cobra.medium import minimal_medium\n",
    "max_growth = model_mgam.slim_optimize()\n",
    "minimal_medium(model_mgam, max_growth)"
   ]
  },
  {
   "cell_type": "markdown",
   "metadata": {},
   "source": [
    "---\n",
    "## Reinforced Clostridial Medium (RCM)\n",
    "http://www.oxoid.com/UK/blue/prod_detail/prod_detail.asp?pr=CM0149&org=53&c=UK&lang=EN\n",
    "\n",
    "* Yeast Extract -> [lots of stuff in it, unsure of what's garbage](https://www.chemicalbook.com/ChemicalProductProperty_EN_CB9440339.htm#:~:text=Yeast%20extract%20has%20a%20protein,aromatic%20compounds%20and%20other%20components.)\n",
    "    * Glutathione: gthrd (reduced version)\n",
    "    * 18 AA's: see above\n",
    "    * Dextran: glc__D (it's made of glucose)\n",
    "    * Mannan: mannan\n",
    "    * Trehalose: tre\n",
    "    * B-vitamins: (Clemence mentioned vitamins being important so I'm putting them all in)\n",
    "        * \\1. Thiamin -> thm\n",
    "        * \\2. Riboflavin -> ribflv\n",
    "        * \\3. Niacin -> trp__L (made of tryptophan)\n",
    "        * \\5. Pantothenic Acid -> pnto__R\n",
    "        * \\6. Pyridoxine -> pydxn\n",
    "        * \\7. Biotin -> btn\n",
    "        * \\9. Folic Acid -> ... can't find anything\n",
    "        * \\12. Cobalamin -> b12 (or cbl1)\n",
    "    * Biotin\n",
    "* Peptone -> Sticking with the above logic, probably a source of all AAs\n",
    "* Glucose -> Assuming D_Glucose: glc__D\n",
    "* Soluble Starch -> starch1200\n",
    "* Sodium Chloride -> na1, cl\n",
    "* Sodium Acetate -> Assuming breaking down into sodium and acetate: ac, na1\n",
    "* Cysteine Hydrochloride -> cys_L, cl, h (could also be cys_D? cys_L is more widely used)\n",
    "* Agar: Agarose (70%) and Agaropectin (30%) [according to Wiki](https://en.wikipedia.org/wiki/Agar)\n",
    "    * Agarose: D-galactose & 3,6-anhydro-L-galactopyranose\n",
    "        * D-galactose: gal\n",
    "        * 3,6-anhydro-L-galactopyranose: [similar structure & compositon to beta-D-allose](https://pubchem.ncbi.nlm.nih.gov/#query=CID67020466%20structure&tab=similarity)\n",
    "            * D-Allose: all__D\n",
    "    * Agaropectin: D-galactose, L-galactose, pyruvate, sulfate\n",
    "        * D-galactose: gal\n",
    "        * L-galactose: gal__L\n",
    "        * Pyruvate: pyr\n",
    "        * Sulfate: so4"
   ]
  },
  {
   "cell_type": "markdown",
   "metadata": {},
   "source": [
    "| Component              | Concentration (g/L) | BiGG Metabolites                                                                          |\n",
    "|------------------------|---------------------|-------------------------------------------------------------------------------------------|\n",
    "| Yeast Extract          | 13.0                | (see all AA's), gthrd, glc\\__D, mannan, tre, thm, ribflv, trp\\__L, pnto\\__R, pydxn, btn, b12 |\n",
    "| Peptone                | 10.0                | (see all AA's)                                                                            |\n",
    "| Glucose                | 5.0                 | glc_D                                                                                     |\n",
    "| Soluble Starch         | 1.0                 | starch1200                                                                                |\n",
    "| Sodium Chloride        | 5.0                 | na1, cl                                                                                   |\n",
    "| Sodium Acetate         | 3.0                 | na1, ac                                                                                   |\n",
    "| Cysteine Hydrochloride | 0.5                 | cys_L, cl, h                                                                              |\n",
    "| Agar                   | 0.5                 | gal, all\\__D, gal\\__L, pyr, so4                                                           |"
   ]
  },
  {
   "cell_type": "code",
   "execution_count": 15,
   "metadata": {},
   "outputs": [
    {
     "output_type": "execute_result",
     "data": {
      "text/plain": [
       "<cobra.summary.model_summary.ModelSummary at 0x7fac82bd85e0>"
      ],
      "text/html": "<h3>Objective</h3><p>1.0 Biomass_FP = 131.51398638093755</p><h4>Uptake</h4><table border=\"1\" class=\"dataframe\">\n  <thead>\n    <tr style=\"text-align: right;\">\n      <th>Metabolite</th>\n      <th>Reaction</th>\n      <th>Flux</th>\n      <th>C-Number</th>\n      <th>C-Flux</th>\n    </tr>\n  </thead>\n  <tbody>\n    <tr>\n      <td>4hba[c]</td>\n      <td>DM_4HBA</td>\n      <td>64.77</td>\n      <td>7</td>\n      <td>4.63%</td>\n    </tr>\n    <tr>\n      <td>3mop[e]</td>\n      <td>EX_3mop(e)</td>\n      <td>521.6</td>\n      <td>6</td>\n      <td>31.94%</td>\n    </tr>\n    <tr>\n      <td>acglu[e]</td>\n      <td>EX_acglu(e)</td>\n      <td>57.79</td>\n      <td>7</td>\n      <td>4.13%</td>\n    </tr>\n    <tr>\n      <td>ade[e]</td>\n      <td>EX_ade(e)</td>\n      <td>28.42</td>\n      <td>5</td>\n      <td>1.45%</td>\n    </tr>\n    <tr>\n      <td>adocbl[e]</td>\n      <td>EX_adocbl(e)</td>\n      <td>0.7395</td>\n      <td>72</td>\n      <td>0.54%</td>\n    </tr>\n    <tr>\n      <td>alaala[e]</td>\n      <td>EX_alaala(e)</td>\n      <td>38.38</td>\n      <td>6</td>\n      <td>2.35%</td>\n    </tr>\n    <tr>\n      <td>alahis[e]</td>\n      <td>EX_alahis(e)</td>\n      <td>12.18</td>\n      <td>9</td>\n      <td>1.12%</td>\n    </tr>\n    <tr>\n      <td>alaleu[e]</td>\n      <td>EX_alaleu(e)</td>\n      <td>57.69</td>\n      <td>9</td>\n      <td>5.30%</td>\n    </tr>\n    <tr>\n      <td>arg-L[e]</td>\n      <td>EX_arg_L(e)</td>\n      <td>37.91</td>\n      <td>6</td>\n      <td>2.32%</td>\n    </tr>\n    <tr>\n      <td>btn[e]</td>\n      <td>EX_btn(e)</td>\n      <td>0.7395</td>\n      <td>10</td>\n      <td>0.08%</td>\n    </tr>\n    <tr>\n      <td>but[e]</td>\n      <td>EX_but(e)</td>\n      <td>27.58</td>\n      <td>4</td>\n      <td>1.13%</td>\n    </tr>\n    <tr>\n      <td>ca2[e]</td>\n      <td>EX_ca2(e)</td>\n      <td>0.7395</td>\n      <td>0</td>\n      <td>0.00%</td>\n    </tr>\n    <tr>\n      <td>cl[e]</td>\n      <td>EX_cl(e)</td>\n      <td>0.7395</td>\n      <td>0</td>\n      <td>0.00%</td>\n    </tr>\n    <tr>\n      <td>cobalt2[e]</td>\n      <td>EX_cobalt2(e)</td>\n      <td>0.7395</td>\n      <td>0</td>\n      <td>0.00%</td>\n    </tr>\n    <tr>\n      <td>cps_fp[e]</td>\n      <td>EX_cps_fp(e)</td>\n      <td>27.35</td>\n      <td>63</td>\n      <td>17.59%</td>\n    </tr>\n    <tr>\n      <td>cu2[e]</td>\n      <td>EX_cu2(e)</td>\n      <td>0.7395</td>\n      <td>0</td>\n      <td>0.00%</td>\n    </tr>\n    <tr>\n      <td>fe2[e]</td>\n      <td>EX_fe2(e)</td>\n      <td>0.7395</td>\n      <td>0</td>\n      <td>0.00%</td>\n    </tr>\n    <tr>\n      <td>fe3[e]</td>\n      <td>EX_fe3(e)</td>\n      <td>0.7395</td>\n      <td>0</td>\n      <td>0.00%</td>\n    </tr>\n    <tr>\n      <td>fol[e]</td>\n      <td>EX_fol(e)</td>\n      <td>2.218</td>\n      <td>19</td>\n      <td>0.43%</td>\n    </tr>\n    <tr>\n      <td>glyc3p[e]</td>\n      <td>EX_glyc3p(e)</td>\n      <td>25.4</td>\n      <td>3</td>\n      <td>0.78%</td>\n    </tr>\n    <tr>\n      <td>gua[e]</td>\n      <td>EX_gua(e)</td>\n      <td>30.59</td>\n      <td>5</td>\n      <td>1.56%</td>\n    </tr>\n    <tr>\n      <td>ile-L[e]</td>\n      <td>EX_ile_L(e)</td>\n      <td>37.16</td>\n      <td>6</td>\n      <td>2.28%</td>\n    </tr>\n    <tr>\n      <td>k[e]</td>\n      <td>EX_k(e)</td>\n      <td>0.7395</td>\n      <td>0</td>\n      <td>0.00%</td>\n    </tr>\n    <tr>\n      <td>lys-L[e]</td>\n      <td>EX_lys_L(e)</td>\n      <td>56.03</td>\n      <td>6</td>\n      <td>3.43%</td>\n    </tr>\n    <tr>\n      <td>metala[e]</td>\n      <td>EX_metala(e)</td>\n      <td>20.38</td>\n      <td>8</td>\n      <td>1.66%</td>\n    </tr>\n    <tr>\n      <td>mg2[e]</td>\n      <td>EX_mg2(e)</td>\n      <td>0.7395</td>\n      <td>0</td>\n      <td>0.00%</td>\n    </tr>\n    <tr>\n      <td>ncam[e]</td>\n      <td>EX_ncam(e)</td>\n      <td>1.479</td>\n      <td>6</td>\n      <td>0.09%</td>\n    </tr>\n    <tr>\n      <td>phe-L[e]</td>\n      <td>EX_phe_L(e)</td>\n      <td>23.8</td>\n      <td>9</td>\n      <td>2.19%</td>\n    </tr>\n    <tr>\n      <td>plac[e]</td>\n      <td>EX_plac(e)</td>\n      <td>4.492</td>\n      <td>9</td>\n      <td>0.41%</td>\n    </tr>\n    <tr>\n      <td>pnto-R[e]</td>\n      <td>EX_pnto_R(e)</td>\n      <td>1.479</td>\n      <td>9</td>\n      <td>0.14%</td>\n    </tr>\n    <tr>\n      <td>pro-L[e]</td>\n      <td>EX_pro_L(e)</td>\n      <td>50.04</td>\n      <td>5</td>\n      <td>2.55%</td>\n    </tr>\n    <tr>\n      <td>pydx[e]</td>\n      <td>EX_pydx(e)</td>\n      <td>0.7395</td>\n      <td>8</td>\n      <td>0.06%</td>\n    </tr>\n    <tr>\n      <td>ribflv[e]</td>\n      <td>EX_ribflv(e)</td>\n      <td>1.479</td>\n      <td>17</td>\n      <td>0.26%</td>\n    </tr>\n    <tr>\n      <td>so4[e]</td>\n      <td>EX_so4(e)</td>\n      <td>0.7395</td>\n      <td>0</td>\n      <td>0.00%</td>\n    </tr>\n    <tr>\n      <td>thm[e]</td>\n      <td>EX_thm(e)</td>\n      <td>65.51</td>\n      <td>12</td>\n      <td>8.02%</td>\n    </tr>\n    <tr>\n      <td>trp-L[e]</td>\n      <td>EX_trp_L(e)</td>\n      <td>7.254</td>\n      <td>11</td>\n      <td>0.81%</td>\n    </tr>\n    <tr>\n      <td>val-L[e]</td>\n      <td>EX_val_L(e)</td>\n      <td>54.13</td>\n      <td>5</td>\n      <td>2.76%</td>\n    </tr>\n  </tbody>\n</table><h4>Secretion</h4><table border=\"1\" class=\"dataframe\">\n  <thead>\n    <tr style=\"text-align: right;\">\n      <th>Metabolite</th>\n      <th>Reaction</th>\n      <th>Flux</th>\n      <th>C-Number</th>\n      <th>C-Flux</th>\n    </tr>\n  </thead>\n  <tbody>\n    <tr>\n      <td>cgly[e]</td>\n      <td>EX_cgly(e)</td>\n      <td>-24.01</td>\n      <td>5</td>\n      <td>7.96%</td>\n    </tr>\n    <tr>\n      <td>co2[e]</td>\n      <td>EX_co2(e)</td>\n      <td>-229.9</td>\n      <td>1</td>\n      <td>15.24%</td>\n    </tr>\n    <tr>\n      <td>for[e]</td>\n      <td>EX_for(e)</td>\n      <td>-475.6</td>\n      <td>1</td>\n      <td>31.54%</td>\n    </tr>\n    <tr>\n      <td>gal[e]</td>\n      <td>EX_gal(e)</td>\n      <td>-26.61</td>\n      <td>6</td>\n      <td>10.59%</td>\n    </tr>\n    <tr>\n      <td>gam[e]</td>\n      <td>EX_gam(e)</td>\n      <td>-2.288</td>\n      <td>6</td>\n      <td>0.91%</td>\n    </tr>\n    <tr>\n      <td>glc-D[e]</td>\n      <td>EX_glc(e)</td>\n      <td>-53.22</td>\n      <td>6</td>\n      <td>21.18%</td>\n    </tr>\n    <tr>\n      <td>gly[e]</td>\n      <td>EX_gly(e)</td>\n      <td>-24.86</td>\n      <td>2</td>\n      <td>3.30%</td>\n    </tr>\n    <tr>\n      <td>h2s[e]</td>\n      <td>EX_h2s(e)</td>\n      <td>-27.58</td>\n      <td>0</td>\n      <td>0.00%</td>\n    </tr>\n    <tr>\n      <td>o2[e]</td>\n      <td>EX_o2(e)</td>\n      <td>-32.34</td>\n      <td>0</td>\n      <td>0.00%</td>\n    </tr>\n    <tr>\n      <td>orot[e]</td>\n      <td>EX_orot(e)</td>\n      <td>-10.49</td>\n      <td>5</td>\n      <td>3.48%</td>\n    </tr>\n    <tr>\n      <td>ura[e]</td>\n      <td>EX_ura(e)</td>\n      <td>-21.91</td>\n      <td>4</td>\n      <td>5.81%</td>\n    </tr>\n  </tbody>\n</table>"
     },
     "metadata": {},
     "execution_count": 15
    }
   ],
   "source": [
    "medium_rcm = list(('gthrd','glc__D','mannan','tre','thm','ribflv','trp__L','pnto__R','pydxn','btn','b12',\n",
    "             'starch1200','na1','ac','cl','cys_L','gal','all__D','gal__L','pyr','so4'))\n",
    "medium_rcm=[mets+\"(e)\" for mets in medium_rcm]\n",
    "model_rcm=medium(model.copy(), medium_rcm)\n",
    "for i in range(1,len(model_rcm.reactions)):\n",
    "    model_rcm.reactions[i].upper_bound=1000\n",
    "    model_rcm.reactions[i].lower_bound=-1000\n",
    "model_rcm.objective = {model_rcm.reactions.get_by_id('Biomass_FP'): 1}\n",
    "model_rcm.summary()"
   ]
  },
  {
   "cell_type": "code",
   "execution_count": 16,
   "metadata": {},
   "outputs": [
    {
     "output_type": "stream",
     "name": "stdout",
     "text": [
      "\nActive reaction : 381 which represent 36.990291% of the model\n131.5139863809376\n"
     ]
    }
   ],
   "source": [
    "# Post-optimization\n",
    "fba_rcm = model_rcm.optimize()\n",
    "fluxes = deleteNull(fba_rcm.fluxes)\n",
    "print('\\nActive reaction : %i which represent %f%% of the model' %(len(fluxes),len(fluxes)/len(model.reactions)*100))\n",
    "print(model_rcm.objective.value)"
   ]
  },
  {
   "source": [
    "---\n",
    "## mMCB\n",
    "\n",
    "(There are also supplements mentioned in the paper but this is the base medium)\n",
    "* [Bacteriological Peptome (6.5) (Oxoid)](http://www.oxoid.com/UK/blue/prod_detail/prod_detail.asp?pr=LP0037&c=UK&lang=EN): \n",
    "    * Vague, decided to go with polypeptides: <b>polypep</b>\n",
    "    * Nitrogen: <b>n2</b>\n",
    "* [Soy Peptome (5.0) (Oxoid)](http://www.oxoid.com/UK/blue/prod_detail/prod_detail.asp?pr=LP0044&cat=&c=UK&lang=EN) --> another vague one:\n",
    "    * Stachyose: <b>stys</b>\n",
    "    * Raffinose: <b>raffin</b>\n",
    "    * Sucrose: <b>sucr</b>\n",
    "    * Nitrogen: <b>n2</b>\n",
    "* [Yeast Extract (3.0) (VWR International, Darmstadt, Germany)](https://us.vwr.com/store/product/7437401/vwr-life-science-yeast-extract-bacteriological-grade):\n",
    "    * Vitamin B (same logic as RCM):\n",
    "        * 1. Thiamin -> <b>thm</b>\n",
    "        * 2. Riboflavin -> <b>ribflv</b>\n",
    "        * 3. Niacin -> <b>trp__L</b> (made of tryptophan)\n",
    "        * 5. Pantothenic Acid -> <b>pnto__R</b>\n",
    "        * 6. Pyridoxine -> <b>pydxn</b>\n",
    "        * 7. Biotin -> <b>btn</b>\n",
    "        * 9. Folic Acid -> ... can't find anything\n",
    "        * 12. Cobalamin -> <b>b12</b> (or cbl1)\n",
    "* [Tryptone (2.5) (Oxoid)](http://www.oxoid.com/UK/blue/prod_detail/prod_detail.asp?pr=LP0042&c=UK&lang=EN): \n",
    "    * Tryptophan: <b>trp__L</b>\n",
    "* NaCL (1.5) (VWR International, Darmstadt, Germany):\n",
    "    * NaCl: <b>na1, cl</b>\n",
    "* K<sub>2</sub>HPO<sub>4</sub> (1.0) (Merck International, Darmstadt, Germany):\n",
    "    * Potassium: <b>k</b>\n",
    "    * Phosphate: <b>p1</b>\n",
    "    * Hydrogen: <b>h2</b>\n",
    "* KH<sub>2</sub>PO<sub>4</sub> (1.0) (Merck International, Darmstadt, Germany):\n",
    "    * Potassium: <b>k</b>\n",
    "    * Phosphate: <b>p1</b>\n",
    "    * Hydrogen: <b>h2</b>\n",
    "* Na<sub>2</sub>SO<sub>4</sub> (2.0) (VWR):\n",
    "    * Sodium: <b>na1</b>\n",
    "    * Sulfate: <b>so4</b>\n",
    "* MgSO<sub>4</sub>*7H<sub>2</sub>O (1.0) (Merck):\n",
    "    * Magnesium: <b>mg2</b>\n",
    "    * Sulfate: <b>so4</b>\n",
    "* CaCl<sub>2</sub>*2H<sub>2</sub>O (0.1) (Merck):\n",
    "    * Calcium Chloride: <b>ca2, cl</b>\n",
    "* NH<sub>4</sub>Cl (1.0) (Merck):\n",
    "    * Ammonium Chloride: <b>nh4, cl</b>\n",
    "* Cysteine-HCL (0.4) (Merck):\n",
    "    * Cysteine: <b>cys__L</b>\n",
    "    * HCL: <b>h2, cl</b>\n",
    "* NaHCO<sub>3</sub> (0.2) (VWR):\n",
    "    * Sodium: <b>na1</b>\n",
    "    * Bicarbonate: <b>hco3<b>\n",
    "* MnSO<sub>4</sub>*H<sub>2</sub>O (0.05) (VWR):\n",
    "    * Manganese: <b>mn2</b>\n",
    "    * Sulfate: <b>so4</b>\n",
    "* FeSO<sub>4</sub>*7H<sub>2</sub>O (0.005) (Merck):\n",
    "    * Iron: <b>fe</b>\n",
    "    * Sulfate: <b>so4</b>\n",
    "* ZnSO<sub>4</sub>*7H<sub>2</sub>O (0.005) (VWR):\n",
    "    * Zinc: <b>zn2</b>\n",
    "    * Sulfate: <b>so4</b>\n",
    "* Hemin (0.005) (Sigma-Aldrich, Steinheim, Germany):\n",
    "    * ... contains iron\n",
    "* Menadione (0.005) (S-A):\n",
    "    * <b>mndn</b>\n",
    "* Resazurin (0.001) (S-A):\n",
    "    * Fluoro identifier\n",
    "\n"
   ],
   "cell_type": "markdown",
   "metadata": {}
  },
  {
   "source": [
    "| Component                            | Concentration (g/L) | BiGG Metabolites                                |\n",
    "|--------------------------------------|---------------------|-------------------------------------------------|\n",
    "| Bacteriological Peptome              | 6.5                 | polypep, n2                                     |\n",
    "| Soy Peptome                          | 5.0                 | stys, raffin, sucr, n2                          |\n",
    "| Yeast Extract                        | 3.0                 | thm, ribflv, trp\\__L, pnto\\__R, pydxn, btn, b12 |\n",
    "| Tryptone                             | 2.5                 | trp\\__L                                         |\n",
    "| NaCL                                 | 1.5                 | na1, cl                                         |\n",
    "| K<sub>2</sub>PO<sub>4</sub>          | 1.0                 | k, p1, h2                                       |\n",
    "| KH<sub>2</sub>PO<sub>4</sub>         | 1.0                 | k, p1, h2                                       |\n",
    "| Na<sub>2</sub>SO<sub>4</sub>         | 2.0                 | na1, so4                                        |\n",
    "| Mg<sub>2</sub>SO<sub>4</sub>         | 1.0                 | mg2, so4                                        |\n",
    "| CaCl<sub>2</sub>*2H<sub>2</sub>O     | 0.1                 | ca2, cl                                         |\n",
    "| NH<sub>4</sub>Cl                     | 1.0                 | nh4, cl                                         |\n",
    "| Cysteine-HCL                         | 0.4                 | cys__L, h2, cl                                  |\n",
    "| NaHCO<sub>3</sub>                    | 0.2                 | na1, hco3                                       |\n",
    "| MnSO<sub>4</sub>*H<sub>2</sub>O      | 0.05                | mn2, so4                                        |\n",
    "| FeSOMnSO<sub>4</sub>*7H<sub>2</sub>O | 0.005               | fe, so4                                         |\n",
    "| ZnSO<sub>4</sub>*7H<sub>2</sub>O     | 0.005               | zn2, so4                                        |\n",
    "| Hemin                                | 0.005               |                                                 |\n",
    "| Menadione                            | 0.005               | mndn                                            |\n",
    "| Resazurin                            | 0.001               |                                                 |"
   ],
   "cell_type": "markdown",
   "metadata": {}
  },
  {
   "cell_type": "code",
   "execution_count": 17,
   "metadata": {},
   "outputs": [
    {
     "output_type": "execute_result",
     "data": {
      "text/plain": [
       "<cobra.summary.model_summary.ModelSummary at 0x7fac80956d00>"
      ],
      "text/html": "<h3>Objective</h3><p>1.0 Biomass_FP = 0.0</p><h4>Uptake</h4><table border=\"1\" class=\"dataframe\">\n  <thead>\n    <tr style=\"text-align: right;\">\n      <th>Metabolite</th>\n      <th>Reaction</th>\n      <th>Flux</th>\n      <th>C-Number</th>\n      <th>C-Flux</th>\n    </tr>\n  </thead>\n  <tbody>\n    <tr>\n      <td>glc-D[e]</td>\n      <td>EX_glc(e)</td>\n      <td>4.19</td>\n      <td>6</td>\n      <td>99.41%</td>\n    </tr>\n    <tr>\n      <td>hpyr[c]</td>\n      <td>sink_hpyr</td>\n      <td>0.05</td>\n      <td>3</td>\n      <td>0.59%</td>\n    </tr>\n  </tbody>\n</table><h4>Secretion</h4><table border=\"1\" class=\"dataframe\">\n  <thead>\n    <tr style=\"text-align: right;\">\n      <th>Metabolite</th>\n      <th>Reaction</th>\n      <th>Flux</th>\n      <th>C-Number</th>\n      <th>C-Flux</th>\n    </tr>\n  </thead>\n  <tbody>\n    <tr>\n      <td>but[e]</td>\n      <td>EX_but(e)</td>\n      <td>-0.025</td>\n      <td>4</td>\n      <td>0.40%</td>\n    </tr>\n    <tr>\n      <td>co2[e]</td>\n      <td>EX_co2(e)</td>\n      <td>-0.05</td>\n      <td>1</td>\n      <td>0.20%</td>\n    </tr>\n    <tr>\n      <td>glyc-R[e]</td>\n      <td>EX_glyc_R(e)</td>\n      <td>-0.05</td>\n      <td>3</td>\n      <td>0.59%</td>\n    </tr>\n    <tr>\n      <td>h[e]</td>\n      <td>EX_h(e)</td>\n      <td>-8.355</td>\n      <td>0</td>\n      <td>0.00%</td>\n    </tr>\n    <tr>\n      <td>lac-D[e]</td>\n      <td>EX_lac_D(e)</td>\n      <td>-8.33</td>\n      <td>3</td>\n      <td>98.81%</td>\n    </tr>\n  </tbody>\n</table>"
     },
     "metadata": {},
     "execution_count": 17
    }
   ],
   "source": [
    "medium_mmcb = list(('polypep','stys','raffin','sucr','n2','thm','ribflv','trp_L',\n",
    "                    'pnto_R','pydxn','btn','b12','na1','cl','k','p1','h','na1','h2o'\n",
    "                    'so4','mg2','ca2','nh4','cys_L','cl','na1','hco3','mn2','zn2','mndnb'))\n",
    "\n",
    "# hco3 turns into water and co2\n",
    "medium_mmcb.remove('hco3')\n",
    "medium_mmcb.append('co2')\n",
    "medium_mmcb.append('h2o')\n",
    "\n",
    "# alt. riboflavin\n",
    "medium_mmcb.append('rbflvrd')\n",
    "\n",
    "# Alternative form of cysteine\n",
    "medium_mmcb.append('Lcyst')\n",
    "\n",
    "# B12 referred to as cbl1,2\n",
    "medium_mmcb.remove('b12')\n",
    "medium_mmcb.append('cbl1')\n",
    "medium_mmcb.append('cbl2')\n",
    "\n",
    "# Glucose in bacteriological peptome\n",
    "medium_mmcb.append('glc')\n",
    "\n",
    "# Phosphate alternative\n",
    "medium_mmcb.remove('p1')\n",
    "medium_mmcb.append('pi')\n",
    "\n",
    "# Remove nitrogen\n",
    "medium_mmcb.remove('n2')\n",
    "\n",
    "# L-cystine is 2 cysteine molecules\n",
    "medium_mmcb.append('Lcystin')\n",
    "\n",
    "# Fe exchanges\n",
    "medium_mmcb.append('fe2')\n",
    "medium_mmcb.append('fe3')\n",
    "\n",
    "# From the paper Clemence sent; yeast extract components\n",
    "# https://journals.plos.org/plosone/article?id=10.1371/journal.pone.0236890#pone-0236890-t002\n",
    "medium_mmcb.extend(['thr_L','ser_L','gly','glu_L','gln_L','asp_L','asn_L','ala_L','arg_L','arab_L','gam','man','ura','gua','ad'])\n",
    "\n",
    "# Folic acid --> folate\n",
    "medium_mmcb.append('fol')\n",
    "\n",
    "medium_mmcb.append('cu2')\n",
    "\n",
    "# Remove duplicates\n",
    "medium_mmcb = list(set(medium_mmcb))\n",
    "\n",
    "\n",
    "\n",
    "medium_mmcb=[mets+\"(e)\" for mets in medium_mmcb]\n",
    "model_mmcb=medium(model.copy(), medium_mmcb)\n",
    "# for i in range(1,len(model_mmcb.reactions)):\n",
    "#     model_mmcb.reactions[i].upper_bound=1000\n",
    "#     if model_mmcb.reactions[i].lower_bound != 0:\n",
    "#         model_mmcb.reactions[i].lower_bound=-10\n",
    "model_mmcb.objective = {model_mmcb.reactions.get_by_id('Biomass_FP'): 1}\n",
    "model_mmcb.summary()\n",
    "\n",
    "# Find list of all metabolites not in media\n",
    "# Express in mmol/g/L\n",
    "# Set as -'ve flux lower bound"
   ]
  },
  {
   "cell_type": "code",
   "execution_count": 18,
   "metadata": {},
   "outputs": [
    {
     "output_type": "execute_result",
     "data": {
      "text/plain": [
       "['EX_mn2(e)',\n",
       " 'EX_h2oso4(e)',\n",
       " 'EX_raffin(e)',\n",
       " 'EX_stys(e)',\n",
       " 'EX_zn2(e)',\n",
       " 'EX_sucr(e)',\n",
       " 'EX_polypep(e)',\n",
       " 'EX_mndnb(e)',\n",
       " 'EX_ad(e)']"
      ]
     },
     "metadata": {},
     "execution_count": 18
    }
   ],
   "source": [
    "# In medium, but not used in exchange reactions\n",
    "exchange_metabs = [model.exchanges[i].id for i in range(0,len(model_mmcb.exchanges))]\n",
    "[metab for metab in medium_mmcb if metab not in exchange_metabs]\n"
   ]
  },
  {
   "cell_type": "code",
   "execution_count": 19,
   "metadata": {},
   "outputs": [],
   "source": [
    "#### Used in exchange reactions, but not present in medium\n",
    "## Just metabolite\n",
    "mmcb_model_medium = [metab for metab in exchange_metabs if metab not in medium_mmcb]\n",
    "\n",
    "## BiGG metabolite name\n",
    "# [raw_metab.lstrip('EX_').rstrip('(e)') for raw_metab in [metab for metab in exchange_metabs if metab not in medium_mmcb]]\n",
    "\n",
    "## BiGG metabolite name with exchange reaction name\n",
    "# [{raw_metab.lstrip('EX_').rstrip('(e)'): model_mmcb.exchanges.get_by_id(raw_metab).name} for raw_metab in [metab for metab in exchange_metabs if metab not in medium_mmcb]]"
   ]
  },
  {
   "cell_type": "code",
   "execution_count": 124,
   "metadata": {},
   "outputs": [],
   "source": [
    "root_model = model.copy()\n",
    "current_medium = [metab.lstrip('EX_') for metab in list(root_model.medium.keys())]\n",
    "\n",
    "def growth_stoppers(model, metabolites):\n",
    "    results = {}\n",
    "    for metabolite in metabolites:\n",
    "        metabolites.remove(metabolite.lstrip('EX_'))\n",
    "        test_model = medium(model, metabolites)\n",
    "        results[metabolite.lstrip('EX_')] = test_model.slim_optimize()\n",
    "        metabolites = [metab.lstrip(\"EX_\") for metab in metabolites]\n",
    "        metabolites.append(metabolite.lstrip('EX_'))\n",
    "\n",
    "    import pandas as pd\n",
    "    results_df = pd.DataFrame(results.items(), columns=[\"metab\",\"growth\"]).sort_values('growth', ascending=False)\n",
    "\n",
    "    return results_df\n",
    "\n",
    "growth_check_df = growth_stoppers(root_model, current_medium)\n",
    "\n",
    "# Don't take these out of the medium if you can help it:\n",
    "mandatory = growth_check_df[growth_check_df['growth'] <= 10]"
   ]
  },
  {
   "cell_type": "code",
   "execution_count": 21,
   "metadata": {},
   "outputs": [
    {
     "output_type": "execute_result",
     "data": {
      "text/plain": [
       "<cobra.summary.model_summary.ModelSummary at 0x7fac84484a00>"
      ],
      "text/html": "<h3>Objective</h3><p>1.0 Biomass_FP = 10.770577754255694</p><h4>Uptake</h4><table border=\"1\" class=\"dataframe\">\n  <thead>\n    <tr style=\"text-align: right;\">\n      <th>Metabolite</th>\n      <th>Reaction</th>\n      <th>Flux</th>\n      <th>C-Number</th>\n      <th>C-Flux</th>\n    </tr>\n  </thead>\n  <tbody>\n    <tr>\n      <td>Lcystin[e]</td>\n      <td>EX_Lcystin(e)</td>\n      <td>0.5397</td>\n      <td>6</td>\n      <td>0.12%</td>\n    </tr>\n    <tr>\n      <td>ade[e]</td>\n      <td>EX_ade(e)</td>\n      <td>2.388</td>\n      <td>5</td>\n      <td>0.43%</td>\n    </tr>\n    <tr>\n      <td>ala-L[e]</td>\n      <td>EX_ala_L(e)</td>\n      <td>0.9579</td>\n      <td>3</td>\n      <td>0.10%</td>\n    </tr>\n    <tr>\n      <td>alaala[e]</td>\n      <td>EX_alaala(e)</td>\n      <td>0.996</td>\n      <td>6</td>\n      <td>0.21%</td>\n    </tr>\n    <tr>\n      <td>alagln[e]</td>\n      <td>EX_alagln(e)</td>\n      <td>2.757</td>\n      <td>8</td>\n      <td>0.79%</td>\n    </tr>\n    <tr>\n      <td>alahis[e]</td>\n      <td>EX_alahis(e)</td>\n      <td>0.9976</td>\n      <td>9</td>\n      <td>0.32%</td>\n    </tr>\n    <tr>\n      <td>arg-L[e]</td>\n      <td>EX_arg_L(e)</td>\n      <td>3.105</td>\n      <td>6</td>\n      <td>0.66%</td>\n    </tr>\n    <tr>\n      <td>asn-L[e]</td>\n      <td>EX_asn_L(e)</td>\n      <td>5.178</td>\n      <td>4</td>\n      <td>0.74%</td>\n    </tr>\n    <tr>\n      <td>asp-L[e]</td>\n      <td>EX_asp_L(e)</td>\n      <td>0.8733</td>\n      <td>4</td>\n      <td>0.12%</td>\n    </tr>\n    <tr>\n      <td>btn[e]</td>\n      <td>EX_btn(e)</td>\n      <td>0.06056</td>\n      <td>10</td>\n      <td>0.02%</td>\n    </tr>\n    <tr>\n      <td>ca2[e]</td>\n      <td>EX_ca2(e)</td>\n      <td>0.06056</td>\n      <td>0</td>\n      <td>0.00%</td>\n    </tr>\n    <tr>\n      <td>cbl1[e]</td>\n      <td>EX_cbl1(e)</td>\n      <td>0.06056</td>\n      <td>62</td>\n      <td>0.13%</td>\n    </tr>\n    <tr>\n      <td>cellb[e]</td>\n      <td>EX_cellb(e)</td>\n      <td>10</td>\n      <td>12</td>\n      <td>4.28%</td>\n    </tr>\n    <tr>\n      <td>cl[e]</td>\n      <td>EX_cl(e)</td>\n      <td>0.06056</td>\n      <td>0</td>\n      <td>0.00%</td>\n    </tr>\n    <tr>\n      <td>cobalt2[e]</td>\n      <td>EX_cobalt2(e)</td>\n      <td>0.06056</td>\n      <td>0</td>\n      <td>0.00%</td>\n    </tr>\n    <tr>\n      <td>cu2[e]</td>\n      <td>EX_cu2(e)</td>\n      <td>0.06056</td>\n      <td>0</td>\n      <td>0.00%</td>\n    </tr>\n    <tr>\n      <td>fe2[e]</td>\n      <td>EX_fe2(e)</td>\n      <td>0.06056</td>\n      <td>0</td>\n      <td>0.00%</td>\n    </tr>\n    <tr>\n      <td>fe3[e]</td>\n      <td>EX_fe3(e)</td>\n      <td>0.06056</td>\n      <td>0</td>\n      <td>0.00%</td>\n    </tr>\n    <tr>\n      <td>fol[e]</td>\n      <td>EX_fol(e)</td>\n      <td>0.1817</td>\n      <td>19</td>\n      <td>0.12%</td>\n    </tr>\n    <tr>\n      <td>galur[e]</td>\n      <td>EX_galur(e)</td>\n      <td>10</td>\n      <td>6</td>\n      <td>2.14%</td>\n    </tr>\n    <tr>\n      <td>gam[e]</td>\n      <td>EX_gam(e)</td>\n      <td>10</td>\n      <td>6</td>\n      <td>2.14%</td>\n    </tr>\n    <tr>\n      <td>glc-D[e]</td>\n      <td>EX_glc(e)</td>\n      <td>10</td>\n      <td>6</td>\n      <td>2.14%</td>\n    </tr>\n    <tr>\n      <td>glcur[e]</td>\n      <td>EX_glcur(e)</td>\n      <td>10</td>\n      <td>6</td>\n      <td>2.14%</td>\n    </tr>\n    <tr>\n      <td>glu-L[e]</td>\n      <td>EX_glu_L(e)</td>\n      <td>3.753</td>\n      <td>5</td>\n      <td>0.67%</td>\n    </tr>\n    <tr>\n      <td>gly[e]</td>\n      <td>EX_gly(e)</td>\n      <td>6.103</td>\n      <td>2</td>\n      <td>0.44%</td>\n    </tr>\n    <tr>\n      <td>glyc3p[e]</td>\n      <td>EX_glyc3p(e)</td>\n      <td>10</td>\n      <td>3</td>\n      <td>1.07%</td>\n    </tr>\n    <tr>\n      <td>gua[e]</td>\n      <td>EX_gua(e)</td>\n      <td>2.505</td>\n      <td>5</td>\n      <td>0.45%</td>\n    </tr>\n    <tr>\n      <td>h2o[e]</td>\n      <td>EX_h2o(e)</td>\n      <td>10</td>\n      <td>0</td>\n      <td>0.00%</td>\n    </tr>\n    <tr>\n      <td>k[e]</td>\n      <td>EX_k(e)</td>\n      <td>0.06056</td>\n      <td>0</td>\n      <td>0.00%</td>\n    </tr>\n    <tr>\n      <td>leuleu[e]</td>\n      <td>EX_leuleu(e)</td>\n      <td>2.362</td>\n      <td>12</td>\n      <td>1.01%</td>\n    </tr>\n    <tr>\n      <td>lys-L[e]</td>\n      <td>EX_lys_L(e)</td>\n      <td>3.593</td>\n      <td>6</td>\n      <td>0.77%</td>\n    </tr>\n    <tr>\n      <td>metala[e]</td>\n      <td>EX_metala(e)</td>\n      <td>1.669</td>\n      <td>8</td>\n      <td>0.48%</td>\n    </tr>\n    <tr>\n      <td>mg2[e]</td>\n      <td>EX_mg2(e)</td>\n      <td>0.06056</td>\n      <td>0</td>\n      <td>0.00%</td>\n    </tr>\n    <tr>\n      <td>na1[e]</td>\n      <td>EX_na1(e)</td>\n      <td>10</td>\n      <td>0</td>\n      <td>0.00%</td>\n    </tr>\n    <tr>\n      <td>nac[e]</td>\n      <td>EX_nac(e)</td>\n      <td>0.1211</td>\n      <td>6</td>\n      <td>0.03%</td>\n    </tr>\n    <tr>\n      <td>pect[e]</td>\n      <td>EX_pect(e)</td>\n      <td>0.7751</td>\n      <td>2535</td>\n      <td>70.07%</td>\n    </tr>\n    <tr>\n      <td>pi[e]</td>\n      <td>EX_pi(e)</td>\n      <td>10</td>\n      <td>0</td>\n      <td>0.00%</td>\n    </tr>\n    <tr>\n      <td>pnto-R[e]</td>\n      <td>EX_pnto_R(e)</td>\n      <td>0.1211</td>\n      <td>9</td>\n      <td>0.04%</td>\n    </tr>\n    <tr>\n      <td>pro-L[e]</td>\n      <td>EX_pro_L(e)</td>\n      <td>2.32</td>\n      <td>5</td>\n      <td>0.41%</td>\n    </tr>\n    <tr>\n      <td>pydx[e]</td>\n      <td>EX_pydx(e)</td>\n      <td>0.06056</td>\n      <td>8</td>\n      <td>0.02%</td>\n    </tr>\n    <tr>\n      <td>ribflv[e]</td>\n      <td>EX_ribflv(e)</td>\n      <td>10</td>\n      <td>17</td>\n      <td>6.06%</td>\n    </tr>\n    <tr>\n      <td>ser-L[e]</td>\n      <td>EX_ser_L(e)</td>\n      <td>2.259</td>\n      <td>3</td>\n      <td>0.24%</td>\n    </tr>\n    <tr>\n      <td>so4[e]</td>\n      <td>EX_so4(e)</td>\n      <td>0.06056</td>\n      <td>0</td>\n      <td>0.00%</td>\n    </tr>\n    <tr>\n      <td>thm[e]</td>\n      <td>EX_thm(e)</td>\n      <td>0.06056</td>\n      <td>12</td>\n      <td>0.03%</td>\n    </tr>\n    <tr>\n      <td>thr-L[e]</td>\n      <td>EX_thr_L(e)</td>\n      <td>6.013</td>\n      <td>4</td>\n      <td>0.86%</td>\n    </tr>\n    <tr>\n      <td>trp-L[e]</td>\n      <td>EX_trp_L(e)</td>\n      <td>0.5941</td>\n      <td>11</td>\n      <td>0.23%</td>\n    </tr>\n    <tr>\n      <td>ura[e]</td>\n      <td>EX_ura(e)</td>\n      <td>3.658</td>\n      <td>4</td>\n      <td>0.52%</td>\n    </tr>\n    <tr>\n      <td>hpyr[c]</td>\n      <td>sink_hpyr</td>\n      <td>0.05</td>\n      <td>3</td>\n      <td>0.01%</td>\n    </tr>\n  </tbody>\n</table><h4>Secretion</h4><table border=\"1\" class=\"dataframe\">\n  <thead>\n    <tr style=\"text-align: right;\">\n      <th>Metabolite</th>\n      <th>Reaction</th>\n      <th>Flux</th>\n      <th>C-Number</th>\n      <th>C-Flux</th>\n    </tr>\n  </thead>\n  <tbody>\n    <tr>\n      <td>na1[c]</td>\n      <td>DM_NA1</td>\n      <td>-10</td>\n      <td>0</td>\n      <td>0.00%</td>\n    </tr>\n    <tr>\n      <td>ac[e]</td>\n      <td>EX_ac(e)</td>\n      <td>-285.8</td>\n      <td>2</td>\n      <td>26.90%</td>\n    </tr>\n    <tr>\n      <td>but[e]</td>\n      <td>EX_but(e)</td>\n      <td>-40.42</td>\n      <td>4</td>\n      <td>7.61%</td>\n    </tr>\n    <tr>\n      <td>co2[e]</td>\n      <td>EX_co2(e)</td>\n      <td>-488.3</td>\n      <td>1</td>\n      <td>22.98%</td>\n    </tr>\n    <tr>\n      <td>glyc-R[e]</td>\n      <td>EX_glyc_R(e)</td>\n      <td>-0.05</td>\n      <td>3</td>\n      <td>0.01%</td>\n    </tr>\n    <tr>\n      <td>h[e]</td>\n      <td>EX_h(e)</td>\n      <td>-184.2</td>\n      <td>0</td>\n      <td>0.00%</td>\n    </tr>\n    <tr>\n      <td>lac-D[e]</td>\n      <td>EX_lac_D(e)</td>\n      <td>-179.9</td>\n      <td>3</td>\n      <td>25.39%</td>\n    </tr>\n    <tr>\n      <td>meoh[e]</td>\n      <td>EX_meoh(e)</td>\n      <td>-151.1</td>\n      <td>1</td>\n      <td>7.11%</td>\n    </tr>\n    <tr>\n      <td>plac[e]</td>\n      <td>EX_plac(e)</td>\n      <td>-4.963</td>\n      <td>9</td>\n      <td>2.10%</td>\n    </tr>\n    <tr>\n      <td>rbflvrd[e]</td>\n      <td>EX_rbflvrd(e)</td>\n      <td>-9.879</td>\n      <td>17</td>\n      <td>7.90%</td>\n    </tr>\n  </tbody>\n</table>"
     },
     "metadata": {},
     "execution_count": 21
    }
   ],
   "source": [
    "additional_metabs = [metab for metab in current_medium if metab not in medium_mmcb]\n",
    "additional_metabs.remove('EX_4abz(e)')\n",
    "additional_metabs.remove('EX_5oxpro(e)')\n",
    "additional_metabs.remove('EX_ac(e)')\n",
    "additional_metabs.remove('EX_acasp(e)')\n",
    "additional_metabs.remove('EX_acgal(e)')\n",
    "additional_metabs.remove('EX_acgalglcur(e)')\n",
    "additional_metabs.remove('EX_acgam(e)')\n",
    "additional_metabs.remove('EX_acglu(e)')\n",
    "additional_metabs.remove('EX_acnam(e)')\n",
    "additional_metabs.remove('EX_adocbl(e)')\n",
    "# additional_metabs.remove('EX_ala_D(e)')\n",
    "# additional_metabs.remove('EX_alaala(e)')\n",
    "# additional_metabs.remove('EX_alaasp(e)')\n",
    "# additional_metabs.remove('EX_alagln(e)')\n",
    "# additional_metabs.remove('EX_alaglu(e)')\n",
    "# additional_metabs.remove('EX_alagly(e)')\n",
    "# additional_metabs.remove('EX_alahis(e)')\n",
    "# additional_metabs.remove('EX_alaleu(e)')\n",
    "# additional_metabs.remove('EX_alathr(e)')\n",
    "additional_metabs.remove('EX_aso3(e)')\n",
    "additional_metabs.remove('EX_aso4(e)')\n",
    "additional_metabs.remove('EX_but(e)')\n",
    "additional_metabs.remove('EX_butso3(e)')\n",
    "additional_metabs.remove('EX_cd2(e)')\n",
    "# additional_metabs.remove('EX_cellb(e)')\n",
    "# additional_metabs.remove('EX_cgly(e)')\n",
    "additional_metabs.remove('EX_cit(e)')\n",
    "# additional_metabs.remove('EX_cobalt2(e)') #\n",
    "additional_metabs.remove('EX_cps_fp(e)')\n",
    "additional_metabs.remove('EX_dhor_S(e)')\n",
    "additional_metabs.remove('EX_ethso3(e)')\n",
    "additional_metabs.remove('EX_fe3dcit(e)')\n",
    "additional_metabs.remove('EX_for(e)')\n",
    "additional_metabs.remove('EX_fru(e)')\n",
    "additional_metabs.remove('EX_fum(e)')\n",
    "# additional_metabs.remove('EX_gal(e)')\n",
    "# additional_metabs.remove('EX_galur(e)')\n",
    "# additional_metabs.remove('EX_glcur(e)')\n",
    "# additional_metabs.remove('EX_glyasn(e)')\n",
    "# additional_metabs.remove('EX_glyasp(e)')\n",
    "# additional_metabs.remove('EX_glyc3p(e)')\n",
    "# additional_metabs.remove('EX_glyc_R(e)')\n",
    "# additional_metabs.remove('EX_glygln(e)')\n",
    "# additional_metabs.remove('EX_glyglu(e)')\n",
    "# additional_metabs.remove('EX_glygly(e)')\n",
    "# additional_metabs.remove('EX_glyleu(e)')\n",
    "# additional_metabs.remove('EX_glymet(e)')\n",
    "# additional_metabs.remove('EX_glyphe(e)')\n",
    "# additional_metabs.remove('EX_glypro(e)')\n",
    "# additional_metabs.remove('EX_glytyr(e)')\n",
    "additional_metabs.remove('EX_gthox(e)')\n",
    "additional_metabs.remove('EX_gthrd(e)')\n",
    "# additional_metabs.remove('EX_h2s(e)')\n",
    "additional_metabs.remove('EX_hg2(e)')\n",
    "additional_metabs.remove('EX_his_L(e)')\n",
    "additional_metabs.remove('EX_hxan(e)')\n",
    "# additional_metabs.remove('EX_ile_L(e)')\n",
    "additional_metabs.remove('EX_ins(e)')\n",
    "additional_metabs.remove('EX_inulin(e)')\n",
    "additional_metabs.remove('EX_isetac(e)')\n",
    "additional_metabs.remove('EX_kesto(e)')\n",
    "additional_metabs.remove('EX_kestopt(e)')\n",
    "additional_metabs.remove('EX_kestottr(e)')\n",
    "# additional_metabs.remove('EX_lac_D(e)')\n",
    "# additional_metabs.remove('EX_lcts(e)')\n",
    "# additional_metabs.remove('EX_leu_L(e)')\n",
    "# additional_metabs.remove('EX_leugly(e)')\n",
    "# additional_metabs.remove('EX_leuleu(e)')\n",
    "# additional_metabs.remove('EX_lys_L(e)')\n",
    "additional_metabs.remove('EX_mal_L(e)')\n",
    "# additional_metabs.remove('EX_malt(e)')\n",
    "# additional_metabs.remove('EX_meoh(e)')\n",
    "# additional_metabs.remove('EX_met_D(e)')\n",
    "# additional_metabs.remove('EX_met_L(e)')\n",
    "# additional_metabs.remove('EX_metala(e)')\n",
    "# additional_metabs.remove('EX_metsox_R_L(e)')\n",
    "# additional_metabs.remove('EX_metsox_S_L(e)')\n",
    "additional_metabs.remove('EX_mobd(e)')\n",
    "additional_metabs.remove('EX_mso3(e)')\n",
    "# additional_metabs.remove('EX_nac(e)')\n",
    "additional_metabs.remove('EX_ncam(e)')\n",
    "additional_metabs.remove('EX_o2(e)')\n",
    "# additional_metabs.remove('EX_orn(e)')\n",
    "# additional_metabs.remove('EX_orot(e)')\n",
    "# additional_metabs.remove('EX_pb(e)')\n",
    "# additional_metabs.remove('EX_pect(e)') ###\n",
    "# additional_metabs.remove('EX_phe_L(e)')\n",
    "additional_metabs.remove('EX_plac(e)')\n",
    "# additional_metabs.remove('EX_pro_L(e)')\n",
    "# additional_metabs.remove('EX_progly(e)')\n",
    "additional_metabs.remove('EX_ptrc(e)')\n",
    "# additional_metabs.remove('EX_pydam(e)')\n",
    "# additional_metabs.remove('EX_pydx(e)')\n",
    "additional_metabs.remove('EX_seln(e)')\n",
    "# additional_metabs.remove('EX_so4(e)')\n",
    "additional_metabs.remove('EX_spmd(e)')\n",
    "# additional_metabs.remove('EX_strch1(e)')\n",
    "additional_metabs.remove('EX_succ(e)')\n",
    "additional_metabs.remove('EX_sulfac(e)')\n",
    "# additional_metabs.remove('EX_taur(e)')\n",
    "additional_metabs.remove('EX_thymd(e)')\n",
    "# additional_metabs.remove('EX_tyr_L(e)')\n",
    "additional_metabs.remove('EX_urate(e)')\n",
    "additional_metabs.remove('EX_urea(e)')\n",
    "# additional_metabs.remove('EX_val_L(e)')\n",
    "additional_metabs.remove('EX_xan(e)')\n",
    "additional_metabs.remove('EX_xyl_D(e)')\n",
    "new_medium = [metab.lstrip('EX_') for metab in medium_mmcb + additional_metabs]\n",
    "final_model = model.copy()\n",
    "final_test_model = medium(final_model, new_medium)\n",
    "final_test_model.summary()"
   ]
  },
  {
   "cell_type": "code",
   "execution_count": 22,
   "metadata": {},
   "outputs": [],
   "source": [
    "x=[final_test_model.reactions.get_by_id(compound_id).name for compound_id in final_model.medium]\n",
    "x=[compound.rstrip('(e)').rstrip(\"exchange\").lstrip(\"EX_\") for compound in x]\n",
    "# x=[compoundname.replace(\"exchange\", \"\").strip() for compoundname in x]\n",
    "\";\".join(x)\n",
    "\n",
    "url = \"http://api.xialab.ca/mapcompounds\"\n",
    "\n",
    "payload = \"{\\n\\t\\\"queryList\\\": \\\"%s;\\\",\\n\\t\\\"inputType\\\": \\\"name\\\"\\n}\" %\";\".join(x)\n",
    "headers = {\n",
    "    'Content-Type': \"application/json\",\n",
    "    'cache-control': \"no-cache\",\n",
    "    }\n",
    "\n",
    "response = requests.request(\"POST\", url, data=payload, headers=headers)\n",
    "\n",
    "dict=json.loads(response.text)\n",
    "mapped_compounds=pd.DataFrame(dict)\n",
    "\n",
    "mol_weight=[]\n",
    "for i in mapped_compounds[\"chebi_id\"]:\n",
    "    try:\n",
    "        x= ChebiEntity(str(i))\n",
    "        mol_weight.append(x.get_mass())\n",
    "    except:\n",
    "        mol_weight.append(\"NA\")\n",
    "        continue\n",
    "\n",
    "mapped_compounds[\"mol_weight\"]=mol_weight\n",
    "mapped_compounds[\"BiGG_ID\"]=[final_test_model.reactions.get_by_id(compound_id).id[3:] for compound_id in final_test_model.medium]\n",
    "weights=mapped_compounds[[\"query\", \"BiGG_ID\", \"hit\", \"mol_weight\"]]\n",
    "# weight: g/mol\n",
    "# flux: mmol/g/hr"
   ]
  },
  {
   "source": [
    "| Component                            | Concentration (g/L) | BiGG Metabolites                                |\n",
    "|--------------------------------------|---------------------|-------------------------------------------------|\n",
    "| Bacteriological Peptome              | 6.5                 | polypep, n2                                     |\n",
    "| Soy Peptome                          | 5.0                 | stys, raffin, sucr, n2                          |\n",
    "| Yeast Extract                        | 3.0                 | thm, ribflv, trp\\__L, pnto\\__R, pydxn, btn, b12 |\n",
    "| Tryptone                             | 2.5                 | trp\\__L                                         |\n",
    "| NaCL                                 | 1.5                 | na1, cl                                         |\n",
    "| K<sub>2</sub>PO<sub>4</sub>          | 1.0                 | k, p1, h2                                       |\n",
    "| KH<sub>2</sub>PO<sub>4</sub>         | 1.0                 | k, p1, h2                                       |\n",
    "| Na<sub>2</sub>SO<sub>4</sub>         | 2.0                 | na1, so4                                        |\n",
    "| Mg<sub>2</sub>SO<sub>4</sub>         | 1.0                 | mg2, so4                                        |\n",
    "| CaCl<sub>2</sub>*2H<sub>2</sub>O     | 0.1                 | ca2, cl                                         |\n",
    "| NH<sub>4</sub>Cl                     | 1.0                 | nh4, cl                                         |\n",
    "| Cysteine-HCL                         | 0.4                 | cys__L, h2, cl                                  |\n",
    "| NaHCO<sub>3</sub>                    | 0.2                 | na1, hco3                                       |\n",
    "| MnSO<sub>4</sub>*H<sub>2</sub>O      | 0.05                | mn2, so4                                        |\n",
    "| FeSOMnSO<sub>4</sub>*7H<sub>2</sub>O | 0.005               | fe, so4                                         |\n",
    "| ZnSO<sub>4</sub>*7H<sub>2</sub>O     | 0.005               | zn2, so4                                        |\n",
    "| Hemin                                | 0.005               |                                                 |\n",
    "| Menadione                            | 0.005               | mndn                                            |\n",
    "| Resazurin                            | 0.001               |                                                 |"
   ],
   "cell_type": "markdown",
   "metadata": {}
  },
  {
   "cell_type": "code",
   "execution_count": 23,
   "metadata": {},
   "outputs": [
    {
     "output_type": "execute_result",
     "data": {
      "text/plain": [
       "                                                query    BiGG_ID hit mol_weight\n",
       "29                                                Fe3     fe3(e)             NA\n",
       "45                  exchange reaction for glycylglyci  glygly(e)             NA\n",
       "48             exchange reaction for glycylphenylalai  glyphe(e)             NA\n",
       "60                  exchange reaction for leucylglyci  leugly(e)             NA\n",
       "78                      exchange reaction for pectins    pect(e)             NA\n",
       "91  starch, structure 1 (1,6-{7[1,4-Glc], 4[1,4-Gl...  strch1(e)             NA"
      ],
      "text/html": "<div>\n<style scoped>\n    .dataframe tbody tr th:only-of-type {\n        vertical-align: middle;\n    }\n\n    .dataframe tbody tr th {\n        vertical-align: top;\n    }\n\n    .dataframe thead th {\n        text-align: right;\n    }\n</style>\n<table border=\"1\" class=\"dataframe\">\n  <thead>\n    <tr style=\"text-align: right;\">\n      <th></th>\n      <th>query</th>\n      <th>BiGG_ID</th>\n      <th>hit</th>\n      <th>mol_weight</th>\n    </tr>\n  </thead>\n  <tbody>\n    <tr>\n      <th>29</th>\n      <td>Fe3</td>\n      <td>fe3(e)</td>\n      <td></td>\n      <td>NA</td>\n    </tr>\n    <tr>\n      <th>45</th>\n      <td>exchange reaction for glycylglyci</td>\n      <td>glygly(e)</td>\n      <td></td>\n      <td>NA</td>\n    </tr>\n    <tr>\n      <th>48</th>\n      <td>exchange reaction for glycylphenylalai</td>\n      <td>glyphe(e)</td>\n      <td></td>\n      <td>NA</td>\n    </tr>\n    <tr>\n      <th>60</th>\n      <td>exchange reaction for leucylglyci</td>\n      <td>leugly(e)</td>\n      <td></td>\n      <td>NA</td>\n    </tr>\n    <tr>\n      <th>78</th>\n      <td>exchange reaction for pectins</td>\n      <td>pect(e)</td>\n      <td></td>\n      <td>NA</td>\n    </tr>\n    <tr>\n      <th>91</th>\n      <td>starch, structure 1 (1,6-{7[1,4-Glc], 4[1,4-Gl...</td>\n      <td>strch1(e)</td>\n      <td></td>\n      <td>NA</td>\n    </tr>\n  </tbody>\n</table>\n</div>"
     },
     "metadata": {},
     "execution_count": 23
    }
   ],
   "source": [
    "import ssl\n",
    "ssl._create_default_https_context = ssl._create_unverified_context\n",
    "for metab in weights.loc[weights['mol_weight'] == 'NA', 'query']:\n",
    "    try:\n",
    "        cid = pcp.get_synonyms(metab, 'name')[0]['CID']\n",
    "        weights.loc[weights['query'] == metab, 'mol_weight'] = pcp.Compound.from_cid(cid).molecular_weight\n",
    "    except:\n",
    "        pass\n",
    "\n",
    "# Still remaining\n",
    "weights[weights['mol_weight'] == 'NA']"
   ]
  },
  {
   "cell_type": "code",
   "execution_count": 73,
   "metadata": {},
   "outputs": [],
   "source": [
    "weights.loc[weights['BiGG_ID'] == 'fe3(e)', 'mol_weight'] = 55.85\n",
    "weights.loc[weights['BiGG_ID'] == 'glygly(e)', 'mol_weight'] = 75.07*2\n",
    "weights.loc[weights['BiGG_ID'] == 'glyphe(e)', 'mol_weight'] = 75.07+165.19\n",
    "weights.loc[weights['BiGG_ID'] == 'leugly(e)', 'mol_weight'] = 75.07+131.17\n",
    "weights.loc[weights['BiGG_ID'] == 'pect(e)', 'mol_weight'] = 194.14\n",
    "weights.loc[weights['BiGG_ID'] == 'strch1(e)', 'mol_weight'] = 359.33\n",
    "# Cobalt was Co2 somehow???\n",
    "weights.loc[weights['BiGG_ID'] == 'cobalt2(e)', 'mol_weight'] = 129.839\n"
   ]
  },
  {
   "cell_type": "code",
   "execution_count": 60,
   "metadata": {},
   "outputs": [
    {
     "output_type": "execute_result",
     "data": {
      "text/plain": [
       "  BiGG_ID  conc_ppm_Bact_Peptone_L37  conc_ppm_Proteose_Peptone_L85  conc_ppm_soya_peptone_L44  conc_ppm_yeast_extract\n",
       "0  ca2(e)                      635.0                          200.0                      225.0                   155.0\n",
       "1   cl(e)                    10000.0                        80000.0                     4000.0                  3000.0\n",
       "2  cu2(e)                        1.0                           10.0                        2.0                     2.0\n",
       "3  fe2(e)                       11.0                           21.0                       45.0                    26.0\n",
       "4  fe3(e)                       11.0                           21.0                       45.0                    26.0"
      ],
      "text/html": "<div>\n<style scoped>\n    .dataframe tbody tr th:only-of-type {\n        vertical-align: middle;\n    }\n\n    .dataframe tbody tr th {\n        vertical-align: top;\n    }\n\n    .dataframe thead th {\n        text-align: right;\n    }\n</style>\n<table border=\"1\" class=\"dataframe\">\n  <thead>\n    <tr style=\"text-align: right;\">\n      <th></th>\n      <th>BiGG_ID</th>\n      <th>conc_ppm_Bact_Peptone_L37</th>\n      <th>conc_ppm_Proteose_Peptone_L85</th>\n      <th>conc_ppm_soya_peptone_L44</th>\n      <th>conc_ppm_yeast_extract</th>\n    </tr>\n  </thead>\n  <tbody>\n    <tr>\n      <th>0</th>\n      <td>ca2(e)</td>\n      <td>635.0</td>\n      <td>200.0</td>\n      <td>225.0</td>\n      <td>155.0</td>\n    </tr>\n    <tr>\n      <th>1</th>\n      <td>cl(e)</td>\n      <td>10000.0</td>\n      <td>80000.0</td>\n      <td>4000.0</td>\n      <td>3000.0</td>\n    </tr>\n    <tr>\n      <th>2</th>\n      <td>cu2(e)</td>\n      <td>1.0</td>\n      <td>10.0</td>\n      <td>2.0</td>\n      <td>2.0</td>\n    </tr>\n    <tr>\n      <th>3</th>\n      <td>fe2(e)</td>\n      <td>11.0</td>\n      <td>21.0</td>\n      <td>45.0</td>\n      <td>26.0</td>\n    </tr>\n    <tr>\n      <th>4</th>\n      <td>fe3(e)</td>\n      <td>11.0</td>\n      <td>21.0</td>\n      <td>45.0</td>\n      <td>26.0</td>\n    </tr>\n  </tbody>\n</table>\n</div>"
     },
     "metadata": {},
     "execution_count": 60
    }
   ],
   "source": [
    "#ppm =mg/L =0.001 g/L\n",
    "\n",
    "Traces_BiGG_ID=[\"ca2(e)\" , \"cl(e)\", \"cu2(e)\", \"fe2(e)\", \"fe3(e)\", \"k(e)\",  \"mg2(e)\", \"na1(e)\",\"pb(e)\"]\n",
    "conc_ppm_Bact_Peptone_L37=[635, 1*10*1000, 1, 22/2, 22/2, 3.6*10*1000, 265, 1*10*1000, 0.4]\n",
    "conc_ppm_Proteose_Peptone_L85=[200, 8*10*1000, 10, 42/2, 42/2, 1.4*10*1000, 340, 8*10*1000, 0.1]\n",
    "conc_ppm_soya_peptone_L44=[225,0.4*10*1000, 2,90/2,90/2, 3.3*10*1000, 1530, 0.4*10*1000, 0.3]\n",
    "conc_ppm_yeast_extract=[155,0.3*10*1000, 2,52/2,52/2, 7.3*10*1000, 1530, 0.3*10*1000, 0.7]\n",
    "#http://www.oxoid.com/UK/blue/prod_detail/prod_detail.asp?pr=LP0037&c=UK&lang=EN&minfo=Y\n",
    "\n",
    "Traces=pd.DataFrame({\"BiGG_ID\": Traces_BiGG_ID, \n",
    "                    \"conc_ppm_Bact_Peptone_L37\":conc_ppm_Bact_Peptone_L37, \n",
    "                    \"conc_ppm_Proteose_Peptone_L85\":conc_ppm_Proteose_Peptone_L85,\n",
    "                    \"conc_ppm_soya_peptone_L44\":conc_ppm_soya_peptone_L44, \n",
    "                    \"conc_ppm_yeast_extract\":conc_ppm_yeast_extract })\n",
    "Traces.head()"
   ]
  },
  {
   "cell_type": "code",
   "execution_count": 61,
   "metadata": {},
   "outputs": [
    {
     "output_type": "execute_result",
     "data": {
      "text/plain": [
       "    BiGG_ID  conc_ppm_Bact_Peptone_L37  conc_ppm_Proteose_Peptone_L85  conc_ppm_soya_peptone_L44  conc_ppm_yeast_extract\n",
       "0  ala_L(e)                    39200.0                        38100.0                    25700.0                  9100.0\n",
       "1  arg_L(e)                    49900.0                        58000.0                    46400.0                 33100.0\n",
       "2  asn_L(e)                        0.0                            0.0                        0.0                     0.0\n",
       "3  asp_L(e)                    60600.0                        58500.0                    70600.0                 70700.0\n",
       "4  asx_L(e)                    16600.0                         1500.0                     5300.0                  7600.0"
      ],
      "text/html": "<div>\n<style scoped>\n    .dataframe tbody tr th:only-of-type {\n        vertical-align: middle;\n    }\n\n    .dataframe tbody tr th {\n        vertical-align: top;\n    }\n\n    .dataframe thead th {\n        text-align: right;\n    }\n</style>\n<table border=\"1\" class=\"dataframe\">\n  <thead>\n    <tr style=\"text-align: right;\">\n      <th></th>\n      <th>BiGG_ID</th>\n      <th>conc_ppm_Bact_Peptone_L37</th>\n      <th>conc_ppm_Proteose_Peptone_L85</th>\n      <th>conc_ppm_soya_peptone_L44</th>\n      <th>conc_ppm_yeast_extract</th>\n    </tr>\n  </thead>\n  <tbody>\n    <tr>\n      <th>0</th>\n      <td>ala_L(e)</td>\n      <td>39200.0</td>\n      <td>38100.0</td>\n      <td>25700.0</td>\n      <td>9100.0</td>\n    </tr>\n    <tr>\n      <th>1</th>\n      <td>arg_L(e)</td>\n      <td>49900.0</td>\n      <td>58000.0</td>\n      <td>46400.0</td>\n      <td>33100.0</td>\n    </tr>\n    <tr>\n      <th>2</th>\n      <td>asn_L(e)</td>\n      <td>0.0</td>\n      <td>0.0</td>\n      <td>0.0</td>\n      <td>0.0</td>\n    </tr>\n    <tr>\n      <th>3</th>\n      <td>asp_L(e)</td>\n      <td>60600.0</td>\n      <td>58500.0</td>\n      <td>70600.0</td>\n      <td>70700.0</td>\n    </tr>\n    <tr>\n      <th>4</th>\n      <td>asx_L(e)</td>\n      <td>16600.0</td>\n      <td>1500.0</td>\n      <td>5300.0</td>\n      <td>7600.0</td>\n    </tr>\n  </tbody>\n</table>\n</div>"
     },
     "metadata": {},
     "execution_count": 61
    }
   ],
   "source": [
    "# AA from peptones and yeast extract\n",
    "index_notinPeptones= np.where(np.isin(aa, ['asn_L(e)', 'asx_L(e)','gln_L(e)','glx_L(e)', 'his_L(e)']))\n",
    "aa_BiGG_ID=aa \n",
    "\n",
    "aa_conc_ppm_Bact_Peptone_L37=np.array([3.92,4.99, 6.06, 1.66, 9.93, 7.71, 3.81, 3.79, 4.38, 1.58, 2.60, 5.83, 2.81, 1.25, 0.66, 0.39, 3.33])*10*1000\n",
    "aa_conc_ppm_Bact_Peptone_L37=np.insert(aa_conc_ppm_Bact_Peptone_L37,index_notinPeptones[0], 0)\n",
    "\n",
    "aa_conc_ppm_Proteose_Peptone_L85=np.array([3.81, 5.80, 5.85, 0.15, 13.78, 4.45, 4.58, 6.01, 4.61, 1.08, 4.66, 5.99, 2.18, 2.75, 0.75, 1.77, 4.11])*10*1000\n",
    "aa_conc_ppm_Proteose_Peptone_L85=np.insert(aa_conc_ppm_Proteose_Peptone_L85,index_notinPeptones[0], 0)\n",
    "\n",
    "aa_conc_ppm_soya_peptone_L44=np.array([2.57, 4.64, 7.06, 0.53, 14.71, 2.83, 2.51, 4.31, 3.77, 0.62, 0.38, 3.40, 0.67, 1.68, 0.64, 2.09, 3.65])*10*1000\n",
    "aa_conc_ppm_soya_peptone_L44=np.insert(aa_conc_ppm_soya_peptone_L44,index_notinPeptones[0], 0)\n",
    "\n",
    "aa_conc_Yeast_Extract_L21=np.array([0.91, 3.31, 7.07, 0.76, 13.49, 5.95, 4.81, 6.04, 5.40, 0.80, 3.78, 0.88, 3.42, 2.73, 0.85, 4.95, 1.00 ])*10*1000\n",
    "aa_conc_Yeast_Extract_L21=np.insert(aa_conc_Yeast_Extract_L21,index_notinPeptones[0], 0)\n",
    "\n",
    "AA=pd.DataFrame({\"BiGG_ID\": aa_BiGG_ID, \n",
    "                    \"conc_ppm_Bact_Peptone_L37\":aa_conc_ppm_Bact_Peptone_L37,\n",
    "                    \"conc_ppm_Proteose_Peptone_L85\":aa_conc_ppm_Proteose_Peptone_L85,\n",
    "                    \"conc_ppm_soya_peptone_L44\":aa_conc_ppm_soya_peptone_L44,\n",
    "                    \"conc_ppm_yeast_extract\":aa_conc_Yeast_Extract_L21 })\n",
    "AA.head()"
   ]
  },
  {
   "cell_type": "code",
   "execution_count": 62,
   "metadata": {},
   "outputs": [],
   "source": [
    "all_concentrations = pd.concat([Traces, AA])\n",
    "weights_and_concentrations = weights.merge(all_concentrations, how=\"left\", on=\"BiGG_ID\")"
   ]
  },
  {
   "cell_type": "code",
   "execution_count": 68,
   "metadata": {},
   "outputs": [
    {
     "output_type": "execute_result",
     "data": {
      "text/plain": [
       "0.7676767676767676"
      ]
     },
     "metadata": {},
     "execution_count": 68
    }
   ],
   "source": [
    "weights_and_concentrations['g/L'] = weights_and_concentrations.iloc[:,4:8].sum(axis=1)/1000\n",
    "weights_and_concentrations['mmol/L'] = weights_and_concentrations['g/L']/weights_and_concentrations['mol_weight']"
   ]
  },
  {
   "cell_type": "code",
   "execution_count": 127,
   "metadata": {},
   "outputs": [],
   "source": [
    "# For the sake of time, I'm doing this in excel\n",
    "# Splitting up concentrations into seperate components (ie. )\n",
    "weights_and_concentrations.to_csv('weights_and_concentrations.csv')\n",
    "weights_and_concentrations_edited = pd.read_csv('weights_and_concentrations_edited.csv')\n",
    "weights_and_concentrations_edited['g/L'] = weights_and_concentrations_edited.iloc[:,4:8].sum(axis=1)/1000\n",
    "weights_and_concentrations_edited['mmol/L'] = weights_and_concentrations_edited['g/L']/weights_and_concentrations_edited['mol_weight']"
   ]
  },
  {
   "cell_type": "code",
   "execution_count": 128,
   "metadata": {},
   "outputs": [
    {
     "output_type": "execute_result",
     "data": {
      "text/plain": [
       "        query     BiGG_ID           hit  mol_weight  conc_ppm_Bact_Peptone_L37  conc_ppm_Proteose_Peptone_L85  conc_ppm_soya_peptone_L44  conc_ppm_yeast_extract    g/L    mmol/L\n",
       "0  L-cysteate    Lcyst(e)  Cysteic acid   169.15600                     4150.0                          375.0                     1325.0                  1900.0   7.75  0.045816\n",
       "1   L-Cystine  Lcystin(e)     L-Cystine   240.30256                     4150.0                          375.0                     1325.0                  1900.0   7.75  0.032251\n",
       "2     Adenine      ade(e)       Adenine   135.12690                     1000.0                         1000.0                     1000.0                  1000.0   4.00  0.029602\n",
       "3   D-Alanine    ala_D(e)     D-Alanine    89.09322                     3920.0                         3810.0                     2570.0                   910.0  11.21  0.125823\n",
       "4   L-Alanine    ala_L(e)     L-Alanine    89.09322                     3920.0                         3810.0                     2570.0                   910.0  11.21  0.125823"
      ],
      "text/html": "<div>\n<style scoped>\n    .dataframe tbody tr th:only-of-type {\n        vertical-align: middle;\n    }\n\n    .dataframe tbody tr th {\n        vertical-align: top;\n    }\n\n    .dataframe thead th {\n        text-align: right;\n    }\n</style>\n<table border=\"1\" class=\"dataframe\">\n  <thead>\n    <tr style=\"text-align: right;\">\n      <th></th>\n      <th>query</th>\n      <th>BiGG_ID</th>\n      <th>hit</th>\n      <th>mol_weight</th>\n      <th>conc_ppm_Bact_Peptone_L37</th>\n      <th>conc_ppm_Proteose_Peptone_L85</th>\n      <th>conc_ppm_soya_peptone_L44</th>\n      <th>conc_ppm_yeast_extract</th>\n      <th>g/L</th>\n      <th>mmol/L</th>\n    </tr>\n  </thead>\n  <tbody>\n    <tr>\n      <th>0</th>\n      <td>L-cysteate</td>\n      <td>Lcyst(e)</td>\n      <td>Cysteic acid</td>\n      <td>169.15600</td>\n      <td>4150.0</td>\n      <td>375.0</td>\n      <td>1325.0</td>\n      <td>1900.0</td>\n      <td>7.75</td>\n      <td>0.045816</td>\n    </tr>\n    <tr>\n      <th>1</th>\n      <td>L-Cystine</td>\n      <td>Lcystin(e)</td>\n      <td>L-Cystine</td>\n      <td>240.30256</td>\n      <td>4150.0</td>\n      <td>375.0</td>\n      <td>1325.0</td>\n      <td>1900.0</td>\n      <td>7.75</td>\n      <td>0.032251</td>\n    </tr>\n    <tr>\n      <th>2</th>\n      <td>Adenine</td>\n      <td>ade(e)</td>\n      <td>Adenine</td>\n      <td>135.12690</td>\n      <td>1000.0</td>\n      <td>1000.0</td>\n      <td>1000.0</td>\n      <td>1000.0</td>\n      <td>4.00</td>\n      <td>0.029602</td>\n    </tr>\n    <tr>\n      <th>3</th>\n      <td>D-Alanine</td>\n      <td>ala_D(e)</td>\n      <td>D-Alanine</td>\n      <td>89.09322</td>\n      <td>3920.0</td>\n      <td>3810.0</td>\n      <td>2570.0</td>\n      <td>910.0</td>\n      <td>11.21</td>\n      <td>0.125823</td>\n    </tr>\n    <tr>\n      <th>4</th>\n      <td>L-Alanine</td>\n      <td>ala_L(e)</td>\n      <td>L-Alanine</td>\n      <td>89.09322</td>\n      <td>3920.0</td>\n      <td>3810.0</td>\n      <td>2570.0</td>\n      <td>910.0</td>\n      <td>11.21</td>\n      <td>0.125823</td>\n    </tr>\n  </tbody>\n</table>\n</div>"
     },
     "metadata": {},
     "execution_count": 128
    }
   ],
   "source": [
    "weights_and_concentrations_edited.head()"
   ]
  },
  {
   "cell_type": "code",
   "execution_count": 131,
   "metadata": {},
   "outputs": [
    {
     "output_type": "execute_result",
     "data": {
      "text/plain": [
       "<Solution infeasible at 0x7fac54e5d220>"
      ],
      "text/html": "<strong><em>infeasible</em> solution</strong>"
     },
     "metadata": {},
     "execution_count": 131
    }
   ],
   "source": [
    "final_model_2 = model.copy()\n",
    "\n",
    "for id in [\"EX_\"+metab for metab in list(weights_and_concentrations_edited['BiGG_ID'])]:\n",
    "    final_model_2.reactions.get_by_id(id).upper_bound = 1000\n",
    "    final_model_2.reactions.get_by_id(id).lower_bound = weights_and_concentrations_edited.loc[weights_and_concentrations_edited[\"BiGG_ID\"] == id.lstrip(\"EX_\"), \"mmol/L\"].values*1000\n",
    "final_model_2.objective = {model_mmcb.reactions.get_by_id('Biomass_FP'): 1}\n",
    "final_model_2.optimize()"
   ]
  },
  {
   "cell_type": "code",
   "execution_count": 126,
   "metadata": {},
   "outputs": [
    {
     "output_type": "execute_result",
     "data": {
      "text/plain": [
       "64      glyc3p(e)\n",
       "119         pi(e)\n",
       "110        nac(e)\n",
       "106        mg2(e)\n",
       "87           k(e)\n",
       "141      trp_L(e)\n",
       "43         cu2(e)\n",
       "50         fol(e)\n",
       "126       pydx(e)\n",
       "41     cobalt2(e)\n",
       "32         ca2(e)\n",
       "39          cl(e)\n",
       "131      ser_L(e)\n",
       "132        so4(e)\n",
       "29         btn(e)\n",
       "121     pnto_R(e)\n",
       "Name: metab, dtype: object"
      ]
     },
     "metadata": {},
     "execution_count": 126
    }
   ],
   "source": [
    "mandatory['metab']"
   ]
  },
  {
   "cell_type": "code",
   "execution_count": 27,
   "metadata": {},
   "outputs": [
    {
     "output_type": "stream",
     "name": "stdout",
     "text": [
      "\nActive reaction : 413 which represent 40.097087% of the model\n1.1150549869929224e-28\n"
     ]
    }
   ],
   "source": [
    "# Post-optimization\n",
    "fba_mmcb = model_mmcb.optimize()\n",
    "fluxes_mmcb = deleteNull(fba_mmcb.fluxes)\n",
    "print('\\nActive reaction : %i which represent %f%% of the model' %(len(fluxes_mmcb),len(fluxes_mmcb)/len(model.reactions)*100))\n",
    "print(model_mmcb.objective.value)"
   ]
  },
  {
   "cell_type": "code",
   "execution_count": 28,
   "metadata": {},
   "outputs": [
    {
     "output_type": "execute_result",
     "data": {
      "text/plain": [
       "<Solution 0.000 at 0x7fd1f06b6be0>"
      ],
      "text/html": "<strong><em>Optimal</em> solution with objective value 0.000</strong><br><div>\n<style scoped>\n    .dataframe tbody tr th:only-of-type {\n        vertical-align: middle;\n    }\n\n    .dataframe tbody tr th {\n        vertical-align: top;\n    }\n\n    .dataframe thead th {\n        text-align: right;\n    }\n</style>\n<table border=\"1\" class=\"dataframe\">\n  <thead>\n    <tr style=\"text-align: right;\">\n      <th></th>\n      <th>fluxes</th>\n      <th>reduced_costs</th>\n    </tr>\n  </thead>\n  <tbody>\n    <tr>\n      <th>26DAPLLATi</th>\n      <td>7.558565e-29</td>\n      <td>3.451266e-31</td>\n    </tr>\n    <tr>\n      <th>3HAD100</th>\n      <td>1.183078e-28</td>\n      <td>-2.465190e-32</td>\n    </tr>\n    <tr>\n      <th>3HAD120</th>\n      <td>7.170701e-29</td>\n      <td>0.000000e+00</td>\n    </tr>\n    <tr>\n      <th>3HAD121</th>\n      <td>4.660082e-29</td>\n      <td>0.000000e+00</td>\n    </tr>\n    <tr>\n      <th>3HAD140</th>\n      <td>6.560270e-29</td>\n      <td>-9.860761e-32</td>\n    </tr>\n    <tr>\n      <th>...</th>\n      <td>...</td>\n      <td>...</td>\n    </tr>\n    <tr>\n      <th>XYLt2</th>\n      <td>0.000000e+00</td>\n      <td>7.774584e-30</td>\n    </tr>\n    <tr>\n      <th>YUMPS</th>\n      <td>0.000000e+00</td>\n      <td>-3.298088e-31</td>\n    </tr>\n    <tr>\n      <th>r0502</th>\n      <td>0.000000e+00</td>\n      <td>1.156506e-30</td>\n    </tr>\n    <tr>\n      <th>r0839</th>\n      <td>0.000000e+00</td>\n      <td>6.606442e-15</td>\n    </tr>\n    <tr>\n      <th>sink_hpyr</th>\n      <td>-5.000000e-02</td>\n      <td>7.121719e-29</td>\n    </tr>\n  </tbody>\n</table>\n<p>1030 rows × 2 columns</p>\n</div>"
     },
     "metadata": {},
     "execution_count": 28
    }
   ],
   "source": [
    "model_mmcb.optimize()"
   ]
  },
  {
   "cell_type": "code",
   "execution_count": null,
   "metadata": {},
   "outputs": [],
   "source": []
  }
 ],
 "metadata": {
  "kernelspec": {
   "name": "Python 3.8.2 64-bit",
   "display_name": "Python 3.8.2 64-bit",
   "metadata": {
    "interpreter": {
     "hash": "082e9a3bcad0a290d0001e938aa60b99250c6c2ef33a923c00b70f9826caf4b7"
    }
   }
  },
  "language_info": {
   "codemirror_mode": {
    "name": "ipython",
    "version": 3
   },
   "file_extension": ".py",
   "mimetype": "text/x-python",
   "name": "python",
   "nbconvert_exporter": "python",
   "pygments_lexer": "ipython3",
   "version": "3.8.2-final"
  }
 },
 "nbformat": 4,
 "nbformat_minor": 4
}