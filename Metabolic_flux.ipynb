{
 "cells": [
  {
   "cell_type": "markdown",
   "metadata": {},
   "source": [
    "# Integrated Bioinformatics Project : Flux_Balance_F_Prausnitzii \n",
    "#### Students: Michael Shawn Neilsson, Biancamaria FLorenzi, Prabhat Juyal, Tim Blokker\n",
    "#### Supervisors: Clémence Joseph, Karoline Faust"
   ]
  },
  {
   "cell_type": "code",
   "execution_count": 2,
   "metadata": {},
   "outputs": [],
   "source": [
    "#import packages\n",
    "from functions import * \n",
    "import io\n",
    "import cobra"
   ]
  },
  {
   "cell_type": "code",
   "execution_count": 3,
   "metadata": {},
   "outputs": [],
   "source": [
    "%%capture\n",
    "model = cobra.io.read_sbml_model('Data/f_prausnitzii.xml')"
   ]
  },
  {
   "cell_type": "code",
   "execution_count": 4,
   "metadata": {},
   "outputs": [
    {
     "name": "stdout",
     "output_type": "stream",
     "text": [
      "Metabolites :  833\n",
      "Reactions :  1030\n",
      "Genes :  0\n",
      "Compartments :  {'c': 'Extracellular', 'e': 'Cytosolic'}\n",
      "Objective function : \n",
      " Maximize\n",
      "0 \n",
      "\n"
     ]
    }
   ],
   "source": [
    "info(model)"
   ]
  },
  {
   "cell_type": "code",
   "execution_count": 17,
   "metadata": {},
   "outputs": [],
   "source": [
    "outputmodel= cobra.io.save_json_model(model, \"Data/fprausnitzii.json\")"
   ]
  },
  {
   "cell_type": "code",
   "execution_count": 16,
   "metadata": {
    "collapsed": true,
    "jupyter": {
     "outputs_hidden": true
    }
   },
   "outputs": [
    {
     "data": {
      "text/plain": [
       "{'EX_3mop_LPAREN_e_RPAREN_': 1000.0,\n",
       " 'EX_4abz_LPAREN_e_RPAREN_': 1000.0,\n",
       " 'EX_5oxpro_LPAREN_e_RPAREN_': 1000.0,\n",
       " 'EX_Lcyst_LPAREN_e_RPAREN_': 1000.0,\n",
       " 'EX_Lcystin_LPAREN_e_RPAREN_': 1000.0,\n",
       " 'EX_ac_LPAREN_e_RPAREN_': 1000.0,\n",
       " 'EX_acasp_LPAREN_e_RPAREN_': 1000.0,\n",
       " 'EX_acgal_LPAREN_e_RPAREN_': 1000.0,\n",
       " 'EX_acgalglcur_LPAREN_e_RPAREN_': 1000.0,\n",
       " 'EX_acgam_LPAREN_e_RPAREN_': 1000.0,\n",
       " 'EX_acglu_LPAREN_e_RPAREN_': 1000.0,\n",
       " 'EX_acnam_LPAREN_e_RPAREN_': 1000.0,\n",
       " 'EX_ade_LPAREN_e_RPAREN_': 1000.0,\n",
       " 'EX_adocbl_LPAREN_e_RPAREN_': 1000.0,\n",
       " 'EX_ala_D_LPAREN_e_RPAREN_': 1000.0,\n",
       " 'EX_ala_L_LPAREN_e_RPAREN_': 1000.0,\n",
       " 'EX_alaala_LPAREN_e_RPAREN_': 1000.0,\n",
       " 'EX_alaasp_LPAREN_e_RPAREN_': 1000.0,\n",
       " 'EX_alagln_LPAREN_e_RPAREN_': 1000.0,\n",
       " 'EX_alaglu_LPAREN_e_RPAREN_': 1000.0,\n",
       " 'EX_alagly_LPAREN_e_RPAREN_': 1000.0,\n",
       " 'EX_alahis_LPAREN_e_RPAREN_': 1000.0,\n",
       " 'EX_alaleu_LPAREN_e_RPAREN_': 1000.0,\n",
       " 'EX_alathr_LPAREN_e_RPAREN_': 1000.0,\n",
       " 'EX_arab_L_LPAREN_e_RPAREN_': 1000.0,\n",
       " 'EX_arg_L_LPAREN_e_RPAREN_': 1000.0,\n",
       " 'EX_asn_L_LPAREN_e_RPAREN_': 1000.0,\n",
       " 'EX_aso3_LPAREN_e_RPAREN_': 1000.0,\n",
       " 'EX_aso4_LPAREN_e_RPAREN_': 1000.0,\n",
       " 'EX_asp_L_LPAREN_e_RPAREN_': 1000.0,\n",
       " 'EX_btn_LPAREN_e_RPAREN_': 1000.0,\n",
       " 'EX_but_LPAREN_e_RPAREN_': 1000.0,\n",
       " 'EX_butso3_LPAREN_e_RPAREN_': 1000.0,\n",
       " 'EX_ca2_LPAREN_e_RPAREN_': 1000.0,\n",
       " 'EX_cbl1_LPAREN_e_RPAREN_': 1000.0,\n",
       " 'EX_cbl2_LPAREN_e_RPAREN_': 1000.0,\n",
       " 'EX_cd2_LPAREN_e_RPAREN_': 1000.0,\n",
       " 'EX_cellb_LPAREN_e_RPAREN_': 1000.0,\n",
       " 'EX_cgly_LPAREN_e_RPAREN_': 1000.0,\n",
       " 'EX_cit_LPAREN_e_RPAREN_': 1000.0,\n",
       " 'EX_cl_LPAREN_e_RPAREN_': 1000.0,\n",
       " 'EX_co2_LPAREN_e_RPAREN_': 1000.0,\n",
       " 'EX_cobalt2_LPAREN_e_RPAREN_': 1000.0,\n",
       " 'EX_cps_fp_LPAREN_e_RPAREN_': 1000.0,\n",
       " 'EX_cu2_LPAREN_e_RPAREN_': 1000.0,\n",
       " 'EX_cys_L_LPAREN_e_RPAREN_': 1000.0,\n",
       " 'EX_dhor_S_LPAREN_e_RPAREN_': 1000.0,\n",
       " 'EX_ethso3_LPAREN_e_RPAREN_': 1000.0,\n",
       " 'EX_fe2_LPAREN_e_RPAREN_': 1000.0,\n",
       " 'EX_fe3_LPAREN_e_RPAREN_': 1000.0,\n",
       " 'EX_fe3dcit_LPAREN_e_RPAREN_': 1000.0,\n",
       " 'EX_fol_LPAREN_e_RPAREN_': 1000.0,\n",
       " 'EX_for_LPAREN_e_RPAREN_': 1000.0,\n",
       " 'EX_fru_LPAREN_e_RPAREN_': 1000.0,\n",
       " 'EX_fum_LPAREN_e_RPAREN_': 1000.0,\n",
       " 'EX_gal_LPAREN_e_RPAREN_': 1000.0,\n",
       " 'EX_galur_LPAREN_e_RPAREN_': 1000.0,\n",
       " 'EX_gam_LPAREN_e_RPAREN_': 1000.0,\n",
       " 'EX_glc_LPAREN_e_RPAREN_': 1000.0,\n",
       " 'EX_glcur_LPAREN_e_RPAREN_': 1000.0,\n",
       " 'EX_gln_L_LPAREN_e_RPAREN_': 1000.0,\n",
       " 'EX_glu_L_LPAREN_e_RPAREN_': 1000.0,\n",
       " 'EX_gly_LPAREN_e_RPAREN_': 1000.0,\n",
       " 'EX_glyasn_LPAREN_e_RPAREN_': 1000.0,\n",
       " 'EX_glyasp_LPAREN_e_RPAREN_': 1000.0,\n",
       " 'EX_glyc3p_LPAREN_e_RPAREN_': 1000.0,\n",
       " 'EX_glyc_R_LPAREN_e_RPAREN_': 1000.0,\n",
       " 'EX_glygln_LPAREN_e_RPAREN_': 1000.0,\n",
       " 'EX_glyglu_LPAREN_e_RPAREN_': 1000.0,\n",
       " 'EX_glygly_LPAREN_e_RPAREN_': 1000.0,\n",
       " 'EX_glyleu_LPAREN_e_RPAREN_': 1000.0,\n",
       " 'EX_glymet_LPAREN_e_RPAREN_': 1000.0,\n",
       " 'EX_glyphe_LPAREN_e_RPAREN_': 1000.0,\n",
       " 'EX_glypro_LPAREN_e_RPAREN_': 1000.0,\n",
       " 'EX_glytyr_LPAREN_e_RPAREN_': 1000.0,\n",
       " 'EX_gthox_LPAREN_e_RPAREN_': 1000.0,\n",
       " 'EX_gthrd_LPAREN_e_RPAREN_': 1000.0,\n",
       " 'EX_gua_LPAREN_e_RPAREN_': 1000.0,\n",
       " 'EX_h_LPAREN_e_RPAREN_': 1000.0,\n",
       " 'EX_h2o_LPAREN_e_RPAREN_': 1000.0,\n",
       " 'EX_h2s_LPAREN_e_RPAREN_': 1000.0,\n",
       " 'EX_hg2_LPAREN_e_RPAREN_': 1000.0,\n",
       " 'EX_his_L_LPAREN_e_RPAREN_': 1000.0,\n",
       " 'EX_hxan_LPAREN_e_RPAREN_': 1000.0,\n",
       " 'EX_ile_L_LPAREN_e_RPAREN_': 1000.0,\n",
       " 'EX_ins_LPAREN_e_RPAREN_': 1000.0,\n",
       " 'EX_inulin_LPAREN_e_RPAREN_': 1000.0,\n",
       " 'EX_isetac_LPAREN_e_RPAREN_': 1000.0,\n",
       " 'EX_k_LPAREN_e_RPAREN_': 1000.0,\n",
       " 'EX_kesto_LPAREN_e_RPAREN_': 1000.0,\n",
       " 'EX_kestopt_LPAREN_e_RPAREN_': 1000.0,\n",
       " 'EX_kestottr_LPAREN_e_RPAREN_': 1000.0,\n",
       " 'EX_lac_D_LPAREN_e_RPAREN_': 1000.0,\n",
       " 'EX_lcts_LPAREN_e_RPAREN_': 1000.0,\n",
       " 'EX_leu_L_LPAREN_e_RPAREN_': 1000.0,\n",
       " 'EX_leugly_LPAREN_e_RPAREN_': 1000.0,\n",
       " 'EX_leuleu_LPAREN_e_RPAREN_': 1000.0,\n",
       " 'EX_lys_L_LPAREN_e_RPAREN_': 1000.0,\n",
       " 'EX_mal_L_LPAREN_e_RPAREN_': 1000.0,\n",
       " 'EX_malt_LPAREN_e_RPAREN_': 1000.0,\n",
       " 'EX_man_LPAREN_e_RPAREN_': 1000.0,\n",
       " 'EX_meoh_LPAREN_e_RPAREN_': 1000.0,\n",
       " 'EX_met_D_LPAREN_e_RPAREN_': 1000.0,\n",
       " 'EX_met_L_LPAREN_e_RPAREN_': 1000.0,\n",
       " 'EX_metala_LPAREN_e_RPAREN_': 1000.0,\n",
       " 'EX_metsox_R_L_LPAREN_e_RPAREN_': 1000.0,\n",
       " 'EX_metsox_S_L_LPAREN_e_RPAREN_': 1000.0,\n",
       " 'EX_mg2_LPAREN_e_RPAREN_': 1000.0,\n",
       " 'EX_mobd_LPAREN_e_RPAREN_': 1000.0,\n",
       " 'EX_mso3_LPAREN_e_RPAREN_': 1000.0,\n",
       " 'EX_na1_LPAREN_e_RPAREN_': 1000.0,\n",
       " 'EX_nac_LPAREN_e_RPAREN_': 1000.0,\n",
       " 'EX_ncam_LPAREN_e_RPAREN_': 1000.0,\n",
       " 'EX_nh4_LPAREN_e_RPAREN_': 1000.0,\n",
       " 'EX_o2_LPAREN_e_RPAREN_': 1000.0,\n",
       " 'EX_orn_LPAREN_e_RPAREN_': 1000.0,\n",
       " 'EX_orot_LPAREN_e_RPAREN_': 1000.0,\n",
       " 'EX_pb_LPAREN_e_RPAREN_': 1000.0,\n",
       " 'EX_pect_LPAREN_e_RPAREN_': 1000.0,\n",
       " 'EX_phe_L_LPAREN_e_RPAREN_': 1000.0,\n",
       " 'EX_pi_LPAREN_e_RPAREN_': 1000.0,\n",
       " 'EX_plac_LPAREN_e_RPAREN_': 1000.0,\n",
       " 'EX_pnto_R_LPAREN_e_RPAREN_': 1000.0,\n",
       " 'EX_pro_L_LPAREN_e_RPAREN_': 1000.0,\n",
       " 'EX_progly_LPAREN_e_RPAREN_': 1000.0,\n",
       " 'EX_ptrc_LPAREN_e_RPAREN_': 1000.0,\n",
       " 'EX_pydam_LPAREN_e_RPAREN_': 1000.0,\n",
       " 'EX_pydx_LPAREN_e_RPAREN_': 1000.0,\n",
       " 'EX_pydxn_LPAREN_e_RPAREN_': 1000.0,\n",
       " 'EX_rbflvrd_LPAREN_e_RPAREN_': 1000.0,\n",
       " 'EX_ribflv_LPAREN_e_RPAREN_': 1000.0,\n",
       " 'EX_seln_LPAREN_e_RPAREN_': 1000.0,\n",
       " 'EX_ser_L_LPAREN_e_RPAREN_': 1000.0,\n",
       " 'EX_so4_LPAREN_e_RPAREN_': 1000.0,\n",
       " 'EX_spmd_LPAREN_e_RPAREN_': 1000.0,\n",
       " 'EX_strch1_LPAREN_e_RPAREN_': 1000.0,\n",
       " 'EX_succ_LPAREN_e_RPAREN_': 1000.0,\n",
       " 'EX_sulfac_LPAREN_e_RPAREN_': 1000.0,\n",
       " 'EX_taur_LPAREN_e_RPAREN_': 1000.0,\n",
       " 'EX_thm_LPAREN_e_RPAREN_': 1000.0,\n",
       " 'EX_thr_L_LPAREN_e_RPAREN_': 1000.0,\n",
       " 'EX_thymd_LPAREN_e_RPAREN_': 1000.0,\n",
       " 'EX_trp_L_LPAREN_e_RPAREN_': 1000.0,\n",
       " 'EX_tyr_L_LPAREN_e_RPAREN_': 1000.0,\n",
       " 'EX_ura_LPAREN_e_RPAREN_': 1000.0,\n",
       " 'EX_urate_LPAREN_e_RPAREN_': 1000.0,\n",
       " 'EX_urea_LPAREN_e_RPAREN_': 1000.0,\n",
       " 'EX_val_L_LPAREN_e_RPAREN_': 1000.0,\n",
       " 'EX_xan_LPAREN_e_RPAREN_': 1000.0,\n",
       " 'EX_xyl_D_LPAREN_e_RPAREN_': 1000.0}"
      ]
     },
     "execution_count": 16,
     "metadata": {},
     "output_type": "execute_result"
    }
   ],
   "source": [
    "model.medium"
   ]
  },
  {
   "cell_type": "code",
   "execution_count": null,
   "metadata": {},
   "outputs": [],
   "source": [
    "#use for later perhaps \n",
    "modelMedium = setMediumConstraints(starting_model, set_inf,\n",
    "current_inf,... medium_composition, met_Conc_mM, cellConc, t, cell-\n",
    "Weight, mediumCompounds,... mediumCompounds_lb);"
   ]
  },
  {
   "cell_type": "code",
   "execution_count": 18,
   "metadata": {},
   "outputs": [
    {
     "name": "stdout",
     "output_type": "stream",
     "text": [
      "0.0\n"
     ]
    }
   ],
   "source": [
    "fba = model.optimize()\n",
    "#5- Print the objective value. Was it what you expected? \n",
    "print(fba.objective_value)"
   ]
  },
  {
   "cell_type": "code",
   "execution_count": 22,
   "metadata": {
    "collapsed": true,
    "jupyter": {
     "outputs_hidden": true
    }
   },
   "outputs": [
    {
     "name": "stdout",
     "output_type": "stream",
     "text": [
      "26DAPLLATi                    3.158637e-16\n",
      "ACACT1r                       2.500000e-02\n",
      "ACALD                        -3.158637e-16\n",
      "ACKr                         -2.500000e-02\n",
      "ACONT                        -1.631817e-16\n",
      "ADEt                          3.334812e-16\n",
      "ADK2                          4.200243e-16\n",
      "ADSL2r                       -1.526820e-16\n",
      "AICART                       -1.526820e-16\n",
      "AIRCr                        -1.526820e-16\n",
      "AMPMS2                        1.526820e-16\n",
      "ARGSL                         4.685457e-16\n",
      "ARGSSr                        4.685457e-16\n",
      "ARGt2r                       -4.685457e-16\n",
      "ASPCT                        -4.685457e-16\n",
      "ASPTA                         1.526820e-16\n",
      "ATPM                          8.430000e+00\n",
      "ATPS4                         2.500000e-02\n",
      "BTCOAACCOAT                   2.500000e-02\n",
      "BTCOADH                       2.500000e-02\n",
      "BUTtr                        -2.500000e-02\n",
      "CITt2r                       -1.631817e-16\n",
      "CO2t                         -5.000000e-02\n",
      "CPSS_FP                      -1.145115e-16\n",
      "DADK                         -3.802168e-17\n",
      "DAPDC                         3.158637e-16\n",
      "DAPE                          3.158637e-16\n",
      "DHDPRy                        3.158637e-16\n",
      "DHDPS                         3.158637e-16\n",
      "DHORDi                       -4.580459e-16\n",
      "DHORTS                        4.685457e-16\n",
      "DHORt                        -1.049973e-17\n",
      "DM_NA1                       -3.158637e-16\n",
      "DPCOAK                       -8.122289e-16\n",
      "DURIPP                       -4.580459e-16\n",
      "D_LACt2                      -5.187500e+00\n",
      "ECOAH1                        2.500000e-02\n",
      "ENO                           5.237500e+00\n",
      "EX_ade_LPAREN_e_RPAREN_      -3.334812e-16\n",
      "EX_arg_L_LPAREN_e_RPAREN_     4.685457e-16\n",
      "EX_but_LPAREN_e_RPAREN_       2.500000e-02\n",
      "EX_cit_LPAREN_e_RPAREN_       1.631817e-16\n",
      "EX_co2_LPAREN_e_RPAREN_       5.000000e-02\n",
      "EX_dhor_S_LPAREN_e_RPAREN_   -1.049973e-17\n",
      "EX_glu_L_LPAREN_e_RPAREN_    -1.631817e-16\n",
      "EX_glyc_R_LPAREN_e_RPAREN_    5.000000e-02\n",
      "EX_gua_LPAREN_e_RPAREN_       4.200243e-16\n",
      "EX_h_LPAREN_e_RPAREN_         5.212500e+00\n",
      "EX_h2o_LPAREN_e_RPAREN_      -3.142500e+00\n",
      "EX_hxan_LPAREN_e_RPAREN_      3.142500e+00\n",
      "EX_ins_LPAREN_e_RPAREN_      -3.142500e+00\n",
      "EX_lac_D_LPAREN_e_RPAREN_     5.187500e+00\n",
      "EX_lys_L_LPAREN_e_RPAREN_     3.158637e-16\n",
      "EX_na1_LPAREN_e_RPAREN_       3.158637e-16\n",
      "EX_o2_LPAREN_e_RPAREN_        4.580459e-16\n",
      "EX_orot_LPAREN_e_RPAREN_     -4.580459e-16\n",
      "EX_ptrc_LPAREN_e_RPAREN_     -4.685457e-16\n",
      "EX_thymd_LPAREN_e_RPAREN_     4.580459e-16\n",
      "FBA                           1.047500e+00\n",
      "FBA3                          1.047500e+00\n",
      "FDNADOX_H                     7.500000e-02\n",
      "FMNRx2                        4.580459e-16\n",
      "FTHFLi                        3.053640e-16\n",
      "GALU                         -2.290230e-16\n",
      "GAPD                          5.237500e+00\n",
      "GK1                          -3.802168e-17\n",
      "GK2                           3.802168e-17\n",
      "GLUt2r                        1.631817e-16\n",
      "GLYCAt2r                     -5.000000e-02\n",
      "GLYGLYCNc                     1.579318e-16\n",
      "GTPDPK                       -4.200243e-16\n",
      "GUAt                         -4.200243e-16\n",
      "H2Ot                          3.142500e+00\n",
      "HACD1                         2.500000e-02\n",
      "HETZK                         1.526820e-16\n",
      "HPYRRx                        5.000000e-02\n",
      "HSDxi2                       -3.158637e-16\n",
      "HSST                         -3.158637e-16\n",
      "HYXNt                        -3.142500e+00\n",
      "ICDHyr                       -1.631817e-16\n",
      "INSt                          3.142500e+00\n",
      "LDH_D                        -5.187500e+00\n",
      "LYSte                         3.158637e-16\n",
      "MTHFC                        -4.580459e-16\n",
      "MTHFD                        -4.580459e-16\n",
      "NADH_NAT                      3.158637e-16\n",
      "NDPK2                        -2.290230e-16\n",
      "NTD1                         -4.580459e-16\n",
      "NTD2                          4.580459e-16\n",
      "NTD6                          3.802168e-17\n",
      "NTD7                         -3.715028e-16\n",
      "NTPTP1                        4.200243e-16\n",
      "O2t                          -4.580459e-16\n",
      "OCBT                          4.685457e-16\n",
      "ORNDC                        -4.685457e-16\n",
      "PAPPT2                        1.145115e-16\n",
      "PFK                           1.047500e+00\n",
      "PFK_3                         1.047500e+00\n",
      "PGI                           2.290230e-16\n",
      "PGK                          -5.237500e+00\n",
      "PGM                          -5.237500e+00\n",
      "PGMT                          2.290230e-16\n",
      "PHPB2                        -1.395137e-15\n",
      "PMPK                          1.526820e-16\n",
      "POR4i                         5.000000e-02\n",
      "PPCKr                         1.526820e-16\n",
      "PPM                           3.142500e+00\n",
      "PRASCSi                      -1.526820e-16\n",
      "PTAr                          2.500000e-02\n",
      "PTPAT                        -8.122289e-16\n",
      "PTRCtex2                     -4.685457e-16\n",
      "PUNP1                        -3.715028e-16\n",
      "PUNP2                         3.802168e-17\n",
      "PUNP4                         4.200243e-16\n",
      "PUNP5                         3.142500e+00\n",
      "PYK                           5.237500e+00\n",
      "PYNP2r                        4.580459e-16\n",
      "RNTR1                         3.802168e-17\n",
      "RNTR2                         4.200243e-16\n",
      "RPE                           2.095000e+00\n",
      "RPI                           2.095000e+00\n",
      "SHSL4                        -3.158637e-16\n",
      "SUCDi                        -3.158637e-16\n",
      "THIORDXi                     -4.580459e-16\n",
      "THRAr                        -3.158637e-16\n",
      "THRD_L                        3.158637e-16\n",
      "THYMDt                       -4.580459e-16\n",
      "TKT1                          1.047500e+00\n",
      "TKT2                          1.047500e+00\n",
      "TMDK1                        -4.580459e-16\n",
      "TMDSf                         4.580459e-16\n",
      "TMPPP                         1.526820e-16\n",
      "TPI                           2.095000e+00\n",
      "UAG4E                        -1.145115e-16\n",
      "UAGPT2                        1.145115e-16\n",
      "UDPG4E                       -1.145115e-16\n",
      "UDPGALM                      -1.145115e-16\n",
      "URIDK1                       -3.435345e-16\n",
      "r0839                         4.580459e-16\n",
      "sink_hpyr                    -5.000000e-02\n",
      "Name: fluxes, dtype: float64\n"
     ]
    }
   ],
   "source": [
    "#6- Print fluxes how many reaction are active in this condition?\n",
    "fluxes = deleteNull(fba.fluxes)\n",
    "print(fluxes)"
   ]
  },
  {
   "cell_type": "code",
   "execution_count": 24,
   "metadata": {},
   "outputs": [
    {
     "name": "stderr",
     "output_type": "stream",
     "text": [
      "Non-linear or non-reaction model objective. Falling back to minimal display.\n"
     ]
    },
    {
     "name": "stdout",
     "output_type": "stream",
     "text": [
      "Objective\n",
      "=========\n",
      "nan Expression = nan\n",
      "\n",
      "Uptake\n",
      "------\n",
      "Metabolite                 Reaction  Flux  C-Number  C-Flux\n",
      "     h2o_e  EX_h2o_LPAREN_e_RPAREN_ 3.142         0   0.00%\n",
      "     ins_e  EX_ins_LPAREN_e_RPAREN_ 3.142        10  99.52%\n",
      "    hpyr_c                sink_hpyr  0.05         3   0.48%\n",
      "\n",
      "Secretion\n",
      "---------\n",
      "    Metabolite                    Reaction   Flux  C-Number  C-Flux\n",
      "         but_e     EX_but_LPAREN_e_RPAREN_ -0.025         4   0.32%\n",
      "         co2_e     EX_co2_LPAREN_e_RPAREN_  -0.05         1   0.16%\n",
      " glyc_DASH_R_e  EX_glyc_R_LPAREN_e_RPAREN_  -0.05         3   0.48%\n",
      "           h_e       EX_h_LPAREN_e_RPAREN_ -5.213         0   0.00%\n",
      "        hxan_e    EX_hxan_LPAREN_e_RPAREN_ -3.142         5  49.76%\n",
      "  lac_DASH_D_e   EX_lac_D_LPAREN_e_RPAREN_ -5.188         3  49.29%\n",
      "\n",
      "\n",
      "Active reaction : 140 which represent 13.592233% of the model\n"
     ]
    },
    {
     "data": {
      "text/plain": [
       "'YES'"
      ]
     },
     "execution_count": 24,
     "metadata": {},
     "output_type": "execute_result"
    }
   ],
   "source": [
    "print(model.summary())\n",
    "print('\\nActive reaction : %i which represent %f%% of the model' %(len(fluxes),len(fluxes)/len(model.reactions)*100))\n",
    "## Conclude:\n",
    "\"\"\"YES\"\"\""
   ]
  },
  {
   "cell_type": "code",
   "execution_count": null,
   "metadata": {},
   "outputs": [],
   "source": [
    "# e: extracellular\n",
    "# c: cytosol\n",
    "# EX_ : exchange reaction\n",
    "mgam = ['glu_e','h2_e','ala__L_e','arg__L_e','asn__L_e','asp__L_e','ca2_e',\n",
    "           'cit_e','cu2_e','cys_L_e','fe2_e','fe3_e','fru_e','glc__D_e',\n",
    "           'gln__L_e','glu__L_e','h2o_e','his__L_e','ile__L_e','mg2_e','nad_e',\n",
    "           'nh4_e','nac_e','no3_e','pi_e','pro__L_e','ser__L_e','so4_e','try__L_e',\n",
    "           'tyr__L_e','ura_e','val__L_e','trp__L_e','h2_e','o2_e' ]"
   ]
  },
  {
   "cell_type": "code",
   "execution_count": null,
   "metadata": {},
   "outputs": [],
   "source": [
    "model_mgam= medium(model,Medium1)\n",
    "print('\\nMedium_mgam')\n",
    "print(model_mgam.summary())"
   ]
  },
  {
   "cell_type": "code",
   "execution_count": null,
   "metadata": {},
   "outputs": [],
   "source": [
    "RMC = ['glu_e','h2_e','ala__L_e','arg__L_e','asn__L_e','asp__L_e','ca2_e',\n",
    "           'cit_e','cu2_e','cys_L_e','fe2_e','fe3_e','fru_e','glc__D_e',\n",
    "           'gln__L_e','glu__L_e','h2o_e','his__L_e','ile__L_e','mg2_e','nad_e',\n",
    "           'nh4_e','nac_e','no3_e','pi_e','pro__L_e','ser__L_e','so4_e','try__L_e',\n",
    "           'tyr__L_e','ura_e','val__L_e','trp__L_e','h2_e','o2_e' ]"
   ]
  },
  {
   "cell_type": "code",
   "execution_count": null,
   "metadata": {},
   "outputs": [],
   "source": [
    "model_RMC = medium(model,RMC)\n",
    "print('\\nMedium_rcm')\n",
    "print(model_RMC.summary())"
   ]
  }
 ],
 "metadata": {
  "kernelspec": {
   "display_name": "Python 3",
   "language": "python",
   "name": "python3"
  },
  "language_info": {
   "codemirror_mode": {
    "name": "ipython",
    "version": 3
   },
   "file_extension": ".py",
   "mimetype": "text/x-python",
   "name": "python",
   "nbconvert_exporter": "python",
   "pygments_lexer": "ipython3",
   "version": "3.7.6"
  }
 },
 "nbformat": 4,
 "nbformat_minor": 4
}
