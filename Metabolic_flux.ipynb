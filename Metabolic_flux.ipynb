{
 "cells": [
  {
   "cell_type": "markdown",
   "metadata": {},
   "source": [
    "# Integrated Bioinformatics Project : Flux_Balance_F_Prausnitzii \n",
    "#### Students: Michael Shawn Neilsson, Biancamaria FLorenzi, Prabhat Juyal, Tim Blokker\n",
    "#### Supervisors: Clémence Joseph, Karoline Faust"
   ]
  },
  {
   "cell_type": "code",
   "execution_count": 163,
   "metadata": {},
   "outputs": [],
   "source": [
    "#import packages\n",
    "from libchebipy import ChebiEntity\n",
    "import json\n",
    "import requests\n",
    "import molmass\n",
    "import io\n",
    "import cobra\n",
    "import functions\n",
    "import re\n",
    "from functions import *\n",
    "import cobrababel\n",
    "import pandas as pd"
   ]
  },
  {
   "cell_type": "code",
   "execution_count": 164,
   "metadata": {},
   "outputs": [
    {
     "output_type": "stream",
     "name": "stdout",
     "text": [
      "Metabolites :  833\nReactions :  1030\nGenes :  602\nCompartments :  {'c': '', 'e': ''}\nObjective function : \n Maximize\n1.0*Biomass_FP - 1.0*Biomass_FP_reverse_ee33b \n\n"
     ]
    }
   ],
   "source": [
    "#model = cobra.io.read_sbml_model('Data/f_prausnitzii.xml')\n",
    "#info(model)\n",
    "model=cobra.io.load_matlab_model('Data/iFpraus_v_1_0.mat')\n",
    "info(model)\n"
   ]
  },
  {
   "cell_type": "code",
   "execution_count": 165,
   "metadata": {},
   "outputs": [],
   "source": [
    "x=[model.reactions.get_by_id(compound_id).name for compound_id in model.medium]\n",
    "x=[compound[:(len(compound)-3)] for compound in x]\n",
    "x=[compoundname.replace(\"EX_\", \"\") for compoundname in x]\n",
    "x=[compoundname.replace(\"excha\", \"\").strip() for compoundname in x]\n",
    "#\";\".join(x)"
   ]
  },
  {
   "cell_type": "code",
   "execution_count": 166,
   "metadata": {},
   "outputs": [],
   "source": [
    "mapped_compounds=Mol_Weight(x)\n",
    "mapped_compounds[\"BiGG_ID\"]=[model.reactions.get_by_id(compound_id).id[3:] for compound_id in model.medium]\n",
    "weights=mapped_compounds[[\"query\", \"BiGG_ID\", \"hit\", \"mol_weight\"]]"
   ]
  },
  {
   "cell_type": "code",
   "execution_count": 167,
   "metadata": {},
   "outputs": [],
   "source": [
    "#outputmodel= cobra.io.save_json_model(model, \"Data/iFpraus.json\")"
   ]
  },
  {
   "cell_type": "code",
   "execution_count": 168,
   "metadata": {},
   "outputs": [
    {
     "output_type": "stream",
     "name": "stdout",
     "text": [
      "\n",
      "Model Medium\n",
      "Objective\n",
      "=========\n",
      "1.0 Biomass_FP = 69.87885590787737\n",
      "\n",
      "Uptake\n",
      "------\n",
      "    Metabolite          Reaction   Flux  C-Number  C-Flux\n",
      "    Lcystin[e]     EX_Lcystin(e)  3.502         6   0.05%\n",
      "        ade[e]         EX_ade(e)  864.9         5  10.85%\n",
      "     adocbl[e]      EX_adocbl(e) 0.3929        72   0.07%\n",
      "     alaala[e]      EX_alaala(e)  6.462         6   0.10%\n",
      "     alagln[e]      EX_alagln(e)  30.81         8   0.62%\n",
      "      arg-L[e]       EX_arg_L(e)   1000         6  15.05%\n",
      "      asn-L[e]       EX_asn_L(e)   16.4         4   0.16%\n",
      "        btn[e]         EX_btn(e) 0.3929        10   0.01%\n",
      "        ca2[e]         EX_ca2(e) 0.3929         0   0.00%\n",
      "         cl[e]          EX_cl(e) 0.3929         0   0.00%\n",
      "    cobalt2[e]     EX_cobalt2(e) 0.3929         0   0.00%\n",
      "     cps_fp[e]      EX_cps_fp(e) 0.3929        63   0.06%\n",
      "        cu2[e]         EX_cu2(e) 0.3929         0   0.00%\n",
      "        fe3[e]         EX_fe3(e) 0.7858         0   0.00%\n",
      "        fol[e]         EX_fol(e)  1.179        19   0.06%\n",
      "        fum[e]         EX_fum(e)   1000         4  10.03%\n",
      "      glu-L[e]       EX_glu_L(e)   1000         5  12.54%\n",
      "        gua[e]         EX_gua(e)  16.25         5   0.20%\n",
      "          h[e]           EX_h(e)    901         0   0.00%\n",
      "      his-L[e]       EX_his_L(e)  6.472         6   0.10%\n",
      "        ins[e]         EX_ins(e)  751.8        10  18.86%\n",
      "          k[e]           EX_k(e) 0.3929         0   0.00%\n",
      "     leuleu[e]      EX_leuleu(e)  15.33        12   0.46%\n",
      "      lys-L[e]       EX_lys_L(e)  23.31         6   0.35%\n",
      "      mal-L[e]       EX_mal_L(e)   1000         4  10.03%\n",
      "     metala[e]      EX_metala(e)  10.59         8   0.21%\n",
      " metsox-S-L[e]  EX_metsox_S_L(e) 0.2368         5   0.00%\n",
      "        mg2[e]         EX_mg2(e) 0.3929         0   0.00%\n",
      "        na1[e]         EX_na1(e)   1000         0   0.00%\n",
      "        nac[e]         EX_nac(e) 0.7858         6   0.01%\n",
      "         o2[e]          EX_o2(e)  618.9         0   0.00%\n",
      "      phe-L[e]       EX_phe_L(e)  12.65         9   0.29%\n",
      "         pi[e]          EX_pi(e)  126.6         0   0.00%\n",
      "     pnto-R[e]      EX_pnto_R(e) 0.7858         9   0.02%\n",
      "      pro-L[e]       EX_pro_L(e)  15.05         5   0.19%\n",
      "       pydx[e]        EX_pydx(e) 0.3929         8   0.01%\n",
      "     ribflv[e]      EX_ribflv(e)  148.3        17   6.32%\n",
      "      ser-L[e]       EX_ser_L(e)  223.1         3   1.68%\n",
      "        so4[e]         EX_so4(e) 0.3929         0   0.00%\n",
      "        thm[e]         EX_thm(e) 0.3929        12   0.01%\n",
      "      thr-L[e]       EX_thr_L(e)  606.4         4   6.08%\n",
      "      thymd[e]       EX_thymd(e)  1.642        10   0.04%\n",
      "      trp-L[e]       EX_trp_L(e)  3.854        11   0.11%\n",
      "      tyr-L[e]       EX_tyr_L(e)  9.381         9   0.21%\n",
      "        ura[e]         EX_ura(e)  20.52         4   0.21%\n",
      "      urate[e]       EX_urate(e)  398.4         5   5.00%\n",
      "       hpyr[c]         sink_hpyr   0.05         3   0.00%\n",
      "\n",
      "Secretion\n",
      "---------\n",
      " Metabolite       Reaction   Flux  C-Number  C-Flux\n",
      "     na1[c]         DM_NA1  -1000         0   0.00%\n",
      "      ac[e]       EX_ac(e)  -1000         2   5.64%\n",
      "   asp-L[e]    EX_asp_L(e) -977.1         4  11.02%\n",
      "     cit[e]      EX_cit(e) -988.6         6  16.73%\n",
      "     co2[e]      EX_co2(e)  -1000         1   2.82%\n",
      "  dhor-S[e]   EX_dhor_S(e) -785.4         5  11.07%\n",
      "     for[e]      EX_for(e)   -158         1   0.45%\n",
      "     gly[e]      EX_gly(e) -527.8         2   2.98%\n",
      "  glyc-R[e]   EX_glyc_R(e)  -0.05         3   0.00%\n",
      "    hxan[e]     EX_hxan(e)  -1000         5  14.10%\n",
      "     nh4[e]      EX_nh4(e)  -1000         0   0.00%\n",
      "    orot[e]     EX_orot(e) -194.5         5   2.74%\n",
      "    ptrc[e]     EX_ptrc(e) -979.9         4  11.05%\n",
      " rbflvrd[e]  EX_rbflvrd(e) -147.5        17   7.07%\n",
      "    succ[e]     EX_succ(e) -20.14         4   0.23%\n",
      "     xan[e]      EX_xan(e)  -1000         5  14.10%\n",
      "\n"
     ]
    }
   ],
   "source": [
    "#unaltered model\n",
    "model1=model.copy()\n",
    "print(\"\\nModel Medium\")\n",
    "model1.objective = {model1.reactions.get_by_id('Biomass_FP'): 1}\n",
    "print(model1.summary())"
   ]
  },
  {
   "source": [
    "### Gifu Anaerobic Medium (mGAM) from:\n",
    "https://hyserve.com/files/05433_GAM-Broth_Modified_final.pdf\n",
    "\n",
    "\n",
    "- Peptone, Soya Peptone, Proteose Peptone: source of amino acids -> most likely all of them \n",
    "- Yeast extract, liver extract, meat extract, digested serum -> \n",
    "    - amino acids, \n",
    "    - '4abz(e)' \n",
    "    - '5oxpro(e)'\n",
    "    - thm(e)' thiamin vitamin b1\n",
    "    - biotin -> btn |from yeast extract? \n",
    "    - 'rbflvrd(e)', 'ribflv(e)' vitamin b2\n",
    "    - 'pydam(e)' pydx pydxn vitamin b6 from yeast extract\n",
    "    - 'pnto_R(e)' pantothenic acid from yeast extract?\n",
    "    - 'ptrc(e)' probably from meat extract(e)\n",
    "    - 'spmd(e)' from meat extract and linked to ptrc\n",
    "    - cbl1   Cyanocobalamin is a cobalt-containing coordination compound and a natural water-soluble vitamin of the B-complex family \n",
    "    - adocbl\n",
    "    - folate fol is of B vitamin family \n",
    "    - tautin from meat extract\n",
    "    - nac is nicotinate and also vitamin b and so is nacm nicotinamide\n",
    "    - hxan, gua , ins are all some kind of nucleic acid that is probably present in yeast extract\n",
    "    - trace elements: Ca2? Cu2? cobalt2?  mg2? pi(e)? so4?\n",
    "- Dextrose -> same as glucose (https://www.ebi.ac.uk/chebi/searchId.do?chebiId=CHEBI:17634) and so -> glc_D\n",
    "- Soluble starch -> starch1 (potatoe starch)\n",
    "- L-Tryptophane -> trp__L\n",
    "- L-Cystein Hydrochloride -> cys_L and cl and h (hydrochloride<-> HCL becomes cl and h)\n",
    "- Sodium Thioglycolate -> thiog and na1 but it is just a marker for tolerance of oxygen apparently so ignore\n",
    "- L-Arginine -> arg_L\n",
    "- Vitamine K1 -> phllqne https://pubchem.ncbi.nlm.nih.gov/compound/Vitamin-K1#section=Depositor-Supplied-Synonyms \n",
    "- Hemin -> Iron and Chlorine  fe3 and cl  and perhaps ppp9 https://pubchem.ncbi.nlm.nih.gov/#query=3-%5B18-(2-carboxyethyl)-8%2C13-bis(ethenyl)-3%2C7%2C12%2C17-tetramethylporphyrin-21%2C23-diid-2-yl%5Dpropanoic%20acid%3Biron(3%2B)%3Bchloride \n",
    "- Potassium Dihydrogen Phosphate -> pi, k, h\n",
    "- Sodium Chloride -> na1 cl\n",
    "\n",
    "Digested serum : https://www.nebiolabs.com.au/-/media/catalog/datacards-or-manuals/p8108datasheet-lot0021306.pdf\t\n",
    "\n",
    "Generally useful page ; https://pubchem.ncbi.nlm.nih.gov/#query=Hemin\n",
    "\n",
    "check also: https://opencobra.github.io/cobratoolbox/latest/tutorials/tutorialMetabotoolsI.html "
   ],
   "cell_type": "markdown",
   "metadata": {}
  },
  {
   "cell_type": "code",
   "execution_count": 169,
   "metadata": {},
   "outputs": [
    {
     "output_type": "execute_result",
     "data": {
      "text/plain": [
       "array(['ala_L(e)', 'arg_L(e)', 'asn_L(e)', 'asp_L(e)', 'asx_L(e)',\n",
       "       'cys_L(e)', 'gln_L(e)', 'glu_L(e)', 'glx_L(e)', 'gly(e)',\n",
       "       'his_L(e)', 'ile_L(e)', 'leu_L(e)', 'lys_L(e)', 'met_L(e)',\n",
       "       'phe_L(e)', 'pro_L(e)', 'ser_L(e)', 'thr_L(e)', 'trp_L(e)',\n",
       "       'tyr_L(e)', 'val_L(e)'], dtype='<U8')"
      ]
     },
     "metadata": {},
     "execution_count": 169
    }
   ],
   "source": [
    "import numpy as np\n",
    "aa_pre=(\"ala,arg,asn,asp,asx,cys,glu,gln,glx,gly,his,ile,leu,lys,met,phe,pro,ser,thr,trp,tyr,val\").split(\",\")\n",
    "aa=[]\n",
    "for aminoacid in aa_pre:\n",
    "    if aminoacid != \"gly\": \n",
    "        aa.append(aminoacid +\"_L(e)\")\n",
    "    else:\n",
    "        aa.append(aminoacid+'(e)')\n",
    "aa=sorted(aa)\n",
    "aa=np.array(aa)\n",
    "aa"
   ]
  },
  {
   "cell_type": "code",
   "execution_count": 170,
   "metadata": {},
   "outputs": [
    {
     "output_type": "stream",
     "name": "stdout",
     "text": [
      "['3mop(e)', '4abz(e)', '5oxpro(e)', 'Lcyst(e)', 'Lcystin(e)', 'ac(e)', 'acasp(e)', 'acgal(e)', 'acgalglcur(e)', 'acgam(e)', 'acglu(e)', 'acnam(e)', 'ade(e)', 'adocbl(e)', 'ala_D(e)', 'ala_L(e)', 'alaala(e)', 'alaasp(e)', 'alagln(e)', 'alaglu(e)', 'alagly(e)', 'alahis(e)', 'alaleu(e)', 'alathr(e)', 'arab_L(e)', 'arg_L(e)', 'asn_L(e)', 'aso3(e)', 'aso4(e)', 'asp_L(e)', 'btn(e)', 'but(e)', 'butso3(e)', 'ca2(e)', 'cbl1(e)', 'cbl2(e)', 'cd2(e)', 'cellb(e)', 'cgly(e)', 'cit(e)', 'cl(e)', 'co2(e)', 'cobalt2(e)', 'cps_fp(e)', 'cu2(e)', 'cys_L(e)', 'dhor_S(e)', 'ethso3(e)', 'fe2(e)', 'fe3(e)', 'fe3dcit(e)', 'fol(e)', 'for(e)', 'fru(e)', 'fum(e)', 'gal(e)', 'galur(e)', 'gam(e)', 'glc(e)', 'glcur(e)', 'gln_L(e)', 'glu_L(e)', 'gly(e)', 'glyasn(e)', 'glyasp(e)', 'glyc3p(e)', 'glyc_R(e)', 'glygln(e)', 'glyglu(e)', 'glygly(e)', 'glyleu(e)', 'glymet(e)', 'glyphe(e)', 'glypro(e)', 'glytyr(e)', 'gthox(e)', 'gthrd(e)', 'gua(e)', 'h(e)', 'h2o(e)', 'h2s(e)', 'hg2(e)', 'his_L(e)', 'hxan(e)', 'ile_L(e)', 'ins(e)', 'inulin(e)', 'isetac(e)', 'k(e)', 'kesto(e)', 'kestopt(e)', 'kestottr(e)', 'lac_D(e)', 'lcts(e)', 'leu_L(e)', 'leugly(e)', 'leuleu(e)', 'lys_L(e)', 'mal_L(e)', 'malt(e)', 'man(e)', 'meoh(e)', 'met_D(e)', 'met_L(e)', 'metala(e)', 'metsox_R_L(e)', 'metsox_S_L(e)', 'mg2(e)', 'mobd(e)', 'mso3(e)', 'na1(e)', 'nac(e)', 'ncam(e)', 'nh4(e)', 'o2(e)', 'orn(e)', 'orot(e)', 'pb(e)', 'pect(e)', 'phe_L(e)', 'pi(e)', 'plac(e)', 'pnto_R(e)', 'pro_L(e)', 'progly(e)', 'ptrc(e)', 'pydam(e)', 'pydx(e)', 'pydxn(e)', 'rbflvrd(e)', 'ribflv(e)', 'seln(e)', 'ser_L(e)', 'so4(e)', 'spmd(e)', 'strch1(e)', 'succ(e)', 'sulfac(e)', 'taur(e)', 'thm(e)', 'thr_L(e)', 'thymd(e)', 'trp_L(e)', 'tyr_L(e)', 'ura(e)', 'urate(e)', 'urea(e)', 'val_L(e)', 'xan(e)', 'xyl_D(e)']\n"
     ]
    }
   ],
   "source": [
    "MediumMgam_complete=[x[3:len(x)] for x in model.medium]\n",
    "print(MediumMgam_complete)"
   ]
  },
  {
   "cell_type": "code",
   "execution_count": 171,
   "metadata": {},
   "outputs": [
    {
     "output_type": "stream",
     "name": "stdout",
     "text": [
      "['Lcyst(e)', 'Lcystin(e)', 'ade(e)', 'adocbl(e)', 'ala_L(e)', 'arg_L(e)', 'asp_L(e)', 'btn(e)', 'ca2(e)', 'cbl1(e)', 'cbl2(e)', 'cl(e)', 'cobalt2(e)', 'cu2(e)', 'cys_L(e)', 'fe2(e)', 'fe3(e)', 'fol(e)', 'glc(e)', 'glu_L(e)', 'gly(e)', 'gthox(e)', 'gthrd(e)', 'gua(e)', 'h(e)', 'h2o(e)', 'hxan(e)', 'ile_L(e)', 'ins(e)', 'k(e)', 'leu_L(e)', 'lys_L(e)', 'met_L(e)', 'mg2(e)', 'na1(e)', 'nac(e)', 'ncam(e)', 'pb(e)', 'phe_L(e)', 'pi(e)', 'pnto_R(e)', 'pro_L(e)', 'ptrc(e)', 'pydam(e)', 'pydx(e)', 'pydxn(e)', 'rbflvrd(e)', 'ribflv(e)', 'ser_L(e)', 'so4(e)', 'spmd(e)', 'strch1(e)', 'taur(e)', 'thm(e)', 'thr_L(e)', 'thymd(e)', 'trp_L(e)', 'tyr_L(e)', 'ura(e)', 'val_L(e)', 'xan(e)', 'xyl_D(e)'] \nLength MediumMgam:  62\n"
     ]
    }
   ],
   "source": [
    "MediumMgam_complete=[x[3:len(x)] for x in model.medium]\n",
    "\n",
    "Di_AA=['acglu(e)', 'acasp(e)','alaala(e)', 'alaasp(e)', 'alagln(e)', 'alaglu(e)', 'alagly(e)', 'alahis(e)', 'alaleu(e)', 'alathr(e)',     'glyasn(e)', 'glyasp(e)',  'glygln(e)', 'glyglu(e)', 'glygly(e)', 'glyleu(e)', 'glymet(e)', 'glyphe(e)', 'glypro(e)', 'glytyr(e)','leugly(e)', 'leuleu(e)',   'metala(e)', 'metsox_R_L(e)', 'metsox_S_L(e)', 'progly(e)']\n",
    "\n",
    "D_AA=['ala_D(e)','met_D(e)']\n",
    "\n",
    "Not_in_Peptones_Oxoid=['asn_L(e)', 'asx_L(e)','gln_L(e)','glx_L(e)', 'his_L(e)','3mop(e)', '5oxpro(e)']\n",
    "\n",
    "Carbohydrates_not_in_Medium=['ac(e)',  'acgal(e)', 'acgalglcur(e)', 'acgam(e)','arab_L(e)','but(e)', 'butso3(e)', 'co2(e)', 'fru(e)', 'fum(e)', 'gal(e)', 'galur(e)', 'gam(e)', 'glcur(e)', 'glyc3p(e)', 'ethso3(e)', 'for(e)',  'kesto(e)', 'kestopt(e)', 'kestottr(e)', 'lac_D(e)', 'lcts(e)', 'pect(e)', 'plac(e)', 'succ(e)', 'mal_L(e)', 'malt(e)', 'man(e)', 'meoh(e)']\n",
    "\n",
    "not_classified_but_removed=['4abz(e)',  'acnam(e)', 'aso3(e)', 'aso4(e)', 'cd2(e)', 'cellb(e)', 'cgly(e)', 'cit(e)',  'cps_fp(e)', 'dhor_S(e)',  'fe3dcit(e)', 'glyc_R(e)', 'h2s(e)', 'hg2(e)', 'inulin(e)', 'isetac(e)',  'met_D(e)', 'mobd(e)', 'mso3(e)', 'nh4(e)', 'o2(e)', 'orn(e)', 'orot(e)',  'seln(e)',  'sulfac(e)', 'urate(e)', 'urea(e)']\n",
    "\n",
    "MediumMgam =[comp for comp in MediumMgam_complete if comp not in (Di_AA + D_AA + Not_in_Peptones_Oxoid + Carbohydrates_not_in_Medium + not_classified_but_removed)]\n",
    "print(MediumMgam, '\\nLength MediumMgam: ', len(MediumMgam))"
   ]
  },
  {
   "cell_type": "code",
   "execution_count": 172,
   "metadata": {},
   "outputs": [
    {
     "output_type": "stream",
     "name": "stdout",
     "text": [
      "Length MediumMgam_complete:  150 \n\n ['3mop(e)', '4abz(e)', '5oxpro(e)', 'ac(e)', 'acasp(e)', 'acgal(e)', 'acgalglcur(e)', 'acgam(e)', 'acglu(e)', 'acnam(e)', 'ala_D(e)', 'alaala(e)', 'alaasp(e)', 'alagln(e)', 'alaglu(e)', 'alagly(e)', 'alahis(e)', 'alaleu(e)', 'alathr(e)', 'arab_L(e)', 'asn_L(e)', 'aso3(e)', 'aso4(e)', 'but(e)', 'butso3(e)', 'cd2(e)', 'cellb(e)', 'cgly(e)', 'cit(e)', 'co2(e)', 'cps_fp(e)', 'dhor_S(e)', 'ethso3(e)', 'fe3dcit(e)', 'for(e)', 'fru(e)', 'fum(e)', 'gal(e)', 'galur(e)', 'gam(e)', 'glcur(e)', 'gln_L(e)', 'glyasn(e)', 'glyasp(e)', 'glyc3p(e)', 'glyc_R(e)', 'glygln(e)', 'glyglu(e)', 'glygly(e)', 'glyleu(e)', 'glymet(e)', 'glyphe(e)', 'glypro(e)', 'glytyr(e)', 'h2s(e)', 'hg2(e)', 'his_L(e)', 'inulin(e)', 'isetac(e)', 'kesto(e)', 'kestopt(e)', 'kestottr(e)', 'lac_D(e)', 'lcts(e)', 'leugly(e)', 'leuleu(e)', 'mal_L(e)', 'malt(e)', 'man(e)', 'meoh(e)', 'met_D(e)', 'metala(e)', 'metsox_R_L(e)', 'metsox_S_L(e)', 'mobd(e)', 'mso3(e)', 'nh4(e)', 'o2(e)', 'orn(e)', 'orot(e)', 'pect(e)', 'plac(e)', 'progly(e)', 'seln(e)', 'succ(e)', 'sulfac(e)', 'urate(e)', 'urea(e)'] \nLenght Not_kept:  88 \n\n ['Lcyst(e)', 'Lcystin(e)', 'ade(e)', 'adocbl(e)', 'ala_L(e)', 'arg_L(e)', 'asp_L(e)', 'btn(e)', 'ca2(e)', 'cbl1(e)', 'cbl2(e)', 'cl(e)', 'cobalt2(e)', 'cu2(e)', 'cys_L(e)', 'fe2(e)', 'fe3(e)', 'fol(e)', 'glc(e)', 'glu_L(e)', 'gly(e)', 'gthox(e)', 'gthrd(e)', 'gua(e)', 'h(e)', 'h2o(e)', 'hxan(e)', 'ile_L(e)', 'ins(e)', 'k(e)', 'leu_L(e)', 'lys_L(e)', 'met_L(e)', 'mg2(e)', 'na1(e)', 'nac(e)', 'ncam(e)', 'pb(e)', 'phe_L(e)', 'pi(e)', 'pnto_R(e)', 'pro_L(e)', 'ptrc(e)', 'pydam(e)', 'pydx(e)', 'pydxn(e)', 'rbflvrd(e)', 'ribflv(e)', 'ser_L(e)', 'so4(e)', 'spmd(e)', 'strch1(e)', 'taur(e)', 'thm(e)', 'thr_L(e)', 'thymd(e)', 'trp_L(e)', 'tyr_L(e)', 'ura(e)', 'val_L(e)', 'xan(e)', 'xyl_D(e)'] \nLength Kept:  62\n"
     ]
    }
   ],
   "source": [
    "not_kept=[comp for comp in MediumMgam_complete if comp not in MediumMgam]\n",
    "kept=[comp for comp in MediumMgam_complete if comp in MediumMgam]\n",
    "print('Length MediumMgam_complete: ', len(MediumMgam_complete),'\\n\\n', not_kept,'\\nLenght Not_kept: ' ,len(not_kept), '\\n\\n', kept, '\\nLength Kept: ', len(kept))"
   ]
  },
  {
   "cell_type": "code",
   "execution_count": 173,
   "metadata": {},
   "outputs": [],
   "source": [
    "#µg_L =mg/L =0.001 g/L\n",
    "#http://www.oxoid.com/UK/blue/prod_detail/prod_detail.asp?pr=LP0037&c=UK&lang=EN&minfo=Y\n",
    "Traces_BiGG_ID=[\"ca2(e)\" , \"cl(e)\", \"cu2(e)\", \"fe2(e)\", \"fe3(e)\", \"k(e)\",  \"mg2(e)\", \"na1(e)\",\"pb(e)\"]\n",
    "\n",
    "Bact_Peptone_L37=5#g/L\n",
    "Proteose_Peptone_L85=5\n",
    "soya_peptone_L44=3\n",
    "yeast_extract=2.5\n",
    "Lab_Lemco_L29=2.2\n",
    "Liver_Digest_Neutralized_L27=1.2\n",
    "\n",
    "conc_µg_L_Bact_Peptone_L37=              np.array([635, 1*10*1000, 1, 22/2, 22/2, 3.6*10*1000, 265, 1*10*1000, 0.4])*Bact_Peptone_L37#10^-6*g/L 0= µg/L\n",
    "conc_µg_L_Proteose_Peptone_L85=          np.array( [200, 8*10*1000, 10, 42/2, 42/2, 1.4*10*1000, 340, 8*10*1000, 0.1])*Proteose_Peptone_L85\n",
    "conc_µg_L_soya_peptone_L44=              np.array( [225,0.4*10*1000, 2,90/2,90/2, 3.3*10*1000, 1530, 0.4*10*1000, 0.3])*soya_peptone_L44\n",
    "conc_µg_L_yeast_extract=                 np.array( [155,0.3*10*1000, 2,52/2,52/2, 7.3*10*1000, 205, 0.3*10*1000, 0.7])*yeast_extract\n",
    "conc_µg_L_Lab_Lemco_L29=                 np.array( [140,1.1*10*1000, 2,20/2,20/2, 1.9*10*1000, 140, 1.1*10*1000, 0.3])*Lab_Lemco_L29#meat extract\n",
    "conc_µg_L_Liver_Digest_Neutralized_L27=  np.array([98,2.2*10*1000, 12,245/2,245/2, 1.6*10*1000, 210, 2.2*10*1000, 0.2])*Liver_Digest_Neutralized_L27 #liver extract\n",
    "\n",
    "Traces=pd.DataFrame({\"BiGG_ID\": Traces_BiGG_ID, \n",
    "                    \"conc_µg_L_Bact_Peptone_L37\":conc_µg_L_Bact_Peptone_L37, \n",
    "                    \"conc_µg_L_Proteose_Peptone_L85\":conc_µg_L_Proteose_Peptone_L85,\n",
    "                    \"conc_µg_L_soya_peptone_L44\":conc_µg_L_soya_peptone_L44, \n",
    "                    \"conc_µg_L_yeast_extract\":conc_µg_L_yeast_extract, \n",
    "                    'conc_µg_L_Lab_Lemco_L29':conc_µg_L_Lab_Lemco_L29,\n",
    "                    'conc_µg_L_Liver_Digest_Neutralized_L27' :conc_µg_L_Liver_Digest_Neutralized_L27 })"
   ]
  },
  {
   "cell_type": "code",
   "execution_count": 174,
   "metadata": {},
   "outputs": [],
   "source": [
    "#AA from peptones and yeast extract\n",
    "#http://www.oxoid.com/UK/blue/prod_detail/prod_detail.asp?pr=LP0037&c=UK&lang=EN&minfo=Y\n",
    "\n",
    "percent_to_ppm=10*1000\n",
    "\n",
    "index_notinPeptones= np.where(np.isin(aa, ['asn_L(e)', 'asx_L(e)','gln_L(e)','glx_L(e)', 'his_L(e)']))\n",
    "index_notinPeptones=sorted(index_notinPeptones[0], reverse=True)\n",
    "aa_BiGG_ID=np.delete(aa, index_notinPeptones)\n",
    "aa_conc_µg_L_Bact_Peptone_L37=np.array([3.92,4.99, 6.06, 1.66, 9.93, 7.71, 3.81, 3.79, 4.38, 1.58, 2.60, 5.83, 2.81, 1.25, 0.66, 0.39, 3.33])*percent_to_ppm*Bact_Peptone_L37\n",
    "aa_conc_µg_L_Proteose_Peptone_L85=np.array([3.81, 5.80, 5.85, 0.15, 13.78, 4.45, 4.58, 6.01, 4.61, 1.08, 4.66, 5.99, 2.18, 2.75, 0.75, 1.77, 4.11])*percent_to_ppm*Proteose_Peptone_L85\n",
    "aa_conc_µg_L_soya_peptone_L44=np.array([2.57, 4.64, 7.06, 0.53, 14.71, 2.83, 2.51, 4.31, 3.77, 0.62, 0.38, 3.40, 0.67, 1.68, 0.64, 2.09, 3.65])*percent_to_ppm*soya_peptone_L44\t\n",
    "aa_conc_Yeast_Extract_L21=np.array([0.91, 3.31, 7.07, 0.76, 13.49, 5.95, 4.81, 6.04, 5.40, 0.80, 3.78, 0.88, 3.42, 2.73, 0.85, 4.95, 1.00])*percent_to_ppm*yeast_extract\n",
    "aa_conc_µg_L_Lab_Lemco_L29=np.array([5.85, 7.10, 5.10, 0.68, 10.71, 10.85, 3.17, 3.15, 4.78, 2.61, 2.34, 7.79, 1.87, 2.54, 0.34, 0.66, 3.06 ])*percent_to_ppm*Lab_Lemco_L29#meat extract\n",
    "aa_conc_µg_L_Liver_Digest_Neutralized_L27=np.array([3.40, 2.89, 5.85, 0.34, 10.38, 3.83, 2.11, 5.96, 6.02, 0.95, 2.45, 2.38, 0.83, 1.42, 1.02, 2.54, 3.05 ])*percent_to_ppm*Liver_Digest_Neutralized_L27 #liver extract\n",
    "\n",
    "AA=pd.DataFrame({\"BiGG_ID\": aa_BiGG_ID, \n",
    "                    \"conc_µg_L_Bact_Peptone_L37\":aa_conc_µg_L_Bact_Peptone_L37,\n",
    "                    \"conc_µg_L_Proteose_Peptone_L85\":aa_conc_µg_L_Proteose_Peptone_L85,\n",
    "                    \"conc_µg_L_soya_peptone_L44\":aa_conc_µg_L_soya_peptone_L44,\n",
    "                    \"conc_µg_L_yeast_extract\":aa_conc_Yeast_Extract_L21,  \n",
    "                    'conc_µg_L_Lab_Lemco_L29':aa_conc_µg_L_Lab_Lemco_L29,\n",
    "                    'conc_µg_L_Liver_Digest_Neutralized_L27' : aa_conc_µg_L_Liver_Digest_Neutralized_L27 })\n"
   ]
  },
  {
   "cell_type": "code",
   "execution_count": 175,
   "metadata": {},
   "outputs": [
    {
     "output_type": "execute_result",
     "data": {
      "text/plain": [
       "     BiGG_ID  conc_µg_L_Bact_Peptone_L37  conc_µg_L_Proteose_Peptone_L85  conc_µg_L_soya_peptone_L44  conc_µg_L_yeast_extract  conc_µg_L_Lab_Lemco_L29  conc_µg_L_Liver_Digest_Neutralized_L27            query              hit  mol_weight\n",
       "0   ala_L(e)                    196000.0                        190500.0                     77100.0                 22750.00                128700.00                                40800.00        L-Alanine        L-Alanine    89.09322\n",
       "1   arg_L(e)                    249500.0                        290000.0                    139200.0                 82750.00                156200.00                                34680.00       L-Arginine       L-Arginine   174.20100\n",
       "2   asp_L(e)                    303000.0                        292500.0                    211800.0                176750.00                112200.00                                70200.00      L-Aspartate  L-Aspartic acid   133.10270\n",
       "3   cys_L(e)                     83000.0                          7500.0                     15900.0                 19000.00                 14960.00                                 4080.00       L-Cysteine       L-Cysteine   121.15800\n",
       "4   glu_L(e)                    496500.0                        689000.0                    441300.0                337250.00                235620.00                               124560.00      L-Glutamate  L-Glutamic acid   147.12930\n",
       "5     gly(e)                    385500.0                        222500.0                     84900.0                148750.00                238700.00                                45960.00          Glycine          Glycine    75.06664\n",
       "6   ile_L(e)                    190500.0                        229000.0                     75300.0                120250.00                 69740.00                                25320.00     L-Isoleucine     L-Isoleucine   131.17500\n",
       "7   leu_L(e)                    189500.0                        300500.0                    129300.0                151000.00                 69300.00                                71520.00        L-Leucine        L-Leucine   131.17296\n",
       "8   lys_L(e)                    219000.0                        230500.0                    113100.0                135000.00                105160.00                                72240.00         L-Lysine         L-Lysine   146.18764\n",
       "9   met_L(e)                     79000.0                         54000.0                     18600.0                 20000.00                 57420.00                                11400.00     L-Methionine     L-Methionine   149.21238\n",
       "10  phe_L(e)                    130000.0                        233000.0                     11400.0                 94500.00                 51480.00                                29400.00  L-Phenylalanine  L-Phenylalanine   165.18918\n",
       "11  pro_L(e)                    291500.0                        299500.0                    102000.0                 22000.00                171380.00                                28560.00        L-Proline        L-Proline   115.13050\n",
       "12  ser_L(e)                    140500.0                        109000.0                     20100.0                 85500.00                 41140.00                                 9960.00         L-Serine         L-Serine   105.09262\n",
       "13  thr_L(e)                     62500.0                        137500.0                     50400.0                 68250.00                 55880.00                                17040.00      L-Threonine      L-Threonine   119.11920\n",
       "14  trp_L(e)                     33000.0                         37500.0                     19200.0                 21250.00                  7480.00                                12240.00     L-Tryptophan     L-Tryptophan   204.22526\n",
       "15  tyr_L(e)                     19500.0                         88500.0                     62700.0                123750.00                 14520.00                                30480.00       L-Tyrosine       L-Tyrosine   181.18858\n",
       "16  val_L(e)                    166500.0                        205500.0                    109500.0                 25000.00                 67320.00                                36600.00         L-Valine         L-Valine   117.14638\n",
       "17    ca2(e)                      3175.0                          1000.0                       675.0                   387.50                   308.00                                  117.60          Calcium          Calcium    40.07800\n",
       "18     cl(e)                     50000.0                        400000.0                     12000.0                  7500.00                 24200.00                                26400.00         Chloride     Chloride ion    35.45270\n",
       "19    cu2(e)                         5.0                            50.0                         6.0                     5.00                     4.40                                   14.40              Cu2                          NaN\n",
       "20    fe2(e)                        55.0                           105.0                       135.0                    65.00                    22.00                                  147.00              Fe2                          NaN\n",
       "21    fe3(e)                        55.0                           105.0                       135.0                    65.00                    22.00                                  147.00              Fe3                          NaN\n",
       "22      k(e)                    180000.0                         70000.0                     99000.0                182500.00                 41800.00                                19200.00                K         L-Lysine   146.18764\n",
       "23    mg2(e)                      1325.0                          1700.0                      4590.0                   512.50                   308.00                                  252.00               Mg                          NaN\n",
       "24    na1(e)                     50000.0                        400000.0                     12000.0                  7500.00                 24200.00                                26400.00           Sodium           Sodium    22.98977\n",
       "25     pb(e)                         2.0                             0.5                         0.9                     1.75                     0.66                                    0.24             Lead             Lead   207.20000"
      ],
      "text/html": "<div>\n<style scoped>\n    .dataframe tbody tr th:only-of-type {\n        vertical-align: middle;\n    }\n\n    .dataframe tbody tr th {\n        vertical-align: top;\n    }\n\n    .dataframe thead th {\n        text-align: right;\n    }\n</style>\n<table border=\"1\" class=\"dataframe\">\n  <thead>\n    <tr style=\"text-align: right;\">\n      <th></th>\n      <th>BiGG_ID</th>\n      <th>conc_µg_L_Bact_Peptone_L37</th>\n      <th>conc_µg_L_Proteose_Peptone_L85</th>\n      <th>conc_µg_L_soya_peptone_L44</th>\n      <th>conc_µg_L_yeast_extract</th>\n      <th>conc_µg_L_Lab_Lemco_L29</th>\n      <th>conc_µg_L_Liver_Digest_Neutralized_L27</th>\n      <th>query</th>\n      <th>hit</th>\n      <th>mol_weight</th>\n    </tr>\n  </thead>\n  <tbody>\n    <tr>\n      <th>0</th>\n      <td>ala_L(e)</td>\n      <td>196000.0</td>\n      <td>190500.0</td>\n      <td>77100.0</td>\n      <td>22750.00</td>\n      <td>128700.00</td>\n      <td>40800.00</td>\n      <td>L-Alanine</td>\n      <td>L-Alanine</td>\n      <td>89.09322</td>\n    </tr>\n    <tr>\n      <th>1</th>\n      <td>arg_L(e)</td>\n      <td>249500.0</td>\n      <td>290000.0</td>\n      <td>139200.0</td>\n      <td>82750.00</td>\n      <td>156200.00</td>\n      <td>34680.00</td>\n      <td>L-Arginine</td>\n      <td>L-Arginine</td>\n      <td>174.20100</td>\n    </tr>\n    <tr>\n      <th>2</th>\n      <td>asp_L(e)</td>\n      <td>303000.0</td>\n      <td>292500.0</td>\n      <td>211800.0</td>\n      <td>176750.00</td>\n      <td>112200.00</td>\n      <td>70200.00</td>\n      <td>L-Aspartate</td>\n      <td>L-Aspartic acid</td>\n      <td>133.10270</td>\n    </tr>\n    <tr>\n      <th>3</th>\n      <td>cys_L(e)</td>\n      <td>83000.0</td>\n      <td>7500.0</td>\n      <td>15900.0</td>\n      <td>19000.00</td>\n      <td>14960.00</td>\n      <td>4080.00</td>\n      <td>L-Cysteine</td>\n      <td>L-Cysteine</td>\n      <td>121.15800</td>\n    </tr>\n    <tr>\n      <th>4</th>\n      <td>glu_L(e)</td>\n      <td>496500.0</td>\n      <td>689000.0</td>\n      <td>441300.0</td>\n      <td>337250.00</td>\n      <td>235620.00</td>\n      <td>124560.00</td>\n      <td>L-Glutamate</td>\n      <td>L-Glutamic acid</td>\n      <td>147.12930</td>\n    </tr>\n    <tr>\n      <th>5</th>\n      <td>gly(e)</td>\n      <td>385500.0</td>\n      <td>222500.0</td>\n      <td>84900.0</td>\n      <td>148750.00</td>\n      <td>238700.00</td>\n      <td>45960.00</td>\n      <td>Glycine</td>\n      <td>Glycine</td>\n      <td>75.06664</td>\n    </tr>\n    <tr>\n      <th>6</th>\n      <td>ile_L(e)</td>\n      <td>190500.0</td>\n      <td>229000.0</td>\n      <td>75300.0</td>\n      <td>120250.00</td>\n      <td>69740.00</td>\n      <td>25320.00</td>\n      <td>L-Isoleucine</td>\n      <td>L-Isoleucine</td>\n      <td>131.17500</td>\n    </tr>\n    <tr>\n      <th>7</th>\n      <td>leu_L(e)</td>\n      <td>189500.0</td>\n      <td>300500.0</td>\n      <td>129300.0</td>\n      <td>151000.00</td>\n      <td>69300.00</td>\n      <td>71520.00</td>\n      <td>L-Leucine</td>\n      <td>L-Leucine</td>\n      <td>131.17296</td>\n    </tr>\n    <tr>\n      <th>8</th>\n      <td>lys_L(e)</td>\n      <td>219000.0</td>\n      <td>230500.0</td>\n      <td>113100.0</td>\n      <td>135000.00</td>\n      <td>105160.00</td>\n      <td>72240.00</td>\n      <td>L-Lysine</td>\n      <td>L-Lysine</td>\n      <td>146.18764</td>\n    </tr>\n    <tr>\n      <th>9</th>\n      <td>met_L(e)</td>\n      <td>79000.0</td>\n      <td>54000.0</td>\n      <td>18600.0</td>\n      <td>20000.00</td>\n      <td>57420.00</td>\n      <td>11400.00</td>\n      <td>L-Methionine</td>\n      <td>L-Methionine</td>\n      <td>149.21238</td>\n    </tr>\n    <tr>\n      <th>10</th>\n      <td>phe_L(e)</td>\n      <td>130000.0</td>\n      <td>233000.0</td>\n      <td>11400.0</td>\n      <td>94500.00</td>\n      <td>51480.00</td>\n      <td>29400.00</td>\n      <td>L-Phenylalanine</td>\n      <td>L-Phenylalanine</td>\n      <td>165.18918</td>\n    </tr>\n    <tr>\n      <th>11</th>\n      <td>pro_L(e)</td>\n      <td>291500.0</td>\n      <td>299500.0</td>\n      <td>102000.0</td>\n      <td>22000.00</td>\n      <td>171380.00</td>\n      <td>28560.00</td>\n      <td>L-Proline</td>\n      <td>L-Proline</td>\n      <td>115.13050</td>\n    </tr>\n    <tr>\n      <th>12</th>\n      <td>ser_L(e)</td>\n      <td>140500.0</td>\n      <td>109000.0</td>\n      <td>20100.0</td>\n      <td>85500.00</td>\n      <td>41140.00</td>\n      <td>9960.00</td>\n      <td>L-Serine</td>\n      <td>L-Serine</td>\n      <td>105.09262</td>\n    </tr>\n    <tr>\n      <th>13</th>\n      <td>thr_L(e)</td>\n      <td>62500.0</td>\n      <td>137500.0</td>\n      <td>50400.0</td>\n      <td>68250.00</td>\n      <td>55880.00</td>\n      <td>17040.00</td>\n      <td>L-Threonine</td>\n      <td>L-Threonine</td>\n      <td>119.11920</td>\n    </tr>\n    <tr>\n      <th>14</th>\n      <td>trp_L(e)</td>\n      <td>33000.0</td>\n      <td>37500.0</td>\n      <td>19200.0</td>\n      <td>21250.00</td>\n      <td>7480.00</td>\n      <td>12240.00</td>\n      <td>L-Tryptophan</td>\n      <td>L-Tryptophan</td>\n      <td>204.22526</td>\n    </tr>\n    <tr>\n      <th>15</th>\n      <td>tyr_L(e)</td>\n      <td>19500.0</td>\n      <td>88500.0</td>\n      <td>62700.0</td>\n      <td>123750.00</td>\n      <td>14520.00</td>\n      <td>30480.00</td>\n      <td>L-Tyrosine</td>\n      <td>L-Tyrosine</td>\n      <td>181.18858</td>\n    </tr>\n    <tr>\n      <th>16</th>\n      <td>val_L(e)</td>\n      <td>166500.0</td>\n      <td>205500.0</td>\n      <td>109500.0</td>\n      <td>25000.00</td>\n      <td>67320.00</td>\n      <td>36600.00</td>\n      <td>L-Valine</td>\n      <td>L-Valine</td>\n      <td>117.14638</td>\n    </tr>\n    <tr>\n      <th>17</th>\n      <td>ca2(e)</td>\n      <td>3175.0</td>\n      <td>1000.0</td>\n      <td>675.0</td>\n      <td>387.50</td>\n      <td>308.00</td>\n      <td>117.60</td>\n      <td>Calcium</td>\n      <td>Calcium</td>\n      <td>40.07800</td>\n    </tr>\n    <tr>\n      <th>18</th>\n      <td>cl(e)</td>\n      <td>50000.0</td>\n      <td>400000.0</td>\n      <td>12000.0</td>\n      <td>7500.00</td>\n      <td>24200.00</td>\n      <td>26400.00</td>\n      <td>Chloride</td>\n      <td>Chloride ion</td>\n      <td>35.45270</td>\n    </tr>\n    <tr>\n      <th>19</th>\n      <td>cu2(e)</td>\n      <td>5.0</td>\n      <td>50.0</td>\n      <td>6.0</td>\n      <td>5.00</td>\n      <td>4.40</td>\n      <td>14.40</td>\n      <td>Cu2</td>\n      <td></td>\n      <td>NaN</td>\n    </tr>\n    <tr>\n      <th>20</th>\n      <td>fe2(e)</td>\n      <td>55.0</td>\n      <td>105.0</td>\n      <td>135.0</td>\n      <td>65.00</td>\n      <td>22.00</td>\n      <td>147.00</td>\n      <td>Fe2</td>\n      <td></td>\n      <td>NaN</td>\n    </tr>\n    <tr>\n      <th>21</th>\n      <td>fe3(e)</td>\n      <td>55.0</td>\n      <td>105.0</td>\n      <td>135.0</td>\n      <td>65.00</td>\n      <td>22.00</td>\n      <td>147.00</td>\n      <td>Fe3</td>\n      <td></td>\n      <td>NaN</td>\n    </tr>\n    <tr>\n      <th>22</th>\n      <td>k(e)</td>\n      <td>180000.0</td>\n      <td>70000.0</td>\n      <td>99000.0</td>\n      <td>182500.00</td>\n      <td>41800.00</td>\n      <td>19200.00</td>\n      <td>K</td>\n      <td>L-Lysine</td>\n      <td>146.18764</td>\n    </tr>\n    <tr>\n      <th>23</th>\n      <td>mg2(e)</td>\n      <td>1325.0</td>\n      <td>1700.0</td>\n      <td>4590.0</td>\n      <td>512.50</td>\n      <td>308.00</td>\n      <td>252.00</td>\n      <td>Mg</td>\n      <td></td>\n      <td>NaN</td>\n    </tr>\n    <tr>\n      <th>24</th>\n      <td>na1(e)</td>\n      <td>50000.0</td>\n      <td>400000.0</td>\n      <td>12000.0</td>\n      <td>7500.00</td>\n      <td>24200.00</td>\n      <td>26400.00</td>\n      <td>Sodium</td>\n      <td>Sodium</td>\n      <td>22.98977</td>\n    </tr>\n    <tr>\n      <th>25</th>\n      <td>pb(e)</td>\n      <td>2.0</td>\n      <td>0.5</td>\n      <td>0.9</td>\n      <td>1.75</td>\n      <td>0.66</td>\n      <td>0.24</td>\n      <td>Lead</td>\n      <td>Lead</td>\n      <td>207.20000</td>\n    </tr>\n  </tbody>\n</table>\n</div>"
     },
     "metadata": {},
     "execution_count": 175
    }
   ],
   "source": [
    "Weights_Mgam=weights[weights[\"BiGG_ID\"].isin(MediumMgam)]\n",
    "Traces_AA_µg_L=AA.append(Traces)\n",
    "Traces_AA_µg_L=pd.merge(Traces_AA_µg_L, Weights_Mgam, on='BiGG_ID')\n",
    "Traces_AA_µg_L"
   ]
  },
  {
   "cell_type": "code",
   "execution_count": 176,
   "metadata": {},
   "outputs": [],
   "source": [
    "col_list= list(Traces_AA_µg_L)\n",
    "col_list.remove('mol_weight')"
   ]
  },
  {
   "cell_type": "code",
   "execution_count": 177,
   "metadata": {},
   "outputs": [
    {
     "output_type": "execute_result",
     "data": {
      "text/plain": [
       "     BiGG_ID  conc_µg_L_Bact_Peptone_L37  conc_µg_L_Proteose_Peptone_L85  conc_µg_L_soya_peptone_L44  conc_µg_L_yeast_extract  conc_µg_L_Lab_Lemco_L29  conc_µg_L_Liver_Digest_Neutralized_L27            query              hit  mol_weight    sum_µg_L        mg_L\n",
       "0   ala_L(e)                    196000.0                        190500.0                     77100.0                 22750.00                128700.00                                40800.00        L-Alanine        L-Alanine    89.09322   655850.00   655.85000\n",
       "1   arg_L(e)                    249500.0                        290000.0                    139200.0                 82750.00                156200.00                                34680.00       L-Arginine       L-Arginine   174.20100   952330.00   952.33000\n",
       "2   asp_L(e)                    303000.0                        292500.0                    211800.0                176750.00                112200.00                                70200.00      L-Aspartate  L-Aspartic acid   133.10270  1166450.00  1166.45000\n",
       "3   cys_L(e)                     83000.0                          7500.0                     15900.0                 19000.00                 14960.00                                 4080.00       L-Cysteine       L-Cysteine   121.15800   144440.00   144.44000\n",
       "4   glu_L(e)                    496500.0                        689000.0                    441300.0                337250.00                235620.00                               124560.00      L-Glutamate  L-Glutamic acid   147.12930  2324230.00  2324.23000\n",
       "5     gly(e)                    385500.0                        222500.0                     84900.0                148750.00                238700.00                                45960.00          Glycine          Glycine    75.06664  1126310.00  1126.31000\n",
       "6   ile_L(e)                    190500.0                        229000.0                     75300.0                120250.00                 69740.00                                25320.00     L-Isoleucine     L-Isoleucine   131.17500   710110.00   710.11000\n",
       "7   leu_L(e)                    189500.0                        300500.0                    129300.0                151000.00                 69300.00                                71520.00        L-Leucine        L-Leucine   131.17296   911120.00   911.12000\n",
       "8   lys_L(e)                    219000.0                        230500.0                    113100.0                135000.00                105160.00                                72240.00         L-Lysine         L-Lysine   146.18764   875000.00   875.00000\n",
       "9   met_L(e)                     79000.0                         54000.0                     18600.0                 20000.00                 57420.00                                11400.00     L-Methionine     L-Methionine   149.21238   240420.00   240.42000\n",
       "10  phe_L(e)                    130000.0                        233000.0                     11400.0                 94500.00                 51480.00                                29400.00  L-Phenylalanine  L-Phenylalanine   165.18918   549780.00   549.78000\n",
       "11  pro_L(e)                    291500.0                        299500.0                    102000.0                 22000.00                171380.00                                28560.00        L-Proline        L-Proline   115.13050   914940.00   914.94000\n",
       "12  ser_L(e)                    140500.0                        109000.0                     20100.0                 85500.00                 41140.00                                 9960.00         L-Serine         L-Serine   105.09262   406200.00   406.20000\n",
       "13  thr_L(e)                     62500.0                        137500.0                     50400.0                 68250.00                 55880.00                                17040.00      L-Threonine      L-Threonine   119.11920   391570.00   391.57000\n",
       "14  trp_L(e)                     33000.0                         37500.0                     19200.0                 21250.00                  7480.00                                12240.00     L-Tryptophan     L-Tryptophan   204.22526   130670.00   130.67000\n",
       "15  tyr_L(e)                     19500.0                         88500.0                     62700.0                123750.00                 14520.00                                30480.00       L-Tyrosine       L-Tyrosine   181.18858   339450.00   339.45000\n",
       "16  val_L(e)                    166500.0                        205500.0                    109500.0                 25000.00                 67320.00                                36600.00         L-Valine         L-Valine   117.14638   610420.00   610.42000\n",
       "17    ca2(e)                      3175.0                          1000.0                       675.0                   387.50                   308.00                                  117.60          Calcium          Calcium    40.07800     5663.10     5.66310\n",
       "18     cl(e)                     50000.0                        400000.0                     12000.0                  7500.00                 24200.00                                26400.00         Chloride     Chloride ion    35.45270   520100.00   520.10000\n",
       "19    cu2(e)                         5.0                            50.0                         6.0                     5.00                     4.40                                   14.40              Cu2                          NaN       84.80     0.08480\n",
       "20    fe2(e)                        55.0                           105.0                       135.0                    65.00                    22.00                                  147.00              Fe2                          NaN      529.00     0.52900\n",
       "21    fe3(e)                        55.0                           105.0                       135.0                    65.00                    22.00                                  147.00              Fe3                          NaN      529.00     0.52900\n",
       "22      k(e)                    180000.0                         70000.0                     99000.0                182500.00                 41800.00                                19200.00                K         L-Lysine   146.18764   592500.00   592.50000\n",
       "23    mg2(e)                      1325.0                          1700.0                      4590.0                   512.50                   308.00                                  252.00               Mg                          NaN     8687.50     8.68750\n",
       "24    na1(e)                     50000.0                        400000.0                     12000.0                  7500.00                 24200.00                                26400.00           Sodium           Sodium    22.98977   520100.00   520.10000\n",
       "25     pb(e)                         2.0                             0.5                         0.9                     1.75                     0.66                                    0.24             Lead             Lead   207.20000        6.05     0.00605"
      ],
      "text/html": "<div>\n<style scoped>\n    .dataframe tbody tr th:only-of-type {\n        vertical-align: middle;\n    }\n\n    .dataframe tbody tr th {\n        vertical-align: top;\n    }\n\n    .dataframe thead th {\n        text-align: right;\n    }\n</style>\n<table border=\"1\" class=\"dataframe\">\n  <thead>\n    <tr style=\"text-align: right;\">\n      <th></th>\n      <th>BiGG_ID</th>\n      <th>conc_µg_L_Bact_Peptone_L37</th>\n      <th>conc_µg_L_Proteose_Peptone_L85</th>\n      <th>conc_µg_L_soya_peptone_L44</th>\n      <th>conc_µg_L_yeast_extract</th>\n      <th>conc_µg_L_Lab_Lemco_L29</th>\n      <th>conc_µg_L_Liver_Digest_Neutralized_L27</th>\n      <th>query</th>\n      <th>hit</th>\n      <th>mol_weight</th>\n      <th>sum_µg_L</th>\n      <th>mg_L</th>\n    </tr>\n  </thead>\n  <tbody>\n    <tr>\n      <th>0</th>\n      <td>ala_L(e)</td>\n      <td>196000.0</td>\n      <td>190500.0</td>\n      <td>77100.0</td>\n      <td>22750.00</td>\n      <td>128700.00</td>\n      <td>40800.00</td>\n      <td>L-Alanine</td>\n      <td>L-Alanine</td>\n      <td>89.09322</td>\n      <td>655850.00</td>\n      <td>655.85000</td>\n    </tr>\n    <tr>\n      <th>1</th>\n      <td>arg_L(e)</td>\n      <td>249500.0</td>\n      <td>290000.0</td>\n      <td>139200.0</td>\n      <td>82750.00</td>\n      <td>156200.00</td>\n      <td>34680.00</td>\n      <td>L-Arginine</td>\n      <td>L-Arginine</td>\n      <td>174.20100</td>\n      <td>952330.00</td>\n      <td>952.33000</td>\n    </tr>\n    <tr>\n      <th>2</th>\n      <td>asp_L(e)</td>\n      <td>303000.0</td>\n      <td>292500.0</td>\n      <td>211800.0</td>\n      <td>176750.00</td>\n      <td>112200.00</td>\n      <td>70200.00</td>\n      <td>L-Aspartate</td>\n      <td>L-Aspartic acid</td>\n      <td>133.10270</td>\n      <td>1166450.00</td>\n      <td>1166.45000</td>\n    </tr>\n    <tr>\n      <th>3</th>\n      <td>cys_L(e)</td>\n      <td>83000.0</td>\n      <td>7500.0</td>\n      <td>15900.0</td>\n      <td>19000.00</td>\n      <td>14960.00</td>\n      <td>4080.00</td>\n      <td>L-Cysteine</td>\n      <td>L-Cysteine</td>\n      <td>121.15800</td>\n      <td>144440.00</td>\n      <td>144.44000</td>\n    </tr>\n    <tr>\n      <th>4</th>\n      <td>glu_L(e)</td>\n      <td>496500.0</td>\n      <td>689000.0</td>\n      <td>441300.0</td>\n      <td>337250.00</td>\n      <td>235620.00</td>\n      <td>124560.00</td>\n      <td>L-Glutamate</td>\n      <td>L-Glutamic acid</td>\n      <td>147.12930</td>\n      <td>2324230.00</td>\n      <td>2324.23000</td>\n    </tr>\n    <tr>\n      <th>5</th>\n      <td>gly(e)</td>\n      <td>385500.0</td>\n      <td>222500.0</td>\n      <td>84900.0</td>\n      <td>148750.00</td>\n      <td>238700.00</td>\n      <td>45960.00</td>\n      <td>Glycine</td>\n      <td>Glycine</td>\n      <td>75.06664</td>\n      <td>1126310.00</td>\n      <td>1126.31000</td>\n    </tr>\n    <tr>\n      <th>6</th>\n      <td>ile_L(e)</td>\n      <td>190500.0</td>\n      <td>229000.0</td>\n      <td>75300.0</td>\n      <td>120250.00</td>\n      <td>69740.00</td>\n      <td>25320.00</td>\n      <td>L-Isoleucine</td>\n      <td>L-Isoleucine</td>\n      <td>131.17500</td>\n      <td>710110.00</td>\n      <td>710.11000</td>\n    </tr>\n    <tr>\n      <th>7</th>\n      <td>leu_L(e)</td>\n      <td>189500.0</td>\n      <td>300500.0</td>\n      <td>129300.0</td>\n      <td>151000.00</td>\n      <td>69300.00</td>\n      <td>71520.00</td>\n      <td>L-Leucine</td>\n      <td>L-Leucine</td>\n      <td>131.17296</td>\n      <td>911120.00</td>\n      <td>911.12000</td>\n    </tr>\n    <tr>\n      <th>8</th>\n      <td>lys_L(e)</td>\n      <td>219000.0</td>\n      <td>230500.0</td>\n      <td>113100.0</td>\n      <td>135000.00</td>\n      <td>105160.00</td>\n      <td>72240.00</td>\n      <td>L-Lysine</td>\n      <td>L-Lysine</td>\n      <td>146.18764</td>\n      <td>875000.00</td>\n      <td>875.00000</td>\n    </tr>\n    <tr>\n      <th>9</th>\n      <td>met_L(e)</td>\n      <td>79000.0</td>\n      <td>54000.0</td>\n      <td>18600.0</td>\n      <td>20000.00</td>\n      <td>57420.00</td>\n      <td>11400.00</td>\n      <td>L-Methionine</td>\n      <td>L-Methionine</td>\n      <td>149.21238</td>\n      <td>240420.00</td>\n      <td>240.42000</td>\n    </tr>\n    <tr>\n      <th>10</th>\n      <td>phe_L(e)</td>\n      <td>130000.0</td>\n      <td>233000.0</td>\n      <td>11400.0</td>\n      <td>94500.00</td>\n      <td>51480.00</td>\n      <td>29400.00</td>\n      <td>L-Phenylalanine</td>\n      <td>L-Phenylalanine</td>\n      <td>165.18918</td>\n      <td>549780.00</td>\n      <td>549.78000</td>\n    </tr>\n    <tr>\n      <th>11</th>\n      <td>pro_L(e)</td>\n      <td>291500.0</td>\n      <td>299500.0</td>\n      <td>102000.0</td>\n      <td>22000.00</td>\n      <td>171380.00</td>\n      <td>28560.00</td>\n      <td>L-Proline</td>\n      <td>L-Proline</td>\n      <td>115.13050</td>\n      <td>914940.00</td>\n      <td>914.94000</td>\n    </tr>\n    <tr>\n      <th>12</th>\n      <td>ser_L(e)</td>\n      <td>140500.0</td>\n      <td>109000.0</td>\n      <td>20100.0</td>\n      <td>85500.00</td>\n      <td>41140.00</td>\n      <td>9960.00</td>\n      <td>L-Serine</td>\n      <td>L-Serine</td>\n      <td>105.09262</td>\n      <td>406200.00</td>\n      <td>406.20000</td>\n    </tr>\n    <tr>\n      <th>13</th>\n      <td>thr_L(e)</td>\n      <td>62500.0</td>\n      <td>137500.0</td>\n      <td>50400.0</td>\n      <td>68250.00</td>\n      <td>55880.00</td>\n      <td>17040.00</td>\n      <td>L-Threonine</td>\n      <td>L-Threonine</td>\n      <td>119.11920</td>\n      <td>391570.00</td>\n      <td>391.57000</td>\n    </tr>\n    <tr>\n      <th>14</th>\n      <td>trp_L(e)</td>\n      <td>33000.0</td>\n      <td>37500.0</td>\n      <td>19200.0</td>\n      <td>21250.00</td>\n      <td>7480.00</td>\n      <td>12240.00</td>\n      <td>L-Tryptophan</td>\n      <td>L-Tryptophan</td>\n      <td>204.22526</td>\n      <td>130670.00</td>\n      <td>130.67000</td>\n    </tr>\n    <tr>\n      <th>15</th>\n      <td>tyr_L(e)</td>\n      <td>19500.0</td>\n      <td>88500.0</td>\n      <td>62700.0</td>\n      <td>123750.00</td>\n      <td>14520.00</td>\n      <td>30480.00</td>\n      <td>L-Tyrosine</td>\n      <td>L-Tyrosine</td>\n      <td>181.18858</td>\n      <td>339450.00</td>\n      <td>339.45000</td>\n    </tr>\n    <tr>\n      <th>16</th>\n      <td>val_L(e)</td>\n      <td>166500.0</td>\n      <td>205500.0</td>\n      <td>109500.0</td>\n      <td>25000.00</td>\n      <td>67320.00</td>\n      <td>36600.00</td>\n      <td>L-Valine</td>\n      <td>L-Valine</td>\n      <td>117.14638</td>\n      <td>610420.00</td>\n      <td>610.42000</td>\n    </tr>\n    <tr>\n      <th>17</th>\n      <td>ca2(e)</td>\n      <td>3175.0</td>\n      <td>1000.0</td>\n      <td>675.0</td>\n      <td>387.50</td>\n      <td>308.00</td>\n      <td>117.60</td>\n      <td>Calcium</td>\n      <td>Calcium</td>\n      <td>40.07800</td>\n      <td>5663.10</td>\n      <td>5.66310</td>\n    </tr>\n    <tr>\n      <th>18</th>\n      <td>cl(e)</td>\n      <td>50000.0</td>\n      <td>400000.0</td>\n      <td>12000.0</td>\n      <td>7500.00</td>\n      <td>24200.00</td>\n      <td>26400.00</td>\n      <td>Chloride</td>\n      <td>Chloride ion</td>\n      <td>35.45270</td>\n      <td>520100.00</td>\n      <td>520.10000</td>\n    </tr>\n    <tr>\n      <th>19</th>\n      <td>cu2(e)</td>\n      <td>5.0</td>\n      <td>50.0</td>\n      <td>6.0</td>\n      <td>5.00</td>\n      <td>4.40</td>\n      <td>14.40</td>\n      <td>Cu2</td>\n      <td></td>\n      <td>NaN</td>\n      <td>84.80</td>\n      <td>0.08480</td>\n    </tr>\n    <tr>\n      <th>20</th>\n      <td>fe2(e)</td>\n      <td>55.0</td>\n      <td>105.0</td>\n      <td>135.0</td>\n      <td>65.00</td>\n      <td>22.00</td>\n      <td>147.00</td>\n      <td>Fe2</td>\n      <td></td>\n      <td>NaN</td>\n      <td>529.00</td>\n      <td>0.52900</td>\n    </tr>\n    <tr>\n      <th>21</th>\n      <td>fe3(e)</td>\n      <td>55.0</td>\n      <td>105.0</td>\n      <td>135.0</td>\n      <td>65.00</td>\n      <td>22.00</td>\n      <td>147.00</td>\n      <td>Fe3</td>\n      <td></td>\n      <td>NaN</td>\n      <td>529.00</td>\n      <td>0.52900</td>\n    </tr>\n    <tr>\n      <th>22</th>\n      <td>k(e)</td>\n      <td>180000.0</td>\n      <td>70000.0</td>\n      <td>99000.0</td>\n      <td>182500.00</td>\n      <td>41800.00</td>\n      <td>19200.00</td>\n      <td>K</td>\n      <td>L-Lysine</td>\n      <td>146.18764</td>\n      <td>592500.00</td>\n      <td>592.50000</td>\n    </tr>\n    <tr>\n      <th>23</th>\n      <td>mg2(e)</td>\n      <td>1325.0</td>\n      <td>1700.0</td>\n      <td>4590.0</td>\n      <td>512.50</td>\n      <td>308.00</td>\n      <td>252.00</td>\n      <td>Mg</td>\n      <td></td>\n      <td>NaN</td>\n      <td>8687.50</td>\n      <td>8.68750</td>\n    </tr>\n    <tr>\n      <th>24</th>\n      <td>na1(e)</td>\n      <td>50000.0</td>\n      <td>400000.0</td>\n      <td>12000.0</td>\n      <td>7500.00</td>\n      <td>24200.00</td>\n      <td>26400.00</td>\n      <td>Sodium</td>\n      <td>Sodium</td>\n      <td>22.98977</td>\n      <td>520100.00</td>\n      <td>520.10000</td>\n    </tr>\n    <tr>\n      <th>25</th>\n      <td>pb(e)</td>\n      <td>2.0</td>\n      <td>0.5</td>\n      <td>0.9</td>\n      <td>1.75</td>\n      <td>0.66</td>\n      <td>0.24</td>\n      <td>Lead</td>\n      <td>Lead</td>\n      <td>207.20000</td>\n      <td>6.05</td>\n      <td>0.00605</td>\n    </tr>\n  </tbody>\n</table>\n</div>"
     },
     "metadata": {},
     "execution_count": 177
    }
   ],
   "source": [
    "µg_to_mg=1/1000\n",
    "if \"sum_µg_L\" not in Traces_AA_µg_L.columns:\n",
    "    Traces_AA_µg_L[\"sum_µg_L\"]=Traces_AA_µg_L[col_list].sum(numeric_only=True, axis=1)\n",
    "Traces_AA_µg_L[\"mg_L\"]=np.array(Traces_AA_µg_L[\"sum_µg_L\"])*µg_to_mg\n",
    "Traces_AA_µg_L"
   ]
  },
  {
   "cell_type": "code",
   "execution_count": 178,
   "metadata": {},
   "outputs": [
    {
     "output_type": "execute_result",
     "data": {
      "text/plain": [
       "     BiGG_ID    mg_L                                              query           hit  mol_weight\n",
       "0     glc(e)   500.0                                          D-Glucose     D-Glucose   180.15588\n",
       "1  strch1(e)  5000.0  starch, structure 1 (1,6-{7[1,4-Glc], 4[1,4-Gl...                       NaN\n",
       "2   trp_L(e)   200.0                                       L-Tryptophan  L-Tryptophan   204.22526\n",
       "3   cys_L(e)   300.0                                         L-Cysteine    L-Cysteine   121.15800\n",
       "4       h(e)   300.0                                                  H   L-Histidine   155.15468\n",
       "5      cl(e)  3300.0                                           Chloride  Chloride ion    35.45270\n",
       "6     na1(e)  3300.0                                             Sodium        Sodium    22.98977\n",
       "7   arg_L(e)  1000.0                                         L-Arginine    L-Arginine   174.20100\n",
       "8       k(e)  2500.0                                                  K      L-Lysine   146.18764\n",
       "9      pi(e)  2500.0                                          Phosphate     Phosphate    97.99520"
      ],
      "text/html": "<div>\n<style scoped>\n    .dataframe tbody tr th:only-of-type {\n        vertical-align: middle;\n    }\n\n    .dataframe tbody tr th {\n        vertical-align: top;\n    }\n\n    .dataframe thead th {\n        text-align: right;\n    }\n</style>\n<table border=\"1\" class=\"dataframe\">\n  <thead>\n    <tr style=\"text-align: right;\">\n      <th></th>\n      <th>BiGG_ID</th>\n      <th>mg_L</th>\n      <th>query</th>\n      <th>hit</th>\n      <th>mol_weight</th>\n    </tr>\n  </thead>\n  <tbody>\n    <tr>\n      <th>0</th>\n      <td>glc(e)</td>\n      <td>500.0</td>\n      <td>D-Glucose</td>\n      <td>D-Glucose</td>\n      <td>180.15588</td>\n    </tr>\n    <tr>\n      <th>1</th>\n      <td>strch1(e)</td>\n      <td>5000.0</td>\n      <td>starch, structure 1 (1,6-{7[1,4-Glc], 4[1,4-Gl...</td>\n      <td></td>\n      <td>NaN</td>\n    </tr>\n    <tr>\n      <th>2</th>\n      <td>trp_L(e)</td>\n      <td>200.0</td>\n      <td>L-Tryptophan</td>\n      <td>L-Tryptophan</td>\n      <td>204.22526</td>\n    </tr>\n    <tr>\n      <th>3</th>\n      <td>cys_L(e)</td>\n      <td>300.0</td>\n      <td>L-Cysteine</td>\n      <td>L-Cysteine</td>\n      <td>121.15800</td>\n    </tr>\n    <tr>\n      <th>4</th>\n      <td>h(e)</td>\n      <td>300.0</td>\n      <td>H</td>\n      <td>L-Histidine</td>\n      <td>155.15468</td>\n    </tr>\n    <tr>\n      <th>5</th>\n      <td>cl(e)</td>\n      <td>3300.0</td>\n      <td>Chloride</td>\n      <td>Chloride ion</td>\n      <td>35.45270</td>\n    </tr>\n    <tr>\n      <th>6</th>\n      <td>na1(e)</td>\n      <td>3300.0</td>\n      <td>Sodium</td>\n      <td>Sodium</td>\n      <td>22.98977</td>\n    </tr>\n    <tr>\n      <th>7</th>\n      <td>arg_L(e)</td>\n      <td>1000.0</td>\n      <td>L-Arginine</td>\n      <td>L-Arginine</td>\n      <td>174.20100</td>\n    </tr>\n    <tr>\n      <th>8</th>\n      <td>k(e)</td>\n      <td>2500.0</td>\n      <td>K</td>\n      <td>L-Lysine</td>\n      <td>146.18764</td>\n    </tr>\n    <tr>\n      <th>9</th>\n      <td>pi(e)</td>\n      <td>2500.0</td>\n      <td>Phosphate</td>\n      <td>Phosphate</td>\n      <td>97.99520</td>\n    </tr>\n  </tbody>\n</table>\n</div>"
     },
     "metadata": {},
     "execution_count": 178
    }
   ],
   "source": [
    "#Defined ingredients\n",
    "g_to_mg=1000\n",
    "defined=np.array(['glc(e)','strch1(e)', 'trp_L(e)', 'cys_L(e)', 'h(e)', 'cl(e)', 'na1(e)', 'arg_L(e)', 'k(e)', 'pi(e)'])\n",
    "conc_defined_g_l=np.array([0.5, 5, 0.2, 0.3, 0.3, 0.3+3, 0.3+3, 1, 2.5, 2.5])*g_to_mg\n",
    "defined_g_L=pd.merge(pd.DataFrame({'BiGG_ID':defined, 'mg_L':conc_defined_g_l}), Weights_Mgam, on='BiGG_ID')\n",
    "defined_g_L"
   ]
  },
  {
   "cell_type": "code",
   "execution_count": 179,
   "metadata": {},
   "outputs": [],
   "source": [
    "Traces_AA_def=Traces_AA_µg_L[[\"BiGG_ID\", \"query\", \"hit\", \"mg_L\", \"mol_weight\"]].append(defined_g_L).reset_index()\n",
    "\n",
    "missing_weights_BiGG_ID=np.array(Traces_AA_def[Traces_AA_def['mol_weight'].isnull()][\"BiGG_ID\"])\n",
    "missing_weights=Mol_Weight([\"Copper\", \"Fe\", \"Magnesium\", \"Maltoundecadose\"]) #Maltoundecadose equals \n",
    "Fe=missing_weights.loc[1:1]\n",
    "missing_weights_weights = pd.concat([missing_weights.loc[:1], Fe, missing_weights.loc[2:]]).reset_index(drop=True)\n",
    "missing_weights_weights.loc[4:4][\"mol_weight\"]=1801.6 #g/mol https://pubchem.ncbi.nlm.nih.gov/compound/Maltoundecaose#section=Computed-Properties "
   ]
  },
  {
   "cell_type": "code",
   "execution_count": 180,
   "metadata": {},
   "outputs": [
    {
     "output_type": "execute_result",
     "data": {
      "text/plain": [
       "    index    BiGG_ID                                              query              hit        mg_L  mol_weight      mmol/L\n",
       "0       0   ala_L(e)                                          L-Alanine        L-Alanine   655.85000    89.09322    7.361391\n",
       "1       1   arg_L(e)                                         L-Arginine       L-Arginine   952.33000   174.20100    5.466846\n",
       "2       2   asp_L(e)                                        L-Aspartate  L-Aspartic acid  1166.45000   133.10270    8.763534\n",
       "3       3   cys_L(e)                                         L-Cysteine       L-Cysteine   144.44000   121.15800    1.192162\n",
       "4       4   glu_L(e)                                        L-Glutamate  L-Glutamic acid  2324.23000   147.12930   15.797193\n",
       "5       5     gly(e)                                            Glycine          Glycine  1126.31000    75.06664   15.004135\n",
       "6       6   ile_L(e)                                       L-Isoleucine     L-Isoleucine   710.11000   131.17500    5.413455\n",
       "7       7   leu_L(e)                                          L-Leucine        L-Leucine   911.12000   131.17296    6.945944\n",
       "8       8   lys_L(e)                                           L-Lysine         L-Lysine   875.00000   146.18764    5.985458\n",
       "9       9   met_L(e)                                       L-Methionine     L-Methionine   240.42000   149.21238    1.611260\n",
       "10     10   phe_L(e)                                    L-Phenylalanine  L-Phenylalanine   549.78000   165.18918    3.328184\n",
       "11     11   pro_L(e)                                          L-Proline        L-Proline   914.94000   115.13050    7.946982\n",
       "12     12   ser_L(e)                                           L-Serine         L-Serine   406.20000   105.09262    3.865162\n",
       "13     13   thr_L(e)                                        L-Threonine      L-Threonine   391.57000   119.11920    3.287211\n",
       "14     14   trp_L(e)                                       L-Tryptophan     L-Tryptophan   130.67000   204.22526    0.639833\n",
       "15     15   tyr_L(e)                                         L-Tyrosine       L-Tyrosine   339.45000   181.18858    1.873462\n",
       "16     16   val_L(e)                                           L-Valine         L-Valine   610.42000   117.14638    5.210746\n",
       "17     17     ca2(e)                                            Calcium          Calcium     5.66310    40.07800    0.141302\n",
       "18     18      cl(e)                                           Chloride     Chloride ion   520.10000    35.45270   14.670251\n",
       "19     19     cu2(e)                                                Cu2                      0.08480    63.54600    0.001334\n",
       "20     20     fe2(e)                                                Fe2                      0.52900    55.84500    0.009473\n",
       "21     21     fe3(e)                                                Fe3                      0.52900    55.84500    0.009473\n",
       "22     22       k(e)                                                  K         L-Lysine   592.50000   146.18764    4.053010\n",
       "23     23     mg2(e)                                                 Mg                      8.68750    24.30500    0.357437\n",
       "24     24     na1(e)                                             Sodium           Sodium   520.10000    22.98977   22.623106\n",
       "25     25      pb(e)                                               Lead             Lead     0.00605   207.20000    0.000029\n",
       "26      0     glc(e)                                          D-Glucose        D-Glucose   500.00000   180.15588    2.775374\n",
       "27      1  strch1(e)  starch, structure 1 (1,6-{7[1,4-Glc], 4[1,4-Gl...                   5000.00000  1801.60000    2.775311\n",
       "28      2   trp_L(e)                                       L-Tryptophan     L-Tryptophan   200.00000   204.22526    0.979311\n",
       "29      3   cys_L(e)                                         L-Cysteine       L-Cysteine   300.00000   121.15800    2.476106\n",
       "30      4       h(e)                                                  H      L-Histidine   300.00000   155.15468    1.933554\n",
       "31      5      cl(e)                                           Chloride     Chloride ion  3300.00000    35.45270   93.081768\n",
       "32      6     na1(e)                                             Sodium           Sodium  3300.00000    22.98977  143.542106\n",
       "33      7   arg_L(e)                                         L-Arginine       L-Arginine  1000.00000   174.20100    5.740495\n",
       "34      8       k(e)                                                  K         L-Lysine  2500.00000   146.18764   17.101309\n",
       "35      9      pi(e)                                          Phosphate        Phosphate  2500.00000    97.99520   25.511454"
      ],
      "text/html": "<div>\n<style scoped>\n    .dataframe tbody tr th:only-of-type {\n        vertical-align: middle;\n    }\n\n    .dataframe tbody tr th {\n        vertical-align: top;\n    }\n\n    .dataframe thead th {\n        text-align: right;\n    }\n</style>\n<table border=\"1\" class=\"dataframe\">\n  <thead>\n    <tr style=\"text-align: right;\">\n      <th></th>\n      <th>index</th>\n      <th>BiGG_ID</th>\n      <th>query</th>\n      <th>hit</th>\n      <th>mg_L</th>\n      <th>mol_weight</th>\n      <th>mmol/L</th>\n    </tr>\n  </thead>\n  <tbody>\n    <tr>\n      <th>0</th>\n      <td>0</td>\n      <td>ala_L(e)</td>\n      <td>L-Alanine</td>\n      <td>L-Alanine</td>\n      <td>655.85000</td>\n      <td>89.09322</td>\n      <td>7.361391</td>\n    </tr>\n    <tr>\n      <th>1</th>\n      <td>1</td>\n      <td>arg_L(e)</td>\n      <td>L-Arginine</td>\n      <td>L-Arginine</td>\n      <td>952.33000</td>\n      <td>174.20100</td>\n      <td>5.466846</td>\n    </tr>\n    <tr>\n      <th>2</th>\n      <td>2</td>\n      <td>asp_L(e)</td>\n      <td>L-Aspartate</td>\n      <td>L-Aspartic acid</td>\n      <td>1166.45000</td>\n      <td>133.10270</td>\n      <td>8.763534</td>\n    </tr>\n    <tr>\n      <th>3</th>\n      <td>3</td>\n      <td>cys_L(e)</td>\n      <td>L-Cysteine</td>\n      <td>L-Cysteine</td>\n      <td>144.44000</td>\n      <td>121.15800</td>\n      <td>1.192162</td>\n    </tr>\n    <tr>\n      <th>4</th>\n      <td>4</td>\n      <td>glu_L(e)</td>\n      <td>L-Glutamate</td>\n      <td>L-Glutamic acid</td>\n      <td>2324.23000</td>\n      <td>147.12930</td>\n      <td>15.797193</td>\n    </tr>\n    <tr>\n      <th>5</th>\n      <td>5</td>\n      <td>gly(e)</td>\n      <td>Glycine</td>\n      <td>Glycine</td>\n      <td>1126.31000</td>\n      <td>75.06664</td>\n      <td>15.004135</td>\n    </tr>\n    <tr>\n      <th>6</th>\n      <td>6</td>\n      <td>ile_L(e)</td>\n      <td>L-Isoleucine</td>\n      <td>L-Isoleucine</td>\n      <td>710.11000</td>\n      <td>131.17500</td>\n      <td>5.413455</td>\n    </tr>\n    <tr>\n      <th>7</th>\n      <td>7</td>\n      <td>leu_L(e)</td>\n      <td>L-Leucine</td>\n      <td>L-Leucine</td>\n      <td>911.12000</td>\n      <td>131.17296</td>\n      <td>6.945944</td>\n    </tr>\n    <tr>\n      <th>8</th>\n      <td>8</td>\n      <td>lys_L(e)</td>\n      <td>L-Lysine</td>\n      <td>L-Lysine</td>\n      <td>875.00000</td>\n      <td>146.18764</td>\n      <td>5.985458</td>\n    </tr>\n    <tr>\n      <th>9</th>\n      <td>9</td>\n      <td>met_L(e)</td>\n      <td>L-Methionine</td>\n      <td>L-Methionine</td>\n      <td>240.42000</td>\n      <td>149.21238</td>\n      <td>1.611260</td>\n    </tr>\n    <tr>\n      <th>10</th>\n      <td>10</td>\n      <td>phe_L(e)</td>\n      <td>L-Phenylalanine</td>\n      <td>L-Phenylalanine</td>\n      <td>549.78000</td>\n      <td>165.18918</td>\n      <td>3.328184</td>\n    </tr>\n    <tr>\n      <th>11</th>\n      <td>11</td>\n      <td>pro_L(e)</td>\n      <td>L-Proline</td>\n      <td>L-Proline</td>\n      <td>914.94000</td>\n      <td>115.13050</td>\n      <td>7.946982</td>\n    </tr>\n    <tr>\n      <th>12</th>\n      <td>12</td>\n      <td>ser_L(e)</td>\n      <td>L-Serine</td>\n      <td>L-Serine</td>\n      <td>406.20000</td>\n      <td>105.09262</td>\n      <td>3.865162</td>\n    </tr>\n    <tr>\n      <th>13</th>\n      <td>13</td>\n      <td>thr_L(e)</td>\n      <td>L-Threonine</td>\n      <td>L-Threonine</td>\n      <td>391.57000</td>\n      <td>119.11920</td>\n      <td>3.287211</td>\n    </tr>\n    <tr>\n      <th>14</th>\n      <td>14</td>\n      <td>trp_L(e)</td>\n      <td>L-Tryptophan</td>\n      <td>L-Tryptophan</td>\n      <td>130.67000</td>\n      <td>204.22526</td>\n      <td>0.639833</td>\n    </tr>\n    <tr>\n      <th>15</th>\n      <td>15</td>\n      <td>tyr_L(e)</td>\n      <td>L-Tyrosine</td>\n      <td>L-Tyrosine</td>\n      <td>339.45000</td>\n      <td>181.18858</td>\n      <td>1.873462</td>\n    </tr>\n    <tr>\n      <th>16</th>\n      <td>16</td>\n      <td>val_L(e)</td>\n      <td>L-Valine</td>\n      <td>L-Valine</td>\n      <td>610.42000</td>\n      <td>117.14638</td>\n      <td>5.210746</td>\n    </tr>\n    <tr>\n      <th>17</th>\n      <td>17</td>\n      <td>ca2(e)</td>\n      <td>Calcium</td>\n      <td>Calcium</td>\n      <td>5.66310</td>\n      <td>40.07800</td>\n      <td>0.141302</td>\n    </tr>\n    <tr>\n      <th>18</th>\n      <td>18</td>\n      <td>cl(e)</td>\n      <td>Chloride</td>\n      <td>Chloride ion</td>\n      <td>520.10000</td>\n      <td>35.45270</td>\n      <td>14.670251</td>\n    </tr>\n    <tr>\n      <th>19</th>\n      <td>19</td>\n      <td>cu2(e)</td>\n      <td>Cu2</td>\n      <td></td>\n      <td>0.08480</td>\n      <td>63.54600</td>\n      <td>0.001334</td>\n    </tr>\n    <tr>\n      <th>20</th>\n      <td>20</td>\n      <td>fe2(e)</td>\n      <td>Fe2</td>\n      <td></td>\n      <td>0.52900</td>\n      <td>55.84500</td>\n      <td>0.009473</td>\n    </tr>\n    <tr>\n      <th>21</th>\n      <td>21</td>\n      <td>fe3(e)</td>\n      <td>Fe3</td>\n      <td></td>\n      <td>0.52900</td>\n      <td>55.84500</td>\n      <td>0.009473</td>\n    </tr>\n    <tr>\n      <th>22</th>\n      <td>22</td>\n      <td>k(e)</td>\n      <td>K</td>\n      <td>L-Lysine</td>\n      <td>592.50000</td>\n      <td>146.18764</td>\n      <td>4.053010</td>\n    </tr>\n    <tr>\n      <th>23</th>\n      <td>23</td>\n      <td>mg2(e)</td>\n      <td>Mg</td>\n      <td></td>\n      <td>8.68750</td>\n      <td>24.30500</td>\n      <td>0.357437</td>\n    </tr>\n    <tr>\n      <th>24</th>\n      <td>24</td>\n      <td>na1(e)</td>\n      <td>Sodium</td>\n      <td>Sodium</td>\n      <td>520.10000</td>\n      <td>22.98977</td>\n      <td>22.623106</td>\n    </tr>\n    <tr>\n      <th>25</th>\n      <td>25</td>\n      <td>pb(e)</td>\n      <td>Lead</td>\n      <td>Lead</td>\n      <td>0.00605</td>\n      <td>207.20000</td>\n      <td>0.000029</td>\n    </tr>\n    <tr>\n      <th>26</th>\n      <td>0</td>\n      <td>glc(e)</td>\n      <td>D-Glucose</td>\n      <td>D-Glucose</td>\n      <td>500.00000</td>\n      <td>180.15588</td>\n      <td>2.775374</td>\n    </tr>\n    <tr>\n      <th>27</th>\n      <td>1</td>\n      <td>strch1(e)</td>\n      <td>starch, structure 1 (1,6-{7[1,4-Glc], 4[1,4-Gl...</td>\n      <td></td>\n      <td>5000.00000</td>\n      <td>1801.60000</td>\n      <td>2.775311</td>\n    </tr>\n    <tr>\n      <th>28</th>\n      <td>2</td>\n      <td>trp_L(e)</td>\n      <td>L-Tryptophan</td>\n      <td>L-Tryptophan</td>\n      <td>200.00000</td>\n      <td>204.22526</td>\n      <td>0.979311</td>\n    </tr>\n    <tr>\n      <th>29</th>\n      <td>3</td>\n      <td>cys_L(e)</td>\n      <td>L-Cysteine</td>\n      <td>L-Cysteine</td>\n      <td>300.00000</td>\n      <td>121.15800</td>\n      <td>2.476106</td>\n    </tr>\n    <tr>\n      <th>30</th>\n      <td>4</td>\n      <td>h(e)</td>\n      <td>H</td>\n      <td>L-Histidine</td>\n      <td>300.00000</td>\n      <td>155.15468</td>\n      <td>1.933554</td>\n    </tr>\n    <tr>\n      <th>31</th>\n      <td>5</td>\n      <td>cl(e)</td>\n      <td>Chloride</td>\n      <td>Chloride ion</td>\n      <td>3300.00000</td>\n      <td>35.45270</td>\n      <td>93.081768</td>\n    </tr>\n    <tr>\n      <th>32</th>\n      <td>6</td>\n      <td>na1(e)</td>\n      <td>Sodium</td>\n      <td>Sodium</td>\n      <td>3300.00000</td>\n      <td>22.98977</td>\n      <td>143.542106</td>\n    </tr>\n    <tr>\n      <th>33</th>\n      <td>7</td>\n      <td>arg_L(e)</td>\n      <td>L-Arginine</td>\n      <td>L-Arginine</td>\n      <td>1000.00000</td>\n      <td>174.20100</td>\n      <td>5.740495</td>\n    </tr>\n    <tr>\n      <th>34</th>\n      <td>8</td>\n      <td>k(e)</td>\n      <td>K</td>\n      <td>L-Lysine</td>\n      <td>2500.00000</td>\n      <td>146.18764</td>\n      <td>17.101309</td>\n    </tr>\n    <tr>\n      <th>35</th>\n      <td>9</td>\n      <td>pi(e)</td>\n      <td>Phosphate</td>\n      <td>Phosphate</td>\n      <td>2500.00000</td>\n      <td>97.99520</td>\n      <td>25.511454</td>\n    </tr>\n  </tbody>\n</table>\n</div>"
     },
     "metadata": {},
     "execution_count": 180
    }
   ],
   "source": [
    "index=Traces_AA_def[Traces_AA_def[\"mol_weight\"].isnull()].index\n",
    "for i in range(0,len(index)):\n",
    "    Traces_AA_def.loc[index[i],\"mol_weight\"]= missing_weights_weights[\"mol_weight\"][i]\n",
    "Traces_AA_def[\"mmol/L\"]=Traces_AA_def[\"mg_L\"]/Traces_AA_def[\"mol_weight\"]\n",
    "Traces_AA_def"
   ]
  },
  {
   "cell_type": "code",
   "execution_count": 181,
   "metadata": {},
   "outputs": [
    {
     "output_type": "execute_result",
     "data": {
      "text/plain": [
       "                 query                 hit      hmdb_id kegg_id pubchem_id chebi_id metlin_id                                             smiles  mol_weight\n",
       "0              Thiamin            Thiamine  HMDB0000235  C00378       1130    18385      5242                 CC1=C(SC=[N+]1CC2=CN=C(N=C2N)C)CCO   265.35574\n",
       "1           Riboflavin          Riboflavin  HMDB0000244  C00255     493570    17015      5249  CC1=C(C)C=C2N(C[C@H](O)[C@H](O)[C@H](O)CO)C3=N...   376.36390\n",
       "2   Reduced Riboflavin  Riboflavin reduced  HMDB0001557  C01007   22833571        -      6322  OC[C@@H](O)[C@H](O)[C@H](O)CN1C2=CC=CC=C2N=C2C...   376.36390\n",
       "3           Nicotinate      Nicotinic acid  HMDB0001488  C00253        938    15940      6272                                  OC(=O)C1=CN=CC=C1   123.10944\n",
       "4         Nicotinamide         Niacinamide  HMDB0001406  C00153        936    17154      1497                                  NC(=O)C1=CC=CN=C1   122.12472\n",
       "5         Pyridoxamine        Pyridoxamine  HMDB0001431  C00534       1052    16410       238                              CC1=NC=C(C(=C1O)CN)CO   168.19316\n",
       "6            Pyridoxal           Pyridoxal  HMDB0001545  C00250       1050    17310      6312                             CC1=NC=C(CO)C(C=O)=C1O   167.16200\n",
       "7           Pyridoxine          Pyridoxine  HMDB0000239  C00314       1054    16709      5245                              CC1=NC=C(C(=C1O)CO)CO   169.17788\n",
       "8               Folate          Folic acid  HMDB0000121  C00504       6037    27470       246  NC1=NC(=O)C2=NC(CNC3=CC=C(C=C3)C(=O)N[C@@H](CC...   441.39750\n",
       "9         Pantothenate    Pantothenic acid  HMDB0000210  C00864       6613    46905         -                   CC(C)(CO)[C@@H](O)C(=O)NCCC(O)=O   219.23502\n",
       "10              Biotin              Biotin  HMDB0000030  C00120     171548    15956       243   [H][C@]12CS[C@@H](CCCCC(O)=O)[C@@]1([H])NC(=O)N2   244.31172"
      ],
      "text/html": "<div>\n<style scoped>\n    .dataframe tbody tr th:only-of-type {\n        vertical-align: middle;\n    }\n\n    .dataframe tbody tr th {\n        vertical-align: top;\n    }\n\n    .dataframe thead th {\n        text-align: right;\n    }\n</style>\n<table border=\"1\" class=\"dataframe\">\n  <thead>\n    <tr style=\"text-align: right;\">\n      <th></th>\n      <th>query</th>\n      <th>hit</th>\n      <th>hmdb_id</th>\n      <th>kegg_id</th>\n      <th>pubchem_id</th>\n      <th>chebi_id</th>\n      <th>metlin_id</th>\n      <th>smiles</th>\n      <th>mol_weight</th>\n    </tr>\n  </thead>\n  <tbody>\n    <tr>\n      <th>0</th>\n      <td>Thiamin</td>\n      <td>Thiamine</td>\n      <td>HMDB0000235</td>\n      <td>C00378</td>\n      <td>1130</td>\n      <td>18385</td>\n      <td>5242</td>\n      <td>CC1=C(SC=[N+]1CC2=CN=C(N=C2N)C)CCO</td>\n      <td>265.35574</td>\n    </tr>\n    <tr>\n      <th>1</th>\n      <td>Riboflavin</td>\n      <td>Riboflavin</td>\n      <td>HMDB0000244</td>\n      <td>C00255</td>\n      <td>493570</td>\n      <td>17015</td>\n      <td>5249</td>\n      <td>CC1=C(C)C=C2N(C[C@H](O)[C@H](O)[C@H](O)CO)C3=N...</td>\n      <td>376.36390</td>\n    </tr>\n    <tr>\n      <th>2</th>\n      <td>Reduced Riboflavin</td>\n      <td>Riboflavin reduced</td>\n      <td>HMDB0001557</td>\n      <td>C01007</td>\n      <td>22833571</td>\n      <td>-</td>\n      <td>6322</td>\n      <td>OC[C@@H](O)[C@H](O)[C@H](O)CN1C2=CC=CC=C2N=C2C...</td>\n      <td>376.36390</td>\n    </tr>\n    <tr>\n      <th>3</th>\n      <td>Nicotinate</td>\n      <td>Nicotinic acid</td>\n      <td>HMDB0001488</td>\n      <td>C00253</td>\n      <td>938</td>\n      <td>15940</td>\n      <td>6272</td>\n      <td>OC(=O)C1=CN=CC=C1</td>\n      <td>123.10944</td>\n    </tr>\n    <tr>\n      <th>4</th>\n      <td>Nicotinamide</td>\n      <td>Niacinamide</td>\n      <td>HMDB0001406</td>\n      <td>C00153</td>\n      <td>936</td>\n      <td>17154</td>\n      <td>1497</td>\n      <td>NC(=O)C1=CC=CN=C1</td>\n      <td>122.12472</td>\n    </tr>\n    <tr>\n      <th>5</th>\n      <td>Pyridoxamine</td>\n      <td>Pyridoxamine</td>\n      <td>HMDB0001431</td>\n      <td>C00534</td>\n      <td>1052</td>\n      <td>16410</td>\n      <td>238</td>\n      <td>CC1=NC=C(C(=C1O)CN)CO</td>\n      <td>168.19316</td>\n    </tr>\n    <tr>\n      <th>6</th>\n      <td>Pyridoxal</td>\n      <td>Pyridoxal</td>\n      <td>HMDB0001545</td>\n      <td>C00250</td>\n      <td>1050</td>\n      <td>17310</td>\n      <td>6312</td>\n      <td>CC1=NC=C(CO)C(C=O)=C1O</td>\n      <td>167.16200</td>\n    </tr>\n    <tr>\n      <th>7</th>\n      <td>Pyridoxine</td>\n      <td>Pyridoxine</td>\n      <td>HMDB0000239</td>\n      <td>C00314</td>\n      <td>1054</td>\n      <td>16709</td>\n      <td>5245</td>\n      <td>CC1=NC=C(C(=C1O)CO)CO</td>\n      <td>169.17788</td>\n    </tr>\n    <tr>\n      <th>8</th>\n      <td>Folate</td>\n      <td>Folic acid</td>\n      <td>HMDB0000121</td>\n      <td>C00504</td>\n      <td>6037</td>\n      <td>27470</td>\n      <td>246</td>\n      <td>NC1=NC(=O)C2=NC(CNC3=CC=C(C=C3)C(=O)N[C@@H](CC...</td>\n      <td>441.39750</td>\n    </tr>\n    <tr>\n      <th>9</th>\n      <td>Pantothenate</td>\n      <td>Pantothenic acid</td>\n      <td>HMDB0000210</td>\n      <td>C00864</td>\n      <td>6613</td>\n      <td>46905</td>\n      <td>-</td>\n      <td>CC(C)(CO)[C@@H](O)C(=O)NCCC(O)=O</td>\n      <td>219.23502</td>\n    </tr>\n    <tr>\n      <th>10</th>\n      <td>Biotin</td>\n      <td>Biotin</td>\n      <td>HMDB0000030</td>\n      <td>C00120</td>\n      <td>171548</td>\n      <td>15956</td>\n      <td>243</td>\n      <td>[H][C@]12CS[C@@H](CCCCC(O)=O)[C@@]1([H])NC(=O)N2</td>\n      <td>244.31172</td>\n    </tr>\n  </tbody>\n</table>\n</div>"
     },
     "metadata": {},
     "execution_count": 181
    }
   ],
   "source": [
    "vitamins=Mol_Weight([\"Thiamin\", \"Riboflavin\", \"Reduced Riboflavin\", \"Nicotinate\", \"Nicotinamide\",  \"Pyridoxamine\", \"Pyridoxal\",\"Pyridoxine\", \"Folate\", \"Pantothenate\", \"Biotin\"])\n",
    "vitamins[\"mol_weight\"][2]=vitamins[\"mol_weight\"][1]\n",
    "vitamins"
   ]
  },
  {
   "cell_type": "code",
   "execution_count": 182,
   "metadata": {},
   "outputs": [
    {
     "output_type": "execute_result",
     "data": {
      "text/plain": [
       "       BiGG_ID                                              query                 hit  mol_weight        mmol/L\n",
       "0     ala_L(e)                                          L-Alanine           L-Alanine    89.09322  7.361391e+00\n",
       "1     arg_L(e)                                         L-Arginine          L-Arginine   174.20100  5.466846e+00\n",
       "2     asp_L(e)                                        L-Aspartate     L-Aspartic acid   133.10270  8.763534e+00\n",
       "3     cys_L(e)                                         L-Cysteine          L-Cysteine   121.15800  1.192162e+00\n",
       "4     glu_L(e)                                        L-Glutamate     L-Glutamic acid   147.12930  1.579719e+01\n",
       "5       gly(e)                                            Glycine             Glycine    75.06664  1.500413e+01\n",
       "6     ile_L(e)                                       L-Isoleucine        L-Isoleucine   131.17500  5.413455e+00\n",
       "7     leu_L(e)                                          L-Leucine           L-Leucine   131.17296  6.945944e+00\n",
       "8     lys_L(e)                                           L-Lysine            L-Lysine   146.18764  5.985458e+00\n",
       "9     met_L(e)                                       L-Methionine        L-Methionine   149.21238  1.611260e+00\n",
       "10    phe_L(e)                                    L-Phenylalanine     L-Phenylalanine   165.18918  3.328184e+00\n",
       "11    pro_L(e)                                          L-Proline           L-Proline   115.13050  7.946982e+00\n",
       "12    ser_L(e)                                           L-Serine            L-Serine   105.09262  3.865162e+00\n",
       "13    thr_L(e)                                        L-Threonine         L-Threonine   119.11920  3.287211e+00\n",
       "14    trp_L(e)                                       L-Tryptophan        L-Tryptophan   204.22526  6.398327e-01\n",
       "15    tyr_L(e)                                         L-Tyrosine          L-Tyrosine   181.18858  1.873462e+00\n",
       "16    val_L(e)                                           L-Valine            L-Valine   117.14638  5.210746e+00\n",
       "17      ca2(e)                                            Calcium             Calcium    40.07800  1.413020e-01\n",
       "18       cl(e)                                           Chloride        Chloride ion    35.45270  1.467025e+01\n",
       "19      cu2(e)                                                Cu2                        63.54600  1.334466e-03\n",
       "20      fe2(e)                                                Fe2                        55.84500  9.472648e-03\n",
       "21      fe3(e)                                                Fe3                        55.84500  9.472648e-03\n",
       "22        k(e)                                                  K            L-Lysine   146.18764  4.053010e+00\n",
       "23      mg2(e)                                                 Mg                        24.30500  3.574367e-01\n",
       "24      na1(e)                                             Sodium              Sodium    22.98977  2.262311e+01\n",
       "25       pb(e)                                               Lead                Lead   207.20000  2.919884e-05\n",
       "26      glc(e)                                          D-Glucose           D-Glucose   180.15588  2.775374e+00\n",
       "27   strch1(e)  starch, structure 1 (1,6-{7[1,4-Glc], 4[1,4-Gl...                      1801.60000  2.775311e+00\n",
       "28    trp_L(e)                                       L-Tryptophan        L-Tryptophan   204.22526  9.793108e-01\n",
       "29    cys_L(e)                                         L-Cysteine          L-Cysteine   121.15800  2.476106e+00\n",
       "30        h(e)                                                  H         L-Histidine   155.15468  1.933554e+00\n",
       "31       cl(e)                                           Chloride        Chloride ion    35.45270  9.308177e+01\n",
       "32      na1(e)                                             Sodium              Sodium    22.98977  1.435421e+02\n",
       "33    arg_L(e)                                         L-Arginine          L-Arginine   174.20100  5.740495e+00\n",
       "34        k(e)                                                  K            L-Lysine   146.18764  1.710131e+01\n",
       "35       pi(e)                                          Phosphate           Phosphate    97.99520  2.551145e+01\n",
       "36      thm(e)                                            Thiamin            Thiamine   265.35574  2.564105e-07\n",
       "37   ribflv(e)                                         Riboflavin          Riboflavin   376.36390  6.528256e-08\n",
       "38  rbflvrd(e)                                 Reduced Riboflavin  Riboflavin reduced   376.36390  1.632064e-06\n",
       "39      nac(e)                                         Nicotinate      Nicotinic acid   123.10944  4.989463e-06\n",
       "40     ncam(e)                                       Nicotinamide         Niacinamide   122.12472  2.011878e-08\n",
       "41    pydam(e)                                       Pyridoxamine        Pyridoxamine   168.19316  1.460820e-08\n",
       "42     pydx(e)                                          Pyridoxal           Pyridoxal   167.16200  1.469832e-08\n",
       "43    pydxn(e)                                         Pyridoxine          Pyridoxine   169.17788  3.128069e-08\n",
       "44      fol(e)                                             Folate          Folic acid   441.39750  4.795677e-08\n",
       "45   pnto_R(e)                                       Pantothenate    Pantothenic acid   219.23502  1.724177e-08\n",
       "46      btn(e)                                             Biotin              Biotin   244.31172  5.415213e-08"
      ],
      "text/html": "<div>\n<style scoped>\n    .dataframe tbody tr th:only-of-type {\n        vertical-align: middle;\n    }\n\n    .dataframe tbody tr th {\n        vertical-align: top;\n    }\n\n    .dataframe thead th {\n        text-align: right;\n    }\n</style>\n<table border=\"1\" class=\"dataframe\">\n  <thead>\n    <tr style=\"text-align: right;\">\n      <th></th>\n      <th>BiGG_ID</th>\n      <th>query</th>\n      <th>hit</th>\n      <th>mol_weight</th>\n      <th>mmol/L</th>\n    </tr>\n  </thead>\n  <tbody>\n    <tr>\n      <th>0</th>\n      <td>ala_L(e)</td>\n      <td>L-Alanine</td>\n      <td>L-Alanine</td>\n      <td>89.09322</td>\n      <td>7.361391e+00</td>\n    </tr>\n    <tr>\n      <th>1</th>\n      <td>arg_L(e)</td>\n      <td>L-Arginine</td>\n      <td>L-Arginine</td>\n      <td>174.20100</td>\n      <td>5.466846e+00</td>\n    </tr>\n    <tr>\n      <th>2</th>\n      <td>asp_L(e)</td>\n      <td>L-Aspartate</td>\n      <td>L-Aspartic acid</td>\n      <td>133.10270</td>\n      <td>8.763534e+00</td>\n    </tr>\n    <tr>\n      <th>3</th>\n      <td>cys_L(e)</td>\n      <td>L-Cysteine</td>\n      <td>L-Cysteine</td>\n      <td>121.15800</td>\n      <td>1.192162e+00</td>\n    </tr>\n    <tr>\n      <th>4</th>\n      <td>glu_L(e)</td>\n      <td>L-Glutamate</td>\n      <td>L-Glutamic acid</td>\n      <td>147.12930</td>\n      <td>1.579719e+01</td>\n    </tr>\n    <tr>\n      <th>5</th>\n      <td>gly(e)</td>\n      <td>Glycine</td>\n      <td>Glycine</td>\n      <td>75.06664</td>\n      <td>1.500413e+01</td>\n    </tr>\n    <tr>\n      <th>6</th>\n      <td>ile_L(e)</td>\n      <td>L-Isoleucine</td>\n      <td>L-Isoleucine</td>\n      <td>131.17500</td>\n      <td>5.413455e+00</td>\n    </tr>\n    <tr>\n      <th>7</th>\n      <td>leu_L(e)</td>\n      <td>L-Leucine</td>\n      <td>L-Leucine</td>\n      <td>131.17296</td>\n      <td>6.945944e+00</td>\n    </tr>\n    <tr>\n      <th>8</th>\n      <td>lys_L(e)</td>\n      <td>L-Lysine</td>\n      <td>L-Lysine</td>\n      <td>146.18764</td>\n      <td>5.985458e+00</td>\n    </tr>\n    <tr>\n      <th>9</th>\n      <td>met_L(e)</td>\n      <td>L-Methionine</td>\n      <td>L-Methionine</td>\n      <td>149.21238</td>\n      <td>1.611260e+00</td>\n    </tr>\n    <tr>\n      <th>10</th>\n      <td>phe_L(e)</td>\n      <td>L-Phenylalanine</td>\n      <td>L-Phenylalanine</td>\n      <td>165.18918</td>\n      <td>3.328184e+00</td>\n    </tr>\n    <tr>\n      <th>11</th>\n      <td>pro_L(e)</td>\n      <td>L-Proline</td>\n      <td>L-Proline</td>\n      <td>115.13050</td>\n      <td>7.946982e+00</td>\n    </tr>\n    <tr>\n      <th>12</th>\n      <td>ser_L(e)</td>\n      <td>L-Serine</td>\n      <td>L-Serine</td>\n      <td>105.09262</td>\n      <td>3.865162e+00</td>\n    </tr>\n    <tr>\n      <th>13</th>\n      <td>thr_L(e)</td>\n      <td>L-Threonine</td>\n      <td>L-Threonine</td>\n      <td>119.11920</td>\n      <td>3.287211e+00</td>\n    </tr>\n    <tr>\n      <th>14</th>\n      <td>trp_L(e)</td>\n      <td>L-Tryptophan</td>\n      <td>L-Tryptophan</td>\n      <td>204.22526</td>\n      <td>6.398327e-01</td>\n    </tr>\n    <tr>\n      <th>15</th>\n      <td>tyr_L(e)</td>\n      <td>L-Tyrosine</td>\n      <td>L-Tyrosine</td>\n      <td>181.18858</td>\n      <td>1.873462e+00</td>\n    </tr>\n    <tr>\n      <th>16</th>\n      <td>val_L(e)</td>\n      <td>L-Valine</td>\n      <td>L-Valine</td>\n      <td>117.14638</td>\n      <td>5.210746e+00</td>\n    </tr>\n    <tr>\n      <th>17</th>\n      <td>ca2(e)</td>\n      <td>Calcium</td>\n      <td>Calcium</td>\n      <td>40.07800</td>\n      <td>1.413020e-01</td>\n    </tr>\n    <tr>\n      <th>18</th>\n      <td>cl(e)</td>\n      <td>Chloride</td>\n      <td>Chloride ion</td>\n      <td>35.45270</td>\n      <td>1.467025e+01</td>\n    </tr>\n    <tr>\n      <th>19</th>\n      <td>cu2(e)</td>\n      <td>Cu2</td>\n      <td></td>\n      <td>63.54600</td>\n      <td>1.334466e-03</td>\n    </tr>\n    <tr>\n      <th>20</th>\n      <td>fe2(e)</td>\n      <td>Fe2</td>\n      <td></td>\n      <td>55.84500</td>\n      <td>9.472648e-03</td>\n    </tr>\n    <tr>\n      <th>21</th>\n      <td>fe3(e)</td>\n      <td>Fe3</td>\n      <td></td>\n      <td>55.84500</td>\n      <td>9.472648e-03</td>\n    </tr>\n    <tr>\n      <th>22</th>\n      <td>k(e)</td>\n      <td>K</td>\n      <td>L-Lysine</td>\n      <td>146.18764</td>\n      <td>4.053010e+00</td>\n    </tr>\n    <tr>\n      <th>23</th>\n      <td>mg2(e)</td>\n      <td>Mg</td>\n      <td></td>\n      <td>24.30500</td>\n      <td>3.574367e-01</td>\n    </tr>\n    <tr>\n      <th>24</th>\n      <td>na1(e)</td>\n      <td>Sodium</td>\n      <td>Sodium</td>\n      <td>22.98977</td>\n      <td>2.262311e+01</td>\n    </tr>\n    <tr>\n      <th>25</th>\n      <td>pb(e)</td>\n      <td>Lead</td>\n      <td>Lead</td>\n      <td>207.20000</td>\n      <td>2.919884e-05</td>\n    </tr>\n    <tr>\n      <th>26</th>\n      <td>glc(e)</td>\n      <td>D-Glucose</td>\n      <td>D-Glucose</td>\n      <td>180.15588</td>\n      <td>2.775374e+00</td>\n    </tr>\n    <tr>\n      <th>27</th>\n      <td>strch1(e)</td>\n      <td>starch, structure 1 (1,6-{7[1,4-Glc], 4[1,4-Gl...</td>\n      <td></td>\n      <td>1801.60000</td>\n      <td>2.775311e+00</td>\n    </tr>\n    <tr>\n      <th>28</th>\n      <td>trp_L(e)</td>\n      <td>L-Tryptophan</td>\n      <td>L-Tryptophan</td>\n      <td>204.22526</td>\n      <td>9.793108e-01</td>\n    </tr>\n    <tr>\n      <th>29</th>\n      <td>cys_L(e)</td>\n      <td>L-Cysteine</td>\n      <td>L-Cysteine</td>\n      <td>121.15800</td>\n      <td>2.476106e+00</td>\n    </tr>\n    <tr>\n      <th>30</th>\n      <td>h(e)</td>\n      <td>H</td>\n      <td>L-Histidine</td>\n      <td>155.15468</td>\n      <td>1.933554e+00</td>\n    </tr>\n    <tr>\n      <th>31</th>\n      <td>cl(e)</td>\n      <td>Chloride</td>\n      <td>Chloride ion</td>\n      <td>35.45270</td>\n      <td>9.308177e+01</td>\n    </tr>\n    <tr>\n      <th>32</th>\n      <td>na1(e)</td>\n      <td>Sodium</td>\n      <td>Sodium</td>\n      <td>22.98977</td>\n      <td>1.435421e+02</td>\n    </tr>\n    <tr>\n      <th>33</th>\n      <td>arg_L(e)</td>\n      <td>L-Arginine</td>\n      <td>L-Arginine</td>\n      <td>174.20100</td>\n      <td>5.740495e+00</td>\n    </tr>\n    <tr>\n      <th>34</th>\n      <td>k(e)</td>\n      <td>K</td>\n      <td>L-Lysine</td>\n      <td>146.18764</td>\n      <td>1.710131e+01</td>\n    </tr>\n    <tr>\n      <th>35</th>\n      <td>pi(e)</td>\n      <td>Phosphate</td>\n      <td>Phosphate</td>\n      <td>97.99520</td>\n      <td>2.551145e+01</td>\n    </tr>\n    <tr>\n      <th>36</th>\n      <td>thm(e)</td>\n      <td>Thiamin</td>\n      <td>Thiamine</td>\n      <td>265.35574</td>\n      <td>2.564105e-07</td>\n    </tr>\n    <tr>\n      <th>37</th>\n      <td>ribflv(e)</td>\n      <td>Riboflavin</td>\n      <td>Riboflavin</td>\n      <td>376.36390</td>\n      <td>6.528256e-08</td>\n    </tr>\n    <tr>\n      <th>38</th>\n      <td>rbflvrd(e)</td>\n      <td>Reduced Riboflavin</td>\n      <td>Riboflavin reduced</td>\n      <td>376.36390</td>\n      <td>1.632064e-06</td>\n    </tr>\n    <tr>\n      <th>39</th>\n      <td>nac(e)</td>\n      <td>Nicotinate</td>\n      <td>Nicotinic acid</td>\n      <td>123.10944</td>\n      <td>4.989463e-06</td>\n    </tr>\n    <tr>\n      <th>40</th>\n      <td>ncam(e)</td>\n      <td>Nicotinamide</td>\n      <td>Niacinamide</td>\n      <td>122.12472</td>\n      <td>2.011878e-08</td>\n    </tr>\n    <tr>\n      <th>41</th>\n      <td>pydam(e)</td>\n      <td>Pyridoxamine</td>\n      <td>Pyridoxamine</td>\n      <td>168.19316</td>\n      <td>1.460820e-08</td>\n    </tr>\n    <tr>\n      <th>42</th>\n      <td>pydx(e)</td>\n      <td>Pyridoxal</td>\n      <td>Pyridoxal</td>\n      <td>167.16200</td>\n      <td>1.469832e-08</td>\n    </tr>\n    <tr>\n      <th>43</th>\n      <td>pydxn(e)</td>\n      <td>Pyridoxine</td>\n      <td>Pyridoxine</td>\n      <td>169.17788</td>\n      <td>3.128069e-08</td>\n    </tr>\n    <tr>\n      <th>44</th>\n      <td>fol(e)</td>\n      <td>Folate</td>\n      <td>Folic acid</td>\n      <td>441.39750</td>\n      <td>4.795677e-08</td>\n    </tr>\n    <tr>\n      <th>45</th>\n      <td>pnto_R(e)</td>\n      <td>Pantothenate</td>\n      <td>Pantothenic acid</td>\n      <td>219.23502</td>\n      <td>1.724177e-08</td>\n    </tr>\n    <tr>\n      <th>46</th>\n      <td>btn(e)</td>\n      <td>Biotin</td>\n      <td>Biotin</td>\n      <td>244.31172</td>\n      <td>5.415213e-08</td>\n    </tr>\n  </tbody>\n</table>\n</div>"
     },
     "metadata": {},
     "execution_count": 182
    }
   ],
   "source": [
    "#Vitamins\n",
    "\n",
    "# - thm(e)' thiamin vitamin b1\n",
    "#    - biotin -> btn |from yeast extract? \n",
    "#    - 'rbflvrd(e)', 'ribflv(e)' vitamin b2\n",
    "#    - 'pydam(e)' pydx pydxn vitamin b6 from yeast extract\n",
    "#    - 'pnto_R(e)' pantothenic acid from yeast extract?\n",
    "#    - 'ptrc(e)' probably from meat extract(e)\n",
    "#    - 'spmd(e)' from meat extract and linked to ptrc\n",
    "#    - cbl1   Cyanocobalamin is a cobalt-containing coordination compound and a natural water-soluble vitamin of the B-complex family \n",
    "#    - adocbl\n",
    "#    - folate fol is of B vitamin family \n",
    "#    - tautin from meat extract\n",
    "#    - nac is nicotinate and also vitamin b and so is nacm nicotinamide\n",
    "\n",
    "\n",
    "#vitamins[\"query\"], mol_weight_vitamins, vitamins_mmol_l\n",
    "#https://www.sigmaaldrich.com/catalog/product/sial/07533?lang=de&region=DE \n",
    "#Vitamins mg/100 g product\n",
    "#Thiamin HCI (B1) ≥36\n",
    "#Riboflavin (B2) ≥13\n",
    "#Niacin ≥650\n",
    "#Vitamin B6 3.9 #pyridoxine\n",
    "#Folic acid 2.8\n",
    "#Pantothenic acid 11.2\n",
    "#Biotin ≥2\n",
    "#Inositol ≥160\n",
    "#Pyridoxine HCI 7\n",
    "\n",
    "Bact_Peptone_L37#g/L\n",
    "Proteose_Peptone_L85\n",
    "soya_peptone_L44\n",
    "yeast_extract\n",
    "Lab_Lemco_L29\n",
    "Liver_Digest_Neutralized_L27\n",
    "mg_100g_to_ppm =1/10000\n",
    "µg_to_mg=1/1000\n",
    "nb_extracts=6\n",
    "\n",
    "vitamins_mg_100g=np.array([36,13,650/2, 650/2,3.9/3, 3.9/3, 3.9/3,2.8,11.2,2,7])\n",
    "vitamins_ppm=vitamins_mg_100g * mg_100g_to_ppm\n",
    "vitamins_µg_L=vitamins_ppm*(yeast_extract+Bact_Peptone_L37+Proteose_Peptone_L85+soya_peptone_L44+Lab_Lemco_L29+Liver_Digest_Neutralized_L27)\n",
    "vitamins_mg_L=vitamins_µg_L*µg_to_mg\n",
    "vitamins_mmol_l=vitamins_mg_L/vitamins[\"mol_weight\"]\n",
    "\n",
    "vitamin_biggs=[\"thm(e)\",\"ribflv(e)\", \"rbflvrd(e)\", \"nac(e)\",\"ncam(e)\", \"pydam(e)\", \"pydx(e)\", \"pydxn(e)\",\"fol(e)\",\"pnto_R(e)\", \"btn(e)\"]\n",
    "pd.DataFrame()\n",
    "\n",
    "vitamins[\"mmol/L\"]=vitamins_mmol_l\n",
    "vitamins[\"BiGG_ID\"]=vitamin_biggs\n",
    "Traces_AA_def_Vit=pd.concat([Traces_AA_def, vitamins], join=\"inner\", ignore_index=True)\n",
    "Traces_AA_def_Vit"
   ]
  },
  {
   "cell_type": "code",
   "execution_count": 183,
   "metadata": {},
   "outputs": [
    {
     "output_type": "execute_result",
     "data": {
      "text/plain": [
       "(0       Lcyst(e)\n",
       " 1     Lcystin(e)\n",
       " 2         ade(e)\n",
       " 3      adocbl(e)\n",
       " 9        cbl1(e)\n",
       " 10       cbl2(e)\n",
       " 12    cobalt2(e)\n",
       " 21      gthox(e)\n",
       " 22      gthrd(e)\n",
       " 23        gua(e)\n",
       " 25        h2o(e)\n",
       " 26       hxan(e)\n",
       " 28        ins(e)\n",
       " 42       ptrc(e)\n",
       " 49        so4(e)\n",
       " 50       spmd(e)\n",
       " 52       taur(e)\n",
       " 55      thymd(e)\n",
       " 58        ura(e)\n",
       " 60        xan(e)\n",
       " 61      xyl_D(e)\n",
       " Name: Compound, dtype: object,\n",
       " 21,\n",
       " 62)"
      ]
     },
     "metadata": {},
     "execution_count": 183
    }
   ],
   "source": [
    "comparison=pd.DataFrame({\"Compound\":MediumMgam, \"Specific_Bound_Set\":pd.Series(MediumMgam).isin(Traces_AA_def_Vit[\"BiGG_ID\"])})\n",
    "no_specific_bound=comparison.loc[comparison[\"Specific_Bound_Set\"]==False]\n",
    "no_specific_bound[\"Compound\"], len(no_specific_bound), len(MediumMgam)"
   ]
  },
  {
   "cell_type": "code",
   "execution_count": 185,
   "metadata": {
    "tags": []
   },
   "outputs": [
    {
     "output_type": "stream",
     "name": "stdout",
     "text": [
      "\nMedium_mgam\n"
     ]
    },
    {
     "output_type": "execute_result",
     "data": {
      "text/plain": [
       "<cobra.summary.model_summary.ModelSummary at 0x7f6a5b469e90>"
      ],
      "text/html": "<h3>Objective</h3><p>1.0 Biomass_FP = 9.630812034947016e-06</p><h4>Uptake</h4><table border=\"1\" class=\"dataframe\">\n  <thead>\n    <tr style=\"text-align: right;\">\n      <th>Metabolite</th>\n      <th>Reaction</th>\n      <th>Flux</th>\n      <th>C-Number</th>\n      <th>C-Flux</th>\n    </tr>\n  </thead>\n  <tbody>\n    <tr>\n      <td>ade[e]</td>\n      <td>EX_ade(e)</td>\n      <td>1.919E-06</td>\n      <td>5</td>\n      <td>0.00%</td>\n    </tr>\n    <tr>\n      <td>ala-L[e]</td>\n      <td>EX_ala_L(e)</td>\n      <td>7.488E-06</td>\n      <td>3</td>\n      <td>0.00%</td>\n    </tr>\n    <tr>\n      <td>arg-L[e]</td>\n      <td>EX_arg_L(e)</td>\n      <td>3.668E-06</td>\n      <td>6</td>\n      <td>0.00%</td>\n    </tr>\n    <tr>\n      <td>asp-L[e]</td>\n      <td>EX_asp_L(e)</td>\n      <td>6.303E-06</td>\n      <td>4</td>\n      <td>0.00%</td>\n    </tr>\n    <tr>\n      <td>glc-D[e]</td>\n      <td>EX_glc(e)</td>\n      <td>2.775</td>\n      <td>6</td>\n      <td>96.80%</td>\n    </tr>\n    <tr>\n      <td>glu-L[e]</td>\n      <td>EX_glu_L(e)</td>\n      <td>5.822E-06</td>\n      <td>5</td>\n      <td>0.00%</td>\n    </tr>\n    <tr>\n      <td>gly[e]</td>\n      <td>EX_gly(e)</td>\n      <td>5.512E-06</td>\n      <td>2</td>\n      <td>0.00%</td>\n    </tr>\n    <tr>\n      <td>gua[e]</td>\n      <td>EX_gua(e)</td>\n      <td>2.24E-06</td>\n      <td>5</td>\n      <td>0.00%</td>\n    </tr>\n    <tr>\n      <td>ins[e]</td>\n      <td>EX_ins(e)</td>\n      <td>0.02</td>\n      <td>10</td>\n      <td>1.16%</td>\n    </tr>\n    <tr>\n      <td>leu-L[e]</td>\n      <td>EX_leu_L(e)</td>\n      <td>4.225E-06</td>\n      <td>6</td>\n      <td>0.00%</td>\n    </tr>\n    <tr>\n      <td>lys-L[e]</td>\n      <td>EX_lys_L(e)</td>\n      <td>3.212E-06</td>\n      <td>6</td>\n      <td>0.00%</td>\n    </tr>\n    <tr>\n      <td>met-L[e]</td>\n      <td>EX_met_L(e)</td>\n      <td>1.492E-06</td>\n      <td>5</td>\n      <td>0.00%</td>\n    </tr>\n    <tr>\n      <td>na1[e]</td>\n      <td>EX_na1(e)</td>\n      <td>10.7</td>\n      <td>0</td>\n      <td>0.00%</td>\n    </tr>\n    <tr>\n      <td>phe-L[e]</td>\n      <td>EX_phe_L(e)</td>\n      <td>1.743E-06</td>\n      <td>9</td>\n      <td>0.00%</td>\n    </tr>\n    <tr>\n      <td>pi[e]</td>\n      <td>EX_pi(e)</td>\n      <td>1.658E-05</td>\n      <td>0</td>\n      <td>0.00%</td>\n    </tr>\n    <tr>\n      <td>pro-L[e]</td>\n      <td>EX_pro_L(e)</td>\n      <td>2.075E-06</td>\n      <td>5</td>\n      <td>0.00%</td>\n    </tr>\n    <tr>\n      <td>ser-L[e]</td>\n      <td>EX_ser_L(e)</td>\n      <td>1.651E-05</td>\n      <td>3</td>\n      <td>0.00%</td>\n    </tr>\n    <tr>\n      <td>strch1[e]</td>\n      <td>EX_strch1(e)</td>\n      <td>0.003023</td>\n      <td>66</td>\n      <td>1.16%</td>\n    </tr>\n    <tr>\n      <td>thr-L[e]</td>\n      <td>EX_thr_L(e)</td>\n      <td>5.323E-06</td>\n      <td>4</td>\n      <td>0.00%</td>\n    </tr>\n    <tr>\n      <td>thymd[e]</td>\n      <td>EX_thymd(e)</td>\n      <td>2.264E-07</td>\n      <td>10</td>\n      <td>0.00%</td>\n    </tr>\n    <tr>\n      <td>trp-L[e]</td>\n      <td>EX_trp_L(e)</td>\n      <td>5.312E-07</td>\n      <td>11</td>\n      <td>0.00%</td>\n    </tr>\n    <tr>\n      <td>tyr-L[e]</td>\n      <td>EX_tyr_L(e)</td>\n      <td>1.293E-06</td>\n      <td>9</td>\n      <td>0.00%</td>\n    </tr>\n    <tr>\n      <td>ura[e]</td>\n      <td>EX_ura(e)</td>\n      <td>2.691E-06</td>\n      <td>4</td>\n      <td>0.00%</td>\n    </tr>\n    <tr>\n      <td>hpyr[c]</td>\n      <td>sink_hpyr</td>\n      <td>0.05</td>\n      <td>3</td>\n      <td>0.87%</td>\n    </tr>\n  </tbody>\n</table><h4>Secretion</h4><table border=\"1\" class=\"dataframe\">\n  <thead>\n    <tr style=\"text-align: right;\">\n      <th>Metabolite</th>\n      <th>Reaction</th>\n      <th>Flux</th>\n      <th>C-Number</th>\n      <th>C-Flux</th>\n    </tr>\n  </thead>\n  <tbody>\n    <tr>\n      <td>na1[c]</td>\n      <td>DM_NA1</td>\n      <td>-10.7</td>\n      <td>0</td>\n      <td>0.00%</td>\n    </tr>\n    <tr>\n      <td>but[e]</td>\n      <td>EX_but(e)</td>\n      <td>-0.05001</td>\n      <td>4</td>\n      <td>1.16%</td>\n    </tr>\n    <tr>\n      <td>co2[e]</td>\n      <td>EX_co2(e)</td>\n      <td>-0.1001</td>\n      <td>1</td>\n      <td>0.58%</td>\n    </tr>\n    <tr>\n      <td>dhor-S[e]</td>\n      <td>EX_dhor_S(e)</td>\n      <td>-8.92E-07</td>\n      <td>5</td>\n      <td>0.00%</td>\n    </tr>\n    <tr>\n      <td>h[e]</td>\n      <td>EX_h(e)</td>\n      <td>-5.6</td>\n      <td>0</td>\n      <td>0.00%</td>\n    </tr>\n    <tr>\n      <td>hxan[e]</td>\n      <td>EX_hxan(e)</td>\n      <td>-0.02</td>\n      <td>5</td>\n      <td>0.58%</td>\n    </tr>\n    <tr>\n      <td>lac-D[e]</td>\n      <td>EX_lac_D(e)</td>\n      <td>-5.6</td>\n      <td>3</td>\n      <td>97.67%</td>\n    </tr>\n    <tr>\n      <td>ptrc[e]</td>\n      <td>EX_ptrc(e)</td>\n      <td>-8.92E-07</td>\n      <td>4</td>\n      <td>0.00%</td>\n    </tr>\n  </tbody>\n</table>"
     },
     "metadata": {},
     "execution_count": 185
    }
   ],
   "source": [
    "MediumMgam_x=MediumMgam\n",
    "\n",
    "model_mgam=medium(model.copy(),MediumMgam_x)\n",
    "print('\\nMedium_mgam')\n",
    "for j,i in enumerate(Traces_AA_def_Vit[\"BiGG_ID\"]):\n",
    "    model_mgam.exchanges.get_by_id(\"EX_\"+i).lower_bound=-Traces_AA_def_Vit.loc[j,\"mmol/L\"]\n",
    "for i in no_specific_bound[\"Compound\"]:\n",
    "    model_mgam.exchanges.get_by_id(\"EX_\"+i).lower_bound=-0.02\n",
    "model_mgam.summary()"
   ]
  },
  {
   "cell_type": "code",
   "execution_count": 44,
   "metadata": {},
   "outputs": [
    {
     "output_type": "stream",
     "name": "stdout",
     "text": [
      "EX_Lcyst(e): Lcyst[e] <=> \n-0.02\nEX_Lcystin(e): Lcystin[e] <=> \n-0.02\nEX_ade(e): ade[e] <=> \n-0.02\nEX_adocbl(e): adocbl[e] <=> \n-0.02\nEX_ala_D(e): ala-D[e] <=> \n-0.02\nEX_ala_L(e): ala-L[e] <=> \n-7.361390687192584\nEX_arg_L(e): arg-L[e] <=> \n-5.740495175113805\nEX_asp_L(e): asp-L[e] <=> \n-8.763533722456419\nEX_btn(e): btn[e] <=> \n-0.02\nEX_ca2(e): ca2[e] <=> \n-0.14130196117570737\nEX_cbl1(e): cbl1[e] <=> \n-0.02\nEX_cbl2(e): cbl2[e] <=> \n-0.02\nEX_cl(e): cl[e] <=> \n-93.0817681022884\nEX_cobalt2(e): cobalt2[e] <=> \n-0.02\nEX_cu2(e): cu2[e] <=> \n-0.0013344663708179901\nEX_cys_L(e): cys-L[e] <=> \n-2.47610558114198\nEX_fe2(e): fe2[e] <=> \n-0.009472647506491183\nEX_fe3(e): fe3[e] <=> \n-0.009472647506491183\nEX_fol(e): fol[e] <=> \n-0.02\nEX_glc(e): glc-D[e] <=> \n-2.7753743036308336\nEX_gln_L(e): gln-L[e] <=> \n-0.02\nEX_glu_L(e): glu-L[e] <=> \n-15.79719335305748\nEX_gly(e): gly[e] <=> \n-15.004134992587916\nEX_gthox(e): gthox[e] <=> \n-0.02\nEX_gthrd(e): gthrd[e] <=> \n-0.02\nEX_gua(e): gua[e] <=> \n-0.02\nEX_h(e): h[e] <=> \n-1.9335543085132847\nEX_h2o(e): h2o[e] <=> \n-0.02\nEX_his_L(e): his-L[e] <=> \n-0.02\nEX_hxan(e): hxan[e] <=> \n-0.02\nEX_ile_L(e): ile-L[e] <=> \n-5.413455307794931\nEX_ins(e): ins[e] <=> \n-0.02\nEX_k(e): k[e] <=> \n-17.101308975232104\nEX_leu_L(e): leu-L[e] <=> \n-6.945943737184859\nEX_lys_L(e): lys-L[e] <=> \n-5.985458141331238\nEX_met_D(e): met-D[e] <=> \n-0.02\nEX_met_L(e): met-L[e] <=> \n-1.6112604061405629\nEX_mg2(e): mg2[e] <=> \n-0.35743674141123233\nEX_na1(e): na1[e] <=> \n-143.54210590188592\nEX_nac(e): nac[e] <=> \n-0.02\nEX_ncam(e): ncam[e] <=> \n-0.02\nEX_pb(e): pb[e] <=> \n-2.91988416988417e-05\nEX_phe_L(e): phe-L[e] <=> \n-3.3281840856646903\nEX_pi(e): pi[e] <=> \n-25.51145362221823\nEX_pnto_R(e): pnto-R[e] <=> \n-0.02\nEX_pro_L(e): pro-L[e] <=> \n-7.9469819031446916\nEX_ptrc(e): ptrc[e] <=> \n-0.02\nEX_pydam(e): pydam[e] <=> \n-0.02\nEX_pydx(e): pydx[e] <=> \n-0.02\nEX_pydxn(e): pydxn[e] <=> \n-0.02\nEX_rbflvrd(e): rbflvrd[e] <=> \n-0.02\nEX_ribflv(e): ribflv[e] <=> \n-0.02\nEX_ser_L(e): ser-L[e] <=> \n-3.8651619875877112\nEX_so4(e): so4[e] <=> \n-0.02\nEX_spmd(e): spmd[e] <=> \n-0.02\nEX_strch1(e): strch1[e] <=> \n-2.7753108348134994\nEX_taur(e): taur[e] <=> \n-0.02\nEX_thm(e): thm[e] <=> \n-0.02\nEX_thr_L(e): thr-L[e] <=> \n-3.2872114654900297\nEX_thymd(e): thymd[e] <=> \n-0.02\nEX_trp_L(e): trp-L[e] <=> \n-0.9793107865305204\nEX_tyr_L(e): tyr-L[e] <=> \n-1.8734624444873953\nEX_ura(e): ura[e] <=> \n-0.02\nEX_val_L(e): val-L[e] <=> \n-5.210745735378251\nEX_xan(e): xan[e] <=> \n-0.02\nEX_xyl_D(e): xyl-D[e] <=> \n-0.02\n"
     ]
    }
   ],
   "source": [
    "for i in MediumMgam:\n",
    "    print(model_mgam.reactions.get_by_id(i))\n",
    "    print(model_mgam.reactions.get_by_id(i).lower_bound)"
   ]
  },
  {
   "cell_type": "code",
   "execution_count": 26,
   "metadata": {},
   "outputs": [
    {
     "output_type": "stream",
     "name": "stdout",
     "text": [
      "\nActive reaction : 382 which represent 37.087379% of the model\n0.2373312888272731\n"
     ]
    }
   ],
   "source": [
    "fba = model_mgam.optimize()\n",
    "fluxes = deleteNull(fba.fluxes)\n",
    "print('\\nActive reaction : %i which represent %f%% of the model' %(len(fluxes),len(fluxes)/len(model.reactions)*100))\n",
    "print(fba.objective_value)"
   ]
  },
  {
   "cell_type": "code",
   "execution_count": 27,
   "metadata": {},
   "outputs": [
    {
     "output_type": "execute_result",
     "data": {
      "text/plain": [
       "EX_Lcystin(e)    0.000251\n",
       "EX_ade(e)        0.001080\n",
       "EX_adocbl(e)     0.000028\n",
       "EX_alagln(e)     0.002650\n",
       "EX_alahis(e)     0.000463\n",
       "EX_arg_L(e)      0.001441\n",
       "EX_btn(e)        0.000028\n",
       "EX_ca2(e)        0.000028\n",
       "EX_cl(e)         0.000028\n",
       "EX_cobalt2(e)    0.000028\n",
       "EX_cps_fp(e)     0.000028\n",
       "EX_cu2(e)        0.000028\n",
       "EX_fe3(e)        0.000028\n",
       "EX_fe3dcit(e)    0.000028\n",
       "EX_fol(e)        0.000084\n",
       "EX_glyasn(e)     0.006684\n",
       "EX_glyc3p(e)     0.009060\n",
       "EX_glygln(e)     0.001394\n",
       "EX_gua(e)        0.001163\n",
       "EX_k(e)          0.000028\n",
       "EX_metala(e)     0.000775\n",
       "EX_mg2(e)        0.000028\n",
       "EX_nac(e)        0.000056\n",
       "EX_pect(e)       0.008996\n",
       "EX_pnto_R(e)     0.000056\n",
       "EX_pydx(e)       0.000028\n",
       "EX_ribflv(e)     0.000056\n",
       "EX_ser_L(e)      0.001048\n",
       "EX_so4(e)        0.000028\n",
       "EX_thm(e)        0.000028\n",
       "EX_trp_L(e)      0.000276\n",
       "dtype: float64"
      ]
     },
     "metadata": {},
     "execution_count": 27
    }
   ],
   "source": [
    "from cobra.medium import minimal_medium\n",
    "\n",
    "max_growth = model.slim_optimize()\n",
    "minimal_medium(model, 0.005)"
   ]
  },
  {
   "cell_type": "code",
   "execution_count": 30,
   "metadata": {},
   "outputs": [
    {
     "output_type": "execute_result",
     "data": {
      "text/plain": [
       "EX_Lcystin(e)    0.011893\n",
       "EX_ade(e)        0.020000\n",
       "EX_adocbl(e)     0.001334\n",
       "EX_ala_D(e)      0.020000\n",
       "EX_ala_L(e)      0.164522\n",
       "EX_arg_L(e)      0.122112\n",
       "EX_btn(e)        0.001334\n",
       "EX_ca2(e)        0.001334\n",
       "EX_cl(e)         0.001334\n",
       "EX_cobalt2(e)    0.001334\n",
       "EX_cu2(e)        0.001334\n",
       "EX_fe3(e)        0.002669\n",
       "EX_fol(e)        0.004003\n",
       "EX_gln_L(e)      0.020000\n",
       "EX_glu_L(e)      0.174594\n",
       "EX_gua(e)        0.020000\n",
       "EX_his_L(e)      0.020000\n",
       "EX_hxan(e)       0.020000\n",
       "EX_ins(e)        0.020000\n",
       "EX_k(e)          0.001334\n",
       "EX_leu_L(e)      0.104108\n",
       "EX_lys_L(e)      0.079162\n",
       "EX_met_L(e)      0.036778\n",
       "EX_mg2(e)        0.001334\n",
       "EX_nac(e)        0.002669\n",
       "EX_pi(e)         0.440703\n",
       "EX_pnto_R(e)     0.002669\n",
       "EX_pydx(e)       0.001334\n",
       "EX_ribflv(e)     0.002669\n",
       "EX_ser_L(e)      0.923712\n",
       "EX_so4(e)        0.001334\n",
       "EX_strch1(e)     1.180099\n",
       "EX_thm(e)        0.001334\n",
       "EX_thymd(e)      0.006912\n",
       "EX_trp_L(e)      0.013090\n",
       "EX_ura(e)        0.020000\n",
       "EX_xan(e)        0.020000\n",
       "dtype: float64"
      ]
     },
     "metadata": {},
     "execution_count": 30
    }
   ],
   "source": [
    "from cobra.medium import minimal_medium\n",
    "max_growth = model_mgam.slim_optimize()\n",
    "minimal_medium(model_mgam, max_growth)"
   ]
  },
  {
   "cell_type": "markdown",
   "metadata": {},
   "source": [
    "---\n",
    "## Reinforced Clostridial Medium (RCM)\n",
    "http://www.oxoid.com/UK/blue/prod_detail/prod_detail.asp?pr=CM0149&org=53&c=UK&lang=EN\n",
    "\n",
    "* Yeast Extract -> [lots of stuff in it, unsure of what's garbage](https://www.chemicalbook.com/ChemicalProductProperty_EN_CB9440339.htm#:~:text=Yeast%20extract%20has%20a%20protein,aromatic%20compounds%20and%20other%20components.)\n",
    "    * Glutathione: gthrd (reduced version)\n",
    "    * 18 AA's: see above\n",
    "    * Dextran: glc__D (it's made of glucose)\n",
    "    * Mannan: mannan\n",
    "    * Trehalose: tre\n",
    "    * B-vitamins: (Clemence mentioned vitamins being important so I'm putting them all in)\n",
    "        * \\1. Thiamin -> thm\n",
    "        * \\2. Riboflavin -> ribflv\n",
    "        * \\3. Niacin -> trp__L (made of tryptophan)\n",
    "        * \\5. Pantothenic Acid -> pnto__R\n",
    "        * \\6. Pyridoxine -> pydxn\n",
    "        * \\7. Biotin -> btn\n",
    "        * \\9. Folic Acid -> ... can't find anything\n",
    "        * \\12. Cobalamin -> b12 (or cbl1)\n",
    "    * Biotin\n",
    "* Peptone -> Sticking with the above logic, probably a source of all AAs\n",
    "* Glucose -> Assuming D_Glucose: glc__D\n",
    "* Soluble Starch -> starch1200\n",
    "* Sodium Chloride -> na1, cl\n",
    "* Sodium Acetate -> Assuming breaking down into sodium and acetate: ac, na1\n",
    "* Cysteine Hydrochloride -> cys_L, cl, h (could also be cys_D? cys_L is more widely used)\n",
    "* Agar: Agarose (70%) and Agaropectin (30%) [according to Wiki](https://en.wikipedia.org/wiki/Agar)\n",
    "    * Agarose: D-galactose & 3,6-anhydro-L-galactopyranose\n",
    "        * D-galactose: gal\n",
    "        * 3,6-anhydro-L-galactopyranose: [similar structure & compositon to beta-D-allose](https://pubchem.ncbi.nlm.nih.gov/#query=CID67020466%20structure&tab=similarity)\n",
    "            * D-Allose: all__D\n",
    "    * Agaropectin: D-galactose, L-galactose, pyruvate, sulfate\n",
    "        * D-galactose: gal\n",
    "        * L-galactose: gal__L\n",
    "        * Pyruvate: pyr\n",
    "        * Sulfate: so4"
   ]
  },
  {
   "cell_type": "markdown",
   "metadata": {},
   "source": [
    "| Component              | Concentration (g/L) | BiGG Metabolites                                                                          |\n",
    "|------------------------|---------------------|-------------------------------------------------------------------------------------------|\n",
    "| Yeast Extract          | 13.0                | (see all AA's), gthrd, glc\\__D, mannan, tre, thm, ribflv, trp\\__L, pnto\\__R, pydxn, btn, b12 |\n",
    "| Peptone                | 10.0                | (see all AA's)                                                                            |\n",
    "| Glucose                | 5.0                 | glc_D                                                                                     |\n",
    "| Soluble Starch         | 1.0                 | starch1200                                                                                |\n",
    "| Sodium Chloride        | 5.0                 | na1, cl                                                                                   |\n",
    "| Sodium Acetate         | 3.0                 | na1, ac                                                                                   |\n",
    "| Cysteine Hydrochloride | 0.5                 | cys_L, cl, h                                                                              |\n",
    "| Agar                   | 0.5                 | gal, all\\__D, gal\\__L, pyr, so4                                                           |"
   ]
  },
  {
   "cell_type": "code",
   "execution_count": null,
   "metadata": {},
   "outputs": [],
   "source": [
    "medium_rcm = list(('gthrd','glc__D','mannan','tre','thm','ribflv','trp__L','pnto__R','pydxn','btn','b12',\n",
    "             'starch1200','na1','ac','cl','cys_L','gal','all__D','gal__L','pyr','so4'))\n",
    "medium_rcm=[mets+\"(e)\" for mets in medium_rcm]\n",
    "model_rcm=medium(model.copy(), medium_rcm)\n",
    "for i in range(1,len(model_rcm.reactions)):\n",
    "    model_rcm.reactions[i].upper_bound=1000\n",
    "    model_rcm.reactions[i].lower_bound=-1000\n",
    "model_rcm.objective = {model_rcm.reactions.get_by_id('Biomass_FP'): 1}\n",
    "model_rcm.summary()"
   ]
  },
  {
   "cell_type": "code",
   "execution_count": null,
   "metadata": {},
   "outputs": [],
   "source": [
    "model_mmcb.reactions.get_by_id('mannan')"
   ]
  },
  {
   "cell_type": "code",
   "execution_count": null,
   "metadata": {},
   "outputs": [],
   "source": [
    "# Post-optimization\n",
    "fba_rcm = model_rcm.optimize()\n",
    "fluxes = deleteNull(fba_rcm.fluxes)\n",
    "print('\\nActive reaction : %i which represent %f%% of the model' %(len(fluxes),len(fluxes)/len(model.reactions)*100))\n",
    "print(model_rcm.objective.value)"
   ]
  },
  {
   "source": [
    "---\n",
    "## mMCB\n",
    "\n",
    "(There are also supplements mentioned in the paper but this is the base medium)\n",
    "* [Bacteriological Peptome (6.5) (Oxoid)](http://www.oxoid.com/UK/blue/prod_detail/prod_detail.asp?pr=LP0037&c=UK&lang=EN): \n",
    "    * Vague, decided to go with polypeptides: <b>polypep</b>\n",
    "    * Nitrogen: <b>n2</b>\n",
    "* [Soy Peptome (5.0) (Oxoid)](http://www.oxoid.com/UK/blue/prod_detail/prod_detail.asp?pr=LP0044&cat=&c=UK&lang=EN) --> another vague one:\n",
    "    * Stachyose: <b>stys</b>\n",
    "    * Raffinose: <b>raffin</b>\n",
    "    * Sucrose: <b>sucr</b>\n",
    "    * Nitrogen: <b>n2</b>\n",
    "* [Yeast Extract (3.0) (VWR International, Darmstadt, Germany)](https://us.vwr.com/store/product/7437401/vwr-life-science-yeast-extract-bacteriological-grade):\n",
    "    * Vitamin B (same logic as RCM):\n",
    "        * 1. Thiamin -> <b>thm</b>\n",
    "        * 2. Riboflavin -> <b>ribflv</b>\n",
    "        * 3. Niacin -> <b>trp__L</b> (made of tryptophan)\n",
    "        * 5. Pantothenic Acid -> <b>pnto__R</b>\n",
    "        * 6. Pyridoxine -> <b>pydxn</b>\n",
    "        * 7. Biotin -> <b>btn</b>\n",
    "        * 9. Folic Acid -> ... can't find anything\n",
    "        * 12. Cobalamin -> <b>b12</b> (or cbl1)\n",
    "* [Tryptone (2.5) (Oxoid)](http://www.oxoid.com/UK/blue/prod_detail/prod_detail.asp?pr=LP0042&c=UK&lang=EN): \n",
    "    * Tryptophan: <b>trp__L</b>\n",
    "* NaCL (1.5) (VWR International, Darmstadt, Germany):\n",
    "    * NaCl: <b>na1, cl</b>\n",
    "* K<sub>2</sub>HPO<sub>4</sub> (1.0) (Merck International, Darmstadt, Germany):\n",
    "    * Potassium: <b>k</b>\n",
    "    * Phosphate: <b>p1</b>\n",
    "    * Hydrogen: <b>h2</b>\n",
    "* KH<sub>2</sub>PO<sub>4</sub> (1.0) (Merck International, Darmstadt, Germany):\n",
    "    * Potassium: <b>k</b>\n",
    "    * Phosphate: <b>p1</b>\n",
    "    * Hydrogen: <b>h2</b>\n",
    "* Na<sub>2</sub>SO<sub>4</sub> (2.0) (VWR):\n",
    "    * Sodium: <b>na1</b>\n",
    "    * Sulfate: <b>so4</b>\n",
    "* MgSO<sub>4</sub>*7H<sub>2</sub>O (1.0) (Merck):\n",
    "    * Magnesium: <b>mg2</b>\n",
    "    * Sulfate: <b>so4</b>\n",
    "* CaCl<sub>2</sub>*2H<sub>2</sub>O (0.1) (Merck):\n",
    "    * Calcium Chloride: <b>ca2, cl</b>\n",
    "* NH<sub>4</sub>Cl (1.0) (Merck):\n",
    "    * Ammonium Chloride: <b>nh4, cl</b>\n",
    "* Cysteine-HCL (0.4) (Merck):\n",
    "    * Cysteine: <b>cys__L</b>\n",
    "    * HCL: <b>h2, cl</b>\n",
    "* NaHCO<sub>3</sub> (0.2) (VWR):\n",
    "    * Sodium: <b>na1</b>\n",
    "    * Bicarbonate: <b>hco3<b>\n",
    "* MnSO<sub>4</sub>*H<sub>2</sub>O (0.05) (VWR):\n",
    "    * Manganese: <b>mn2</b>\n",
    "    * Sulfate: <b>so4</b>\n",
    "* FeSO<sub>4</sub>*7H<sub>2</sub>O (0.005) (Merck):\n",
    "    * Iron: <b>fe</b>\n",
    "    * Sulfate: <b>so4</b>\n",
    "* ZnSO<sub>4</sub>*7H<sub>2</sub>O (0.005) (VWR):\n",
    "    * Zinc: <b>zn2</b>\n",
    "    * Sulfate: <b>so4</b>\n",
    "* Hemin (0.005) (Sigma-Aldrich, Steinheim, Germany):\n",
    "    * ... contains iron\n",
    "* Menadione (0.005) (S-A):\n",
    "    * <b>mndn</b>\n",
    "* Resazurin (0.001) (S-A):\n",
    "    * Fluoro identifier\n",
    "\n"
   ],
   "cell_type": "markdown",
   "metadata": {}
  },
  {
   "source": [
    "| Component                            | Concentration (g/L) | BiGG Metabolites                                |\n",
    "|--------------------------------------|---------------------|-------------------------------------------------|\n",
    "| Bacteriological Peptome              | 6.5                 | polypep, n2                                     |\n",
    "| Soy Peptome                          | 5.0                 | stys, raffin, sucr, n2                          |\n",
    "| Yeast Extract                        | 3.0                 | thm, ribflv, trp\\__L, pnto\\__R, pydxn, btn, b12 |\n",
    "| Tryptone                             | 2.5                 | trp\\__L                                         |\n",
    "| NaCL                                 | 1.5                 | na1, cl                                         |\n",
    "| K<sub>2</sub>PO<sub>4</sub>          | 1.0                 | k, p1, h2                                       |\n",
    "| KH<sub>2</sub>PO<sub>4</sub>         | 1.0                 | k, p1, h2                                       |\n",
    "| Na<sub>2</sub>SO<sub>4</sub>         | 2.0                 | na1, so4                                        |\n",
    "| Mg<sub>2</sub>SO<sub>4</sub>         | 1.0                 | mg2, so4                                        |\n",
    "| CaCl<sub>2</sub>*2H<sub>2</sub>O     | 0.1                 | ca2, cl                                         |\n",
    "| NH<sub>4</sub>Cl                     | 1.0                 | nh4, cl                                         |\n",
    "| Cysteine-HCL                         | 0.4                 | cys__L, h2, cl                                  |\n",
    "| NaHCO<sub>3</sub>                    | 0.2                 | na1, hco3                                       |\n",
    "| MnSO<sub>4</sub>*H<sub>2</sub>O      | 0.05                | mn2, so4                                        |\n",
    "| FeSOMnSO<sub>4</sub>*7H<sub>2</sub>O | 0.005               | fe, so4                                         |\n",
    "| ZnSO<sub>4</sub>*7H<sub>2</sub>O     | 0.005               | zn2, so4                                        |\n",
    "| Hemin                                | 0.005               |                                                 |\n",
    "| Menadione                            | 0.005               | mndn                                            |\n",
    "| Resazurin                            | 0.001               |                                                 |"
   ],
   "cell_type": "markdown",
   "metadata": {}
  },
  {
   "cell_type": "code",
   "execution_count": null,
   "metadata": {},
   "outputs": [],
   "source": [
    "model.copy()"
   ]
  },
  {
   "cell_type": "code",
   "execution_count": null,
   "metadata": {},
   "outputs": [],
   "source": [
    "medium_mmcb = list(('polypep','n2','stys','raffin','sucr','n2','thm','ribflv','trp__L',\n",
    "                    'pnto__R','pydxn','btn','b12','trp__L','na1','cl','k','p1','h2','na1',\n",
    "                    'so4','mg2','ca2','nh4','cys__L','h2','cl','na1','hco3','mn2','zn2','mndnb'))"
   ]
  },
  {
   "cell_type": "code",
   "execution_count": null,
   "metadata": {},
   "outputs": [],
   "source": [
    "medium_mmcb=[mets+\"(e)\" for mets in medium_mmcb]\n",
    "model_mmcb=medium(model.copy(), medium_mmcb)\n",
    "unused = []\n",
    "for i in range(1,len(model_mmcb.reactions)):\n",
    "    model_mmcb.reactions[i].upper_bound=1000\n",
    "    if model_mmcb.reactions[i].lower_bound != 0:\n",
    "        model_mmcb.reactions[i].lower_bound=-10\n",
    "    else:    \n",
    "        model_mmcb.reactions[i].lower_bound=-\n",
    "model_mmcb.objective = {model_mmcb.reactions.get_by_id('Biomass_FP'): 1}\n",
    "model_mmcb.summary()\n",
    "\n",
    "# Find list of all metabolites not in media\n",
    "# Express in mmol/g/L\n",
    "# Set as -'ve flux lower bound"
   ]
  },
  {
   "cell_type": "code",
   "execution_count": null,
   "metadata": {},
   "outputs": [],
   "source": [
    "# Post-optimization\n",
    "fba_mmcb = model_mmcb.optimize()\n",
    "fluxes_mmcb = deleteNull(fba_mmcb.fluxes)\n",
    "print('\\nActive reaction : %i which represent %f%% of the model' %(len(fluxes_mmcb),len(fluxes_mmcb)/len(model.reactions)*100))\n",
    "print(model_mmcb.objective.value)"
   ]
  }
 ],
 "metadata": {
  "kernelspec": {
   "name": "python3",
   "display_name": "Python 3.7.6 64-bit ('base': conda)",
   "metadata": {
    "interpreter": {
     "hash": "eec48ea81786c325bfab6147fce8b71cfe42370920a0568aac6dc72a8f882954"
    }
   }
  },
  "language_info": {
   "codemirror_mode": {
    "name": "ipython",
    "version": 3
   },
   "file_extension": ".py",
   "mimetype": "text/x-python",
   "name": "python",
   "nbconvert_exporter": "python",
   "pygments_lexer": "ipython3",
   "version": "3.7.6-final"
  }
 },
 "nbformat": 4,
 "nbformat_minor": 4
}