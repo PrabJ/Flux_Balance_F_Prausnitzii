{
 "cells": [
  {
   "cell_type": "markdown",
   "metadata": {},
   "source": [
    "# Integrated Bioinformatics Project : Flux_Balance_F_Prausnitzii \n",
    "#### Students: Michael Shawn Neilsson, Biancamaria FLorenzi, Prabhat Juyal, Tim Blokker\n",
    "#### Supervisors: Clémence Joseph, Karoline Faust"
   ]
  },
  {
   "cell_type": "code",
   "execution_count": 78,
   "metadata": {},
   "outputs": [],
   "source": [
    "#import packages\n",
    "import io\n",
    "import cobra\n",
    "import functions\n",
    "from functions import *"
   ]
  },
  {
   "cell_type": "code",
   "execution_count": 79,
   "metadata": {},
   "outputs": [],
   "source": [
    "#model = cobra.io.read_sbml_model('Data/f_prausnitzii.xml')\n",
    "#info(model)"
   ]
  },
  {
   "cell_type": "code",
   "execution_count": 80,
   "metadata": {},
   "outputs": [
    {
     "name": "stdout",
     "output_type": "stream",
     "text": [
      "Metabolites :  833\n",
      "Reactions :  1030\n",
      "Genes :  602\n",
      "Compartments :  {'c': '', 'e': ''}\n",
      "Objective function : \n",
      " Maximize\n",
      "1.0*Biomass_FP - 1.0*Biomass_FP_reverse_ee33b \n",
      "\n"
     ]
    }
   ],
   "source": [
    "model=cobra.io.load_matlab_model('Data/iFpraus_v_1_0.mat')\n",
    "info(model)"
   ]
  },
  {
   "cell_type": "code",
   "execution_count": 81,
   "metadata": {},
   "outputs": [],
   "source": [
    "#https://www.thielelab.eu/in-silico-models\n",
    "#model = cobra.io.read_sbml_model('Data/iFpraus_v_1_0.xml')\n",
    "#(model2,errors)=(cobra.io.sbml.validate_sbml_model('Data/iFpraus_v_1_0.xml'))\n",
    "#print(errors)"
   ]
  },
  {
   "cell_type": "code",
   "execution_count": 82,
   "metadata": {},
   "outputs": [],
   "source": [
    "outputmodel= cobra.io.save_json_model(model, \"Data/iFpraus.json\")"
   ]
  },
  {
   "cell_type": "code",
   "execution_count": 83,
   "metadata": {},
   "outputs": [],
   "source": [
    "#use for later perhaps \n",
    "#modelMedium = setMediumConstraints(starting_model, set_inf,\n",
    "#current_inf,... medium_composition, met_Conc_mM, cellConc, t, cell-\n",
    "#Weight, mediumCompounds,... mediumCompounds_lb);"
   ]
  },
  {
   "cell_type": "markdown",
   "metadata": {},
   "source": [
    "### What are the different reactions\n",
    "e: extracellular\n",
    "\n",
    "c: cytosol\n",
    "\n",
    "EX_ : exchange reaction\n",
    "### Gifu Anaerobic Medium (mGAM) from:\n",
    "https://hyserve.com/files/05433_GAM-Broth_Modified_final.pdf\n",
    "\n",
    "\n",
    "- Peptone, Soya Peptone, Proteose Peptone: source of amino acids -> most likely all of them \n",
    "- Yeast extract, liver extract, meat extract, digested serum -> amino acids but also a lot of other crap, will leave this till the end \n",
    "- Dextrose -> same as glucose (https://www.ebi.ac.uk/chebi/searchId.do?chebiId=CHEBI:17634) and so -> glc_D\n",
    "- Soluble starch -> starch1200 (potatoe starch)\n",
    "- L-Tryptophane -> trp__L\n",
    "- L-Cystein Hydrochloride -> cys_L and cl and h (hydrochloride<-> HCL becomes cl and h)\n",
    "- Sodium Thioglycolate -> thiog and na1\n",
    "- L-Arginine -> arg_L\n",
    "- Vitamine K1 -> phllqne https://pubchem.ncbi.nlm.nih.gov/compound/Vitamin-K1#section=Depositor-Supplied-Synonyms \n",
    "- Hemin -> Iron and Chlorine  fe3 and cl  and perhaps ppp9 https://pubchem.ncbi.nlm.nih.gov/#query=3-%5B18-(2-carboxyethyl)-8%2C13-bis(ethenyl)-3%2C7%2C12%2C17-tetramethylporphyrin-21%2C23-diid-2-yl%5Dpropanoic%20acid%3Biron(3%2B)%3Bchloride \n",
    "- Potassium Dihydrogen Phosphate -> pi, k, h\n",
    "- Sodium Chloride -> na1 cl\n",
    "\n",
    "Digested serum : https://www.nebiolabs.com.au/-/media/catalog/datacards-or-manuals/p8108datasheet-lot0021306.pdf\t\n",
    "\n",
    "Generally useful page ; https://pubchem.ncbi.nlm.nih.gov/#query=Hemin\n",
    "\n",
    "check also: https://opencobra.github.io/cobratoolbox/latest/tutorials/tutorialMetabotoolsI.html "
   ]
  },
  {
   "cell_type": "code",
   "execution_count": 84,
   "metadata": {},
   "outputs": [
    {
     "name": "stdout",
     "output_type": "stream",
     "text": [
      "['ala_L(e)', 'arg_L(e)', 'asn_L(e)', 'asp_L(e)', 'asx_L(e)', 'cys_L(e)', 'glu_L(e)', 'gln_L(e)', 'glx_L(e)', 'gly_L(e)', 'his_L(e)', 'ile_L(e)', 'leu_L(e)', 'lys_L(e)', 'met_L(e)', 'phe_L(e)', 'pro_L(e)', 'ser_L(e)', 'thr_L(e)', 'trp_L(e)', 'tyr_L(e)', 'val_L(e)']\n"
     ]
    }
   ],
   "source": [
    "import numpy as np\n",
    "aa=(\"ala,arg,asn,asp,asx,cys,glu,gln,glx,gly,his,ile,leu,lys,met,phe,pro,ser,thr,trp,tyr,val\").split(\",\")\n",
    "aa=[aminoacid +\"_L(e)\" for aminoacid in aa]\n",
    "print(aa)"
   ]
  },
  {
   "cell_type": "code",
   "execution_count": 111,
   "metadata": {},
   "outputs": [
    {
     "name": "stdout",
     "output_type": "stream",
     "text": [
      "\n",
      "Model Medium\n",
      "Objective\n",
      "=========\n",
      "1.0 Biomass_FP = 69.87885590787751\n",
      "\n",
      "Uptake\n",
      "------\n",
      "    Metabolite          Reaction   Flux  C-Number  C-Flux\n",
      "    Lcystin[e]     EX_Lcystin(e)  3.502         6   0.05%\n",
      "        ade[e]         EX_ade(e)  864.9         5  10.85%\n",
      "     adocbl[e]      EX_adocbl(e) 0.3929        72   0.07%\n",
      "     alaala[e]      EX_alaala(e)  6.462         6   0.10%\n",
      "     alagln[e]      EX_alagln(e)  30.81         8   0.62%\n",
      "      arg-L[e]       EX_arg_L(e)   1000         6  15.05%\n",
      "      asn-L[e]       EX_asn_L(e)   16.4         4   0.16%\n",
      "        btn[e]         EX_btn(e) 0.3929        10   0.01%\n",
      "        ca2[e]         EX_ca2(e) 0.3929         0   0.00%\n",
      "         cl[e]          EX_cl(e) 0.3929         0   0.00%\n",
      "    cobalt2[e]     EX_cobalt2(e) 0.3929         0   0.00%\n",
      "     cps_fp[e]      EX_cps_fp(e) 0.3929        63   0.06%\n",
      "        cu2[e]         EX_cu2(e) 0.3929         0   0.00%\n",
      "        fe3[e]         EX_fe3(e) 0.7858         0   0.00%\n",
      "        fol[e]         EX_fol(e)  1.179        19   0.06%\n",
      "        fum[e]         EX_fum(e)   1000         4  10.03%\n",
      "      glu-L[e]       EX_glu_L(e)   1000         5  12.54%\n",
      "        gua[e]         EX_gua(e)  16.25         5   0.20%\n",
      "          h[e]           EX_h(e)    901         0   0.00%\n",
      "      his-L[e]       EX_his_L(e)  6.472         6   0.10%\n",
      "        ins[e]         EX_ins(e)  751.8        10  18.86%\n",
      "          k[e]           EX_k(e) 0.3929         0   0.00%\n",
      "     leuleu[e]      EX_leuleu(e)  15.33        12   0.46%\n",
      "      lys-L[e]       EX_lys_L(e)  23.31         6   0.35%\n",
      "      mal-L[e]       EX_mal_L(e)   1000         4  10.03%\n",
      "     metala[e]      EX_metala(e)  10.59         8   0.21%\n",
      " metsox-S-L[e]  EX_metsox_S_L(e) 0.2368         5   0.00%\n",
      "        mg2[e]         EX_mg2(e) 0.3929         0   0.00%\n",
      "        na1[e]         EX_na1(e)   1000         0   0.00%\n",
      "        nac[e]         EX_nac(e) 0.7858         6   0.01%\n",
      "         o2[e]          EX_o2(e)  618.9         0   0.00%\n",
      "      phe-L[e]       EX_phe_L(e)  12.65         9   0.29%\n",
      "         pi[e]          EX_pi(e)  126.6         0   0.00%\n",
      "     pnto-R[e]      EX_pnto_R(e) 0.7858         9   0.02%\n",
      "      pro-L[e]       EX_pro_L(e)  15.05         5   0.19%\n",
      "       pydx[e]        EX_pydx(e) 0.3929         8   0.01%\n",
      "     ribflv[e]      EX_ribflv(e)  148.3        17   6.32%\n",
      "      ser-L[e]       EX_ser_L(e)  223.1         3   1.68%\n",
      "        so4[e]         EX_so4(e) 0.3929         0   0.00%\n",
      "        thm[e]         EX_thm(e) 0.3929        12   0.01%\n",
      "      thr-L[e]       EX_thr_L(e)  606.4         4   6.08%\n",
      "      thymd[e]       EX_thymd(e)  1.642        10   0.04%\n",
      "      trp-L[e]       EX_trp_L(e)  3.854        11   0.11%\n",
      "      tyr-L[e]       EX_tyr_L(e)  9.381         9   0.21%\n",
      "        ura[e]         EX_ura(e)  20.52         4   0.21%\n",
      "      urate[e]       EX_urate(e)  398.4         5   5.00%\n",
      "       hpyr[c]         sink_hpyr   0.05         3   0.00%\n",
      "\n",
      "Secretion\n",
      "---------\n",
      " Metabolite       Reaction   Flux  C-Number  C-Flux\n",
      "     na1[c]         DM_NA1  -1000         0   0.00%\n",
      "      ac[e]       EX_ac(e)  -1000         2   5.64%\n",
      "   asp-L[e]    EX_asp_L(e) -977.1         4  11.02%\n",
      "     cit[e]      EX_cit(e) -988.6         6  16.73%\n",
      "     co2[e]      EX_co2(e)  -1000         1   2.82%\n",
      "  dhor-S[e]   EX_dhor_S(e) -785.4         5  11.07%\n",
      "     for[e]      EX_for(e)   -158         1   0.45%\n",
      "     gly[e]      EX_gly(e) -527.8         2   2.98%\n",
      "  glyc-R[e]   EX_glyc_R(e)  -0.05         3   0.00%\n",
      "    hxan[e]     EX_hxan(e)  -1000         5  14.10%\n",
      "     nh4[e]      EX_nh4(e)  -1000         0   0.00%\n",
      "    orot[e]     EX_orot(e) -194.5         5   2.74%\n",
      "    ptrc[e]     EX_ptrc(e) -979.9         4  11.05%\n",
      " rbflvrd[e]  EX_rbflvrd(e) -147.5        17   7.07%\n",
      "    succ[e]     EX_succ(e) -20.14         4   0.23%\n",
      "     xan[e]      EX_xan(e)  -1000         5  14.10%\n",
      "\n"
     ]
    }
   ],
   "source": [
    "model1=model.copy()\n",
    "print(\"\\nModel Medium\")\n",
    "#model1.objective = {model1.reactions.get_by_id('EX_ac(e)'): 1}\n",
    "model1.objective = {model1.reactions.get_by_id('Biomass_FP'): 1}\n",
    "\n",
    "print(model1.summary())"
   ]
  },
  {
   "cell_type": "code",
   "execution_count": 86,
   "metadata": {},
   "outputs": [],
   "source": [
    "#met_Conc_mM = [0.1;1.15;0.15;0.379;0.208;2;0.136;0.133;0.0968;0.382;0.382;0.274;0.101;0.0909;0.153;0.174;...\n",
    "#0.286;0.168;0.0245;0.129;0.171;0.00863;0.00082;0.0214;0.000524;0.00227;0.082;0.00485;0.000532;0.00297;...\n",
    "#0.194;0.424;0;5.33;23.81;127.26;5.63;11.11;0;0;0;1;0;0.00326;0.0073]\n",
    "#customizedConstraints_lb = [-2.3460;0;0;-500;-100;-100;-100];\n",
    "#customizedConstraints_ub = [500;0;0;500;500;500;500];"
   ]
  },
  {
   "cell_type": "code",
   "execution_count": 113,
   "metadata": {},
   "outputs": [
    {
     "name": "stdout",
     "output_type": "stream",
     "text": [
      "['ala_L(e)', 'arg_L(e)', 'asn_L(e)', 'asp_L(e)', 'asx_L(e)', 'cys_L(e)', 'glu_L(e)', 'gln_L(e)', 'glx_L(e)', 'gly_L(e)', 'his_L(e)', 'ile_L(e)', 'leu_L(e)', 'lys_L(e)', 'met_L(e)', 'phe_L(e)', 'pro_L(e)', 'ser_L(e)', 'thr_L(e)', 'trp_L(e)', 'tyr_L(e)', 'val_L(e)', 'glc_D(e)', 'starch1200(e)', 'cl(e)', 'h(e)', 'ac(e)', 'so4(e)', 'na1(e)', 'fe3(e)', 'ppp9(e)', 'h2o(e)', 'pi(e)', 'k(e)']\n",
      "\n",
      "Medium_mgam\n",
      "Objective\n",
      "=========\n",
      "1.0 Biomass_FP = 6.528622762307612e-11\n",
      "\n",
      "Uptake\n",
      "------\n",
      "Metabolite   Reaction  Flux  C-Number   C-Flux\n",
      "    na1[e]  EX_na1(e) 33.47         0    0.00%\n",
      "   hpyr[c]  sink_hpyr  0.05         3  100.00%\n",
      "\n",
      "Secretion\n",
      "---------\n",
      "Metabolite   Reaction   Flux  C-Number  C-Flux\n",
      "    na1[c]     DM_NA1 -33.47         0   0.00%\n",
      "     ac[e]   EX_ac(e)  -0.05         2  66.67%\n",
      "    co2[e]  EX_co2(e)  -0.05         1  33.33%\n",
      "\n"
     ]
    }
   ],
   "source": [
    "MediumMgam = ['ala_L_(e)', 'arg_L_(e)', 'asn_L_(e)', 'asp_L_(e)', 'asx_L_(e)', 'cys_L_(e)', 'glu_L_(e)', 'gln_L_(e)', \n",
    "              'glx_L_(e)', 'gly_L_(e)', 'his_L_(e)', 'ile_L_(e)', 'leu_L_(e)', 'lys_L_(e)', 'met_L_(e)', 'phe_L_(e)', \n",
    "              'pro_L_(e)', 'ser_L_(e)', 'thr_L_(e)', 'trp_L_(e)', 'tyr_L_(e)', 'val_L_(e)', 'glc_D_(e)', 'starch1200_(e)', \n",
    "              'cl_(e)', 'h_(e)',\"ac_(e)\", \"so4_(e)\" #'thiog_(e)'\n",
    "              , 'na1_(e)', 'fe3_(e)', 'ppp9_(e)', 'h2o_(e)', \n",
    "              'pi_(e)', 'k_(e)']\n",
    "MediumMgam=[mets[:-4] +\"(e)\" for mets in MediumMgam]\n",
    "print(MediumMgam)\n",
    "model2=model.copy()\n",
    "model_mgam=medium(model2,MediumMgam)\n",
    "print('\\nMedium_mgam')\n",
    "model_mgam.objective = {model_mgam.reactions.get_by_id('Biomass_FP'): 1}\n",
    "print(model_mgam.summary())"
   ]
  },
  {
   "cell_type": "code",
   "execution_count": 117,
   "metadata": {},
   "outputs": [
    {
     "name": "stdout",
     "output_type": "stream",
     "text": [
      "['ala_L(e)', 'arg_L(e)', 'asn_L(e)', 'asp_L(e)', 'asx_L(e)', 'cys_L(e)', 'glu_L(e)', 'gln_L(e)', 'glx_L(e)', 'gly_L(e)', 'his_L(e)', 'ile_L(e)', 'leu_L(e)', 'lys_L(e)', 'met_L(e)', 'phe_L(e)', 'pro_L(e)', 'ser_L(e)', 'thr_L(e)', 'trp_L(e)', 'tyr_L(e)', 'val_L(e)', 'glc_D(e)', 'starch1200(e)', 'cl(e)', 'h(e)', 'ac(e)', 'so4(e)', 'na1(e)', 'fe3(e)', 'ppp9(e)', 'h2o(e)', 'pi(e)', 'k(e)']\n",
      "\n",
      "Medium_mgam\n",
      "Objective\n",
      "=========\n",
      "1.0 Biomass_FP = 131.5139863809376\n",
      "\n",
      "Uptake\n",
      "------\n",
      " Metabolite       Reaction   Flux  C-Number  C-Flux\n",
      "    4hba[c]        DM_4HBA  64.77         7   4.63%\n",
      "    3mop[e]     EX_3mop(e)  521.6         6  31.94%\n",
      "   acglu[e]    EX_acglu(e)  57.79         7   4.13%\n",
      "     ade[e]      EX_ade(e)  28.42         5   1.45%\n",
      "  adocbl[e]   EX_adocbl(e) 0.7395        72   0.54%\n",
      "  alaala[e]   EX_alaala(e)  38.38         6   2.35%\n",
      "  alahis[e]   EX_alahis(e)  12.18         9   1.12%\n",
      "  alaleu[e]   EX_alaleu(e)  57.69         9   5.30%\n",
      "   arg-L[e]    EX_arg_L(e)  37.91         6   2.32%\n",
      "     btn[e]      EX_btn(e) 0.7395        10   0.08%\n",
      "     but[e]      EX_but(e)  27.58         4   1.13%\n",
      "     ca2[e]      EX_ca2(e) 0.7395         0   0.00%\n",
      "      cl[e]       EX_cl(e) 0.7395         0   0.00%\n",
      " cobalt2[e]  EX_cobalt2(e) 0.7395         0   0.00%\n",
      "  cps_fp[e]   EX_cps_fp(e)  27.35        63  17.59%\n",
      "     cu2[e]      EX_cu2(e) 0.7395         0   0.00%\n",
      "     fe2[e]      EX_fe2(e) 0.7395         0   0.00%\n",
      "     fe3[e]      EX_fe3(e) 0.7395         0   0.00%\n",
      "     fol[e]      EX_fol(e)  2.218        19   0.43%\n",
      "  glyc3p[e]   EX_glyc3p(e)   25.4         3   0.78%\n",
      "     gua[e]      EX_gua(e)  30.59         5   1.56%\n",
      "   ile-L[e]    EX_ile_L(e)  37.16         6   2.28%\n",
      "       k[e]        EX_k(e) 0.7395         0   0.00%\n",
      "   lys-L[e]    EX_lys_L(e)  56.03         6   3.43%\n",
      "  metala[e]   EX_metala(e)  20.38         8   1.66%\n",
      "     mg2[e]      EX_mg2(e) 0.7395         0   0.00%\n",
      "    ncam[e]     EX_ncam(e)  1.479         6   0.09%\n",
      "   phe-L[e]    EX_phe_L(e)   23.8         9   2.19%\n",
      "    plac[e]     EX_plac(e)  4.492         9   0.41%\n",
      "  pnto-R[e]   EX_pnto_R(e)  1.479         9   0.14%\n",
      "   pro-L[e]    EX_pro_L(e)  50.04         5   2.55%\n",
      "    pydx[e]     EX_pydx(e) 0.7395         8   0.06%\n",
      "  ribflv[e]   EX_ribflv(e)  1.479        17   0.26%\n",
      "     so4[e]      EX_so4(e) 0.7395         0   0.00%\n",
      "     thm[e]      EX_thm(e)  65.51        12   8.02%\n",
      "   trp-L[e]    EX_trp_L(e)  7.254        11   0.81%\n",
      "   val-L[e]    EX_val_L(e)  54.13         5   2.76%\n",
      "\n",
      "Secretion\n",
      "---------\n",
      "Metabolite    Reaction   Flux  C-Number  C-Flux\n",
      "   cgly[e]  EX_cgly(e) -24.01         5   7.96%\n",
      "    co2[e]   EX_co2(e) -229.9         1  15.24%\n",
      "    for[e]   EX_for(e) -475.6         1  31.54%\n",
      "    gal[e]   EX_gal(e) -26.61         6  10.59%\n",
      "    gam[e]   EX_gam(e) -2.288         6   0.91%\n",
      "  glc-D[e]   EX_glc(e) -53.22         6  21.18%\n",
      "    gly[e]   EX_gly(e) -24.86         2   3.30%\n",
      "    h2s[e]   EX_h2s(e) -27.58         0   0.00%\n",
      "     o2[e]    EX_o2(e) -32.34         0   0.00%\n",
      "   orot[e]  EX_orot(e) -10.49         5   3.48%\n",
      "    ura[e]   EX_ura(e) -21.91         4   5.81%\n",
      "\n"
     ]
    }
   ],
   "source": [
    "MediumMgam = ['ala_L_(e)', 'arg_L_(e)', 'asn_L_(e)', 'asp_L_(e)', 'asx_L_(e)', 'cys_L_(e)', 'glu_L_(e)', 'gln_L_(e)', \n",
    "              'glx_L_(e)', 'gly_L_(e)', 'his_L_(e)', 'ile_L_(e)', 'leu_L_(e)', 'lys_L_(e)', 'met_L_(e)', 'phe_L_(e)', \n",
    "              'pro_L_(e)', 'ser_L_(e)', 'thr_L_(e)', 'trp_L_(e)', 'tyr_L_(e)', 'val_L_(e)', 'glc_D_(e)', 'starch1200_(e)', \n",
    "              'cl_(e)', 'h_(e)',\"ac_(e)\", \"so4_(e)\" #'thiog_(e)'\n",
    "              , 'na1_(e)', 'fe3_(e)', 'ppp9_(e)', 'h2o_(e)', \n",
    "              'pi_(e)', 'k_(e)']\n",
    "MediumMgam=[mets[:-4] +\"(e)\" for mets in MediumMgam]\n",
    "print(MediumMgam)\n",
    "model2=model.copy()\n",
    "model_mgam=medium(model2,MediumMgam)\n",
    "print('\\nMedium_mgam')\n",
    "for i in range(1,len(model_mgam.reactions)):\n",
    "    model_mgam.reactions[i].upper_bound=1000\n",
    "    model_mgam.reactions[i].lower_bound=-1000 #does not change till 77,78\n",
    "model_mgam.objective = {model_mgam.reactions.get_by_id('Biomass_FP'): 1}\n",
    "print(model_mgam.summary())"
   ]
  },
  {
   "cell_type": "code",
   "execution_count": 115,
   "metadata": {},
   "outputs": [
    {
     "name": "stdout",
     "output_type": "stream",
     "text": [
      "\n",
      "Active reaction : 364 which represent 35.339806% of the model\n",
      "69.8788559078775\n"
     ]
    }
   ],
   "source": [
    "fba = model.optimize()\n",
    "fluxes = deleteNull(fba.fluxes)\n",
    "print('\\nActive reaction : %i which represent %f%% of the model' %(len(fluxes),len(fluxes)/len(model.reactions)*100))\n",
    "print(fba.objective_value)"
   ]
  },
  {
   "cell_type": "code",
   "execution_count": 116,
   "metadata": {},
   "outputs": [
    {
     "name": "stdout",
     "output_type": "stream",
     "text": [
      "\n",
      "Active reaction : 709 which represent 68.834951% of the model\n",
      "131.5139863809377\n"
     ]
    }
   ],
   "source": [
    "fba_model_mgam=model_mgam.optimize()\n",
    "fluxes_model_mgam = deleteNull(fba_model_mgam.fluxes)\n",
    "print('\\nActive reaction : %i which represent %f%% of the model' %(len(fluxes_model_mgam),len(fluxes_model_mgam)/len(model_mgam.reactions)*100))\n",
    "print(fba_model_mgam.objective_value)"
   ]
  }
 ],
 "metadata": {
  "kernelspec": {
   "display_name": "Python 3",
   "language": "python",
   "name": "python3"
  },
  "language_info": {
   "codemirror_mode": {
    "name": "ipython",
    "version": 3
   },
   "file_extension": ".py",
   "mimetype": "text/x-python",
   "name": "python",
   "nbconvert_exporter": "python",
   "pygments_lexer": "ipython3",
   "version": "3.7.6"
  }
 },
 "nbformat": 4,
 "nbformat_minor": 4
}
