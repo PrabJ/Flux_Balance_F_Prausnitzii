{
 "cells": [
  {
   "cell_type": "markdown",
   "metadata": {},
   "source": [
    "#  III-Anaysis_solved.py\n",
    "\"\"\"                    TD PART III :\n",
    "#################################################################\n",
    "    ANALYSIS AND HYPOTHESIS WHITH A GENOME SCALE METABOLIC MODEL\n",
    "From the given functions, the information you got about the cobra language,\n",
    "and the result of previous TD part, try to answer the following questions.\n",
    "files: practical_metaboli_model.pdf\n",
    "model : e_coli_core.xml\n",
    "        other to download\n",
    "For a better understanding, you can also open the file functions.py to see how some function are built.\n",
    "During this tutorial you will use object oriented language."
   ]
  },
  {
   "cell_type": "code",
   "execution_count": 1,
   "metadata": {},
   "outputs": [],
   "source": [
    "######A\n",
    "# 1- Load module:\n",
    "import io\n",
    "import cobra\n",
    "import functions\n",
    "from functions import *"
   ]
  },
  {
   "cell_type": "code",
   "execution_count": 2,
   "metadata": {},
   "outputs": [],
   "source": [
    "%%capture\n",
    "#2- Import e_coli_core model:\n",
    "#cobra.io.save_json_model()\n",
    "model = cobra.io.read_sbml_model('Data/f_prausnitzii.xml')"
   ]
  },
  {
   "cell_type": "code",
   "execution_count": 3,
   "metadata": {},
   "outputs": [
    {
     "name": "stdout",
     "output_type": "stream",
     "text": [
      "Metabolites :  833\n",
      "Reactions :  1030\n",
      "Genes :  0\n",
      "Compartments :  {'c': 'Extracellular', 'e': 'Cytosolic'}\n",
      "Objective function : \n",
      " Maximize\n",
      "0 \n",
      "\n"
     ]
    }
   ],
   "source": [
    "#3 - Print information about the model:\n",
    "info(model)"
   ]
  },
  {
   "cell_type": "code",
   "execution_count": 4,
   "metadata": {},
   "outputs": [],
   "source": [
    "#4- Lauch the flux balance analysis without changing any parameter:\n",
    "fba = model.optimize()"
   ]
  },
  {
   "cell_type": "code",
   "execution_count": 5,
   "metadata": {},
   "outputs": [
    {
     "name": "stdout",
     "output_type": "stream",
     "text": [
      "0.0\n"
     ]
    }
   ],
   "source": [
    "#5- Print the objective value. Was it what you expected? \n",
    "print(fba.objective_value)"
   ]
  },
  {
   "cell_type": "code",
   "execution_count": 6,
   "metadata": {},
   "outputs": [
    {
     "name": "stdout",
     "output_type": "stream",
     "text": [
      "ACKr                         -1.278113e+00\n",
      "ACtr                         -1.278113e+00\n",
      "ADD                           8.719789e-17\n",
      "ADK1                          7.743212e-16\n",
      "ADK2                         -1.208726e-15\n",
      "ADK3                         -8.719789e-17\n",
      "ADOCBLS                       3.814908e-17\n",
      "ALAASP1c                      2.945283e-01\n",
      "ALAASPabc                     2.945283e-01\n",
      "ALAte                         2.945283e-01\n",
      "ALTRH                         1.572642e+00\n",
      "ARGSL                        -1.105849e+00\n",
      "ARGSSr                       -1.105849e+00\n",
      "ARGt2r                        1.105849e+00\n",
      "ASPCT                         1.105849e+00\n",
      "ASPTA                        -2.383962e+00\n",
      "ASPt2r                       -2.678491e+00\n",
      "ATPM                          8.430000e+00\n",
      "CBLAT                        -3.814908e-17\n",
      "DADK                         -8.719789e-17\n",
      "DDGLKr                        1.572642e+00\n",
      "DHORDfum                      1.105849e+00\n",
      "DHORTS                       -1.105849e+00\n",
      "DM_NA1                        2.211698e+00\n",
      "DRPAr                        -1.083379e-15\n",
      "D_LACt2                      -4.251132e+00\n",
      "EDA_R                         1.572642e+00\n",
      "ENO                           6.340566e+00\n",
      "ESHCYS2_FPe                   1.572642e+00\n",
      "ESHCYS_FPe                    7.863208e-01\n",
      "EX_ac_LPAREN_e_RPAREN_        1.278113e+00\n",
      "EX_ala_L_LPAREN_e_RPAREN_     2.945283e-01\n",
      "EX_alaasp_LPAREN_e_RPAREN_   -2.945283e-01\n",
      "EX_arg_L_LPAREN_e_RPAREN_    -1.105849e+00\n",
      "EX_asp_L_LPAREN_e_RPAREN_     2.678491e+00\n",
      "EX_gam_LPAREN_e_RPAREN_      -2.383962e+00\n",
      "EX_glyasp_LPAREN_e_RPAREN_    1.083379e-15\n",
      "EX_glyc_R_LPAREN_e_RPAREN_    5.000000e-02\n",
      "EX_gua_LPAREN_e_RPAREN_      -1.170577e-15\n",
      "EX_h_LPAREN_e_RPAREN_         4.297100e+00\n",
      "EX_hxan_LPAREN_e_RPAREN_      8.719789e-17\n",
      "EX_lac_D_LPAREN_e_RPAREN_     4.251132e+00\n",
      "EX_meoh_LPAREN_e_RPAREN_      7.863208e-01\n",
      "EX_na1_LPAREN_e_RPAREN_      -2.211698e+00\n",
      "EX_o2_LPAREN_e_RPAREN_       -7.863208e-01\n",
      "EX_orot_LPAREN_e_RPAREN_      1.105849e+00\n",
      "EX_pect_LPAREN_e_RPAREN_     -4.032414e-03\n",
      "EX_ptrc_LPAREN_e_RPAREN_      1.105849e+00\n",
      "EX_succ_LPAREN_e_RPAREN_     -1.105849e+00\n",
      "EX_thr_L_LPAREN_e_RPAREN_    -1.083379e-15\n",
      "FBA                           2.383962e+00\n",
      "FDH                           1.278113e+00\n",
      "FLVRxe                        1.572642e+00\n",
      "G6PDA                         2.383962e+00\n",
      "GALURt2r                     -1.572642e+00\n",
      "GAMpts                        2.383962e+00\n",
      "GAPD                          6.340566e+00\n",
      "GK2                           8.719789e-17\n",
      "GLUDy                        -2.383962e+00\n",
      "GLYASP1c                     -1.083379e-15\n",
      "GLYASPabc                    -1.083379e-15\n",
      "GLYCAt2r                     -5.000000e-02\n",
      "GTPDPK                        1.257774e-15\n",
      "GUAt                          1.170577e-15\n",
      "GUI2                          1.572642e+00\n",
      "HACD1                         2.383962e+00\n",
      "HPYRRx                        5.000000e-02\n",
      "HYXNt                        -8.719789e-17\n",
      "LDH_D                        -4.251132e+00\n",
      "NADH_NAT                     -2.211698e+00\n",
      "NTD6                          8.719789e-17\n",
      "NTPTP1                       -1.170577e-15\n",
      "OCBT                         -1.105849e+00\n",
      "ORNDC                         1.105849e+00\n",
      "PECTIN_DEGe                   4.032414e-03\n",
      "PFK                           2.383962e+00\n",
      "PFL                           1.278113e+00\n",
      "PGK                          -6.340566e+00\n",
      "PGM                          -6.340566e+00\n",
      "PHPB2                        -2.383962e+00\n",
      "PPCKr                        -2.383962e+00\n",
      "PPDK                          1.105849e+00\n",
      "PPM2                         -1.083379e-15\n",
      "PTAr                          1.278113e+00\n",
      "PTRCtex2                      1.105849e+00\n",
      "PUNP2                         8.719789e-17\n",
      "PUNP4                        -1.170577e-15\n",
      "PYK                           2.678491e+00\n",
      "RNTR1                         3.814908e-17\n",
      "RNTR2                        -1.170577e-15\n",
      "SUCCt                        -1.105849e+00\n",
      "SUCDi                         2.211698e+00\n",
      "TAGURr                       -1.572642e+00\n",
      "THRAr                         1.083379e-15\n",
      "THRt2r                        1.083379e-15\n",
      "TPI                           2.383962e+00\n",
      "TRDRr                        -1.132427e-15\n",
      "r0839                        -1.105849e+00\n",
      "sink_hpyr                    -5.000000e-02\n",
      "Name: fluxes, dtype: float64\n",
      "\n",
      "Active reaction : 99 which represent 9.611650% of the model\n"
     ]
    }
   ],
   "source": [
    "#6- Print fluxes how many reaction are active in this condition?\n",
    "fluxes = deleteNull(fba.fluxes)\n",
    "print(fluxes)\n",
    "print('\\nActive reaction : %i which represent %f%% of the model' %(len(fluxes),len(fluxes)/len(model.reactions)*100))"
   ]
  },
  {
   "cell_type": "code",
   "execution_count": 7,
   "metadata": {},
   "outputs": [
    {
     "name": "stderr",
     "output_type": "stream",
     "text": [
      "Non-linear or non-reaction model objective. Falling back to minimal display.\n"
     ]
    },
    {
     "name": "stdout",
     "output_type": "stream",
     "text": [
      "Objective\n",
      "=========\n",
      "nan Expression = nan\n",
      "\n",
      "Uptake\n",
      "------\n",
      "Metabolite                 Reaction  Flux  C-Number  C-Flux\n",
      "     h2o_e  EX_h2o_LPAREN_e_RPAREN_ 3.143         0   0.00%\n",
      "     ins_e  EX_ins_LPAREN_e_RPAREN_ 3.143        10  99.52%\n",
      "    hpyr_c                sink_hpyr  0.05         3   0.48%\n",
      "\n",
      "Secretion\n",
      "---------\n",
      "    Metabolite                    Reaction   Flux  C-Number  C-Flux\n",
      "         but_e     EX_but_LPAREN_e_RPAREN_ -0.025         4   0.32%\n",
      "         co2_e     EX_co2_LPAREN_e_RPAREN_  -0.05         1   0.16%\n",
      " glyc_DASH_R_e  EX_glyc_R_LPAREN_e_RPAREN_  -0.05         3   0.48%\n",
      "           h_e       EX_h_LPAREN_e_RPAREN_ -5.212         0   0.00%\n",
      "        hxan_e    EX_hxan_LPAREN_e_RPAREN_ -3.143         5  49.76%\n",
      "  lac_DASH_D_e   EX_lac_D_LPAREN_e_RPAREN_ -5.188         3  49.29%\n",
      " \n",
      "\n"
     ]
    }
   ],
   "source": [
    "#7- From the fluxes, define which metabolites are consume and produce by the model?\n",
    "#Verify your result with the summary function:\n",
    "\"\"\"\n",
    "PRODUCE     CONSUME\n",
    "02          co2\n",
    "glc         h\n",
    "nh4         h2o\n",
    "pi\n",
    "\"\"\"\n",
    "print(model.summary(),'\\n')"
   ]
  },
  {
   "cell_type": "code",
   "execution_count": 8,
   "metadata": {},
   "outputs": [
    {
     "name": "stdout",
     "output_type": "stream",
     "text": [
      "nh4_c\n",
      "=====\n",
      "Formula: H4N\n",
      "\n",
      "Producing Reactions\n",
      "-------------------\n",
      "Empty DataFrame\n",
      "Columns: [Percent, Flux, Reaction, Definition]\n",
      "Index: []\n",
      "\n",
      "Consuming Reactions\n",
      "-------------------\n",
      "Empty DataFrame\n",
      "Columns: [Percent, Flux, Reaction, Definition]\n",
      "Index: [] \n",
      "\n"
     ]
    }
   ],
   "source": [
    "#8- print the summary of one of this metabolite to see how it's produced and consumed\n",
    "print(model.metabolites.nh4_c.summary(),'\\n')"
   ]
  },
  {
   "cell_type": "code",
   "execution_count": 9,
   "metadata": {},
   "outputs": [],
   "source": [
    "#9- Verify if the model can grow without oxygene:\n",
    "## Create a new model to keep initial state\n",
    "\n",
    "model2 = model.copy()\n",
    "## Set upper bound and lower bound :\n",
    "model2.reactions.get_by_id('EX_o2_LPAREN_e_RPAREN_').lower_bound = 0"
   ]
  },
  {
   "cell_type": "code",
   "execution_count": 10,
   "metadata": {},
   "outputs": [
    {
     "name": "stderr",
     "output_type": "stream",
     "text": [
      "Non-linear or non-reaction model objective. Falling back to minimal display.\n"
     ]
    },
    {
     "name": "stdout",
     "output_type": "stream",
     "text": [
      "Objective\n",
      "=========\n",
      "nan Expression = nan\n",
      "\n",
      "Uptake\n",
      "------\n",
      "Metabolite                 Reaction  Flux  C-Number  C-Flux\n",
      "     h2o_e  EX_h2o_LPAREN_e_RPAREN_ 3.143         0   0.00%\n",
      "     ins_e  EX_ins_LPAREN_e_RPAREN_ 3.142        10  99.52%\n",
      "    hpyr_c                sink_hpyr  0.05         3   0.48%\n",
      "\n",
      "Secretion\n",
      "---------\n",
      "    Metabolite                    Reaction   Flux  C-Number  C-Flux\n",
      "         but_e     EX_but_LPAREN_e_RPAREN_ -0.025         4   0.32%\n",
      "         co2_e     EX_co2_LPAREN_e_RPAREN_  -0.05         1   0.16%\n",
      " glyc_DASH_R_e  EX_glyc_R_LPAREN_e_RPAREN_  -0.05         3   0.48%\n",
      "           h_e       EX_h_LPAREN_e_RPAREN_ -5.213         0   0.00%\n",
      "        hxan_e    EX_hxan_LPAREN_e_RPAREN_ -3.142         5  49.76%\n",
      "  lac_DASH_D_e   EX_lac_D_LPAREN_e_RPAREN_ -5.187         3  49.29%\n",
      "\n",
      "\n",
      "Active reaction : 45 which represent 4.368932% of the model\n"
     ]
    },
    {
     "data": {
      "text/plain": [
       "'YES'"
      ]
     },
     "execution_count": 10,
     "metadata": {},
     "output_type": "execute_result"
    }
   ],
   "source": [
    "## Launch fba\n",
    "fba2 = model2.optimize()\n",
    "fluxes2 = deleteNull(fba2.fluxes)\n",
    "print(model2.summary())\n",
    "print('\\nActive reaction : %i which represent %f%% of the model' %(len(fluxes2),len(fluxes2)/len(model.reactions)*100))\n",
    "## Conclude:\n",
    "\"\"\"YES\"\"\""
   ]
  },
  {
   "cell_type": "code",
   "execution_count": 11,
   "metadata": {},
   "outputs": [
    {
     "name": "stdout",
     "output_type": "stream",
     "text": [
      "[<Reaction EX_3mop_LPAREN_e_RPAREN_ at 0x7f17234d6910>, <Reaction EX_4abz_LPAREN_e_RPAREN_ at 0x7f17234d6950>, <Reaction EX_5oxpro_LPAREN_e_RPAREN_ at 0x7f17234d6990>, <Reaction EX_Lcyst_LPAREN_e_RPAREN_ at 0x7f17234d69d0>, <Reaction EX_Lcystin_LPAREN_e_RPAREN_ at 0x7f17234d6a10>, <Reaction EX_ac_LPAREN_e_RPAREN_ at 0x7f17234d6a50>, <Reaction EX_acasp_LPAREN_e_RPAREN_ at 0x7f17234d6a90>, <Reaction EX_acgal_LPAREN_e_RPAREN_ at 0x7f17234d6ad0>, <Reaction EX_acgalglcur_LPAREN_e_RPAREN_ at 0x7f17234d6b10>, <Reaction EX_acgam_LPAREN_e_RPAREN_ at 0x7f17234d6b50>, <Reaction EX_acglu_LPAREN_e_RPAREN_ at 0x7f17234d6b90>, <Reaction EX_acnam_LPAREN_e_RPAREN_ at 0x7f17234d6bd0>, <Reaction EX_ade_LPAREN_e_RPAREN_ at 0x7f17234d6c10>, <Reaction EX_adocbl_LPAREN_e_RPAREN_ at 0x7f17234d6c50>, <Reaction EX_ala_D_LPAREN_e_RPAREN_ at 0x7f17234d6c90>, <Reaction EX_ala_L_LPAREN_e_RPAREN_ at 0x7f17234d6cd0>, <Reaction EX_alaala_LPAREN_e_RPAREN_ at 0x7f17234d6d10>, <Reaction EX_alaasp_LPAREN_e_RPAREN_ at 0x7f17234d6d50>, <Reaction EX_alagln_LPAREN_e_RPAREN_ at 0x7f17234d6d90>, <Reaction EX_alaglu_LPAREN_e_RPAREN_ at 0x7f17234d6dd0>, <Reaction EX_alagly_LPAREN_e_RPAREN_ at 0x7f17234d6e10>, <Reaction EX_alahis_LPAREN_e_RPAREN_ at 0x7f17234d6e50>, <Reaction EX_alaleu_LPAREN_e_RPAREN_ at 0x7f17234d6e90>, <Reaction EX_alathr_LPAREN_e_RPAREN_ at 0x7f17234d6ed0>, <Reaction EX_arab_L_LPAREN_e_RPAREN_ at 0x7f17234d6f10>, <Reaction EX_arg_L_LPAREN_e_RPAREN_ at 0x7f17234d6f50>, <Reaction EX_asn_L_LPAREN_e_RPAREN_ at 0x7f17234d6f90>, <Reaction EX_aso3_LPAREN_e_RPAREN_ at 0x7f17234d6fd0>, <Reaction EX_aso4_LPAREN_e_RPAREN_ at 0x7f1723460050>, <Reaction EX_asp_L_LPAREN_e_RPAREN_ at 0x7f1723460090>, <Reaction EX_btn_LPAREN_e_RPAREN_ at 0x7f17234600d0>, <Reaction EX_but_LPAREN_e_RPAREN_ at 0x7f1723460110>, <Reaction EX_butso3_LPAREN_e_RPAREN_ at 0x7f1723460150>, <Reaction EX_ca2_LPAREN_e_RPAREN_ at 0x7f1723460190>, <Reaction EX_cbl1_LPAREN_e_RPAREN_ at 0x7f17234601d0>, <Reaction EX_cbl2_LPAREN_e_RPAREN_ at 0x7f1723460210>, <Reaction EX_cd2_LPAREN_e_RPAREN_ at 0x7f1723460250>, <Reaction EX_cellb_LPAREN_e_RPAREN_ at 0x7f1723460290>, <Reaction EX_cgly_LPAREN_e_RPAREN_ at 0x7f17234602d0>, <Reaction EX_cit_LPAREN_e_RPAREN_ at 0x7f1723460310>, <Reaction EX_cl_LPAREN_e_RPAREN_ at 0x7f1723460350>, <Reaction EX_co2_LPAREN_e_RPAREN_ at 0x7f1723460390>, <Reaction EX_cobalt2_LPAREN_e_RPAREN_ at 0x7f17234603d0>, <Reaction EX_cps_fp_LPAREN_e_RPAREN_ at 0x7f1723460410>, <Reaction EX_cu2_LPAREN_e_RPAREN_ at 0x7f1723460450>, <Reaction EX_cys_L_LPAREN_e_RPAREN_ at 0x7f1723460490>, <Reaction EX_dhor_S_LPAREN_e_RPAREN_ at 0x7f17234604d0>, <Reaction EX_ethso3_LPAREN_e_RPAREN_ at 0x7f1723460510>, <Reaction EX_fe2_LPAREN_e_RPAREN_ at 0x7f1723460550>, <Reaction EX_fe3_LPAREN_e_RPAREN_ at 0x7f1723460590>, <Reaction EX_fe3dcit_LPAREN_e_RPAREN_ at 0x7f17234605d0>, <Reaction EX_fol_LPAREN_e_RPAREN_ at 0x7f1723460610>, <Reaction EX_for_LPAREN_e_RPAREN_ at 0x7f1723460650>, <Reaction EX_fru_LPAREN_e_RPAREN_ at 0x7f1723460690>, <Reaction EX_fum_LPAREN_e_RPAREN_ at 0x7f17234606d0>, <Reaction EX_gal_LPAREN_e_RPAREN_ at 0x7f1723460710>, <Reaction EX_galur_LPAREN_e_RPAREN_ at 0x7f1723460750>, <Reaction EX_gam_LPAREN_e_RPAREN_ at 0x7f1723460790>, <Reaction EX_glc_LPAREN_e_RPAREN_ at 0x7f17234607d0>, <Reaction EX_glcur_LPAREN_e_RPAREN_ at 0x7f1723460810>, <Reaction EX_gln_L_LPAREN_e_RPAREN_ at 0x7f1723460850>, <Reaction EX_glu_L_LPAREN_e_RPAREN_ at 0x7f1723460890>, <Reaction EX_gly_LPAREN_e_RPAREN_ at 0x7f17234608d0>, <Reaction EX_glyasn_LPAREN_e_RPAREN_ at 0x7f1723460910>, <Reaction EX_glyasp_LPAREN_e_RPAREN_ at 0x7f1723460950>, <Reaction EX_glyc3p_LPAREN_e_RPAREN_ at 0x7f1723460990>, <Reaction EX_glyc_R_LPAREN_e_RPAREN_ at 0x7f17234609d0>, <Reaction EX_glygln_LPAREN_e_RPAREN_ at 0x7f1723460a10>, <Reaction EX_glyglu_LPAREN_e_RPAREN_ at 0x7f1723460a50>, <Reaction EX_glygly_LPAREN_e_RPAREN_ at 0x7f1723460a90>, <Reaction EX_glyleu_LPAREN_e_RPAREN_ at 0x7f1723460ad0>, <Reaction EX_glymet_LPAREN_e_RPAREN_ at 0x7f1723460b10>, <Reaction EX_glyphe_LPAREN_e_RPAREN_ at 0x7f1723460b50>, <Reaction EX_glypro_LPAREN_e_RPAREN_ at 0x7f1723460b90>, <Reaction EX_glytyr_LPAREN_e_RPAREN_ at 0x7f1723460bd0>, <Reaction EX_gthox_LPAREN_e_RPAREN_ at 0x7f1723460c10>, <Reaction EX_gthrd_LPAREN_e_RPAREN_ at 0x7f1723460c50>, <Reaction EX_gua_LPAREN_e_RPAREN_ at 0x7f1723460c90>, <Reaction EX_h_LPAREN_e_RPAREN_ at 0x7f1723460cd0>, <Reaction EX_h2o_LPAREN_e_RPAREN_ at 0x7f1723460d10>, <Reaction EX_h2s_LPAREN_e_RPAREN_ at 0x7f1723460d50>, <Reaction EX_hg2_LPAREN_e_RPAREN_ at 0x7f1723460d90>, <Reaction EX_his_L_LPAREN_e_RPAREN_ at 0x7f1723460dd0>, <Reaction EX_hxan_LPAREN_e_RPAREN_ at 0x7f1723460e10>, <Reaction EX_ile_L_LPAREN_e_RPAREN_ at 0x7f1723460e50>, <Reaction EX_ins_LPAREN_e_RPAREN_ at 0x7f1723460e90>, <Reaction EX_inulin_LPAREN_e_RPAREN_ at 0x7f1723460ed0>, <Reaction EX_isetac_LPAREN_e_RPAREN_ at 0x7f1723460f10>, <Reaction EX_k_LPAREN_e_RPAREN_ at 0x7f1723460f50>, <Reaction EX_kesto_LPAREN_e_RPAREN_ at 0x7f1723460f90>, <Reaction EX_kestopt_LPAREN_e_RPAREN_ at 0x7f1723460fd0>, <Reaction EX_kestottr_LPAREN_e_RPAREN_ at 0x7f1723474050>, <Reaction EX_lac_D_LPAREN_e_RPAREN_ at 0x7f1723474090>, <Reaction EX_lcts_LPAREN_e_RPAREN_ at 0x7f17234740d0>, <Reaction EX_leu_L_LPAREN_e_RPAREN_ at 0x7f1723474110>, <Reaction EX_leugly_LPAREN_e_RPAREN_ at 0x7f1723474150>, <Reaction EX_leuleu_LPAREN_e_RPAREN_ at 0x7f1723474190>, <Reaction EX_lys_L_LPAREN_e_RPAREN_ at 0x7f17234741d0>, <Reaction EX_mal_L_LPAREN_e_RPAREN_ at 0x7f1723474210>, <Reaction EX_malt_LPAREN_e_RPAREN_ at 0x7f1723474250>, <Reaction EX_man_LPAREN_e_RPAREN_ at 0x7f1723474290>, <Reaction EX_meoh_LPAREN_e_RPAREN_ at 0x7f17234742d0>, <Reaction EX_met_D_LPAREN_e_RPAREN_ at 0x7f1723474310>, <Reaction EX_met_L_LPAREN_e_RPAREN_ at 0x7f1723474350>, <Reaction EX_metala_LPAREN_e_RPAREN_ at 0x7f1723474390>, <Reaction EX_metsox_R_L_LPAREN_e_RPAREN_ at 0x7f17234743d0>, <Reaction EX_metsox_S_L_LPAREN_e_RPAREN_ at 0x7f1723474410>, <Reaction EX_mg2_LPAREN_e_RPAREN_ at 0x7f1723474450>, <Reaction EX_mobd_LPAREN_e_RPAREN_ at 0x7f1723474490>, <Reaction EX_mso3_LPAREN_e_RPAREN_ at 0x7f17234744d0>, <Reaction EX_na1_LPAREN_e_RPAREN_ at 0x7f1723474510>, <Reaction EX_nac_LPAREN_e_RPAREN_ at 0x7f1723474550>, <Reaction EX_ncam_LPAREN_e_RPAREN_ at 0x7f1723474590>, <Reaction EX_nh4_LPAREN_e_RPAREN_ at 0x7f17234745d0>, <Reaction EX_o2_LPAREN_e_RPAREN_ at 0x7f1723474610>, <Reaction EX_orn_LPAREN_e_RPAREN_ at 0x7f1723474650>, <Reaction EX_orot_LPAREN_e_RPAREN_ at 0x7f1723474690>, <Reaction EX_pb_LPAREN_e_RPAREN_ at 0x7f17234746d0>, <Reaction EX_pect_LPAREN_e_RPAREN_ at 0x7f1723474710>, <Reaction EX_phe_L_LPAREN_e_RPAREN_ at 0x7f1723474750>, <Reaction EX_pi_LPAREN_e_RPAREN_ at 0x7f1723474790>, <Reaction EX_plac_LPAREN_e_RPAREN_ at 0x7f17234747d0>, <Reaction EX_pnto_R_LPAREN_e_RPAREN_ at 0x7f1723474810>, <Reaction EX_pro_L_LPAREN_e_RPAREN_ at 0x7f1723474850>, <Reaction EX_progly_LPAREN_e_RPAREN_ at 0x7f1723474890>, <Reaction EX_ptrc_LPAREN_e_RPAREN_ at 0x7f17234748d0>, <Reaction EX_pydam_LPAREN_e_RPAREN_ at 0x7f1723474910>, <Reaction EX_pydx_LPAREN_e_RPAREN_ at 0x7f1723474950>, <Reaction EX_pydxn_LPAREN_e_RPAREN_ at 0x7f1723474990>, <Reaction EX_rbflvrd_LPAREN_e_RPAREN_ at 0x7f17234749d0>, <Reaction EX_ribflv_LPAREN_e_RPAREN_ at 0x7f1723474a10>, <Reaction EX_seln_LPAREN_e_RPAREN_ at 0x7f1723474a50>, <Reaction EX_ser_L_LPAREN_e_RPAREN_ at 0x7f1723474a90>, <Reaction EX_so4_LPAREN_e_RPAREN_ at 0x7f1723474ad0>, <Reaction EX_spmd_LPAREN_e_RPAREN_ at 0x7f1723474b10>, <Reaction EX_strch1_LPAREN_e_RPAREN_ at 0x7f1723474b50>, <Reaction EX_succ_LPAREN_e_RPAREN_ at 0x7f1723474b90>, <Reaction EX_sulfac_LPAREN_e_RPAREN_ at 0x7f1723474bd0>, <Reaction EX_taur_LPAREN_e_RPAREN_ at 0x7f1723474c10>, <Reaction EX_thm_LPAREN_e_RPAREN_ at 0x7f1723474c50>, <Reaction EX_thr_L_LPAREN_e_RPAREN_ at 0x7f1723474c90>, <Reaction EX_thymd_LPAREN_e_RPAREN_ at 0x7f1723474cd0>, <Reaction EX_trp_L_LPAREN_e_RPAREN_ at 0x7f1723474d10>, <Reaction EX_tyr_L_LPAREN_e_RPAREN_ at 0x7f1723474d50>, <Reaction EX_ura_LPAREN_e_RPAREN_ at 0x7f1723474d90>, <Reaction EX_urate_LPAREN_e_RPAREN_ at 0x7f1723474dd0>, <Reaction EX_urea_LPAREN_e_RPAREN_ at 0x7f1723474e10>, <Reaction EX_val_L_LPAREN_e_RPAREN_ at 0x7f1723474e50>, <Reaction EX_xan_LPAREN_e_RPAREN_ at 0x7f1723474e90>, <Reaction EX_xyl_D_LPAREN_e_RPAREN_ at 0x7f1723474ed0>]\n"
     ]
    },
    {
     "ename": "KeyError",
     "evalue": "'EX_lac__D_e'",
     "output_type": "error",
     "traceback": [
      "\u001b[0;31m---------------------------------------------------------------------------\u001b[0m",
      "\u001b[0;31mKeyError\u001b[0m                                  Traceback (most recent call last)",
      "\u001b[0;32m<ipython-input-11-a974a52a4063>\u001b[0m in \u001b[0;36m<module>\u001b[0;34m\u001b[0m\n\u001b[1;32m      6\u001b[0m \u001b[0mmodel3\u001b[0m\u001b[0;34m=\u001b[0m \u001b[0mcloseModel\u001b[0m\u001b[0;34m(\u001b[0m\u001b[0mmodel3\u001b[0m\u001b[0;34m)\u001b[0m\u001b[0;34m\u001b[0m\u001b[0;34m\u001b[0m\u001b[0m\n\u001b[1;32m      7\u001b[0m \u001b[0;31m## Change bound to allow entry of the target metabolite.\u001b[0m\u001b[0;34m\u001b[0m\u001b[0;34m\u001b[0m\u001b[0;34m\u001b[0m\u001b[0m\n\u001b[0;32m----> 8\u001b[0;31m \u001b[0mmodel3\u001b[0m\u001b[0;34m.\u001b[0m\u001b[0mreactions\u001b[0m\u001b[0;34m.\u001b[0m\u001b[0mget_by_id\u001b[0m\u001b[0;34m(\u001b[0m\u001b[0;34m'EX_lac__D_e'\u001b[0m\u001b[0;34m)\u001b[0m\u001b[0;34m.\u001b[0m\u001b[0mlower_bound\u001b[0m \u001b[0;34m=\u001b[0m\u001b[0;34m-\u001b[0m\u001b[0;36m10\u001b[0m\u001b[0;34m\u001b[0m\u001b[0;34m\u001b[0m\u001b[0m\n\u001b[0m\u001b[1;32m      9\u001b[0m \u001b[0;32mfor\u001b[0m \u001b[0mrxn\u001b[0m \u001b[0;32min\u001b[0m \u001b[0mmodel3\u001b[0m\u001b[0;34m.\u001b[0m\u001b[0mexchanges\u001b[0m\u001b[0;34m:\u001b[0m\u001b[0;34m\u001b[0m\u001b[0;34m\u001b[0m\u001b[0m\n\u001b[1;32m     10\u001b[0m     \u001b[0mprint\u001b[0m\u001b[0;34m(\u001b[0m\u001b[0mrxn\u001b[0m\u001b[0;34m.\u001b[0m\u001b[0mlower_bound\u001b[0m\u001b[0;34m,\u001b[0m\u001b[0;34m'<'\u001b[0m\u001b[0;34m,\u001b[0m\u001b[0mrxn\u001b[0m\u001b[0;34m.\u001b[0m\u001b[0mid\u001b[0m\u001b[0;34m,\u001b[0m\u001b[0;34m'<'\u001b[0m\u001b[0;34m,\u001b[0m\u001b[0mrxn\u001b[0m\u001b[0;34m.\u001b[0m\u001b[0mupper_bound\u001b[0m\u001b[0;34m)\u001b[0m\u001b[0;34m\u001b[0m\u001b[0;34m\u001b[0m\u001b[0m\n",
      "\u001b[0;32m~/anaconda3/lib/python3.7/site-packages/cobra/core/dictlist.py\u001b[0m in \u001b[0;36mget_by_id\u001b[0;34m(self, id)\u001b[0m\n\u001b[1;32m     56\u001b[0m     \u001b[0;32mdef\u001b[0m \u001b[0mget_by_id\u001b[0m\u001b[0;34m(\u001b[0m\u001b[0mself\u001b[0m\u001b[0;34m,\u001b[0m \u001b[0mid\u001b[0m\u001b[0;34m)\u001b[0m\u001b[0;34m:\u001b[0m\u001b[0;34m\u001b[0m\u001b[0;34m\u001b[0m\u001b[0m\n\u001b[1;32m     57\u001b[0m         \u001b[0;34m\"\"\"return the element with a matching id\"\"\"\u001b[0m\u001b[0;34m\u001b[0m\u001b[0;34m\u001b[0m\u001b[0m\n\u001b[0;32m---> 58\u001b[0;31m         \u001b[0;32mreturn\u001b[0m \u001b[0mlist\u001b[0m\u001b[0;34m.\u001b[0m\u001b[0m__getitem__\u001b[0m\u001b[0;34m(\u001b[0m\u001b[0mself\u001b[0m\u001b[0;34m,\u001b[0m \u001b[0mself\u001b[0m\u001b[0;34m.\u001b[0m\u001b[0m_dict\u001b[0m\u001b[0;34m[\u001b[0m\u001b[0mid\u001b[0m\u001b[0;34m]\u001b[0m\u001b[0;34m)\u001b[0m\u001b[0;34m\u001b[0m\u001b[0;34m\u001b[0m\u001b[0m\n\u001b[0m\u001b[1;32m     59\u001b[0m \u001b[0;34m\u001b[0m\u001b[0m\n\u001b[1;32m     60\u001b[0m     \u001b[0;32mdef\u001b[0m \u001b[0mlist_attr\u001b[0m\u001b[0;34m(\u001b[0m\u001b[0mself\u001b[0m\u001b[0;34m,\u001b[0m \u001b[0mattribute\u001b[0m\u001b[0;34m)\u001b[0m\u001b[0;34m:\u001b[0m\u001b[0;34m\u001b[0m\u001b[0;34m\u001b[0m\u001b[0m\n",
      "\u001b[0;31mKeyError\u001b[0m: 'EX_lac__D_e'"
     ]
    }
   ],
   "source": [
    "#10- Verify if the model can use other carbon sources: lactate or formate.\n",
    "## create a copy of the model\n",
    "model3 = model.copy()\n",
    "print(model3.exchanges)\n",
    "## Close the model\n",
    "model3= closeModel(model3)\n",
    "## Change bound to allow entry of the target metabolite.\n",
    "model3.reactions.get_by_id('EX_lac__D_e').lower_bound =-10\n",
    "for rxn in model3.exchanges:\n",
    "    print(rxn.lower_bound,'<',rxn.id,'<',rxn.upper_bound)\n",
    "fba3 = model3.optimize()\n",
    "fluxes3 = deleteNull(fba3.fluxes)\n",
    "print(model3.summary())\n",
    "print('\\nActive reaction : %i which represent %f%% of the model' %(len(fluxes3),len(fluxes3)/len(model.reactions)*100))"
   ]
  },
  {
   "cell_type": "code",
   "execution_count": null,
   "metadata": {},
   "outputs": [],
   "source": [
    "#11- It is possible to produce  acetate and to grow? change the objective function (growth min 0.20):\n",
    "model4=model.copy()\n",
    "model4.reactions.get_by_id('BIOMASS_Ecoli_core_w_GAM').lower_bound= 0.20\n",
    "model4.reactions.get_by_id('EX_ac_e').lower_bound= 0.1\n",
    "model4.objective = {model4.reactions.get_by_id('BIOMASS_Ecoli_core_w_GAM'): 1, model4.reactions.get_by_id('EX_ac_e') : 1}\n",
    "util.solver.linear_reaction_coefficients(model4)\n",
    "print(model4.objective)\n",
    "print(model4.summary())\n",
    "print('\\nActive reaction : %i which represent %f%% of the model' %(len(fluxes3),len(fluxes3)/len(model.reactions)*100))\n",
    "#change the coefficient for ac form 1 to 0.5 for example. What do you observe?"
   ]
  },
  {
   "cell_type": "code",
   "execution_count": null,
   "metadata": {},
   "outputs": [],
   "source": [
    "#######B\n",
    "#Lets look all of this in an entire model;\n",
    "\"\"\"  In biggest model is more difficult to interpret something. Lets see if we can answer to some\n",
    "question using different functions.\n",
    "\"\"\"\n",
    "\n",
    "\"\"\"  I - You know that you will receive a Saccharomyces cerevisiae strain that you have to grow.\n",
    "You have 3 different media. Which one will you use to be sure that the strain will grow?\"\"\"\n",
    "\n",
    "# Download one model from bigg database \n",
    "model = io.read_sbml_model('Data/iND750.xml')"
   ]
  },
  {
   "cell_type": "code",
   "execution_count": null,
   "metadata": {},
   "outputs": [],
   "source": [
    "# Verify that the model can grow without changing any parameter:\n",
    "\n",
    "print(model.summary())\n",
    "fba = model.optimize()"
   ]
  },
  {
   "cell_type": "code",
   "execution_count": null,
   "metadata": {},
   "outputs": [],
   "source": [
    "# Verify how the model can grow in each medium and conclude:\n",
    "Medium1 = ['ac_e','ade_e','ala__L_e','arg__L_e','asn__L_e','asp__L_e','ca2_e',\n",
    "           'cit_e','cys_L_e','man_e','gln__L_e','glu__L_e','h2o_e','his__L_e',\n",
    "           'ile__L_e','mg2_e','nad_e','nh4_e','nac_e','pi_e','pro__L_e','ser__L_e',\n",
    "           'so4_e','try__L_e','tyr__L_e','trp__L_e','h2_e','o2_e' ] #c = mannose, - uracile pour medium"
   ]
  },
  {
   "cell_type": "code",
   "execution_count": null,
   "metadata": {},
   "outputs": [],
   "source": [
    "model1= medium(model,Medium1)\n",
    "print('\\nMedium1')\n",
    "model.optimize()\n",
    "print(model1.summary())\n",
    "Medium2 = ['ac_e','ade_e','ala__L_e','arg__L_e','asn__L_e','asp__L_e','ca2_e',\n",
    "           'cit_e','cu2_e','cys_L_e','fe2_e','fe3_e','fru_e','glc__D_e',\n",
    "           'gln__L_e','glu__L_e','h2o_e','his__L_e','ile__L_e','mg2_e','nad_e',\n",
    "           'nh4_e','nac_e','no3_e','pi_e','pro__L_e','ser__L_e','so4_e','try__L_e',\n",
    "           'tyr__L_e','ura_e','val__L_e','trp__L_e','h2_e','o2_e' ]# 2 carbon source less mets"
   ]
  },
  {
   "cell_type": "code",
   "execution_count": null,
   "metadata": {},
   "outputs": [],
   "source": [
    "model1.medium"
   ]
  },
  {
   "cell_type": "code",
   "execution_count": null,
   "metadata": {},
   "outputs": [],
   "source": [
    "model2 = medium(model,Medium2)\n",
    "print('\\nMedium2')\n",
    "print(model2.summary())\n",
    "Medium3 = ['4abz_e','ac_e','ace_e','ade_e','ala__L_e','arg__L_e','ascb__L_e','asn__L_e',\n",
    "           'asp__L_e','btn_e','cbl1_e','cit_e','cl_e','cobalt2_e',\n",
    "           'cu2_e','cys_L_e','fe2_e','fe3_e','fol_e','glc__D_e','glu__L_e','gly_e','gthrd_e',\n",
    "           'gua_e','h2o_e','hco3_e','his__L_e','i_e','ile__L_e','inost_e','k_e','leu_L_e','met__L_e','co2_e','no2_e',\n",
    "           'mg2_e','mn2_e','mndn_e','mobd_e','na1_e','nad_e','nh4_e','nac_e','ni2_e',\n",
    "           'no3_e','pi_e','pnto__R_e','pro__L_e','pydam_e','pydxn_e','rezrn_e','ribflv_e',\n",
    "           'ser__L_e','so4_e','thci_e','thm_e','try__L_e','tyr__L_e','ura_e','val__L_e',\n",
    "           'xan_e','zn2_e','h_e','trp__L_e', 'mobd_e','slnt_e', 'tungs_e','lipoate_e',\n",
    "           'pydx_e','o2_e' ]# - fructose - gl rich with one carbone source"
   ]
  },
  {
   "cell_type": "code",
   "execution_count": null,
   "metadata": {},
   "outputs": [],
   "source": [
    "model3 = medium(model,Medium3)\n",
    "print('\\nMedium3')\n",
    "help(cobra.medium)\n",
    "print(model3.summary())"
   ]
  },
  {
   "cell_type": "code",
   "execution_count": null,
   "metadata": {},
   "outputs": [],
   "source": [
    "\"\"\" II- You work for an agribusiness company specialized in yoghurt production.\n",
    "In, purpose to improve the taste of some product, you want to produce the molecule RR 2 3 Butanediol which gave the butter/ creamy taste.\n",
    "Your company whant a biological way to produce this molecule instead of chemical.\n",
    "you have 4 species in your bacteria collection:\n",
    "    - Saccharomyces cerevisiae\n",
    "    - Lactococcus lactis\n",
    "    - Klebsiella pneumoniae\n",
    "Can you tell which species is the most likely to produce this molecule? \"\"\""
   ]
  },
  {
   "cell_type": "code",
   "execution_count": null,
   "metadata": {},
   "outputs": [],
   "source": [
    " #Find molecule id on Bigg database / its exchange reaction associated\n",
    "met = 'btd_rr_e'\n",
    "rxn = 'EX_btd_RR_e'"
   ]
  },
  {
   "cell_type": "code",
   "execution_count": null,
   "metadata": {},
   "outputs": [],
   "source": [
    "# Load the 3 models\n",
    "\n",
    "model1 = io.read_sbml_model('iMM904.xml')\n",
    "model2 = io.read_sbml_model('iNF517.xml')\n",
    "model3 = io.read_sbml_model('iYL1228.xml')"
   ]
  },
  {
   "cell_type": "code",
   "execution_count": null,
   "metadata": {},
   "outputs": [],
   "source": [
    "# Run following function for 'lactococcus lactis':\n",
    "model2 = updateLactococcus(model2)"
   ]
  },
  {
   "cell_type": "code",
   "execution_count": null,
   "metadata": {},
   "outputs": [],
   "source": [
    "# Verify that models can grow:\n",
    "print('\\nSaccharomyces')\n",
    "print(model1.summary())\n",
    "print('\\nLactococcus')\n",
    "print(model2.summary())\n",
    "print('\\nKlebsiella')\n",
    "print(model3.summary())"
   ]
  },
  {
   "cell_type": "code",
   "execution_count": null,
   "metadata": {},
   "outputs": [],
   "source": [
    "#for each model find biomass function position or name\n",
    "type1 = reactionsType(model1)\n",
    "biomPos1 = type1.index('biomass')\n",
    "\n",
    "type2 = reactionsType(model2)\n",
    "biomPos2 = type2.index('biomass')\n",
    "\n",
    "type3 = reactionsType(model3)\n",
    "biomPos3 = type3.index('biomass')"
   ]
  },
  {
   "cell_type": "code",
   "execution_count": null,
   "metadata": {},
   "outputs": [],
   "source": [
    "# Choice 1 :\n",
    "#- Update the biomasse bound (>0)\n",
    "#- Change the objective function\n",
    "#- Run FBA\n",
    "print('\\nChoice1')\n",
    "model1.reactions[biomPos1].lower_bound =0.1\n",
    "model2.reactions[biomPos2].lower_bound =0.1\n",
    "model3.reactions[biomPos3].lower_bound =0.1\n",
    "\n",
    "model1.objective = {model1.reactions.get_by_id('EX_btd_RR_e'): 1}\n",
    "model2.objective = {model2.reactions.get_by_id('EX_btd_RR_e'): 1}\n",
    "model3.objective = {model3.reactions.get_by_id('EX_btd_RR_e'): 1}\n",
    "\n",
    "print('\\nSaccharomyces')\n",
    "print(model1.summary())\n",
    "print('\\nLactococcus')\n",
    "print(model2.summary())\n",
    "print('\\nKlebsiella')\n",
    "print(model3.summary())"
   ]
  },
  {
   "cell_type": "code",
   "execution_count": null,
   "metadata": {},
   "outputs": [],
   "source": [
    "#Choice 2 :\n",
    "#- change the objective function with both reactions\n",
    "#- Run FBA\n",
    "print('\\nChoice2')\n",
    "model1.objective = {model1.reactions.get_by_id('EX_btd_RR_e'): 1, model1.reactions[biomPos1] : 1}\n",
    "model2.objective = {model2.reactions.get_by_id('EX_btd_RR_e'): 1, model2.reactions[biomPos2] : 1}\n",
    "model3.objective = {model3.reactions.get_by_id('EX_btd_RR_e'): 1, model3.reactions[biomPos3] : 1}\n",
    "\n",
    "print('\\nSaccharomyces')\n",
    "print(model1.summary())\n",
    "print('\\nLactococcus')\n",
    "print(model2.summary())\n",
    "print('\\nKlebsiella')\n",
    "print(model3.summary())"
   ]
  },
  {
   "cell_type": "code",
   "execution_count": null,
   "metadata": {},
   "outputs": [],
   "source": [
    "# What can you conclude?\n",
    "\"\"\"Lactobacilus lactis is the best producer of this molecule with th highet flux in the exchange\n",
    "reaction.\"\"\""
   ]
  },
  {
   "cell_type": "code",
   "execution_count": null,
   "metadata": {},
   "outputs": [],
   "source": [
    "# Did you check if models could spontaneously produce the molecule?\n",
    "\"\"\" Lactococcus lactis is producing the molecule when we launch the FBA for growth.\n",
    "we think that its more likly to produce the molecule\"\"\""
   ]
  },
  {
   "cell_type": "code",
   "execution_count": null,
   "metadata": {},
   "outputs": [],
   "source": []
  }
 ],
 "metadata": {
  "kernelspec": {
   "display_name": "Python 3",
   "language": "python",
   "name": "python3"
  },
  "language_info": {
   "codemirror_mode": {
    "name": "ipython",
    "version": 3
   },
   "file_extension": ".py",
   "mimetype": "text/x-python",
   "name": "python",
   "nbconvert_exporter": "python",
   "pygments_lexer": "ipython3",
   "version": "3.7.6"
  }
 },
 "nbformat": 4,
 "nbformat_minor": 4
}
